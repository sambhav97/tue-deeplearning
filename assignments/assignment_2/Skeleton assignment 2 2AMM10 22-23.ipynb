{
 "cells": [
  {
   "attachments": {},
   "cell_type": "markdown",
   "id": "d32f8d18",
   "metadata": {},
   "source": [
    "# Group Details\n",
    "\n",
    "## Group Name: 12\n",
    "\n",
    "### Student 1: Denise La Gordt Dillie\n",
    "\n",
    "### Student 2: Andreea Maican\n",
    "\n",
    "### Student 3: Sambhav Jain"
   ]
  },
  {
   "attachments": {},
   "cell_type": "markdown",
   "id": "faec2056",
   "metadata": {},
   "source": [
    "# Loading Data and Preliminaries"
   ]
  },
  {
   "cell_type": "code",
   "execution_count": 14,
   "id": "7d0580a5",
   "metadata": {
    "ExecuteTime": {
     "end_time": "2023-06-21T00:09:51.750923Z",
     "start_time": "2023-06-21T00:09:51.711552Z"
    }
   },
   "outputs": [],
   "source": [
    "import matplotlib.pyplot as plt\n",
    "import matplotlib\n",
    "import numpy as np\n",
    "import torch\n",
    "from torch_geometric.data import Data\n",
    "import torch.nn as nn\n",
    "import torch.nn.functional as F\n",
    "from torch_geometric.loader import DataLoader\n",
    "import os\n",
    "import math\n",
    "import random\n",
    "import time\n",
    "from sklearn.metrics import r2_score, mean_absolute_error\n",
    "from tqdm import tqdm"
   ]
  },
  {
   "cell_type": "code",
   "execution_count": 15,
   "id": "b0756591",
   "metadata": {
    "ExecuteTime": {
     "end_time": "2023-06-21T00:09:51.756793Z",
     "start_time": "2023-06-21T00:09:51.716539Z"
    }
   },
   "outputs": [],
   "source": [
    "def load_array(filename, task):\n",
    "    datapoint = np.load(filename)\n",
    "    if task == 'task 1':\n",
    "        initial_state = datapoint['initial_state']\n",
    "        terminal_state = datapoint['terminal_state']\n",
    "        return initial_state, terminal_state\n",
    "    elif task == 'task 2' or task == 'task 3':\n",
    "        whole_trajectory = datapoint['trajectory']\n",
    "        # change shape: (num_bodies, attributes, time) ->  num_bodies, time, attributes\n",
    "        whole_trajectory = np.swapaxes(whole_trajectory, 1, 2)\n",
    "        initial_state = whole_trajectory[:, 0]\n",
    "        target = whole_trajectory[:, 1:, 1:]  # drop the first timepoint (second dim) and mass (last dim) for the prediction task\n",
    "        return initial_state, target\n",
    "    else:\n",
    "        raise NotImplementedError(\"'task' argument should be 'task 1', 'task 2' or 'task 3'!\")"
   ]
  },
  {
   "cell_type": "code",
   "execution_count": 16,
   "id": "bb77a4be",
   "metadata": {
    "ExecuteTime": {
     "end_time": "2023-06-21T00:09:51.757763Z",
     "start_time": "2023-06-21T00:09:51.720066Z"
    }
   },
   "outputs": [
    {
     "name": "stdout",
     "output_type": "stream",
     "text": [
      "shape of initial state (model input): (8, 5)\n",
      "[[ 4.54673709 -5.27118739  5.07863417 -1.09690628 -3.66929964]\n",
      " [ 3.57509525  4.3270607  -0.08095022 -0.57868726 -2.95971243]\n",
      " [ 2.67733735 -5.15972108  5.35238208  2.42652043  1.45870728]\n",
      " [ 2.27455417 -6.79584511  2.29632123  0.30418238 -0.4065998 ]\n",
      " [ 2.38359341 -2.75861066  1.77940931 -0.07643627 -0.35954359]\n",
      " [ 4.28596268  0.34981219  4.8286224   1.35630962 -2.55760522]\n",
      " [ 3.03118516 -0.50562258 15.04631712 -0.94772523 14.98127867]\n",
      " [ 4.13530017  1.81342682  3.84375499 -0.6989711  -2.25092411]]\n",
      "shape of terminal state (to be predicted by model): (8, 2)\n",
      "The initial x-coordinate of the body with index 2 in this trajectory was -5.159721083543527\n"
     ]
    }
   ],
   "source": [
    "\"\"\"\n",
    "This cell gives an example of loading a datapoint with numpy for task 1.\n",
    "\n",
    "The arrays returned by the function are structures as follows:\n",
    "initial_state: shape (n_bodies, [mass, x, y, v_x, v_y])\n",
    "terminal_state: shape (n_bodies, [x, y])\n",
    "\n",
    "\"\"\"\n",
    "\n",
    "example = load_array('/Users/sambhavjain/Library/Mobile Documents/com~apple~CloudDocs/TU Eindhoven/Q4/Deep Learning/tue-deeplearning/assignments/assignment_2/data/task 1/train/trajectory_0.npz', task='task 1')\n",
    "\n",
    "initial_state, terminal_state = example\n",
    "print(f'shape of initial state (model input): {initial_state.shape}')\n",
    "print(initial_state)\n",
    "print(f'shape of terminal state (to be predicted by model): {terminal_state.shape}')\n",
    "\n",
    "body_idx = 2\n",
    "print(f'The initial x-coordinate of the body with index {body_idx} in this trajectory was {initial_state[body_idx, 1]}')"
   ]
  },
  {
   "cell_type": "code",
   "execution_count": 17,
   "id": "1c3ea4cb",
   "metadata": {
    "ExecuteTime": {
     "end_time": "2023-06-21T00:09:51.785513Z",
     "start_time": "2023-06-21T00:09:51.725055Z"
    }
   },
   "outputs": [
    {
     "name": "stdout",
     "output_type": "stream",
     "text": [
      "shape of initial state (model input): (8, 5)\n",
      "shape of terminal state (to be predicted by model): (8, 49, 4)\n",
      "The y-coordinate of the body with index 2 at time with index 30 in remaining_trajectory was -0.3861544940435097\n",
      "the shape of the input of a test data example is (8, 5)\n",
      "the shape of the target of a test data example is (8, 49, 4)\n",
      "values of the test data example at time 30:\n",
      " [[-5.85725792 -5.394571           nan         nan]\n",
      " [-6.03781257 -5.72445953         nan         nan]\n",
      " [-0.90623054 -6.93416278         nan         nan]\n",
      " [ 2.83149339 -7.50100819         nan         nan]\n",
      " [-2.85586881  1.77667501         nan         nan]\n",
      " [ 4.04424526  4.00563603         nan         nan]\n",
      " [-5.24887713 -4.83081005         nan         nan]\n",
      " [-5.81391023 -5.1109838          nan         nan]]\n",
      "note: velocity values are unobserved (NaNs) in the test data!\n"
     ]
    }
   ],
   "source": [
    "\"\"\"\n",
    "This cell gives an example of loading a datapoint with numpy for task 2 / 3.\n",
    "\n",
    "The arrays returned by the function are structures as follows:\n",
    "initial_state: shape (n_bodies, [mass, x, y, v_x, v_y])\n",
    "remaining_trajectory: shape (n_bodies, time, [x, y, v_x, v_y])\n",
    "\n",
    "Note that for this task, you are asked to evaluate performance only with regard to the predictions of the positions (x and y).\n",
    "If you use the velocity of the remaining trajectory for training,\n",
    "this use should be purely auxiliary for the goal of predicting the positions [x,y] over time. \n",
    "While testing performance of your model on the test set, you do not have access to v_x and v_y of the remaining trajectory.\n",
    "\n",
    "\"\"\"\n",
    "\n",
    "example = load_array('/Users/sambhavjain/Library/Mobile Documents/com~apple~CloudDocs/TU Eindhoven/Q4/Deep Learning/tue-deeplearning/assignments/assignment_2/data/task 2_3/train/trajectory_0.npz', task='task 2')\n",
    "\n",
    "initial_state, remaining_trajectory = example\n",
    "print(f'shape of initial state (model input): {initial_state.shape}')\n",
    "print(f'shape of terminal state (to be predicted by model): {remaining_trajectory.shape}')\n",
    "\n",
    "body_idx = 2\n",
    "time_idx = 30\n",
    "print(f'The y-coordinate of the body with index {body_idx} at time with index {time_idx} in remaining_trajectory was {remaining_trajectory[body_idx, time_idx, 1]}')\n",
    "\n",
    "test_example = load_array('/Users/sambhavjain/Library/Mobile Documents/com~apple~CloudDocs/TU Eindhoven/Q4/Deep Learning/tue-deeplearning/assignments/assignment_2/data/task 2_3/test/trajectory_900.npz', task='task 3')\n",
    "test_initial_state, test_remaining_trajectory = test_example\n",
    "print(f'the shape of the input of a test data example is {test_initial_state.shape}')\n",
    "print(f'the shape of the target of a test data example is {test_remaining_trajectory.shape}')\n",
    "print(f'values of the test data example at time {time_idx}:\\n {test_remaining_trajectory[:, time_idx]}')\n",
    "print('note: velocity values are unobserved (NaNs) in the test data!')"
   ]
  },
  {
   "cell_type": "code",
   "execution_count": 18,
   "id": "10a3438a",
   "metadata": {
    "ExecuteTime": {
     "end_time": "2023-06-21T00:09:51.786198Z",
     "start_time": "2023-06-21T00:09:51.731342Z"
    }
   },
   "outputs": [
    {
     "data": {
      "text/plain": "array([[ 4.31455329, -4.99311363, -5.10150489,  2.2491171 , -1.82520359],\n       [ 2.58525749, -4.92574075, -4.7534334 , -4.81897728, -3.07212095],\n       [ 2.40449047,  2.23254187, -6.04595524, -0.67381217, -0.58798851],\n       [ 2.28318603,  5.6605113 , -3.76376281, -0.41268251, -1.19812499],\n       [ 4.09793595, -4.73678906, -3.94704856,  1.13634781,  4.98383634],\n       [ 4.5579536 , -0.08848969,  5.42483477,  1.460317  , -0.21585929],\n       [ 3.42356878, -4.91282501, -4.6779343 ,  0.94123905,  2.66425652],\n       [ 3.59288181, -4.48225046, -4.548729  , -2.56573061, -2.39203918]])"
     },
     "execution_count": 18,
     "metadata": {},
     "output_type": "execute_result"
    }
   ],
   "source": [
    "test_initial_state"
   ]
  },
  {
   "attachments": {},
   "cell_type": "markdown",
   "id": "059b633c",
   "metadata": {},
   "source": [
    "# Data Handling and Preprocessing"
   ]
  },
  {
   "cell_type": "code",
   "execution_count": 19,
   "id": "e6ecb529",
   "metadata": {
    "ExecuteTime": {
     "end_time": "2023-06-21T00:09:51.786611Z",
     "start_time": "2023-06-21T00:09:51.737782Z"
    }
   },
   "outputs": [
    {
     "name": "stdout",
     "output_type": "stream",
     "text": [
      "tensor([[1.0000, 0.5000, 0.3000, 0.2000, 0.1000],\n",
      "        [2.0000, 0.1000, 0.4000, 0.3000, 0.2000],\n",
      "        [0.5000, 0.7000, 0.8000, 0.9000, 1.0000]]) tensor([[0, 0, 1],\n",
      "        [1, 2, 2]]) tensor([[11.7647],\n",
      "        [ 1.7241],\n",
      "        [ 1.9231]]) tensor([[0.3000, 0.2000],\n",
      "        [0.4000, 0.6000],\n",
      "        [0.8000, 0.9000]])\n"
     ]
    }
   ],
   "source": [
    "def create_graph_data(initial_state, terminal_state):\n",
    "    '''Takes a datapoint from task 1 data and returns a Data object ready to be used with\n",
    "    Pytorch Geometric. Each node is an object and will store initial position and speed, each edge stores\n",
    "    the distance between two objects and also their masses.'''\n",
    "    initial_state = np.array(initial_state)\n",
    "    terminal_state = np.array(terminal_state)\n",
    "\n",
    "    n_bodies = initial_state.shape[0]\n",
    "    num_features = initial_state.shape[1]\n",
    "\n",
    "    # Create node features tensor\n",
    "    node_features = torch.tensor(initial_state, dtype=torch.float)\n",
    "    node_features = node_features.view(-1, num_features)  # Reshape to (num_nodes, num_features)\n",
    "\n",
    "    # Create edge index tensor\n",
    "    edge_index = torch.tensor([[i, j] for i in range(n_bodies) for j in range(n_bodies) if (i != j and i<j)], dtype=torch.long)\n",
    "    edge_index = edge_index.t().contiguous()  # Reshape to (2, num_edges)\n",
    "\n",
    "    # Create edge features tensor\n",
    "    num_edges = edge_index.size(1)\n",
    "    edge_features = torch.empty(num_edges, 1, dtype=torch.float)\n",
    "    # Populate edge features with force\n",
    "    for k, (i, j) in enumerate(edge_index.t()):\n",
    "        dx = node_features[i, 1] - node_features[j, 1]\n",
    "        dy = node_features[i, 2] - node_features[j, 2]\n",
    "        distance = torch.sqrt(dx**2 + dy**2)\n",
    "        force = ((node_features[i,0]*node_features[j,0])/(distance**2 + 1e-8))\n",
    "        edge_features[k] = force\n",
    "\n",
    "    # Create target tensor\n",
    "    target = torch.tensor(terminal_state, dtype=torch.float).view(-1, 2)  # Reshape to (num_nodes, num_features + 1)\n",
    "\n",
    "    # Create PyG Data object\n",
    "    data = Data(x=node_features, edge_index=edge_index, edge_attr=edge_features, y=target)\n",
    "\n",
    "    return data\n",
    "\n",
    "# Example usage\n",
    "initial_state = [[1.0, 0.5, 0.3, 0.2, 0.1], [2.0, 0.1, 0.4, 0.3, 0.2], [0.5, 0.7, 0.8, 0.9, 1.0]]\n",
    "terminal_state = [[0.3, 0.2], [0.4, 0.6], [0.8, 0.9]]\n",
    "\n",
    "graph_data = create_graph_data(initial_state, terminal_state)\n",
    "print(graph_data.x, graph_data.edge_index, graph_data.edge_attr, graph_data.y)"
   ]
  },
  {
   "cell_type": "code",
   "execution_count": 20,
   "id": "9bbc8271",
   "metadata": {
    "ExecuteTime": {
     "end_time": "2023-06-21T00:09:52.681562Z",
     "start_time": "2023-06-21T00:09:51.751108Z"
    }
   },
   "outputs": [
    {
     "name": "stdout",
     "output_type": "stream",
     "text": [
      "Number of data samples in /Users/sambhavjain/Library/Mobile Documents/com~apple~CloudDocs/TU Eindhoven/Q4/Deep Learning/tue-deeplearning/assignments/assignment_2/data/task 1/train: 900\n",
      "Number of training samples: 720\n",
      "Number of validation samples: 180\n",
      "Number of data samples in /Users/sambhavjain/Library/Mobile Documents/com~apple~CloudDocs/TU Eindhoven/Q4/Deep Learning/tue-deeplearning/assignments/assignment_2/data/task 1/test: 100\n"
     ]
    }
   ],
   "source": [
    "def create_dataloader(data_folder, task, shuffle, batch_size, train_ratio=0.8):\n",
    "    data_list = []  # List to store the Data objects\n",
    "\n",
    "    # Loop over all files in the folder\n",
    "    for filename in os.listdir(data_folder):\n",
    "        file_path = os.path.join(data_folder, filename)\n",
    "\n",
    "        # Read the data from the file (modify this part based on your file format)\n",
    "        states = load_array(file_path, task=task)\n",
    "        initial_state, terminal_state = states\n",
    "\n",
    "        # Create the Data object using create_graph_data function\n",
    "        data = create_graph_data(initial_state, terminal_state)\n",
    "\n",
    "        # Append the Data object to the list\n",
    "        data_list.append(data)\n",
    "\n",
    "    # Shuffle the data if specified\n",
    "    if shuffle:\n",
    "        random.shuffle(data_list)\n",
    "\n",
    "    # Calculate the number of samples\n",
    "    num_samples = len(data_list)\n",
    "\n",
    "    if \"train\" in data_folder:\n",
    "        # Calculate the number of samples for train and validation\n",
    "        num_train = int(train_ratio * num_samples)\n",
    "        num_val = num_samples - num_train\n",
    "\n",
    "        # Split the data into train and validation sets\n",
    "        train_data = data_list[:num_train]\n",
    "        val_data = data_list[num_train:]\n",
    "\n",
    "        # Print the number of data samples\n",
    "        print(f\"Number of data samples in {data_folder}: {num_samples}\")\n",
    "        print(f\"Number of training samples: {num_train}\")\n",
    "        print(f\"Number of validation samples: {num_val}\")\n",
    "\n",
    "        # Create data loaders for train and validation sets\n",
    "        dataloader_train = DataLoader(train_data, batch_size=batch_size, shuffle=shuffle)\n",
    "        dataloader_val = DataLoader(val_data, batch_size=batch_size, shuffle=False)\n",
    "\n",
    "        return dataloader_train, dataloader_val, data_list\n",
    "    else:\n",
    "        # Print the number of data samples\n",
    "        print(f\"Number of data samples in {data_folder}: {num_samples}\")\n",
    "\n",
    "        # Create a data loader for the data\n",
    "        dataloader = DataLoader(data_list, batch_size=batch_size, shuffle=shuffle)\n",
    "\n",
    "        return dataloader, data_list\n",
    "\n",
    "# Specify the paths to your train and test data folders\n",
    "data_folder_train = '/Users/sambhavjain/Library/Mobile Documents/com~apple~CloudDocs/TU Eindhoven/Q4/Deep Learning/tue-deeplearning/assignments/assignment_2/data/task 1/train'\n",
    "data_folder_test = '/Users/sambhavjain/Library/Mobile Documents/com~apple~CloudDocs/TU Eindhoven/Q4/Deep Learning/tue-deeplearning/assignments/assignment_2/data/task 1/test'\n",
    "\n",
    "# Define the batch size\n",
    "batch_size = 50\n",
    "\n",
    "# Create data loaders for train and validation sets (only if the folder contains \"train\")\n",
    "dataloader_train, dataloader_val, data_list = create_dataloader(data_folder_train, task='task 1', shuffle=True, batch_size=batch_size)\n",
    "\n",
    "# Create a separate data loader for the test set\n",
    "dataloader_test, data_list_test = create_dataloader(data_folder_test, task='task 1', shuffle=False, batch_size=batch_size)"
   ]
  },
  {
   "cell_type": "markdown",
   "source": [
    "# Task 1"
   ],
   "metadata": {
    "collapsed": false
   }
  },
  {
   "attachments": {},
   "cell_type": "markdown",
   "id": "18b2874d",
   "metadata": {},
   "source": [
    "# Model Implementation"
   ],
   "outputs": [
    {
     "name": "stdout",
     "output_type": "stream",
     "text": [
      "Number of data samples in /Users/sambhavjain/Library/Mobile Documents/com~apple~CloudDocs/TU Eindhoven/Q4/Deep Learning/tue-deeplearning/assignments/assignment_2/data/task 1/train: 900\n",
      "Number of training samples: 720\n",
      "Number of validation samples: 180\n",
      "Number of data samples in /Users/sambhavjain/Library/Mobile Documents/com~apple~CloudDocs/TU Eindhoven/Q4/Deep Learning/tue-deeplearning/assignments/assignment_2/data/task 1/test: 100\n"
     ]
    }
   ],
   "execution_count": 87
  },
  {
   "cell_type": "code",
   "execution_count": 21,
   "id": "ef8b18af",
   "metadata": {
    "ExecuteTime": {
     "end_time": "2023-06-21T00:09:52.684349Z",
     "start_time": "2023-06-21T00:09:52.682854Z"
    }
   },
   "outputs": [],
   "source": [
    "from torch_geometric.nn import SAGEConv\n",
    "\n",
    "class GNN(torch.nn.Module):\n",
    "    def __init__(self):\n",
    "        super(GNN, self).__init__()\n",
    "\n",
    "        self.conv1 = SAGEConv(5, 64)\n",
    "        self.conv2 = SAGEConv(64, 128)\n",
    "        self.conv3 = SAGEConv(128, 256)\n",
    "        self.conv4 = SAGEConv(256, 512)\n",
    "        self.conv5 = SAGEConv(512, 256)\n",
    "        self.conv6 = SAGEConv(256, 2)\n",
    "\n",
    "    def forward(self, data):\n",
    "        x, edge_index = data.x, data.edge_index\n",
    "\n",
    "        x = F.relu(self.conv1(x, edge_index))\n",
    "        x = F.relu(self.conv2(x, edge_index))\n",
    "        x = F.relu(self.conv3(x, edge_index))\n",
    "        x = F.relu(self.conv4(x, edge_index))\n",
    "        x = F.relu(self.conv5(x, edge_index))\n",
    "        x = self.conv6(x, edge_index)\n",
    "\n",
    "        return x"
   ]
  },
  {
   "attachments": {},
   "cell_type": "markdown",
   "id": "dea70d73",
   "metadata": {},
   "source": [
    "# Model Training"
   ],
   "outputs": [],
   "execution_count": 88
  },
  {
   "cell_type": "code",
   "execution_count": 22,
   "id": "e95af5f9",
   "metadata": {
    "ExecuteTime": {
     "end_time": "2023-06-21T00:09:52.687122Z",
     "start_time": "2023-06-21T00:09:52.684852Z"
    }
   },
   "outputs": [
    {
     "name": "stdout",
     "output_type": "stream",
     "text": [
      "Loaded device: cpu\n"
     ]
    }
   ],
   "source": [
    "device = torch.device('cuda' if torch.cuda.is_available() else 'cpu')\n",
    "device='cpu'\n",
    "print(f'Loaded device: {device}')"
   ]
  },
  {
   "cell_type": "code",
   "execution_count": 23,
   "outputs": [],
   "source": [
    "model = GNN().to(device)\n",
    "optimizer = torch.optim.Adam(model.parameters(), lr=0.005)\n",
    "loss_func = torch.nn.MSELoss()\n",
    "\n",
    "def train(loader):\n",
    "    model.train()\n",
    "    total_loss = 0\n",
    "    total_r2_score = 0\n",
    "    total_mae = 0\n",
    "    total_samples = 0\n",
    "\n",
    "    for data in loader:\n",
    "        data.to(device)\n",
    "        optimizer.zero_grad()\n",
    "        output = model(data)\n",
    "        loss = loss_func(output, data.y)\n",
    "        loss.backward()\n",
    "        optimizer.step()\n",
    "        total_loss += loss.item()\n",
    "        predictions = output.detach().cpu().numpy()\n",
    "        true_labels = data.y.detach().cpu().numpy()\n",
    "        batch_size = true_labels.shape[0]\n",
    "        total_samples += batch_size\n",
    "\n",
    "         # R2 Score\n",
    "        total_r2_score += r2_score(true_labels, predictions) * batch_size\n",
    "\n",
    "        # MAE\n",
    "        mae = mean_absolute_error(true_labels, predictions)\n",
    "        total_mae += mae * batch_size\n",
    "\n",
    "    avg_loss = total_loss / len(loader)\n",
    "    avg_r2_score = total_r2_score / total_samples\n",
    "    avg_mae = total_mae / total_samples\n",
    "\n",
    "    return avg_loss, avg_r2_score, avg_mae\n",
    "\n",
    "def evaluate(loader):\n",
    "    model.eval()\n",
    "    total_loss = 0\n",
    "    total_r2_score = 0\n",
    "    total_mae = 0\n",
    "    total_samples = 0\n",
    "\n",
    "    with torch.no_grad():\n",
    "        for data in loader:\n",
    "            data.to(device)\n",
    "            output = model(data)\n",
    "            loss = loss_func(output, data.y)\n",
    "            total_loss += loss.item()\n",
    "\n",
    "            predictions = output.detach().cpu().numpy()\n",
    "            true_labels = data.y.detach().cpu().numpy()\n",
    "            batch_size = true_labels.shape[0]\n",
    "            total_samples += batch_size\n",
    "\n",
    "            # R2 Score\n",
    "            total_r2_score += r2_score(true_labels, predictions) * batch_size\n",
    "\n",
    "            # MAE\n",
    "            mae = mean_absolute_error(true_labels, predictions)\n",
    "            total_mae += mae * batch_size\n",
    "\n",
    "    avg_loss = total_loss / len(loader)\n",
    "    avg_r2_score = total_r2_score / total_samples\n",
    "    avg_mae = total_mae / total_samples\n",
    "\n",
    "    return avg_loss, avg_r2_score, avg_mae"
   ],
   "metadata": {
    "collapsed": false,
    "ExecuteTime": {
     "end_time": "2023-06-21T00:09:52.696522Z",
     "start_time": "2023-06-21T00:09:52.689665Z"
    }
   }
  },
  {
   "cell_type": "code",
   "execution_count": 24,
   "outputs": [
    {
     "name": "stderr",
     "output_type": "stream",
     "text": [
      "  2%|▏         | 1/50 [00:00<00:08,  5.83it/s]"
     ]
    },
    {
     "name": "stdout",
     "output_type": "stream",
     "text": [
      "EPOCH: 001, TRAIN LOSS: 16.9683, VAL LOSS: 9.1231, TEST LOSS: 7.4549. TRAINING TIME SO FAR: 0.2 s\n",
      "TRAIN R2: 0.2524, VAL R2: 0.5784, TEST R2: 0.6396\n",
      "TRAIN MAE: 3.2509, VAL MAE: 2.3708, TEST MAE: 2.1433\n",
      "\n"
     ]
    },
    {
     "name": "stderr",
     "output_type": "stream",
     "text": [
      "  4%|▍         | 2/50 [00:00<00:08,  5.80it/s]"
     ]
    },
    {
     "name": "stdout",
     "output_type": "stream",
     "text": [
      "EPOCH: 002, TRAIN LOSS: 8.6930, VAL LOSS: 7.3519, TEST LOSS: 5.6389. TRAINING TIME SO FAR: 0.3 s\n",
      "TRAIN R2: 0.6270, VAL R2: 0.6618, TEST R2: 0.7273\n",
      "TRAIN MAE: 2.1937, VAL MAE: 2.0874, TEST MAE: 1.8667\n",
      "\n"
     ]
    },
    {
     "name": "stderr",
     "output_type": "stream",
     "text": [
      "  6%|▌         | 3/50 [00:00<00:08,  5.81it/s]"
     ]
    },
    {
     "name": "stdout",
     "output_type": "stream",
     "text": [
      "EPOCH: 003, TRAIN LOSS: 7.4095, VAL LOSS: 6.7953, TEST LOSS: 5.1847. TRAINING TIME SO FAR: 0.5 s\n",
      "TRAIN R2: 0.6858, VAL R2: 0.6872, TEST R2: 0.7500\n",
      "TRAIN MAE: 1.9962, VAL MAE: 1.9839, TEST MAE: 1.7658\n",
      "\n"
     ]
    },
    {
     "name": "stderr",
     "output_type": "stream",
     "text": [
      "  8%|▊         | 4/50 [00:00<00:07,  5.79it/s]"
     ]
    },
    {
     "name": "stdout",
     "output_type": "stream",
     "text": [
      "EPOCH: 004, TRAIN LOSS: 6.7651, VAL LOSS: 6.6621, TEST LOSS: 5.1856. TRAINING TIME SO FAR: 0.7 s\n",
      "TRAIN R2: 0.7098, VAL R2: 0.6929, TEST R2: 0.7498\n",
      "TRAIN MAE: 1.9078, VAL MAE: 1.9651, TEST MAE: 1.7491\n",
      "\n"
     ]
    },
    {
     "name": "stderr",
     "output_type": "stream",
     "text": [
      " 10%|█         | 5/50 [00:00<00:07,  5.77it/s]"
     ]
    },
    {
     "name": "stdout",
     "output_type": "stream",
     "text": [
      "EPOCH: 005, TRAIN LOSS: 6.7229, VAL LOSS: 6.6220, TEST LOSS: 4.9880. TRAINING TIME SO FAR: 0.9 s\n",
      "TRAIN R2: 0.7115, VAL R2: 0.6948, TEST R2: 0.7592\n",
      "TRAIN MAE: 1.9009, VAL MAE: 1.9366, TEST MAE: 1.7276\n",
      "\n"
     ]
    },
    {
     "name": "stderr",
     "output_type": "stream",
     "text": [
      " 12%|█▏        | 6/50 [00:01<00:07,  5.77it/s]"
     ]
    },
    {
     "name": "stdout",
     "output_type": "stream",
     "text": [
      "EPOCH: 006, TRAIN LOSS: 6.4204, VAL LOSS: 6.6844, TEST LOSS: 5.2610. TRAINING TIME SO FAR: 1.0 s\n",
      "TRAIN R2: 0.7247, VAL R2: 0.6899, TEST R2: 0.7462\n",
      "TRAIN MAE: 1.8619, VAL MAE: 1.9591, TEST MAE: 1.7607\n",
      "\n"
     ]
    },
    {
     "name": "stderr",
     "output_type": "stream",
     "text": [
      " 14%|█▍        | 7/50 [00:01<00:07,  5.79it/s]"
     ]
    },
    {
     "name": "stdout",
     "output_type": "stream",
     "text": [
      "EPOCH: 007, TRAIN LOSS: 6.2848, VAL LOSS: 6.7708, TEST LOSS: 5.2512. TRAINING TIME SO FAR: 1.2 s\n",
      "TRAIN R2: 0.7268, VAL R2: 0.6882, TEST R2: 0.7467\n",
      "TRAIN MAE: 1.8632, VAL MAE: 1.9851, TEST MAE: 1.7679\n",
      "\n"
     ]
    },
    {
     "name": "stderr",
     "output_type": "stream",
     "text": [
      " 16%|█▌        | 8/50 [00:01<00:07,  5.80it/s]"
     ]
    },
    {
     "name": "stdout",
     "output_type": "stream",
     "text": [
      "EPOCH: 008, TRAIN LOSS: 6.2215, VAL LOSS: 6.5749, TEST LOSS: 5.0896. TRAINING TIME SO FAR: 1.4 s\n",
      "TRAIN R2: 0.7337, VAL R2: 0.6968, TEST R2: 0.7545\n",
      "TRAIN MAE: 1.8407, VAL MAE: 1.9342, TEST MAE: 1.7308\n",
      "\n"
     ]
    },
    {
     "name": "stderr",
     "output_type": "stream",
     "text": [
      " 18%|█▊        | 9/50 [00:01<00:07,  5.81it/s]"
     ]
    },
    {
     "name": "stdout",
     "output_type": "stream",
     "text": [
      "EPOCH: 009, TRAIN LOSS: 5.8700, VAL LOSS: 6.8216, TEST LOSS: 4.9227. TRAINING TIME SO FAR: 1.6 s\n",
      "TRAIN R2: 0.7401, VAL R2: 0.6859, TEST R2: 0.7620\n",
      "TRAIN MAE: 1.8148, VAL MAE: 1.9694, TEST MAE: 1.7082\n",
      "\n"
     ]
    },
    {
     "name": "stderr",
     "output_type": "stream",
     "text": [
      " 20%|██        | 10/50 [00:01<00:06,  5.81it/s]"
     ]
    },
    {
     "name": "stdout",
     "output_type": "stream",
     "text": [
      "EPOCH: 010, TRAIN LOSS: 5.7485, VAL LOSS: 6.7103, TEST LOSS: 5.1922. TRAINING TIME SO FAR: 1.7 s\n",
      "TRAIN R2: 0.7499, VAL R2: 0.6908, TEST R2: 0.7494\n",
      "TRAIN MAE: 1.7912, VAL MAE: 1.9344, TEST MAE: 1.7352\n",
      "\n"
     ]
    },
    {
     "name": "stderr",
     "output_type": "stream",
     "text": [
      " 22%|██▏       | 11/50 [00:01<00:06,  5.75it/s]"
     ]
    },
    {
     "name": "stdout",
     "output_type": "stream",
     "text": [
      "EPOCH: 011, TRAIN LOSS: 5.5911, VAL LOSS: 6.7333, TEST LOSS: 5.0375. TRAINING TIME SO FAR: 1.9 s\n",
      "TRAIN R2: 0.7539, VAL R2: 0.6882, TEST R2: 0.7568\n",
      "TRAIN MAE: 1.7783, VAL MAE: 1.9420, TEST MAE: 1.6908\n",
      "\n"
     ]
    },
    {
     "name": "stderr",
     "output_type": "stream",
     "text": [
      " 24%|██▍       | 12/50 [00:02<00:06,  5.50it/s]"
     ]
    },
    {
     "name": "stdout",
     "output_type": "stream",
     "text": [
      "EPOCH: 012, TRAIN LOSS: 5.3883, VAL LOSS: 6.5702, TEST LOSS: 5.0476. TRAINING TIME SO FAR: 2.1 s\n",
      "TRAIN R2: 0.7625, VAL R2: 0.6978, TEST R2: 0.7562\n",
      "TRAIN MAE: 1.7522, VAL MAE: 1.9222, TEST MAE: 1.7277\n",
      "\n"
     ]
    },
    {
     "name": "stderr",
     "output_type": "stream",
     "text": [
      " 26%|██▌       | 13/50 [00:02<00:06,  5.60it/s]"
     ]
    },
    {
     "name": "stdout",
     "output_type": "stream",
     "text": [
      "EPOCH: 013, TRAIN LOSS: 5.3551, VAL LOSS: 6.7208, TEST LOSS: 5.3529. TRAINING TIME SO FAR: 2.3 s\n",
      "TRAIN R2: 0.7662, VAL R2: 0.6890, TEST R2: 0.7419\n",
      "TRAIN MAE: 1.7300, VAL MAE: 1.9486, TEST MAE: 1.7443\n",
      "\n"
     ]
    },
    {
     "name": "stderr",
     "output_type": "stream",
     "text": [
      " 28%|██▊       | 14/50 [00:02<00:06,  5.65it/s]"
     ]
    },
    {
     "name": "stdout",
     "output_type": "stream",
     "text": [
      "EPOCH: 014, TRAIN LOSS: 6.0886, VAL LOSS: 7.0049, TEST LOSS: 5.1469. TRAINING TIME SO FAR: 2.4 s\n",
      "TRAIN R2: 0.7395, VAL R2: 0.6754, TEST R2: 0.7514\n",
      "TRAIN MAE: 1.8116, VAL MAE: 2.0020, TEST MAE: 1.7224\n",
      "\n"
     ]
    },
    {
     "name": "stderr",
     "output_type": "stream",
     "text": [
      " 30%|███       | 15/50 [00:02<00:06,  5.70it/s]"
     ]
    },
    {
     "name": "stdout",
     "output_type": "stream",
     "text": [
      "EPOCH: 015, TRAIN LOSS: 5.9662, VAL LOSS: 6.5986, TEST LOSS: 4.8575. TRAINING TIME SO FAR: 2.6 s\n",
      "TRAIN R2: 0.7492, VAL R2: 0.6952, TEST R2: 0.7657\n",
      "TRAIN MAE: 1.7465, VAL MAE: 1.9220, TEST MAE: 1.6910\n",
      "\n"
     ]
    },
    {
     "name": "stderr",
     "output_type": "stream",
     "text": [
      " 32%|███▏      | 16/50 [00:02<00:05,  5.71it/s]"
     ]
    },
    {
     "name": "stdout",
     "output_type": "stream",
     "text": [
      "EPOCH: 016, TRAIN LOSS: 5.5942, VAL LOSS: 6.7154, TEST LOSS: 4.9931. TRAINING TIME SO FAR: 2.8 s\n",
      "TRAIN R2: 0.7681, VAL R2: 0.6902, TEST R2: 0.7593\n",
      "TRAIN MAE: 1.6889, VAL MAE: 1.9399, TEST MAE: 1.7146\n",
      "\n"
     ]
    },
    {
     "name": "stderr",
     "output_type": "stream",
     "text": [
      " 34%|███▍      | 17/50 [00:02<00:05,  5.71it/s]"
     ]
    },
    {
     "name": "stdout",
     "output_type": "stream",
     "text": [
      "EPOCH: 017, TRAIN LOSS: 5.2785, VAL LOSS: 6.6277, TEST LOSS: 4.9088. TRAINING TIME SO FAR: 3.0 s\n",
      "TRAIN R2: 0.7746, VAL R2: 0.6943, TEST R2: 0.7635\n",
      "TRAIN MAE: 1.6811, VAL MAE: 1.9149, TEST MAE: 1.6653\n",
      "\n"
     ]
    },
    {
     "name": "stderr",
     "output_type": "stream",
     "text": [
      " 36%|███▌      | 18/50 [00:03<00:05,  5.74it/s]"
     ]
    },
    {
     "name": "stdout",
     "output_type": "stream",
     "text": [
      "EPOCH: 018, TRAIN LOSS: 4.7907, VAL LOSS: 6.5672, TEST LOSS: 4.9422. TRAINING TIME SO FAR: 3.1 s\n",
      "TRAIN R2: 0.7899, VAL R2: 0.6974, TEST R2: 0.7618\n",
      "TRAIN MAE: 1.6298, VAL MAE: 1.9186, TEST MAE: 1.7017\n",
      "\n"
     ]
    },
    {
     "name": "stderr",
     "output_type": "stream",
     "text": [
      " 38%|███▊      | 19/50 [00:03<00:05,  5.74it/s]"
     ]
    },
    {
     "name": "stdout",
     "output_type": "stream",
     "text": [
      "EPOCH: 019, TRAIN LOSS: 4.6717, VAL LOSS: 6.6165, TEST LOSS: 4.8658. TRAINING TIME SO FAR: 3.3 s\n",
      "TRAIN R2: 0.7955, VAL R2: 0.6935, TEST R2: 0.7654\n",
      "TRAIN MAE: 1.6174, VAL MAE: 1.9082, TEST MAE: 1.6655\n",
      "\n"
     ]
    },
    {
     "name": "stderr",
     "output_type": "stream",
     "text": [
      " 40%|████      | 20/50 [00:03<00:05,  5.76it/s]"
     ]
    },
    {
     "name": "stdout",
     "output_type": "stream",
     "text": [
      "EPOCH: 020, TRAIN LOSS: 4.3761, VAL LOSS: 6.6648, TEST LOSS: 4.9388. TRAINING TIME SO FAR: 3.5 s\n",
      "TRAIN R2: 0.8075, VAL R2: 0.6918, TEST R2: 0.7617\n",
      "TRAIN MAE: 1.5713, VAL MAE: 1.9303, TEST MAE: 1.6813\n",
      "\n"
     ]
    },
    {
     "name": "stderr",
     "output_type": "stream",
     "text": [
      " 42%|████▏     | 21/50 [00:03<00:05,  5.76it/s]"
     ]
    },
    {
     "name": "stdout",
     "output_type": "stream",
     "text": [
      "EPOCH: 021, TRAIN LOSS: 4.2217, VAL LOSS: 6.6721, TEST LOSS: 4.8742. TRAINING TIME SO FAR: 3.7 s\n",
      "TRAIN R2: 0.8135, VAL R2: 0.6929, TEST R2: 0.7648\n",
      "TRAIN MAE: 1.5372, VAL MAE: 1.9169, TEST MAE: 1.6883\n",
      "\n"
     ]
    },
    {
     "name": "stderr",
     "output_type": "stream",
     "text": [
      " 44%|████▍     | 22/50 [00:03<00:04,  5.76it/s]"
     ]
    },
    {
     "name": "stdout",
     "output_type": "stream",
     "text": [
      "EPOCH: 022, TRAIN LOSS: 4.2700, VAL LOSS: 6.6407, TEST LOSS: 5.1336. TRAINING TIME SO FAR: 3.8 s\n",
      "TRAIN R2: 0.8114, VAL R2: 0.6931, TEST R2: 0.7522\n",
      "TRAIN MAE: 1.5495, VAL MAE: 1.9157, TEST MAE: 1.7110\n",
      "\n"
     ]
    },
    {
     "name": "stderr",
     "output_type": "stream",
     "text": [
      " 46%|████▌     | 23/50 [00:04<00:04,  5.78it/s]"
     ]
    },
    {
     "name": "stdout",
     "output_type": "stream",
     "text": [
      "EPOCH: 023, TRAIN LOSS: 4.6249, VAL LOSS: 6.9672, TEST LOSS: 5.0626. TRAINING TIME SO FAR: 4.0 s\n",
      "TRAIN R2: 0.8011, VAL R2: 0.6757, TEST R2: 0.7559\n",
      "TRAIN MAE: 1.5986, VAL MAE: 1.9787, TEST MAE: 1.7092\n",
      "\n"
     ]
    },
    {
     "name": "stderr",
     "output_type": "stream",
     "text": [
      " 48%|████▊     | 24/50 [00:04<00:04,  5.76it/s]"
     ]
    },
    {
     "name": "stdout",
     "output_type": "stream",
     "text": [
      "EPOCH: 024, TRAIN LOSS: 4.8706, VAL LOSS: 6.7142, TEST LOSS: 4.9971. TRAINING TIME SO FAR: 4.2 s\n",
      "TRAIN R2: 0.7990, VAL R2: 0.6890, TEST R2: 0.7587\n",
      "TRAIN MAE: 1.5541, VAL MAE: 1.9295, TEST MAE: 1.7079\n",
      "\n"
     ]
    },
    {
     "name": "stderr",
     "output_type": "stream",
     "text": [
      " 50%|█████     | 25/50 [00:04<00:04,  5.75it/s]"
     ]
    },
    {
     "name": "stdout",
     "output_type": "stream",
     "text": [
      "EPOCH: 025, TRAIN LOSS: 4.4369, VAL LOSS: 6.5920, TEST LOSS: 4.8276. TRAINING TIME SO FAR: 4.4 s\n",
      "TRAIN R2: 0.8149, VAL R2: 0.6953, TEST R2: 0.7671\n",
      "TRAIN MAE: 1.4979, VAL MAE: 1.9197, TEST MAE: 1.6865\n",
      "\n"
     ]
    },
    {
     "name": "stderr",
     "output_type": "stream",
     "text": [
      " 52%|█████▏    | 26/50 [00:04<00:04,  5.77it/s]"
     ]
    },
    {
     "name": "stdout",
     "output_type": "stream",
     "text": [
      "EPOCH: 026, TRAIN LOSS: 4.1924, VAL LOSS: 6.8204, TEST LOSS: 5.0538. TRAINING TIME SO FAR: 4.5 s\n",
      "TRAIN R2: 0.8230, VAL R2: 0.6848, TEST R2: 0.7556\n",
      "TRAIN MAE: 1.4791, VAL MAE: 1.9405, TEST MAE: 1.7196\n",
      "\n"
     ]
    },
    {
     "name": "stderr",
     "output_type": "stream",
     "text": [
      " 54%|█████▍    | 27/50 [00:04<00:03,  5.78it/s]"
     ]
    },
    {
     "name": "stdout",
     "output_type": "stream",
     "text": [
      "EPOCH: 027, TRAIN LOSS: 3.9075, VAL LOSS: 6.7581, TEST LOSS: 5.2002. TRAINING TIME SO FAR: 4.7 s\n",
      "TRAIN R2: 0.8318, VAL R2: 0.6884, TEST R2: 0.7490\n",
      "TRAIN MAE: 1.4691, VAL MAE: 1.9442, TEST MAE: 1.7508\n",
      "\n"
     ]
    },
    {
     "name": "stderr",
     "output_type": "stream",
     "text": [
      " 56%|█████▌    | 28/50 [00:04<00:03,  5.77it/s]"
     ]
    },
    {
     "name": "stdout",
     "output_type": "stream",
     "text": [
      "EPOCH: 028, TRAIN LOSS: 3.7521, VAL LOSS: 7.0312, TEST LOSS: 5.2207. TRAINING TIME SO FAR: 4.9 s\n",
      "TRAIN R2: 0.8414, VAL R2: 0.6763, TEST R2: 0.7481\n",
      "TRAIN MAE: 1.4279, VAL MAE: 1.9922, TEST MAE: 1.7334\n",
      "\n"
     ]
    },
    {
     "name": "stderr",
     "output_type": "stream",
     "text": [
      " 58%|█████▊    | 29/50 [00:05<00:03,  5.74it/s]"
     ]
    },
    {
     "name": "stdout",
     "output_type": "stream",
     "text": [
      "EPOCH: 029, TRAIN LOSS: 3.4726, VAL LOSS: 6.8917, TEST LOSS: 5.1798. TRAINING TIME SO FAR: 5.1 s\n",
      "TRAIN R2: 0.8449, VAL R2: 0.6818, TEST R2: 0.7496\n",
      "TRAIN MAE: 1.4162, VAL MAE: 1.9708, TEST MAE: 1.7205\n",
      "\n"
     ]
    },
    {
     "name": "stderr",
     "output_type": "stream",
     "text": [
      " 60%|██████    | 30/50 [00:05<00:03,  5.68it/s]"
     ]
    },
    {
     "name": "stdout",
     "output_type": "stream",
     "text": [
      "EPOCH: 030, TRAIN LOSS: 3.3556, VAL LOSS: 6.9369, TEST LOSS: 5.2313. TRAINING TIME SO FAR: 5.2 s\n",
      "TRAIN R2: 0.8530, VAL R2: 0.6796, TEST R2: 0.7476\n",
      "TRAIN MAE: 1.3720, VAL MAE: 1.9685, TEST MAE: 1.7430\n",
      "\n"
     ]
    },
    {
     "name": "stderr",
     "output_type": "stream",
     "text": [
      " 62%|██████▏   | 31/50 [00:05<00:03,  5.64it/s]"
     ]
    },
    {
     "name": "stdout",
     "output_type": "stream",
     "text": [
      "EPOCH: 031, TRAIN LOSS: 3.1860, VAL LOSS: 7.0649, TEST LOSS: 5.3759. TRAINING TIME SO FAR: 5.4 s\n",
      "TRAIN R2: 0.8603, VAL R2: 0.6740, TEST R2: 0.7405\n",
      "TRAIN MAE: 1.3427, VAL MAE: 1.9799, TEST MAE: 1.7553\n",
      "\n"
     ]
    },
    {
     "name": "stderr",
     "output_type": "stream",
     "text": [
      " 64%|██████▍   | 32/50 [00:05<00:03,  5.61it/s]"
     ]
    },
    {
     "name": "stdout",
     "output_type": "stream",
     "text": [
      "EPOCH: 032, TRAIN LOSS: 3.1807, VAL LOSS: 7.0433, TEST LOSS: 5.5096. TRAINING TIME SO FAR: 5.6 s\n",
      "TRAIN R2: 0.8593, VAL R2: 0.6738, TEST R2: 0.7336\n",
      "TRAIN MAE: 1.3468, VAL MAE: 1.9943, TEST MAE: 1.8192\n",
      "\n"
     ]
    },
    {
     "name": "stderr",
     "output_type": "stream",
     "text": [
      " 66%|██████▌   | 33/50 [00:05<00:03,  5.58it/s]"
     ]
    },
    {
     "name": "stdout",
     "output_type": "stream",
     "text": [
      "EPOCH: 033, TRAIN LOSS: 3.0314, VAL LOSS: 7.2736, TEST LOSS: 5.6395. TRAINING TIME SO FAR: 5.8 s\n",
      "TRAIN R2: 0.8667, VAL R2: 0.6659, TEST R2: 0.7279\n",
      "TRAIN MAE: 1.3106, VAL MAE: 2.0121, TEST MAE: 1.7987\n",
      "\n"
     ]
    },
    {
     "name": "stderr",
     "output_type": "stream",
     "text": [
      " 68%|██████▊   | 34/50 [00:05<00:02,  5.41it/s]"
     ]
    },
    {
     "name": "stdout",
     "output_type": "stream",
     "text": [
      "EPOCH: 034, TRAIN LOSS: 3.0087, VAL LOSS: 7.3099, TEST LOSS: 5.4425. TRAINING TIME SO FAR: 6.0 s\n",
      "TRAIN R2: 0.8675, VAL R2: 0.6624, TEST R2: 0.7371\n",
      "TRAIN MAE: 1.2995, VAL MAE: 2.0328, TEST MAE: 1.7766\n",
      "\n"
     ]
    },
    {
     "name": "stderr",
     "output_type": "stream",
     "text": [
      " 70%|███████   | 35/50 [00:06<00:02,  5.48it/s]"
     ]
    },
    {
     "name": "stdout",
     "output_type": "stream",
     "text": [
      "EPOCH: 035, TRAIN LOSS: 3.2132, VAL LOSS: 7.6406, TEST LOSS: 5.8746. TRAINING TIME SO FAR: 6.1 s\n",
      "TRAIN R2: 0.8645, VAL R2: 0.6473, TEST R2: 0.7167\n",
      "TRAIN MAE: 1.3152, VAL MAE: 2.0753, TEST MAE: 1.8625\n",
      "\n"
     ]
    },
    {
     "name": "stderr",
     "output_type": "stream",
     "text": [
      " 72%|███████▏  | 36/50 [00:06<00:02,  5.58it/s]"
     ]
    },
    {
     "name": "stdout",
     "output_type": "stream",
     "text": [
      "EPOCH: 036, TRAIN LOSS: 2.9733, VAL LOSS: 7.3750, TEST LOSS: 5.8759. TRAINING TIME SO FAR: 6.3 s\n",
      "TRAIN R2: 0.8696, VAL R2: 0.6598, TEST R2: 0.7167\n",
      "TRAIN MAE: 1.3008, VAL MAE: 2.0308, TEST MAE: 1.8239\n",
      "\n"
     ]
    },
    {
     "name": "stderr",
     "output_type": "stream",
     "text": [
      " 74%|███████▍  | 37/50 [00:06<00:02,  5.69it/s]"
     ]
    },
    {
     "name": "stdout",
     "output_type": "stream",
     "text": [
      "EPOCH: 037, TRAIN LOSS: 2.6460, VAL LOSS: 7.4182, TEST LOSS: 5.4081. TRAINING TIME SO FAR: 6.5 s\n",
      "TRAIN R2: 0.8828, VAL R2: 0.6579, TEST R2: 0.7389\n",
      "TRAIN MAE: 1.2269, VAL MAE: 2.0580, TEST MAE: 1.7876\n",
      "\n"
     ]
    },
    {
     "name": "stderr",
     "output_type": "stream",
     "text": [
      " 76%|███████▌  | 38/50 [00:06<00:02,  5.78it/s]"
     ]
    },
    {
     "name": "stdout",
     "output_type": "stream",
     "text": [
      "EPOCH: 038, TRAIN LOSS: 2.7417, VAL LOSS: 7.6575, TEST LOSS: 5.6482. TRAINING TIME SO FAR: 6.7 s\n",
      "TRAIN R2: 0.8830, VAL R2: 0.6468, TEST R2: 0.7272\n",
      "TRAIN MAE: 1.2177, VAL MAE: 2.0508, TEST MAE: 1.8070\n",
      "\n"
     ]
    },
    {
     "name": "stderr",
     "output_type": "stream",
     "text": [
      " 78%|███████▊  | 39/50 [00:06<00:01,  5.77it/s]"
     ]
    },
    {
     "name": "stdout",
     "output_type": "stream",
     "text": [
      "EPOCH: 039, TRAIN LOSS: 2.4168, VAL LOSS: 6.9844, TEST LOSS: 5.3697. TRAINING TIME SO FAR: 6.8 s\n",
      "TRAIN R2: 0.8936, VAL R2: 0.6768, TEST R2: 0.7409\n",
      "TRAIN MAE: 1.1777, VAL MAE: 1.9854, TEST MAE: 1.7541\n",
      "\n"
     ]
    },
    {
     "name": "stderr",
     "output_type": "stream",
     "text": [
      " 80%|████████  | 40/50 [00:07<00:01,  5.71it/s]"
     ]
    },
    {
     "name": "stdout",
     "output_type": "stream",
     "text": [
      "EPOCH: 040, TRAIN LOSS: 2.2359, VAL LOSS: 7.2658, TEST LOSS: 5.4889. TRAINING TIME SO FAR: 7.0 s\n",
      "TRAIN R2: 0.9011, VAL R2: 0.6647, TEST R2: 0.7350\n",
      "TRAIN MAE: 1.1333, VAL MAE: 2.0059, TEST MAE: 1.7822\n",
      "\n"
     ]
    },
    {
     "name": "stderr",
     "output_type": "stream",
     "text": [
      " 82%|████████▏ | 41/50 [00:07<00:01,  5.69it/s]"
     ]
    },
    {
     "name": "stdout",
     "output_type": "stream",
     "text": [
      "EPOCH: 041, TRAIN LOSS: 2.1388, VAL LOSS: 7.6156, TEST LOSS: 5.5388. TRAINING TIME SO FAR: 7.2 s\n",
      "TRAIN R2: 0.9054, VAL R2: 0.6472, TEST R2: 0.7324\n",
      "TRAIN MAE: 1.0942, VAL MAE: 2.0588, TEST MAE: 1.8167\n",
      "\n"
     ]
    },
    {
     "name": "stderr",
     "output_type": "stream",
     "text": [
      " 84%|████████▍ | 42/50 [00:07<00:01,  5.64it/s]"
     ]
    },
    {
     "name": "stdout",
     "output_type": "stream",
     "text": [
      "EPOCH: 042, TRAIN LOSS: 2.0475, VAL LOSS: 7.7150, TEST LOSS: 5.8285. TRAINING TIME SO FAR: 7.4 s\n",
      "TRAIN R2: 0.9086, VAL R2: 0.6427, TEST R2: 0.7183\n",
      "TRAIN MAE: 1.0808, VAL MAE: 2.0925, TEST MAE: 1.8534\n",
      "\n"
     ]
    },
    {
     "name": "stderr",
     "output_type": "stream",
     "text": [
      " 86%|████████▌ | 43/50 [00:07<00:01,  5.73it/s]"
     ]
    },
    {
     "name": "stdout",
     "output_type": "stream",
     "text": [
      "EPOCH: 043, TRAIN LOSS: 1.9907, VAL LOSS: 7.3930, TEST LOSS: 5.4551. TRAINING TIME SO FAR: 7.5 s\n",
      "TRAIN R2: 0.9124, VAL R2: 0.6587, TEST R2: 0.7364\n",
      "TRAIN MAE: 1.0681, VAL MAE: 2.0326, TEST MAE: 1.7875\n",
      "\n"
     ]
    },
    {
     "name": "stderr",
     "output_type": "stream",
     "text": [
      " 88%|████████▊ | 44/50 [00:07<00:01,  5.70it/s]"
     ]
    },
    {
     "name": "stdout",
     "output_type": "stream",
     "text": [
      "EPOCH: 044, TRAIN LOSS: 1.8067, VAL LOSS: 7.7741, TEST LOSS: 5.7498. TRAINING TIME SO FAR: 7.7 s\n",
      "TRAIN R2: 0.9209, VAL R2: 0.6430, TEST R2: 0.7221\n",
      "TRAIN MAE: 1.0000, VAL MAE: 2.0717, TEST MAE: 1.8409\n",
      "\n"
     ]
    },
    {
     "name": "stderr",
     "output_type": "stream",
     "text": [
      " 90%|█████████ | 45/50 [00:07<00:00,  5.67it/s]"
     ]
    },
    {
     "name": "stdout",
     "output_type": "stream",
     "text": [
      "EPOCH: 045, TRAIN LOSS: 1.6977, VAL LOSS: 7.7668, TEST LOSS: 5.8066. TRAINING TIME SO FAR: 7.9 s\n",
      "TRAIN R2: 0.9250, VAL R2: 0.6421, TEST R2: 0.7196\n",
      "TRAIN MAE: 0.9716, VAL MAE: 2.0872, TEST MAE: 1.8340\n",
      "\n"
     ]
    },
    {
     "name": "stderr",
     "output_type": "stream",
     "text": [
      " 92%|█████████▏| 46/50 [00:08<00:00,  5.68it/s]"
     ]
    },
    {
     "name": "stdout",
     "output_type": "stream",
     "text": [
      "EPOCH: 046, TRAIN LOSS: 1.6547, VAL LOSS: 7.7015, TEST LOSS: 5.5028. TRAINING TIME SO FAR: 8.1 s\n",
      "TRAIN R2: 0.9276, VAL R2: 0.6459, TEST R2: 0.7342\n",
      "TRAIN MAE: 0.9536, VAL MAE: 2.0628, TEST MAE: 1.8034\n",
      "\n"
     ]
    },
    {
     "name": "stderr",
     "output_type": "stream",
     "text": [
      " 94%|█████████▍| 47/50 [00:08<00:00,  5.66it/s]"
     ]
    },
    {
     "name": "stdout",
     "output_type": "stream",
     "text": [
      "EPOCH: 047, TRAIN LOSS: 1.6806, VAL LOSS: 7.9645, TEST LOSS: 5.9336. TRAINING TIME SO FAR: 8.2 s\n",
      "TRAIN R2: 0.9281, VAL R2: 0.6334, TEST R2: 0.7139\n",
      "TRAIN MAE: 0.9438, VAL MAE: 2.0960, TEST MAE: 1.8511\n",
      "\n"
     ]
    },
    {
     "name": "stderr",
     "output_type": "stream",
     "text": [
      " 96%|█████████▌| 48/50 [00:08<00:00,  5.69it/s]"
     ]
    },
    {
     "name": "stdout",
     "output_type": "stream",
     "text": [
      "EPOCH: 048, TRAIN LOSS: 1.5973, VAL LOSS: 7.7831, TEST LOSS: 5.8102. TRAINING TIME SO FAR: 8.4 s\n",
      "TRAIN R2: 0.9297, VAL R2: 0.6407, TEST R2: 0.7192\n",
      "TRAIN MAE: 0.9439, VAL MAE: 2.0847, TEST MAE: 1.8682\n",
      "\n"
     ]
    },
    {
     "name": "stderr",
     "output_type": "stream",
     "text": [
      " 98%|█████████▊| 49/50 [00:08<00:00,  5.75it/s]"
     ]
    },
    {
     "name": "stdout",
     "output_type": "stream",
     "text": [
      "EPOCH: 049, TRAIN LOSS: 1.6323, VAL LOSS: 7.9511, TEST LOSS: 5.8873. TRAINING TIME SO FAR: 8.6 s\n",
      "TRAIN R2: 0.9312, VAL R2: 0.6330, TEST R2: 0.7157\n",
      "TRAIN MAE: 0.9251, VAL MAE: 2.0974, TEST MAE: 1.8798\n",
      "\n"
     ]
    },
    {
     "name": "stderr",
     "output_type": "stream",
     "text": [
      "100%|██████████| 50/50 [00:08<00:00,  5.71it/s]"
     ]
    },
    {
     "name": "stdout",
     "output_type": "stream",
     "text": [
      "EPOCH: 050, TRAIN LOSS: 1.6985, VAL LOSS: 8.1016, TEST LOSS: 5.9554. TRAINING TIME SO FAR: 8.8 s\n",
      "TRAIN R2: 0.9338, VAL R2: 0.6276, TEST R2: 0.7123\n",
      "TRAIN MAE: 0.9130, VAL MAE: 2.1542, TEST MAE: 1.9052\n",
      "\n"
     ]
    },
    {
     "name": "stderr",
     "output_type": "stream",
     "text": [
      "\n"
     ]
    }
   ],
   "source": [
    "epochs = 50\n",
    "start = time.time()\n",
    "\n",
    "train_losses, train_r2_scores, train_maes = [], [], []\n",
    "val_losses, val_r2_scores, val_maes = [], [], []\n",
    "test_losses, test_r2_scores, test_maes = [], [], []\n",
    "\n",
    "for epoch in tqdm(range(1, epochs + 1)):\n",
    "\n",
    "    train_loss, train_r2_score, train_mae = train(dataloader_train)\n",
    "    val_loss, val_r2_score, val_mae = evaluate(dataloader_val)\n",
    "    test_loss, test_r2_score, test_mae = evaluate(dataloader_test)\n",
    "\n",
    "    toc = time.time()\n",
    "    print(f'EPOCH: {epoch:03d}, TRAIN LOSS: {train_loss:.4f}, VAL LOSS: {val_loss:.4f}, TEST LOSS: {test_loss:.4f}. TRAINING TIME SO FAR: {toc - start:.1f} s\\n'\n",
    "          f'TRAIN R2: {train_r2_score:.4f}, VAL R2: {val_r2_score:.4f}, TEST R2: {test_r2_score:.4f}\\n'\n",
    "          f'TRAIN MAE: {train_mae:.4f}, VAL MAE: {val_mae:.4f}, TEST MAE: {test_mae:.4f}\\n')\n",
    "\n",
    "    # Store metrics\n",
    "    train_losses.append(train_loss)\n",
    "    train_r2_scores.append(train_r2_score)\n",
    "    train_maes.append(train_mae)\n",
    "\n",
    "    val_losses.append(val_loss)\n",
    "    val_r2_scores.append(val_r2_score)\n",
    "    val_maes.append(val_mae)\n",
    "\n",
    "    test_losses.append(test_loss)\n",
    "    test_r2_scores.append(test_r2_score)\n",
    "    test_maes.append(test_mae)"
   ],
   "metadata": {
    "collapsed": false,
    "ExecuteTime": {
     "end_time": "2023-06-21T00:10:01.458835Z",
     "start_time": "2023-06-21T00:09:52.699403Z"
    }
   }
  },
  {
   "attachments": {},
   "cell_type": "markdown",
   "id": "d5fb3b29",
   "metadata": {},
   "source": [
    "# Evaluation"
   ],
   "outputs": [
    {
     "data": {
      "text/plain": "<Figure size 800x600 with 1 Axes>",
      "image/png": "[encoded data removed]"
     },
     "metadata": {},
     "output_type": "display_data"
    }
   ],
   "execution_count": 92
  },
  {
   "cell_type": "code",
   "execution_count": 25,
   "outputs": [
    {
     "data": {
      "text/plain": "<Figure size 1200x400 with 1 Axes>",
      "image/png": "[encoded data removed]"
     },
     "metadata": {},
     "output_type": "display_data"
    },
    {
     "data": {
      "text/plain": "<Figure size 1200x400 with 1 Axes>",
      "image/png": "[encoded data removed]"
     },
     "metadata": {},
     "output_type": "display_data"
    },
    {
     "data": {
      "text/plain": "<Figure size 1200x400 with 1 Axes>",
      "image/png": "[encoded data removed]"
     },
     "metadata": {},
     "output_type": "display_data"
    }
   ],
   "source": [
    "# Plot losses\n",
    "plt.figure(figsize=(12, 4))\n",
    "plt.plot(train_losses, label='Train')\n",
    "plt.plot(val_losses, label='Validation')\n",
    "plt.plot(test_losses, label='Test')\n",
    "plt.title('Loss over epochs')\n",
    "plt.xlabel('Epochs')\n",
    "plt.ylabel('Loss')\n",
    "plt.legend()\n",
    "plt.show()\n",
    "\n",
    "# Plot R2 scores\n",
    "plt.figure(figsize=(12, 4))\n",
    "plt.plot(train_r2_scores, label='Train')\n",
    "plt.plot(val_r2_scores, label='Validation')\n",
    "plt.plot(test_r2_scores, label='Test')\n",
    "plt.title('R2 Score over epochs')\n",
    "plt.xlabel('Epochs')\n",
    "plt.ylabel('R2 Score')\n",
    "plt.legend()\n",
    "plt.show()\n",
    "\n",
    "# Plot MAEs\n",
    "plt.figure(figsize=(12, 4))\n",
    "plt.plot(train_maes, label='Train')\n",
    "plt.plot(val_maes, label='Validation')\n",
    "plt.plot(test_maes, label='Test')\n",
    "plt.title('Mean Absolute Error over epochs')\n",
    "plt.xlabel('Epochs')\n",
    "plt.ylabel('Mean Absolute Error')\n",
    "plt.legend()\n",
    "plt.show()"
   ],
   "metadata": {
    "collapsed": false,
    "ExecuteTime": {
     "end_time": "2023-06-21T00:10:01.686743Z",
     "start_time": "2023-06-21T00:10:01.467926Z"
    }
   }
  },
  {
   "cell_type": "code",
   "execution_count": 26,
   "outputs": [
    {
     "name": "stdout",
     "output_type": "stream",
     "text": [
      "Number of objects = 7\n",
      "Predicted = \n",
      " tensor([[-0.1758, -4.3902],\n",
      "        [ 1.4705,  2.8137],\n",
      "        [ 1.2447, -3.8989],\n",
      "        [-6.3218, -0.6364],\n",
      "        [ 6.5689, -0.7150],\n",
      "        [ 6.9842,  0.7016],\n",
      "        [-4.1160, -0.9244]], grad_fn=<AddBackward0>),\n",
      " Ground-truth = \n",
      " tensor([[ 2.9941, -5.2138],\n",
      "        [ 1.8626,  7.2901],\n",
      "        [-0.8698, -4.8716],\n",
      "        [-3.7912, -1.6376],\n",
      "        [ 8.4632,  1.6116],\n",
      "        [ 6.4506, -1.2052],\n",
      "        [-5.1832, -0.3881]])\n"
     ]
    }
   ],
   "source": [
    "def test_example(idx):\n",
    "    example = data_list_test[idx]\n",
    "    print(f'Number of objects = {example.x.shape[0]}')\n",
    "    pred = model(example)\n",
    "    true = example.y\n",
    "    print(f'Predicted = \\n {pred},\\n Ground-truth = \\n {true}')\n",
    "\n",
    "test_example(5)"
   ],
   "metadata": {
    "collapsed": false,
    "ExecuteTime": {
     "end_time": "2023-06-21T00:10:01.686890Z",
     "start_time": "2023-06-21T00:10:01.660362Z"
    }
   }
  },
  {
   "cell_type": "markdown",
   "source": [
    "# Task 2"
   ],
   "metadata": {
    "collapsed": false
   }
  },
  {
   "cell_type": "code",
   "execution_count": 26,
   "outputs": [],
   "source": [],
   "metadata": {
    "collapsed": false,
    "ExecuteTime": {
     "end_time": "2023-06-21T00:10:01.686926Z",
     "start_time": "2023-06-21T00:10:01.663988Z"
    }
   }
  }
 ],
 "metadata": {
  "kernelspec": {
   "display_name": "Python 3 (ipykernel)",
   "language": "python",
   "name": "python3"
  },
  "language_info": {
   "codemirror_mode": {
    "name": "ipython",
    "version": 3
   },
   "file_extension": ".py",
   "mimetype": "text/x-python",
   "name": "python",
   "nbconvert_exporter": "python",
   "pygments_lexer": "ipython3",
   "version": "3.11.2"
  }
 },
 "nbformat": 4,
 "nbformat_minor": 5
}
