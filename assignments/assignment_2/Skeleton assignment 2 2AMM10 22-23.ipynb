{
 "cells": [
  {
   "attachments": {},
   "cell_type": "markdown",
   "id": "d32f8d18",
   "metadata": {},
   "source": [
    "# Group Details\n",
    "\n",
    "## Group Name: 12\n",
    "\n",
    "### Student 1: Denise La Gordt Dillie\n",
    "\n",
    "### Student 2: Andreea Maican\n",
    "\n",
    "### Student 3: Sambhav Jain"
   ]
  },
  {
   "attachments": {},
   "cell_type": "markdown",
   "id": "faec2056",
   "metadata": {},
   "source": [
    "# Loading Data and Preliminaries"
   ]
  },
  {
   "cell_type": "code",
   "execution_count": 60,
   "id": "7d0580a5",
   "metadata": {
    "ExecuteTime": {
     "end_time": "2023-06-20T12:24:00.747109Z",
     "start_time": "2023-06-20T12:24:00.721731Z"
    }
   },
   "outputs": [],
   "source": [
    "import matplotlib.pyplot as plt\n",
    "import matplotlib\n",
    "import numpy as np\n",
    "import torch\n",
    "from torch_geometric.data import Data\n",
    "import torch.nn as nn\n",
    "import torch.nn.functional as F\n",
    "from torch_geometric.nn import GCNConv\n",
    "from torch_geometric.loader import DataLoader\n",
    "import os\n",
    "import math\n",
    "import time"
   ]
  },
  {
   "cell_type": "code",
   "execution_count": 61,
   "id": "b0756591",
   "metadata": {
    "ExecuteTime": {
     "end_time": "2023-06-20T12:24:00.754034Z",
     "start_time": "2023-06-20T12:24:00.725812Z"
    }
   },
   "outputs": [],
   "source": [
    "def load_array(filename, task):\n",
    "    datapoint = np.load(filename)\n",
    "    if task == 'task 1':\n",
    "        initial_state = datapoint['initial_state']\n",
    "        terminal_state = datapoint['terminal_state']\n",
    "        return initial_state, terminal_state\n",
    "    elif task == 'task 2' or task == 'task 3':\n",
    "        whole_trajectory = datapoint['trajectory']\n",
    "        # change shape: (num_bodies, attributes, time) ->  num_bodies, time, attributes\n",
    "        whole_trajectory = np.swapaxes(whole_trajectory, 1, 2)\n",
    "        initial_state = whole_trajectory[:, 0]\n",
    "        target = whole_trajectory[:, 1:, 1:]  # drop the first timepoint (second dim) and mass (last dim) for the prediction task\n",
    "        return initial_state, target\n",
    "    else:\n",
    "        raise NotImplementedError(\"'task' argument should be 'task 1', 'task 2' or 'task 3'!\")\n"
   ]
  },
  {
   "cell_type": "code",
   "execution_count": 62,
   "id": "bb77a4be",
   "metadata": {
    "ExecuteTime": {
     "end_time": "2023-06-20T12:24:00.755606Z",
     "start_time": "2023-06-20T12:24:00.729644Z"
    }
   },
   "outputs": [
    {
     "name": "stdout",
     "output_type": "stream",
     "text": [
      "shape of initial state (model input): (8, 5)\n",
      "[[ 4.54673709 -5.27118739  5.07863417 -1.09690628 -3.66929964]\n",
      " [ 3.57509525  4.3270607  -0.08095022 -0.57868726 -2.95971243]\n",
      " [ 2.67733735 -5.15972108  5.35238208  2.42652043  1.45870728]\n",
      " [ 2.27455417 -6.79584511  2.29632123  0.30418238 -0.4065998 ]\n",
      " [ 2.38359341 -2.75861066  1.77940931 -0.07643627 -0.35954359]\n",
      " [ 4.28596268  0.34981219  4.8286224   1.35630962 -2.55760522]\n",
      " [ 3.03118516 -0.50562258 15.04631712 -0.94772523 14.98127867]\n",
      " [ 4.13530017  1.81342682  3.84375499 -0.6989711  -2.25092411]]\n",
      "shape of terminal state (to be predicted by model): (8, 2)\n",
      "The initial x-coordinate of the body with index 2 in this trajectory was -5.159721083543527\n"
     ]
    }
   ],
   "source": [
    "\"\"\"\n",
    "This cell gives an example of loading a datapoint with numpy for task 1.\n",
    "\n",
    "The arrays returned by the function are structures as follows:\n",
    "initial_state: shape (n_bodies, [mass, x, y, v_x, v_y])\n",
    "terminal_state: shape (n_bodies, [x, y])\n",
    "\n",
    "\"\"\"\n",
    "\n",
    "example = load_array('/Users/sambhavjain/Library/Mobile Documents/com~apple~CloudDocs/TU Eindhoven/Q4/Deep Learning/tue-deeplearning/assignments/assignment_2/data/task 1/train/trajectory_0.npz', task='task 1')\n",
    "\n",
    "initial_state, terminal_state = example\n",
    "print(f'shape of initial state (model input): {initial_state.shape}')\n",
    "print(initial_state)\n",
    "print(f'shape of terminal state (to be predicted by model): {terminal_state.shape}')\n",
    "\n",
    "body_idx = 2\n",
    "print(f'The initial x-coordinate of the body with index {body_idx} in this trajectory was {initial_state[body_idx, 1]}')"
   ]
  },
  {
   "cell_type": "code",
   "execution_count": 63,
   "id": "1c3ea4cb",
   "metadata": {
    "ExecuteTime": {
     "end_time": "2023-06-20T12:24:00.757861Z",
     "start_time": "2023-06-20T12:24:00.735238Z"
    }
   },
   "outputs": [
    {
     "name": "stdout",
     "output_type": "stream",
     "text": [
      "shape of initial state (model input): (8, 5)\n",
      "shape of terminal state (to be predicted by model): (8, 49, 4)\n",
      "The y-coordinate of the body with index 2 at time with index 30 in remaining_trajectory was -0.3861544940435097\n",
      "the shape of the input of a test data example is (8, 5)\n",
      "the shape of the target of a test data example is (8, 49, 4)\n",
      "values of the test data example at time 30:\n",
      " [[-5.85725792 -5.394571           nan         nan]\n",
      " [-6.03781257 -5.72445953         nan         nan]\n",
      " [-0.90623054 -6.93416278         nan         nan]\n",
      " [ 2.83149339 -7.50100819         nan         nan]\n",
      " [-2.85586881  1.77667501         nan         nan]\n",
      " [ 4.04424526  4.00563603         nan         nan]\n",
      " [-5.24887713 -4.83081005         nan         nan]\n",
      " [-5.81391023 -5.1109838          nan         nan]]\n",
      "note: velocity values are unobserved (NaNs) in the test data!\n"
     ]
    }
   ],
   "source": [
    "\"\"\"\n",
    "This cell gives an example of loading a datapoint with numpy for task 2 / 3.\n",
    "\n",
    "The arrays returned by the function are structures as follows:\n",
    "initial_state: shape (n_bodies, [mass, x, y, v_x, v_y])\n",
    "remaining_trajectory: shape (n_bodies, time, [x, y, v_x, v_y])\n",
    "\n",
    "Note that for this task, you are asked to evaluate performance only with regard to the predictions of the positions (x and y).\n",
    "If you use the velocity of the remaining trajectory for training,\n",
    "this use should be purely auxiliary for the goal of predicting the positions [x,y] over time. \n",
    "While testing performance of your model on the test set, you do not have access to v_x and v_y of the remaining trajectory.\n",
    "\n",
    "\"\"\"\n",
    "\n",
    "example = load_array('/Users/sambhavjain/Library/Mobile Documents/com~apple~CloudDocs/TU Eindhoven/Q4/Deep Learning/tue-deeplearning/assignments/assignment_2/data/task 2_3/train/trajectory_0.npz', task='task 2')\n",
    "\n",
    "initial_state, remaining_trajectory = example\n",
    "print(f'shape of initial state (model input): {initial_state.shape}')\n",
    "print(f'shape of terminal state (to be predicted by model): {remaining_trajectory.shape}')\n",
    "\n",
    "body_idx = 2\n",
    "time_idx = 30\n",
    "print(f'The y-coordinate of the body with index {body_idx} at time with index {time_idx} in remaining_trajectory was {remaining_trajectory[body_idx, time_idx, 1]}')\n",
    "\n",
    "test_example = load_array('/Users/sambhavjain/Library/Mobile Documents/com~apple~CloudDocs/TU Eindhoven/Q4/Deep Learning/tue-deeplearning/assignments/assignment_2/data/task 2_3/test/trajectory_900.npz', task='task 3')\n",
    "test_initial_state, test_remaining_trajectory = test_example\n",
    "print(f'the shape of the input of a test data example is {test_initial_state.shape}')\n",
    "print(f'the shape of the target of a test data example is {test_remaining_trajectory.shape}')\n",
    "print(f'values of the test data example at time {time_idx}:\\n {test_remaining_trajectory[:, time_idx]}')\n",
    "print('note: velocity values are unobserved (NaNs) in the test data!')"
   ]
  },
  {
   "cell_type": "code",
   "execution_count": 64,
   "id": "10a3438a",
   "metadata": {
    "ExecuteTime": {
     "end_time": "2023-06-20T12:24:00.772102Z",
     "start_time": "2023-06-20T12:24:00.747316Z"
    }
   },
   "outputs": [
    {
     "data": {
      "text/plain": "array([[ 4.31455329, -4.99311363, -5.10150489,  2.2491171 , -1.82520359],\n       [ 2.58525749, -4.92574075, -4.7534334 , -4.81897728, -3.07212095],\n       [ 2.40449047,  2.23254187, -6.04595524, -0.67381217, -0.58798851],\n       [ 2.28318603,  5.6605113 , -3.76376281, -0.41268251, -1.19812499],\n       [ 4.09793595, -4.73678906, -3.94704856,  1.13634781,  4.98383634],\n       [ 4.5579536 , -0.08848969,  5.42483477,  1.460317  , -0.21585929],\n       [ 3.42356878, -4.91282501, -4.6779343 ,  0.94123905,  2.66425652],\n       [ 3.59288181, -4.48225046, -4.548729  , -2.56573061, -2.39203918]])"
     },
     "execution_count": 64,
     "metadata": {},
     "output_type": "execute_result"
    }
   ],
   "source": [
    "test_initial_state"
   ]
  },
  {
   "attachments": {},
   "cell_type": "markdown",
   "id": "059b633c",
   "metadata": {},
   "source": [
    "# Data Handling and Preprocessing"
   ]
  },
  {
   "cell_type": "code",
   "execution_count": 65,
   "id": "e6ecb529",
   "metadata": {
    "ExecuteTime": {
     "end_time": "2023-06-20T12:24:00.772325Z",
     "start_time": "2023-06-20T12:24:00.747614Z"
    }
   },
   "outputs": [
    {
     "name": "stdout",
     "output_type": "stream",
     "text": [
      "tensor([[1.0000, 0.5000, 0.3000, 0.2000, 0.1000],\n",
      "        [2.0000, 0.1000, 0.4000, 0.3000, 0.2000],\n",
      "        [0.5000, 0.7000, 0.8000, 0.9000, 1.0000]]) tensor([[0, 0, 1],\n",
      "        [1, 2, 2]]) tensor([[1.2910],\n",
      "        [   nan],\n",
      "        [   nan]]) tensor([[0.3000, 0.2000],\n",
      "        [0.4000, 0.6000],\n",
      "        [0.8000, 0.9000]])\n"
     ]
    }
   ],
   "source": [
    "def create_graph_data(initial_state, terminal_state):\n",
    "    '''Takes a datapoint from task 1 data and returns a Data object ready to be used with\n",
    "    Pytorch Geometric. Each node is an object and will store initial position and speed, each edge stores\n",
    "    the distance between two objects and also their masses.'''\n",
    "    initial_state = np.array(initial_state)\n",
    "    terminal_state = np.array(terminal_state)\n",
    "\n",
    "    n_bodies = initial_state.shape[0]\n",
    "    num_features = initial_state.shape[1]\n",
    "\n",
    "    # Create node features tensor\n",
    "    node_features = torch.tensor(initial_state, dtype=torch.float)\n",
    "    node_features = node_features.view(-1, num_features)  # Reshape to (num_nodes, num_features)\n",
    "\n",
    "    # Create edge index tensor\n",
    "    edge_index = torch.tensor([[i, j] for i in range(n_bodies) for j in range(n_bodies) if (i != j and i<j)], dtype=torch.long)\n",
    "    edge_index = edge_index.t().contiguous()  # Reshape to (2, num_edges)\n",
    "\n",
    "    # Create edge features tensor\n",
    "    num_edges = edge_index.size(1)\n",
    "    edge_features = torch.empty(num_edges, 1, dtype=torch.float) \n",
    "    # Populate edge features with force\n",
    "    for k, (i, j) in enumerate(edge_index.t()):\n",
    "        dx = node_features[i, 1] - node_features[j, 1]\n",
    "        dy = node_features[i, 2] - node_features[j, 2]\n",
    "        distance = torch.sqrt(dx * 2 + dy * 2)\n",
    "        force = ((node_features[i,0]*node_features[j,0])/(distance*2))\n",
    "        edge_features[k] = force\n",
    "\n",
    "    # Create target tensor\n",
    "    target = torch.tensor(terminal_state, dtype=torch.float).view(-1, 2)  # Reshape to (num_nodes, num_features + 1)\n",
    "\n",
    "    # Create PyG Data object\n",
    "    data = Data(x=node_features, edge_index=edge_index, edge_attr=edge_features, y=target)\n",
    "\n",
    "    return data\n",
    "\n",
    "# Example usage\n",
    "initial_state = [[1.0, 0.5, 0.3, 0.2, 0.1], [2.0, 0.1, 0.4, 0.3, 0.2], [0.5, 0.7, 0.8, 0.9, 1.0]]\n",
    "terminal_state = [[0.3, 0.2], [0.4, 0.6], [0.8, 0.9]]\n",
    "\n",
    "graph_data = create_graph_data(initial_state, terminal_state)\n",
    "print(graph_data.x, graph_data.edge_index, graph_data.edge_attr, graph_data.y)"
   ]
  },
  {
   "cell_type": "code",
   "execution_count": 66,
   "id": "9bbc8271",
   "metadata": {
    "ExecuteTime": {
     "end_time": "2023-06-20T12:24:01.744102Z",
     "start_time": "2023-06-20T12:24:00.750738Z"
    }
   },
   "outputs": [
    {
     "name": "stdout",
     "output_type": "stream",
     "text": [
      "Number of data samples in /Users/sambhavjain/Library/Mobile Documents/com~apple~CloudDocs/TU Eindhoven/Q4/Deep Learning/tue-deeplearning/assignments/assignment_2/data/task 1/train: 900\n",
      "Number of training samples: 720\n",
      "Number of validation samples: 180\n",
      "Number of data samples in /Users/sambhavjain/Library/Mobile Documents/com~apple~CloudDocs/TU Eindhoven/Q4/Deep Learning/tue-deeplearning/assignments/assignment_2/data/task 1/test: 100\n"
     ]
    }
   ],
   "source": [
    "import random\n",
    "\n",
    "def create_dataloader(data_folder, task, shuffle, batch_size, train_ratio=0.8):\n",
    "    data_list = []  # List to store the Data objects\n",
    "\n",
    "    # Loop over all files in the folder\n",
    "    for filename in os.listdir(data_folder):\n",
    "        file_path = os.path.join(data_folder, filename)\n",
    "\n",
    "        # Read the data from the file (modify this part based on your file format)\n",
    "        states = load_array(file_path, task=task)\n",
    "        initial_state, terminal_state = states\n",
    "\n",
    "        # Create the Data object using create_graph_data function\n",
    "        data = create_graph_data(initial_state, terminal_state)\n",
    "\n",
    "        # Append the Data object to the list\n",
    "        data_list.append(data)\n",
    "\n",
    "    # Shuffle the data if specified\n",
    "    if shuffle:\n",
    "        random.shuffle(data_list)\n",
    "\n",
    "    # Calculate the number of samples\n",
    "    num_samples = len(data_list)\n",
    "\n",
    "    if \"train\" in data_folder:\n",
    "        # Calculate the number of samples for train and validation\n",
    "        num_train = int(train_ratio * num_samples)\n",
    "        num_val = num_samples - num_train\n",
    "\n",
    "        # Split the data into train and validation sets\n",
    "        train_data = data_list[:num_train]\n",
    "        val_data = data_list[num_train:]\n",
    "\n",
    "        # Print the number of data samples\n",
    "        print(f\"Number of data samples in {data_folder}: {num_samples}\")\n",
    "        print(f\"Number of training samples: {num_train}\")\n",
    "        print(f\"Number of validation samples: {num_val}\")\n",
    "\n",
    "        # Create data loaders for train and validation sets\n",
    "        dataloader_train = DataLoader(train_data, batch_size=batch_size, shuffle=shuffle)\n",
    "        dataloader_val = DataLoader(val_data, batch_size=batch_size, shuffle=False)\n",
    "\n",
    "        return dataloader_train, dataloader_val, data_list\n",
    "    else:\n",
    "        # Print the number of data samples\n",
    "        print(f\"Number of data samples in {data_folder}: {num_samples}\")\n",
    "\n",
    "        # Create a data loader for the data\n",
    "        dataloader = DataLoader(data_list, batch_size=batch_size, shuffle=shuffle)\n",
    "\n",
    "        return dataloader, data_list\n",
    "\n",
    "# Specify the paths to your train and test data folders\n",
    "data_folder_train = '/Users/sambhavjain/Library/Mobile Documents/com~apple~CloudDocs/TU Eindhoven/Q4/Deep Learning/tue-deeplearning/assignments/assignment_2/data/task 1/train'\n",
    "data_folder_test = '/Users/sambhavjain/Library/Mobile Documents/com~apple~CloudDocs/TU Eindhoven/Q4/Deep Learning/tue-deeplearning/assignments/assignment_2/data/task 1/test'\n",
    "\n",
    "# Define the batch size\n",
    "batch_size = 50\n",
    "\n",
    "# Create data loaders for train and validation sets (only if the folder contains \"train\")\n",
    "dataloader_train, dataloader_val, data_list = create_dataloader(data_folder_train, task='task 1', shuffle=True, batch_size=batch_size)\n",
    "\n",
    "# Create a separate data loader for the test set\n",
    "dataloader_test, data_list_test = create_dataloader(data_folder_test, task='task 1', shuffle=False, batch_size=batch_size)"
   ]
  },
  {
   "attachments": {},
   "cell_type": "markdown",
   "id": "18b2874d",
   "metadata": {},
   "source": [
    "# Model Implementation"
   ]
  },
  {
   "cell_type": "code",
   "execution_count": 67,
   "id": "ef8b18af",
   "metadata": {
    "ExecuteTime": {
     "end_time": "2023-06-20T12:24:01.744286Z",
     "start_time": "2023-06-20T12:24:01.738662Z"
    }
   },
   "outputs": [],
   "source": [
    "class GNN(torch.nn.Module):\n",
    "    def __init__(self):\n",
    "        super(GNN, self).__init__()\n",
    "        self.conv1 = GCNConv(5, 64)\n",
    "        self.conv2 = GCNConv(64, 128)\n",
    "        self.conv3 = GCNConv(128, 256)\n",
    "        self.conv4 = GCNConv(256, 128)\n",
    "        self.conv5 = GCNConv(128, 2)\n",
    "\n",
    "    def forward(self, data):\n",
    "        x, edge_index, edge_attr = data.x, data.edge_index, data.edge_attr\n",
    "\n",
    "        x = self.conv1(x, edge_index)\n",
    "        x = F.relu(x)\n",
    "        x = self.conv2(x, edge_index)\n",
    "        x = F.relu(x)\n",
    "        x = self.conv3(x, edge_index)\n",
    "        x = F.relu(x)\n",
    "        x = self.conv4(x, edge_index)\n",
    "        x = F.relu(x)\n",
    "        x = self.conv5(x, edge_index)\n",
    "\n",
    "        return x"
   ]
  },
  {
   "attachments": {},
   "cell_type": "markdown",
   "id": "dea70d73",
   "metadata": {},
   "source": [
    "# Model Training"
   ]
  },
  {
   "cell_type": "code",
   "execution_count": 68,
   "id": "e95af5f9",
   "metadata": {
    "ExecuteTime": {
     "end_time": "2023-06-20T12:24:01.744380Z",
     "start_time": "2023-06-20T12:24:01.742387Z"
    }
   },
   "outputs": [
    {
     "name": "stdout",
     "output_type": "stream",
     "text": [
      "Loaded device: cpu\n"
     ]
    }
   ],
   "source": [
    "device = torch.device('cuda' if torch.cuda.is_available() else 'cpu')\n",
    "device='cpu'\n",
    "print(f'Loaded device: {device}')"
   ]
  },
  {
   "cell_type": "code",
   "execution_count": 93,
   "id": "7b7b4750",
   "metadata": {
    "ExecuteTime": {
     "end_time": "2023-06-20T12:38:51.711986Z",
     "start_time": "2023-06-20T12:38:31.923975Z"
    }
   },
   "outputs": [
    {
     "name": "stdout",
     "output_type": "stream",
     "text": [
      "Epoch: 001, Train Loss: 6.6748, Test Loss: 6.3409, Val Loss: 6.6209 . Training time so far: 0.4 s\n",
      "Epoch: 002, Train Loss: 6.6415, Test Loss: 6.3131, Val Loss: 6.6007 . Training time so far: 0.7 s\n",
      "Epoch: 003, Train Loss: 6.5656, Test Loss: 6.2370, Val Loss: 6.5346 . Training time so far: 1.1 s\n",
      "Epoch: 004, Train Loss: 6.5020, Test Loss: 6.1548, Val Loss: 6.4632 . Training time so far: 1.5 s\n",
      "Epoch: 005, Train Loss: 6.4838, Test Loss: 6.1476, Val Loss: 6.4531 . Training time so far: 1.8 s\n",
      "Epoch: 006, Train Loss: 6.4379, Test Loss: 6.1025, Val Loss: 6.4266 . Training time so far: 2.2 s\n",
      "Epoch: 007, Train Loss: 6.4288, Test Loss: 6.0912, Val Loss: 6.4030 . Training time so far: 2.6 s\n",
      "Epoch: 008, Train Loss: 6.4804, Test Loss: 6.1345, Val Loss: 6.4681 . Training time so far: 2.9 s\n",
      "Epoch: 009, Train Loss: 6.4439, Test Loss: 6.1147, Val Loss: 6.4374 . Training time so far: 3.3 s\n",
      "Epoch: 010, Train Loss: 6.4151, Test Loss: 6.0745, Val Loss: 6.4105 . Training time so far: 3.7 s\n",
      "Epoch: 011, Train Loss: 6.4827, Test Loss: 6.1439, Val Loss: 6.4760 . Training time so far: 4.0 s\n",
      "Epoch: 012, Train Loss: 6.4170, Test Loss: 6.0759, Val Loss: 6.4227 . Training time so far: 4.4 s\n",
      "Epoch: 013, Train Loss: 6.3878, Test Loss: 6.0503, Val Loss: 6.4008 . Training time so far: 4.8 s\n",
      "Epoch: 014, Train Loss: 6.4208, Test Loss: 6.0979, Val Loss: 6.4131 . Training time so far: 5.2 s\n",
      "Epoch: 015, Train Loss: 6.3684, Test Loss: 6.0483, Val Loss: 6.3743 . Training time so far: 5.5 s\n",
      "Epoch: 016, Train Loss: 6.3514, Test Loss: 6.0319, Val Loss: 6.3735 . Training time so far: 5.9 s\n",
      "Epoch: 017, Train Loss: 6.3682, Test Loss: 6.0418, Val Loss: 6.3916 . Training time so far: 6.3 s\n",
      "Epoch: 018, Train Loss: 6.4256, Test Loss: 6.0929, Val Loss: 6.4321 . Training time so far: 6.7 s\n",
      "Epoch: 019, Train Loss: 6.3870, Test Loss: 6.0727, Val Loss: 6.3971 . Training time so far: 7.1 s\n",
      "Epoch: 020, Train Loss: 6.3770, Test Loss: 6.0552, Val Loss: 6.4068 . Training time so far: 7.4 s\n",
      "Epoch: 021, Train Loss: 6.3671, Test Loss: 6.0361, Val Loss: 6.3940 . Training time so far: 7.8 s\n",
      "Epoch: 022, Train Loss: 6.3823, Test Loss: 6.0655, Val Loss: 6.3992 . Training time so far: 8.2 s\n",
      "Epoch: 023, Train Loss: 6.3745, Test Loss: 6.0375, Val Loss: 6.3912 . Training time so far: 8.5 s\n",
      "Epoch: 024, Train Loss: 6.4361, Test Loss: 6.0986, Val Loss: 6.4324 . Training time so far: 8.9 s\n",
      "Epoch: 025, Train Loss: 6.3947, Test Loss: 6.0623, Val Loss: 6.4080 . Training time so far: 9.3 s\n",
      "Epoch: 026, Train Loss: 6.3757, Test Loss: 6.0514, Val Loss: 6.3946 . Training time so far: 9.7 s\n",
      "Epoch: 027, Train Loss: 6.3316, Test Loss: 6.0078, Val Loss: 6.3829 . Training time so far: 10.1 s\n",
      "Epoch: 028, Train Loss: 6.3428, Test Loss: 6.0052, Val Loss: 6.3520 . Training time so far: 10.5 s\n",
      "Epoch: 029, Train Loss: 6.3621, Test Loss: 6.0421, Val Loss: 6.3712 . Training time so far: 10.9 s\n",
      "Epoch: 030, Train Loss: 6.4007, Test Loss: 6.0724, Val Loss: 6.3958 . Training time so far: 11.2 s\n",
      "Epoch: 031, Train Loss: 6.3611, Test Loss: 6.0324, Val Loss: 6.3931 . Training time so far: 11.6 s\n",
      "Epoch: 032, Train Loss: 6.3482, Test Loss: 6.0255, Val Loss: 6.3705 . Training time so far: 12.0 s\n",
      "Epoch: 033, Train Loss: 6.3680, Test Loss: 6.0226, Val Loss: 6.3946 . Training time so far: 12.5 s\n",
      "Epoch: 034, Train Loss: 6.3445, Test Loss: 6.0036, Val Loss: 6.3667 . Training time so far: 12.9 s\n",
      "Epoch: 035, Train Loss: 6.4020, Test Loss: 6.0592, Val Loss: 6.4070 . Training time so far: 13.2 s\n",
      "Epoch: 036, Train Loss: 6.3763, Test Loss: 6.0347, Val Loss: 6.3806 . Training time so far: 13.6 s\n",
      "Epoch: 037, Train Loss: 6.3957, Test Loss: 6.0712, Val Loss: 6.4077 . Training time so far: 14.0 s\n",
      "Epoch: 038, Train Loss: 6.3439, Test Loss: 6.0086, Val Loss: 6.3529 . Training time so far: 14.4 s\n",
      "Epoch: 039, Train Loss: 6.3205, Test Loss: 5.9786, Val Loss: 6.3295 . Training time so far: 14.8 s\n",
      "Epoch: 040, Train Loss: 6.3028, Test Loss: 5.9654, Val Loss: 6.3363 . Training time so far: 15.2 s\n",
      "Epoch: 041, Train Loss: 6.3455, Test Loss: 6.0003, Val Loss: 6.3593 . Training time so far: 15.6 s\n",
      "Epoch: 042, Train Loss: 6.3664, Test Loss: 6.0201, Val Loss: 6.3808 . Training time so far: 16.0 s\n",
      "Epoch: 043, Train Loss: 6.3430, Test Loss: 6.0155, Val Loss: 6.3693 . Training time so far: 16.3 s\n",
      "Epoch: 044, Train Loss: 6.3557, Test Loss: 6.0192, Val Loss: 6.3930 . Training time so far: 16.7 s\n",
      "Epoch: 045, Train Loss: 6.3659, Test Loss: 6.0537, Val Loss: 6.3789 . Training time so far: 17.1 s\n",
      "Epoch: 046, Train Loss: 6.3158, Test Loss: 5.9908, Val Loss: 6.3624 . Training time so far: 17.5 s\n",
      "Epoch: 047, Train Loss: 6.3180, Test Loss: 6.0061, Val Loss: 6.3647 . Training time so far: 17.9 s\n",
      "Epoch: 048, Train Loss: 6.3080, Test Loss: 5.9827, Val Loss: 6.3722 . Training time so far: 18.3 s\n",
      "Epoch: 049, Train Loss: 6.3457, Test Loss: 6.0099, Val Loss: 6.3794 . Training time so far: 18.7 s\n",
      "Epoch: 050, Train Loss: 6.3162, Test Loss: 5.9953, Val Loss: 6.3420 . Training time so far: 19.0 s\n",
      "Epoch: 051, Train Loss: 6.3902, Test Loss: 6.0471, Val Loss: 6.4116 . Training time so far: 19.4 s\n"
     ]
    },
    {
     "ename": "KeyboardInterrupt",
     "evalue": "",
     "output_type": "error",
     "traceback": [
      "\u001B[0;31m---------------------------------------------------------------------------\u001B[0m",
      "\u001B[0;31mKeyboardInterrupt\u001B[0m                         Traceback (most recent call last)",
      "Cell \u001B[0;32mIn[93], line 91\u001B[0m\n\u001B[1;32m     88\u001B[0m start \u001B[38;5;241m=\u001B[39m time\u001B[38;5;241m.\u001B[39mtime()\n\u001B[1;32m     90\u001B[0m \u001B[38;5;28;01mfor\u001B[39;00m epoch \u001B[38;5;129;01min\u001B[39;00m \u001B[38;5;28mrange\u001B[39m(\u001B[38;5;241m1\u001B[39m, epochs \u001B[38;5;241m+\u001B[39m \u001B[38;5;241m1\u001B[39m):\n\u001B[0;32m---> 91\u001B[0m     train()\n\u001B[1;32m     92\u001B[0m     \u001B[38;5;28;01mwith\u001B[39;00m torch\u001B[38;5;241m.\u001B[39mno_grad():\n\u001B[1;32m     93\u001B[0m         train_loss \u001B[38;5;241m=\u001B[39m test(dataloader_train)\n",
      "Cell \u001B[0;32mIn[93], line 58\u001B[0m, in \u001B[0;36mtrain\u001B[0;34m()\u001B[0m\n\u001B[1;32m     56\u001B[0m out \u001B[38;5;241m=\u001B[39m model(data)\n\u001B[1;32m     57\u001B[0m loss \u001B[38;5;241m=\u001B[39m loss_func(out, data\u001B[38;5;241m.\u001B[39my)\n\u001B[0;32m---> 58\u001B[0m loss\u001B[38;5;241m.\u001B[39mbackward()\n\u001B[1;32m     59\u001B[0m optimizer\u001B[38;5;241m.\u001B[39mstep()\n",
      "File \u001B[0;32m~/miniforge3/envs/deeplearning/lib/python3.11/site-packages/torch/_tensor.py:487\u001B[0m, in \u001B[0;36mTensor.backward\u001B[0;34m(self, gradient, retain_graph, create_graph, inputs)\u001B[0m\n\u001B[1;32m    477\u001B[0m \u001B[38;5;28;01mif\u001B[39;00m has_torch_function_unary(\u001B[38;5;28mself\u001B[39m):\n\u001B[1;32m    478\u001B[0m     \u001B[38;5;28;01mreturn\u001B[39;00m handle_torch_function(\n\u001B[1;32m    479\u001B[0m         Tensor\u001B[38;5;241m.\u001B[39mbackward,\n\u001B[1;32m    480\u001B[0m         (\u001B[38;5;28mself\u001B[39m,),\n\u001B[0;32m   (...)\u001B[0m\n\u001B[1;32m    485\u001B[0m         inputs\u001B[38;5;241m=\u001B[39minputs,\n\u001B[1;32m    486\u001B[0m     )\n\u001B[0;32m--> 487\u001B[0m torch\u001B[38;5;241m.\u001B[39mautograd\u001B[38;5;241m.\u001B[39mbackward(\n\u001B[1;32m    488\u001B[0m     \u001B[38;5;28mself\u001B[39m, gradient, retain_graph, create_graph, inputs\u001B[38;5;241m=\u001B[39minputs\n\u001B[1;32m    489\u001B[0m )\n",
      "File \u001B[0;32m~/miniforge3/envs/deeplearning/lib/python3.11/site-packages/torch/autograd/__init__.py:200\u001B[0m, in \u001B[0;36mbackward\u001B[0;34m(tensors, grad_tensors, retain_graph, create_graph, grad_variables, inputs)\u001B[0m\n\u001B[1;32m    195\u001B[0m     retain_graph \u001B[38;5;241m=\u001B[39m create_graph\n\u001B[1;32m    197\u001B[0m \u001B[38;5;66;03m# The reason we repeat same the comment below is that\u001B[39;00m\n\u001B[1;32m    198\u001B[0m \u001B[38;5;66;03m# some Python versions print out the first line of a multi-line function\u001B[39;00m\n\u001B[1;32m    199\u001B[0m \u001B[38;5;66;03m# calls in the traceback and some print out the last line\u001B[39;00m\n\u001B[0;32m--> 200\u001B[0m Variable\u001B[38;5;241m.\u001B[39m_execution_engine\u001B[38;5;241m.\u001B[39mrun_backward(  \u001B[38;5;66;03m# Calls into the C++ engine to run the backward pass\u001B[39;00m\n\u001B[1;32m    201\u001B[0m     tensors, grad_tensors_, retain_graph, create_graph, inputs,\n\u001B[1;32m    202\u001B[0m     allow_unreachable\u001B[38;5;241m=\u001B[39m\u001B[38;5;28;01mTrue\u001B[39;00m, accumulate_grad\u001B[38;5;241m=\u001B[39m\u001B[38;5;28;01mTrue\u001B[39;00m)\n",
      "\u001B[0;31mKeyboardInterrupt\u001B[0m: "
     ]
    }
   ],
   "source": [
    "\n",
    "import math\n",
    "import time\n",
    "import torch\n",
    "import torch.nn as nn\n",
    "import torch.nn.functional as F\n",
    "from torch_geometric.nn import GCNConv\n",
    "import torch\n",
    "import torch.nn.functional as F\n",
    "from torch_geometric.nn import GATConv\n",
    "from torch.optim.lr_scheduler import StepLR\n",
    "\n",
    "class GATNet(torch.nn.Module):\n",
    "    def __init__(self):\n",
    "        super(GATNet, self).__init__()\n",
    "        self.conv1 = GATConv(5, 128)\n",
    "        self.conv2 = GATConv(128, 256)\n",
    "        self.conv3 = GATConv(256, 512)\n",
    "        self.conv4 = GATConv(512, 256)\n",
    "        self.conv5 = GATConv(256, 2)\n",
    "\n",
    "    def forward(self, data):\n",
    "        x, edge_index, edge_attr = data.x, data.edge_index, data.edge_attr\n",
    "\n",
    "        x = self.conv1(x, edge_index)\n",
    "        x = F.dropout(x, training=self.training)\n",
    "        x = F.relu(x)\n",
    "\n",
    "        x = self.conv2(x, edge_index)\n",
    "        x = F.dropout(x, training=self.training)\n",
    "        x = F.relu(x)\n",
    "\n",
    "        x = self.conv3(x, edge_index)\n",
    "        x = F.dropout(x, training=self.training)\n",
    "        x = F.relu(x)\n",
    "\n",
    "        x = self.conv4(x, edge_index)\n",
    "        x = F.dropout(x, training=self.training)\n",
    "        x = F.relu(x)\n",
    "\n",
    "        x = self.conv5(x, edge_index)\n",
    "\n",
    "        return x\n",
    "\n",
    "model = GATNet().to(device)\n",
    "optimizer = torch.optim.Adam(model.parameters(), lr=0.005)\n",
    "scheduler = StepLR(optimizer, step_size=100, gamma=0.5)\n",
    "loss_func = torch.nn.MSELoss()\n",
    "\n",
    "\n",
    "\n",
    "def train():\n",
    "    model.train()\n",
    "    for data in dataloader_train:\n",
    "        data.to(device)\n",
    "        optimizer.zero_grad()\n",
    "        out = model(data)\n",
    "        loss = loss_func(out, data.y)\n",
    "        loss.backward()\n",
    "        optimizer.step()\n",
    "\n",
    "\n",
    "def test(loader):\n",
    "    model.eval()\n",
    "    mse = 0.0\n",
    "    total = 0\n",
    "\n",
    "    for data in loader:\n",
    "        data.to(device)\n",
    "        out = model(data)\n",
    "        if data.y is not None:  # Skip calculation if data.y is None\n",
    "            mse += F.mse_loss(out, data.y, reduction='sum').item()\n",
    "            total += data.y.size(0)\n",
    "\n",
    "    if total == 0:\n",
    "        return None  # Return None if no samples with valid labels are found\n",
    "\n",
    "    mse /= total\n",
    "    rmse = math.sqrt(mse)\n",
    "\n",
    "    return rmse\n",
    "\n",
    "\n",
    "train_losses = []\n",
    "test_losses = []\n",
    "val_losses = []\n",
    "\n",
    "epochs = 100\n",
    "start = time.time()\n",
    "\n",
    "for epoch in range(1, epochs + 1):\n",
    "    train()\n",
    "    with torch.no_grad():\n",
    "        train_loss = test(dataloader_train)\n",
    "        test_loss = test(dataloader_test)\n",
    "        val_loss = test(dataloader_val)\n",
    "    toc = time.time()\n",
    "    print(f'Epoch: {epoch:03d}, Train Loss: {train_loss:.4f}, Test Loss: {test_loss:.4f}, Val Loss: {val_loss:.4f} . Training time so far: {toc - start:.1f} s')\n",
    "    train_losses.append(train_loss)\n",
    "    test_losses.append(test_loss)\n",
    "    val_losses.append(val_loss)\n",
    "\n",
    "\n"
   ]
  },
  {
   "cell_type": "code",
   "execution_count": 86,
   "id": "2d073cca",
   "metadata": {
    "collapsed": false,
    "ExecuteTime": {
     "end_time": "2023-06-20T12:32:29.180490Z",
     "start_time": "2023-06-20T12:32:29.174244Z"
    }
   },
   "outputs": [],
   "source": [
    "def plot_train(train_losses, test_losses, val_losses):\n",
    "    fig, ax = plt.subplots(figsize=(8, 6))\n",
    "    fnt = 16\n",
    "    epochs = range(1, len(train_losses) + 1)\n",
    "    ax.plot(epochs, train_losses, color='blue', label='Train')\n",
    "    ax.plot(epochs, test_losses, color='green', linestyle='--', label='Test')\n",
    "    ax.plot(epochs, val_losses, color='red', linestyle='-.', label='Validation')\n",
    "    ax.legend(fontsize=fnt)\n",
    "    ax.tick_params(axis='both', labelsize=fnt)\n",
    "    ax.set_xlabel('Epoch', fontsize=fnt)\n",
    "    ax.set_ylabel('Loss', fontsize=fnt)\n"
   ]
  },
  {
   "cell_type": "code",
   "execution_count": 87,
   "id": "7f0ed8a9",
   "metadata": {
    "collapsed": false,
    "ExecuteTime": {
     "end_time": "2023-06-20T12:32:29.657529Z",
     "start_time": "2023-06-20T12:32:29.589242Z"
    }
   },
   "outputs": [
    {
     "data": {
      "text/plain": "<Figure size 800x600 with 1 Axes>",
      "image/png": "[encoded data removed]"
     },
     "metadata": {},
     "output_type": "display_data"
    }
   ],
   "source": [
    "plot_train(train_losses, test_losses, val_losses)"
   ]
  },
  {
   "attachments": {},
   "cell_type": "markdown",
   "id": "d5fb3b29",
   "metadata": {
    "ExecuteTime": {
     "end_time": "2023-06-17T17:05:10.443904Z",
     "start_time": "2023-06-17T17:05:10.437284Z"
    }
   },
   "source": [
    "# Evaluation"
   ]
  },
  {
   "cell_type": "code",
   "execution_count": 72,
   "id": "0b8ec6da",
   "metadata": {
    "collapsed": false,
    "ExecuteTime": {
     "end_time": "2023-06-20T12:24:09.593827Z",
     "start_time": "2023-06-20T12:24:09.591744Z"
    }
   },
   "outputs": [
    {
     "name": "stdout",
     "output_type": "stream",
     "text": [
      "Final Test accuracy: 6.089513650438518\n"
     ]
    }
   ],
   "source": [
    "print(f'Final Test accuracy: {train_losses[-1]}')"
   ]
  },
  {
   "cell_type": "code",
   "execution_count": 73,
   "metadata": {
    "collapsed": false,
    "ExecuteTime": {
     "end_time": "2023-06-20T12:24:09.598305Z",
     "start_time": "2023-06-20T12:24:09.594523Z"
    }
   },
   "outputs": [
    {
     "name": "stdout",
     "output_type": "stream",
     "text": [
      "Number of objects = 7\n",
      "Predicted = \n",
      " tensor([[ 0.4840, -0.9045],\n",
      "        [ 0.9414, -0.1480],\n",
      "        [ 0.5835, -1.2193],\n",
      "        [ 0.2912, -1.2856],\n",
      "        [ 0.4763, -0.9872],\n",
      "        [ 0.6512, -0.6637],\n",
      "        [ 0.2629, -1.1434]], grad_fn=<AddBackward0>),\n",
      " Ground-truth = \n",
      " tensor([[ 2.9941, -5.2138],\n",
      "        [ 1.8626,  7.2901],\n",
      "        [-0.8698, -4.8716],\n",
      "        [-3.7912, -1.6376],\n",
      "        [ 8.4632,  1.6116],\n",
      "        [ 6.4506, -1.2052],\n",
      "        [-5.1832, -0.3881]])\n"
     ]
    }
   ],
   "source": [
    "def test_example(idx):\n",
    "    example = data_list_test[idx]\n",
    "    print(f'Number of objects = {example.x.shape[0]}')\n",
    "    pred = model(example)\n",
    "    true = example.y\n",
    "    print(f'Predicted = \\n {pred},\\n Ground-truth = \\n {true}')\n",
    "    \n",
    "test_example(5)\n",
    "    "
   ]
  }
 ],
 "metadata": {
  "kernelspec": {
   "display_name": "Python 3 (ipykernel)",
   "language": "python",
   "name": "python3"
  },
  "language_info": {
   "codemirror_mode": {
    "name": "ipython",
    "version": 3
   },
   "file_extension": ".py",
   "mimetype": "text/x-python",
   "name": "python",
   "nbconvert_exporter": "python",
   "pygments_lexer": "ipython3",
   "version": "3.11.2"
  }
 },
 "nbformat": 4,
 "nbformat_minor": 5
}
