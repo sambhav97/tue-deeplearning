{
 "cells": [
  {
   "attachments": {},
   "cell_type": "markdown",
   "id": "d32f8d18",
   "metadata": {},
   "source": [
    "# Group Details\n",
    "\n",
    "## Group Name: 12\n",
    "\n",
    "### Student 1: Denise La Gordt Dillie\n",
    "\n",
    "### Student 2: Andreea Maican\n",
    "\n",
    "### Student 3: Sambhav Jain"
   ]
  },
  {
   "attachments": {},
   "cell_type": "markdown",
   "id": "faec2056",
   "metadata": {},
   "source": [
    "# Loading Data and Preliminaries"
   ]
  },
  {
   "cell_type": "code",
   "execution_count": 60,
   "id": "7d0580a5",
   "metadata": {
    "ExecuteTime": {
     "end_time": "2023-06-20T12:24:00.747109Z",
     "start_time": "2023-06-20T12:24:00.721731Z"
    }
   },
   "outputs": [],
   "source": [
    "import matplotlib.pyplot as plt\n",
    "import matplotlib\n",
    "import numpy as np\n",
    "import torch\n",
    "from torch_geometric.data import Data\n",
    "import torch.nn as nn\n",
    "import torch.nn.functional as F\n",
    "from torch_geometric.nn import GCNConv\n",
    "from torch_geometric.loader import DataLoader\n",
    "import os\n",
    "import math\n",
    "import time"
   ]
  },
  {
   "cell_type": "code",
   "execution_count": 61,
   "id": "b0756591",
   "metadata": {
    "ExecuteTime": {
     "end_time": "2023-06-20T12:24:00.754034Z",
     "start_time": "2023-06-20T12:24:00.725812Z"
    }
   },
   "outputs": [],
   "source": [
    "def load_array(filename, task):\n",
    "    datapoint = np.load(filename)\n",
    "    if task == 'task 1':\n",
    "        initial_state = datapoint['initial_state']\n",
    "        terminal_state = datapoint['terminal_state']\n",
    "        return initial_state, terminal_state\n",
    "    elif task == 'task 2' or task == 'task 3':\n",
    "        whole_trajectory = datapoint['trajectory']\n",
    "        # change shape: (num_bodies, attributes, time) ->  num_bodies, time, attributes\n",
    "        whole_trajectory = np.swapaxes(whole_trajectory, 1, 2)\n",
    "        initial_state = whole_trajectory[:, 0]\n",
    "        target = whole_trajectory[:, 1:, 1:]  # drop the first timepoint (second dim) and mass (last dim) for the prediction task\n",
    "        return initial_state, target\n",
    "    else:\n",
    "        raise NotImplementedError(\"'task' argument should be 'task 1', 'task 2' or 'task 3'!\")\n"
   ]
  },
  {
   "cell_type": "code",
   "execution_count": 62,
   "id": "bb77a4be",
   "metadata": {
    "ExecuteTime": {
     "end_time": "2023-06-20T12:24:00.755606Z",
     "start_time": "2023-06-20T12:24:00.729644Z"
    }
   },
   "outputs": [
    {
     "name": "stdout",
     "output_type": "stream",
     "text": [
      "shape of initial state (model input): (8, 5)\n",
      "[[ 4.54673709 -5.27118739  5.07863417 -1.09690628 -3.66929964]\n",
      " [ 3.57509525  4.3270607  -0.08095022 -0.57868726 -2.95971243]\n",
      " [ 2.67733735 -5.15972108  5.35238208  2.42652043  1.45870728]\n",
      " [ 2.27455417 -6.79584511  2.29632123  0.30418238 -0.4065998 ]\n",
      " [ 2.38359341 -2.75861066  1.77940931 -0.07643627 -0.35954359]\n",
      " [ 4.28596268  0.34981219  4.8286224   1.35630962 -2.55760522]\n",
      " [ 3.03118516 -0.50562258 15.04631712 -0.94772523 14.98127867]\n",
      " [ 4.13530017  1.81342682  3.84375499 -0.6989711  -2.25092411]]\n",
      "shape of terminal state (to be predicted by model): (8, 2)\n",
      "The initial x-coordinate of the body with index 2 in this trajectory was -5.159721083543527\n"
     ]
    }
   ],
   "source": [
    "\"\"\"\n",
    "This cell gives an example of loading a datapoint with numpy for task 1.\n",
    "\n",
    "The arrays returned by the function are structures as follows:\n",
    "initial_state: shape (n_bodies, [mass, x, y, v_x, v_y])\n",
    "terminal_state: shape (n_bodies, [x, y])\n",
    "\n",
    "\"\"\"\n",
    "\n",
    "example = load_array('/Users/sambhavjain/Library/Mobile Documents/com~apple~CloudDocs/TU Eindhoven/Q4/Deep Learning/tue-deeplearning/assignments/assignment_2/data/task 1/train/trajectory_0.npz', task='task 1')\n",
    "\n",
    "initial_state, terminal_state = example\n",
    "print(f'shape of initial state (model input): {initial_state.shape}')\n",
    "print(initial_state)\n",
    "print(f'shape of terminal state (to be predicted by model): {terminal_state.shape}')\n",
    "\n",
    "body_idx = 2\n",
    "print(f'The initial x-coordinate of the body with index {body_idx} in this trajectory was {initial_state[body_idx, 1]}')"
   ]
  },
  {
   "cell_type": "code",
   "execution_count": 63,
   "id": "1c3ea4cb",
   "metadata": {
    "ExecuteTime": {
     "end_time": "2023-06-20T12:24:00.757861Z",
     "start_time": "2023-06-20T12:24:00.735238Z"
    }
   },
   "outputs": [
    {
     "name": "stdout",
     "output_type": "stream",
     "text": [
      "shape of initial state (model input): (8, 5)\n",
      "shape of terminal state (to be predicted by model): (8, 49, 4)\n",
      "The y-coordinate of the body with index 2 at time with index 30 in remaining_trajectory was -0.3861544940435097\n",
      "the shape of the input of a test data example is (8, 5)\n",
      "the shape of the target of a test data example is (8, 49, 4)\n",
      "values of the test data example at time 30:\n",
      " [[-5.85725792 -5.394571           nan         nan]\n",
      " [-6.03781257 -5.72445953         nan         nan]\n",
      " [-0.90623054 -6.93416278         nan         nan]\n",
      " [ 2.83149339 -7.50100819         nan         nan]\n",
      " [-2.85586881  1.77667501         nan         nan]\n",
      " [ 4.04424526  4.00563603         nan         nan]\n",
      " [-5.24887713 -4.83081005         nan         nan]\n",
      " [-5.81391023 -5.1109838          nan         nan]]\n",
      "note: velocity values are unobserved (NaNs) in the test data!\n"
     ]
    }
   ],
   "source": [
    "\"\"\"\n",
    "This cell gives an example of loading a datapoint with numpy for task 2 / 3.\n",
    "\n",
    "The arrays returned by the function are structures as follows:\n",
    "initial_state: shape (n_bodies, [mass, x, y, v_x, v_y])\n",
    "remaining_trajectory: shape (n_bodies, time, [x, y, v_x, v_y])\n",
    "\n",
    "Note that for this task, you are asked to evaluate performance only with regard to the predictions of the positions (x and y).\n",
    "If you use the velocity of the remaining trajectory for training,\n",
    "this use should be purely auxiliary for the goal of predicting the positions [x,y] over time. \n",
    "While testing performance of your model on the test set, you do not have access to v_x and v_y of the remaining trajectory.\n",
    "\n",
    "\"\"\"\n",
    "\n",
    "example = load_array('/Users/sambhavjain/Library/Mobile Documents/com~apple~CloudDocs/TU Eindhoven/Q4/Deep Learning/tue-deeplearning/assignments/assignment_2/data/task 2_3/train/trajectory_0.npz', task='task 2')\n",
    "\n",
    "initial_state, remaining_trajectory = example\n",
    "print(f'shape of initial state (model input): {initial_state.shape}')\n",
    "print(f'shape of terminal state (to be predicted by model): {remaining_trajectory.shape}')\n",
    "\n",
    "body_idx = 2\n",
    "time_idx = 30\n",
    "print(f'The y-coordinate of the body with index {body_idx} at time with index {time_idx} in remaining_trajectory was {remaining_trajectory[body_idx, time_idx, 1]}')\n",
    "\n",
    "test_example = load_array('/Users/sambhavjain/Library/Mobile Documents/com~apple~CloudDocs/TU Eindhoven/Q4/Deep Learning/tue-deeplearning/assignments/assignment_2/data/task 2_3/test/trajectory_900.npz', task='task 3')\n",
    "test_initial_state, test_remaining_trajectory = test_example\n",
    "print(f'the shape of the input of a test data example is {test_initial_state.shape}')\n",
    "print(f'the shape of the target of a test data example is {test_remaining_trajectory.shape}')\n",
    "print(f'values of the test data example at time {time_idx}:\\n {test_remaining_trajectory[:, time_idx]}')\n",
    "print('note: velocity values are unobserved (NaNs) in the test data!')"
   ]
  },
  {
   "cell_type": "code",
   "execution_count": 64,
   "id": "10a3438a",
   "metadata": {
    "ExecuteTime": {
     "end_time": "2023-06-20T12:24:00.772102Z",
     "start_time": "2023-06-20T12:24:00.747316Z"
    }
   },
   "outputs": [
    {
     "data": {
      "text/plain": "array([[ 4.31455329, -4.99311363, -5.10150489,  2.2491171 , -1.82520359],\n       [ 2.58525749, -4.92574075, -4.7534334 , -4.81897728, -3.07212095],\n       [ 2.40449047,  2.23254187, -6.04595524, -0.67381217, -0.58798851],\n       [ 2.28318603,  5.6605113 , -3.76376281, -0.41268251, -1.19812499],\n       [ 4.09793595, -4.73678906, -3.94704856,  1.13634781,  4.98383634],\n       [ 4.5579536 , -0.08848969,  5.42483477,  1.460317  , -0.21585929],\n       [ 3.42356878, -4.91282501, -4.6779343 ,  0.94123905,  2.66425652],\n       [ 3.59288181, -4.48225046, -4.548729  , -2.56573061, -2.39203918]])"
     },
     "execution_count": 64,
     "metadata": {},
     "output_type": "execute_result"
    }
   ],
   "source": [
    "test_initial_state"
   ]
  },
  {
   "attachments": {},
   "cell_type": "markdown",
   "id": "059b633c",
   "metadata": {},
   "source": [
    "# Data Handling and Preprocessing"
   ]
  },
  {
   "cell_type": "code",
   "execution_count": 65,
   "id": "e6ecb529",
   "metadata": {
    "ExecuteTime": {
     "end_time": "2023-06-20T12:24:00.772325Z",
     "start_time": "2023-06-20T12:24:00.747614Z"
    }
   },
   "outputs": [
    {
     "name": "stdout",
     "output_type": "stream",
     "text": [
      "tensor([[1.0000, 0.5000, 0.3000, 0.2000, 0.1000],\n",
      "        [2.0000, 0.1000, 0.4000, 0.3000, 0.2000],\n",
      "        [0.5000, 0.7000, 0.8000, 0.9000, 1.0000]]) tensor([[0, 0, 1],\n",
      "        [1, 2, 2]]) tensor([[1.2910],\n",
      "        [   nan],\n",
      "        [   nan]]) tensor([[0.3000, 0.2000],\n",
      "        [0.4000, 0.6000],\n",
      "        [0.8000, 0.9000]])\n"
     ]
    }
   ],
   "source": [
    "def create_graph_data(initial_state, terminal_state):\n",
    "    '''Takes a datapoint from task 1 data and returns a Data object ready to be used with\n",
    "    Pytorch Geometric. Each node is an object and will store initial position and speed, each edge stores\n",
    "    the distance between two objects and also their masses.'''\n",
    "    initial_state = np.array(initial_state)\n",
    "    terminal_state = np.array(terminal_state)\n",
    "\n",
    "    n_bodies = initial_state.shape[0]\n",
    "    num_features = initial_state.shape[1]\n",
    "\n",
    "    # Create node features tensor\n",
    "    node_features = torch.tensor(initial_state, dtype=torch.float)\n",
    "    node_features = node_features.view(-1, num_features)  # Reshape to (num_nodes, num_features)\n",
    "\n",
    "    # Create edge index tensor\n",
    "    edge_index = torch.tensor([[i, j] for i in range(n_bodies) for j in range(n_bodies) if (i != j and i<j)], dtype=torch.long)\n",
    "    edge_index = edge_index.t().contiguous()  # Reshape to (2, num_edges)\n",
    "\n",
    "    # Create edge features tensor\n",
    "    num_edges = edge_index.size(1)\n",
    "    edge_features = torch.empty(num_edges, 1, dtype=torch.float) \n",
    "    # Populate edge features with force\n",
    "    for k, (i, j) in enumerate(edge_index.t()):\n",
    "        dx = node_features[i, 1] - node_features[j, 1]\n",
    "        dy = node_features[i, 2] - node_features[j, 2]\n",
    "        distance = torch.sqrt(dx * 2 + dy * 2)\n",
    "        force = ((node_features[i,0]*node_features[j,0])/(distance*2))\n",
    "        edge_features[k] = force\n",
    "\n",
    "    # Create target tensor\n",
    "    target = torch.tensor(terminal_state, dtype=torch.float).view(-1, 2)  # Reshape to (num_nodes, num_features + 1)\n",
    "\n",
    "    # Create PyG Data object\n",
    "    data = Data(x=node_features, edge_index=edge_index, edge_attr=edge_features, y=target)\n",
    "\n",
    "    return data\n",
    "\n",
    "# Example usage\n",
    "initial_state = [[1.0, 0.5, 0.3, 0.2, 0.1], [2.0, 0.1, 0.4, 0.3, 0.2], [0.5, 0.7, 0.8, 0.9, 1.0]]\n",
    "terminal_state = [[0.3, 0.2], [0.4, 0.6], [0.8, 0.9]]\n",
    "\n",
    "graph_data = create_graph_data(initial_state, terminal_state)\n",
    "print(graph_data.x, graph_data.edge_index, graph_data.edge_attr, graph_data.y)"
   ]
  },
  {
   "cell_type": "code",
   "execution_count": 66,
   "id": "9bbc8271",
   "metadata": {
    "ExecuteTime": {
     "end_time": "2023-06-20T12:24:01.744102Z",
     "start_time": "2023-06-20T12:24:00.750738Z"
    }
   },
   "outputs": [
    {
     "name": "stdout",
     "output_type": "stream",
     "text": [
      "Number of data samples in /Users/sambhavjain/Library/Mobile Documents/com~apple~CloudDocs/TU Eindhoven/Q4/Deep Learning/tue-deeplearning/assignments/assignment_2/data/task 1/train: 900\n",
      "Number of training samples: 720\n",
      "Number of validation samples: 180\n",
      "Number of data samples in /Users/sambhavjain/Library/Mobile Documents/com~apple~CloudDocs/TU Eindhoven/Q4/Deep Learning/tue-deeplearning/assignments/assignment_2/data/task 1/test: 100\n"
     ]
    }
   ],
   "source": [
    "import random\n",
    "\n",
    "def create_dataloader(data_folder, task, shuffle, batch_size, train_ratio=0.8):\n",
    "    data_list = []  # List to store the Data objects\n",
    "\n",
    "    # Loop over all files in the folder\n",
    "    for filename in os.listdir(data_folder):\n",
    "        file_path = os.path.join(data_folder, filename)\n",
    "\n",
    "        # Read the data from the file (modify this part based on your file format)\n",
    "        states = load_array(file_path, task=task)\n",
    "        initial_state, terminal_state = states\n",
    "\n",
    "        # Create the Data object using create_graph_data function\n",
    "        data = create_graph_data(initial_state, terminal_state)\n",
    "\n",
    "        # Append the Data object to the list\n",
    "        data_list.append(data)\n",
    "\n",
    "    # Shuffle the data if specified\n",
    "    if shuffle:\n",
    "        random.shuffle(data_list)\n",
    "\n",
    "    # Calculate the number of samples\n",
    "    num_samples = len(data_list)\n",
    "\n",
    "    if \"train\" in data_folder:\n",
    "        # Calculate the number of samples for train and validation\n",
    "        num_train = int(train_ratio * num_samples)\n",
    "        num_val = num_samples - num_train\n",
    "\n",
    "        # Split the data into train and validation sets\n",
    "        train_data = data_list[:num_train]\n",
    "        val_data = data_list[num_train:]\n",
    "\n",
    "        # Print the number of data samples\n",
    "        print(f\"Number of data samples in {data_folder}: {num_samples}\")\n",
    "        print(f\"Number of training samples: {num_train}\")\n",
    "        print(f\"Number of validation samples: {num_val}\")\n",
    "\n",
    "        # Create data loaders for train and validation sets\n",
    "        dataloader_train = DataLoader(train_data, batch_size=batch_size, shuffle=shuffle)\n",
    "        dataloader_val = DataLoader(val_data, batch_size=batch_size, shuffle=False)\n",
    "\n",
    "        return dataloader_train, dataloader_val, data_list\n",
    "    else:\n",
    "        # Print the number of data samples\n",
    "        print(f\"Number of data samples in {data_folder}: {num_samples}\")\n",
    "\n",
    "        # Create a data loader for the data\n",
    "        dataloader = DataLoader(data_list, batch_size=batch_size, shuffle=shuffle)\n",
    "\n",
    "        return dataloader, data_list\n",
    "\n",
    "# Specify the paths to your train and test data folders\n",
    "data_folder_train = '/Users/sambhavjain/Library/Mobile Documents/com~apple~CloudDocs/TU Eindhoven/Q4/Deep Learning/tue-deeplearning/assignments/assignment_2/data/task 1/train'\n",
    "data_folder_test = '/Users/sambhavjain/Library/Mobile Documents/com~apple~CloudDocs/TU Eindhoven/Q4/Deep Learning/tue-deeplearning/assignments/assignment_2/data/task 1/test'\n",
    "\n",
    "# Define the batch size\n",
    "batch_size = 50\n",
    "\n",
    "# Create data loaders for train and validation sets (only if the folder contains \"train\")\n",
    "dataloader_train, dataloader_val, data_list = create_dataloader(data_folder_train, task='task 1', shuffle=True, batch_size=batch_size)\n",
    "\n",
    "# Create a separate data loader for the test set\n",
    "dataloader_test, data_list_test = create_dataloader(data_folder_test, task='task 1', shuffle=False, batch_size=batch_size)"
   ]
  },
  {
   "attachments": {},
   "cell_type": "markdown",
   "id": "18b2874d",
   "metadata": {},
   "source": [
    "# Model Implementation"
   ]
  },
  {
   "cell_type": "code",
   "execution_count": 67,
   "id": "ef8b18af",
   "metadata": {
    "ExecuteTime": {
     "end_time": "2023-06-20T12:24:01.744286Z",
     "start_time": "2023-06-20T12:24:01.738662Z"
    }
   },
   "outputs": [],
   "source": [
    "class GNN(torch.nn.Module):\n",
    "    def __init__(self):\n",
    "        super(GNN, self).__init__()\n",
    "        self.conv1 = GCNConv(5, 64)\n",
    "        self.conv2 = GCNConv(64, 128)\n",
    "        self.conv3 = GCNConv(128, 256)\n",
    "        self.conv4 = GCNConv(256, 128)\n",
    "        self.conv5 = GCNConv(128, 2)\n",
    "\n",
    "    def forward(self, data):\n",
    "        x, edge_index, edge_attr = data.x, data.edge_index, data.edge_attr\n",
    "\n",
    "        x = self.conv1(x, edge_index)\n",
    "        x = F.relu(x)\n",
    "        x = self.conv2(x, edge_index)\n",
    "        x = F.relu(x)\n",
    "        x = self.conv3(x, edge_index)\n",
    "        x = F.relu(x)\n",
    "        x = self.conv4(x, edge_index)\n",
    "        x = F.relu(x)\n",
    "        x = self.conv5(x, edge_index)\n",
    "\n",
    "        return x"
   ]
  },
  {
   "attachments": {},
   "cell_type": "markdown",
   "id": "dea70d73",
   "metadata": {},
   "source": [
    "# Model Training"
   ]
  },
  {
   "cell_type": "code",
   "execution_count": 68,
   "id": "e95af5f9",
   "metadata": {
    "ExecuteTime": {
     "end_time": "2023-06-20T12:24:01.744380Z",
     "start_time": "2023-06-20T12:24:01.742387Z"
    }
   },
   "outputs": [
    {
     "name": "stdout",
     "output_type": "stream",
     "text": [
      "Loaded device: cpu\n"
     ]
    }
   ],
   "source": [
    "device = torch.device('cuda' if torch.cuda.is_available() else 'cpu')\n",
    "device='cpu'\n",
    "print(f'Loaded device: {device}')"
   ]
  },
  {
   "cell_type": "code",
   "execution_count": 69,
   "id": "7b7b4750",
   "metadata": {
    "ExecuteTime": {
     "end_time": "2023-06-20T12:24:09.521729Z",
     "start_time": "2023-06-20T12:24:01.749912Z"
    }
   },
   "outputs": [
    {
     "name": "stdout",
     "output_type": "stream",
     "text": [
      "Epoch: 001, Train Loss: 6.7843, Test Loss: 6.4303, Val Loss: 6.7450 . Training time so far: 0.1 s\n",
      "Epoch: 002, Train Loss: 6.6549, Test Loss: 6.3102, Val Loss: 6.6186 . Training time so far: 0.2 s\n",
      "Epoch: 003, Train Loss: 6.5602, Test Loss: 6.2191, Val Loss: 6.5251 . Training time so far: 0.2 s\n",
      "Epoch: 004, Train Loss: 6.4679, Test Loss: 6.1248, Val Loss: 6.4349 . Training time so far: 0.3 s\n",
      "Epoch: 005, Train Loss: 6.3879, Test Loss: 6.0578, Val Loss: 6.3598 . Training time so far: 0.4 s\n",
      "Epoch: 006, Train Loss: 6.3514, Test Loss: 6.0295, Val Loss: 6.3232 . Training time so far: 0.5 s\n",
      "Epoch: 007, Train Loss: 6.3239, Test Loss: 6.0039, Val Loss: 6.2988 . Training time so far: 0.5 s\n",
      "Epoch: 008, Train Loss: 6.3040, Test Loss: 5.9895, Val Loss: 6.2768 . Training time so far: 0.6 s\n",
      "Epoch: 009, Train Loss: 6.2889, Test Loss: 5.9754, Val Loss: 6.2599 . Training time so far: 0.7 s\n",
      "Epoch: 010, Train Loss: 6.2789, Test Loss: 5.9704, Val Loss: 6.2487 . Training time so far: 0.8 s\n",
      "Epoch: 011, Train Loss: 6.2642, Test Loss: 5.9507, Val Loss: 6.2391 . Training time so far: 0.9 s\n",
      "Epoch: 012, Train Loss: 6.2552, Test Loss: 5.9465, Val Loss: 6.2255 . Training time so far: 0.9 s\n",
      "Epoch: 013, Train Loss: 6.2420, Test Loss: 5.9321, Val Loss: 6.2138 . Training time so far: 1.0 s\n",
      "Epoch: 014, Train Loss: 6.2337, Test Loss: 5.9255, Val Loss: 6.2072 . Training time so far: 1.1 s\n",
      "Epoch: 015, Train Loss: 6.2295, Test Loss: 5.9240, Val Loss: 6.2018 . Training time so far: 1.2 s\n",
      "Epoch: 016, Train Loss: 6.2209, Test Loss: 5.9091, Val Loss: 6.1956 . Training time so far: 1.3 s\n",
      "Epoch: 017, Train Loss: 6.2121, Test Loss: 5.9012, Val Loss: 6.1829 . Training time so far: 1.3 s\n",
      "Epoch: 018, Train Loss: 6.2067, Test Loss: 5.8946, Val Loss: 6.1812 . Training time so far: 1.4 s\n",
      "Epoch: 019, Train Loss: 6.2041, Test Loss: 5.8996, Val Loss: 6.1736 . Training time so far: 1.5 s\n",
      "Epoch: 020, Train Loss: 6.1971, Test Loss: 5.8883, Val Loss: 6.1692 . Training time so far: 1.6 s\n",
      "Epoch: 021, Train Loss: 6.1938, Test Loss: 5.8835, Val Loss: 6.1678 . Training time so far: 1.7 s\n",
      "Epoch: 022, Train Loss: 6.1944, Test Loss: 5.8908, Val Loss: 6.1638 . Training time so far: 1.7 s\n",
      "Epoch: 023, Train Loss: 6.1893, Test Loss: 5.8826, Val Loss: 6.1605 . Training time so far: 1.8 s\n",
      "Epoch: 024, Train Loss: 6.1834, Test Loss: 5.8701, Val Loss: 6.1592 . Training time so far: 1.9 s\n",
      "Epoch: 025, Train Loss: 6.1826, Test Loss: 5.8771, Val Loss: 6.1497 . Training time so far: 2.0 s\n",
      "Epoch: 026, Train Loss: 6.1755, Test Loss: 5.8617, Val Loss: 6.1532 . Training time so far: 2.1 s\n",
      "Epoch: 027, Train Loss: 6.1763, Test Loss: 5.8693, Val Loss: 6.1443 . Training time so far: 2.1 s\n",
      "Epoch: 028, Train Loss: 6.1705, Test Loss: 5.8582, Val Loss: 6.1451 . Training time so far: 2.2 s\n",
      "Epoch: 029, Train Loss: 6.1705, Test Loss: 5.8594, Val Loss: 6.1456 . Training time so far: 2.3 s\n",
      "Epoch: 030, Train Loss: 6.1639, Test Loss: 5.8494, Val Loss: 6.1388 . Training time so far: 2.4 s\n",
      "Epoch: 031, Train Loss: 6.1613, Test Loss: 5.8456, Val Loss: 6.1360 . Training time so far: 2.4 s\n",
      "Epoch: 032, Train Loss: 6.1607, Test Loss: 5.8461, Val Loss: 6.1322 . Training time so far: 2.5 s\n",
      "Epoch: 033, Train Loss: 6.1605, Test Loss: 5.8466, Val Loss: 6.1324 . Training time so far: 2.6 s\n",
      "Epoch: 034, Train Loss: 6.1564, Test Loss: 5.8413, Val Loss: 6.1327 . Training time so far: 2.7 s\n",
      "Epoch: 035, Train Loss: 6.1562, Test Loss: 5.8438, Val Loss: 6.1273 . Training time so far: 2.8 s\n",
      "Epoch: 036, Train Loss: 6.1534, Test Loss: 5.8387, Val Loss: 6.1265 . Training time so far: 2.8 s\n",
      "Epoch: 037, Train Loss: 6.1513, Test Loss: 5.8357, Val Loss: 6.1229 . Training time so far: 2.9 s\n",
      "Epoch: 038, Train Loss: 6.1477, Test Loss: 5.8308, Val Loss: 6.1214 . Training time so far: 3.0 s\n",
      "Epoch: 039, Train Loss: 6.1464, Test Loss: 5.8294, Val Loss: 6.1196 . Training time so far: 3.1 s\n",
      "Epoch: 040, Train Loss: 6.1437, Test Loss: 5.8260, Val Loss: 6.1176 . Training time so far: 3.2 s\n",
      "Epoch: 041, Train Loss: 6.1422, Test Loss: 5.8230, Val Loss: 6.1187 . Training time so far: 3.2 s\n",
      "Epoch: 042, Train Loss: 6.1409, Test Loss: 5.8223, Val Loss: 6.1114 . Training time so far: 3.3 s\n",
      "Epoch: 043, Train Loss: 6.1392, Test Loss: 5.8202, Val Loss: 6.1159 . Training time so far: 3.4 s\n",
      "Epoch: 044, Train Loss: 6.1372, Test Loss: 5.8195, Val Loss: 6.1093 . Training time so far: 3.5 s\n",
      "Epoch: 045, Train Loss: 6.1372, Test Loss: 5.8194, Val Loss: 6.1097 . Training time so far: 3.6 s\n",
      "Epoch: 046, Train Loss: 6.1351, Test Loss: 5.8179, Val Loss: 6.1099 . Training time so far: 3.6 s\n",
      "Epoch: 047, Train Loss: 6.1318, Test Loss: 5.8148, Val Loss: 6.1058 . Training time so far: 3.7 s\n",
      "Epoch: 048, Train Loss: 6.1319, Test Loss: 5.8142, Val Loss: 6.1062 . Training time so far: 3.8 s\n",
      "Epoch: 049, Train Loss: 6.1282, Test Loss: 5.8115, Val Loss: 6.1025 . Training time so far: 3.9 s\n",
      "Epoch: 050, Train Loss: 6.1311, Test Loss: 5.8116, Val Loss: 6.1021 . Training time so far: 4.0 s\n",
      "Epoch: 051, Train Loss: 6.1273, Test Loss: 5.8093, Val Loss: 6.1036 . Training time so far: 4.0 s\n",
      "Epoch: 052, Train Loss: 6.1250, Test Loss: 5.8081, Val Loss: 6.1010 . Training time so far: 4.1 s\n",
      "Epoch: 053, Train Loss: 6.1244, Test Loss: 5.8069, Val Loss: 6.1004 . Training time so far: 4.2 s\n",
      "Epoch: 054, Train Loss: 6.1228, Test Loss: 5.8067, Val Loss: 6.0969 . Training time so far: 4.3 s\n",
      "Epoch: 055, Train Loss: 6.1202, Test Loss: 5.8042, Val Loss: 6.0985 . Training time so far: 4.4 s\n",
      "Epoch: 056, Train Loss: 6.1223, Test Loss: 5.8047, Val Loss: 6.0952 . Training time so far: 4.4 s\n",
      "Epoch: 057, Train Loss: 6.1200, Test Loss: 5.8029, Val Loss: 6.0973 . Training time so far: 4.5 s\n",
      "Epoch: 058, Train Loss: 6.1167, Test Loss: 5.8002, Val Loss: 6.0931 . Training time so far: 4.6 s\n",
      "Epoch: 059, Train Loss: 6.1163, Test Loss: 5.7997, Val Loss: 6.0987 . Training time so far: 4.7 s\n",
      "Epoch: 060, Train Loss: 6.1161, Test Loss: 5.7996, Val Loss: 6.0928 . Training time so far: 4.8 s\n",
      "Epoch: 061, Train Loss: 6.1156, Test Loss: 5.7994, Val Loss: 6.0948 . Training time so far: 4.8 s\n",
      "Epoch: 062, Train Loss: 6.1152, Test Loss: 5.7998, Val Loss: 6.0948 . Training time so far: 4.9 s\n",
      "Epoch: 063, Train Loss: 6.1149, Test Loss: 5.7977, Val Loss: 6.0890 . Training time so far: 5.0 s\n",
      "Epoch: 064, Train Loss: 6.1110, Test Loss: 5.7953, Val Loss: 6.0908 . Training time so far: 5.1 s\n",
      "Epoch: 065, Train Loss: 6.1122, Test Loss: 5.7964, Val Loss: 6.0899 . Training time so far: 5.1 s\n",
      "Epoch: 066, Train Loss: 6.1118, Test Loss: 5.7955, Val Loss: 6.0908 . Training time so far: 5.2 s\n",
      "Epoch: 067, Train Loss: 6.1105, Test Loss: 5.7956, Val Loss: 6.0870 . Training time so far: 5.3 s\n",
      "Epoch: 068, Train Loss: 6.1105, Test Loss: 5.7950, Val Loss: 6.0938 . Training time so far: 5.4 s\n",
      "Epoch: 069, Train Loss: 6.1094, Test Loss: 5.7961, Val Loss: 6.0878 . Training time so far: 5.5 s\n",
      "Epoch: 070, Train Loss: 6.1088, Test Loss: 5.7950, Val Loss: 6.0858 . Training time so far: 5.5 s\n",
      "Epoch: 071, Train Loss: 6.1071, Test Loss: 5.7917, Val Loss: 6.0917 . Training time so far: 5.6 s\n",
      "Epoch: 072, Train Loss: 6.1058, Test Loss: 5.7896, Val Loss: 6.0819 . Training time so far: 5.7 s\n",
      "Epoch: 073, Train Loss: 6.1042, Test Loss: 5.7894, Val Loss: 6.0834 . Training time so far: 5.7 s\n",
      "Epoch: 074, Train Loss: 6.1047, Test Loss: 5.7906, Val Loss: 6.0817 . Training time so far: 5.8 s\n",
      "Epoch: 075, Train Loss: 6.1035, Test Loss: 5.7895, Val Loss: 6.0860 . Training time so far: 5.9 s\n",
      "Epoch: 076, Train Loss: 6.1032, Test Loss: 5.7889, Val Loss: 6.0812 . Training time so far: 6.0 s\n",
      "Epoch: 077, Train Loss: 6.1024, Test Loss: 5.7884, Val Loss: 6.0865 . Training time so far: 6.0 s\n",
      "Epoch: 078, Train Loss: 6.1010, Test Loss: 5.7867, Val Loss: 6.0765 . Training time so far: 6.1 s\n",
      "Epoch: 079, Train Loss: 6.1004, Test Loss: 5.7851, Val Loss: 6.0817 . Training time so far: 6.2 s\n",
      "Epoch: 080, Train Loss: 6.0992, Test Loss: 5.7850, Val Loss: 6.0768 . Training time so far: 6.3 s\n",
      "Epoch: 081, Train Loss: 6.0979, Test Loss: 5.7842, Val Loss: 6.0789 . Training time so far: 6.3 s\n",
      "Epoch: 082, Train Loss: 6.0977, Test Loss: 5.7849, Val Loss: 6.0801 . Training time so far: 6.4 s\n",
      "Epoch: 083, Train Loss: 6.0956, Test Loss: 5.7820, Val Loss: 6.0734 . Training time so far: 6.5 s\n",
      "Epoch: 084, Train Loss: 6.0954, Test Loss: 5.7822, Val Loss: 6.0772 . Training time so far: 6.6 s\n",
      "Epoch: 085, Train Loss: 6.0959, Test Loss: 5.7838, Val Loss: 6.0770 . Training time so far: 6.6 s\n",
      "Epoch: 086, Train Loss: 6.0963, Test Loss: 5.7828, Val Loss: 6.0748 . Training time so far: 6.7 s\n",
      "Epoch: 087, Train Loss: 6.0972, Test Loss: 5.7818, Val Loss: 6.0780 . Training time so far: 6.8 s\n",
      "Epoch: 088, Train Loss: 6.0947, Test Loss: 5.7800, Val Loss: 6.0734 . Training time so far: 6.9 s\n",
      "Epoch: 089, Train Loss: 6.0931, Test Loss: 5.7809, Val Loss: 6.0741 . Training time so far: 6.9 s\n",
      "Epoch: 090, Train Loss: 6.0946, Test Loss: 5.7824, Val Loss: 6.0769 . Training time so far: 7.0 s\n",
      "Epoch: 091, Train Loss: 6.0916, Test Loss: 5.7792, Val Loss: 6.0749 . Training time so far: 7.1 s\n",
      "Epoch: 092, Train Loss: 6.0920, Test Loss: 5.7784, Val Loss: 6.0728 . Training time so far: 7.2 s\n",
      "Epoch: 093, Train Loss: 6.0908, Test Loss: 5.7780, Val Loss: 6.0701 . Training time so far: 7.2 s\n",
      "Epoch: 094, Train Loss: 6.0911, Test Loss: 5.7758, Val Loss: 6.0721 . Training time so far: 7.3 s\n",
      "Epoch: 095, Train Loss: 6.0914, Test Loss: 5.7768, Val Loss: 6.0696 . Training time so far: 7.4 s\n",
      "Epoch: 096, Train Loss: 6.0905, Test Loss: 5.7754, Val Loss: 6.0741 . Training time so far: 7.5 s\n",
      "Epoch: 097, Train Loss: 6.0907, Test Loss: 5.7764, Val Loss: 6.0704 . Training time so far: 7.5 s\n",
      "Epoch: 098, Train Loss: 6.0920, Test Loss: 5.7765, Val Loss: 6.0691 . Training time so far: 7.6 s\n",
      "Epoch: 099, Train Loss: 6.0892, Test Loss: 5.7745, Val Loss: 6.0707 . Training time so far: 7.7 s\n",
      "Epoch: 100, Train Loss: 6.0895, Test Loss: 5.7745, Val Loss: 6.0739 . Training time so far: 7.8 s\n"
     ]
    }
   ],
   "source": [
    "\n",
    "import math\n",
    "import time\n",
    "import torch\n",
    "import torch.nn as nn\n",
    "import torch.nn.functional as F\n",
    "from torch_geometric.nn import GCNConv\n",
    "\n",
    "\n",
    "# class GNN(torch.nn.Module):\n",
    "#     def __init__(self, hidden_dim=64):\n",
    "#         super(GNN, self).__init__()\n",
    "#         self.conv1 = GCNConv(4, hidden_dim)\n",
    "#         self.conv2 = GCNConv(hidden_dim, hidden_dim)\n",
    "#         # self.lstm = torch.nn.LSTM(hidden_dim, hidden_dim)\n",
    "#         self.lin = torch.nn.Linear(hidden_dim, 2)\n",
    "\n",
    "#     def forward(self, data):\n",
    "#         x, edge_index, edge_attr = data.x, data.edge_index, data.edge_attr\n",
    "#         h = F.relu(self.conv1(x, edge_index, edge_attr))\n",
    "#         h = F.relu(self.conv2(h, edge_index, edge_attr))\n",
    "#         # h = h.unsqueeze(0)\n",
    "#         # _, (h_n, _) = self.lstm(h)\n",
    "#         out = self.lin(h)\n",
    "#         return out\n",
    "\n",
    "\n",
    "import torch\n",
    "import torch.nn.functional as F\n",
    "from torch_geometric.nn import GATConv\n",
    "from torch.optim.lr_scheduler import StepLR\n",
    "\n",
    "class GATNet(torch.nn.Module):\n",
    "    def __init__(self):\n",
    "        super(GATNet, self).__init__()\n",
    "        self.conv1 = GATConv(5, 64)\n",
    "        self.conv2 = GATConv(64, 128)\n",
    "        self.conv3 = GATConv(128, 256)\n",
    "        self.conv4 = GATConv(256, 128)\n",
    "        self.conv5 = GATConv(128, 2)\n",
    "\n",
    "    def forward(self, data):\n",
    "        x, edge_index, edge_attr = data.x, data.edge_index, data.edge_attr\n",
    "\n",
    "        x = self.conv1(x, edge_index)\n",
    "        x = F.dropout(x, training=self.training)\n",
    "        x = F.relu(x)\n",
    "\n",
    "        x = self.conv2(x, edge_index)\n",
    "        x = F.dropout(x, training=self.training)\n",
    "        x = F.relu(x)\n",
    "\n",
    "        x = self.conv3(x, edge_index)\n",
    "        x = F.dropout(x, training=self.training)\n",
    "        x = F.relu(x)\n",
    "\n",
    "        x = self.conv4(x, edge_index)\n",
    "        x = F.dropout(x, training=self.training)\n",
    "        x = F.relu(x)\n",
    "\n",
    "        x = self.conv5(x, edge_index)\n",
    "\n",
    "        return x\n",
    "\n",
    "from torch_geometric.nn import GATConv\n",
    "\n",
    "class GATModel(nn.Module):\n",
    "    def __init__(self, num_features, hidden_dim, num_classes):\n",
    "        super(GATModel, self).__init__()\n",
    "        self.conv1 = GATConv(num_features, hidden_dim)\n",
    "        self.conv2 = GATConv(hidden_dim, num_classes)\n",
    "\n",
    "    def forward(self, data):\n",
    "        x, edge_index = data.x, data.edge_index\n",
    "        x = self.conv1(x, edge_index)\n",
    "        x = F.relu(x)\n",
    "        x = F.dropout(x, training=self.training)\n",
    "        x = self.conv2(x, edge_index)\n",
    "        return x\n",
    "\n",
    "model = GATModel(num_features=5, hidden_dim=64, num_classes=2).to(device)\n",
    "\n",
    "optimizer = torch.optim.Adam(model.parameters(), lr=0.001)\n",
    "scheduler = StepLR(optimizer, step_size=100, gamma=0.5)\n",
    "loss_func = torch.nn.MSELoss()\n",
    "\n",
    "\n",
    "def train():\n",
    "    model.train()\n",
    "    for data in dataloader_train:\n",
    "        data.to(device)\n",
    "        optimizer.zero_grad()\n",
    "        out = model(data)\n",
    "        loss = loss_func(out, data.y)\n",
    "        loss.backward()\n",
    "        optimizer.step()\n",
    "\n",
    "\n",
    "def test(loader):\n",
    "    model.eval()\n",
    "    mse = 0.0\n",
    "    total = 0\n",
    "\n",
    "    for data in loader:\n",
    "        data.to(device)\n",
    "        out = model(data)\n",
    "        if data.y is not None:  # Skip calculation if data.y is None\n",
    "            mse += F.mse_loss(out, data.y, reduction='sum').item()\n",
    "            total += data.y.size(0)\n",
    "\n",
    "    if total == 0:\n",
    "        return None  # Return None if no samples with valid labels are found\n",
    "\n",
    "    mse /= total\n",
    "    rmse = math.sqrt(mse)\n",
    "\n",
    "    return rmse\n",
    "\n",
    "\n",
    "train_losses = []\n",
    "test_losses = []\n",
    "val_losses = []\n",
    "\n",
    "epochs = 100\n",
    "start = time.time()\n",
    "\n",
    "for epoch in range(1, epochs + 1):\n",
    "    train()\n",
    "    with torch.no_grad():\n",
    "        train_loss = test(dataloader_train)\n",
    "        test_loss = test(dataloader_test)\n",
    "        val_loss = test(dataloader_val)\n",
    "    toc = time.time()\n",
    "    print(f'Epoch: {epoch:03d}, Train Loss: {train_loss:.4f}, Test Loss: {test_loss:.4f}, Val Loss: {val_loss:.4f} . Training time so far: {toc - start:.1f} s')\n",
    "    train_losses.append(train_loss)\n",
    "    test_losses.append(test_loss)\n",
    "    val_losses.append(val_loss)\n",
    "\n",
    "\n"
   ]
  },
  {
   "cell_type": "code",
   "execution_count": 70,
   "id": "2d073cca",
   "metadata": {
    "collapsed": false,
    "ExecuteTime": {
     "end_time": "2023-06-20T12:24:09.526966Z",
     "start_time": "2023-06-20T12:24:09.521505Z"
    }
   },
   "outputs": [],
   "source": [
    "def plot_train(train_losses, test_losses, val_losses):\n",
    "    fig, ax = plt.subplots(figsize=(8, 6))\n",
    "    fnt = 16\n",
    "    epochs = range(1, len(train_losses) + 1)\n",
    "    ax.plot(epochs, train_losses, color='blue', label='Train')\n",
    "    ax.plot(epochs, test_losses, color='green', linestyle='--', label='Test')\n",
    "    ax.plot(epochs, val_losses, color='red', linestyle='-.', label='Validation')\n",
    "    ax.legend(fontsize=fnt)\n",
    "    ax.tick_params(axis='both', labelsize=fnt)\n",
    "    ax.set_xlabel('Epoch', fontsize=fnt)\n",
    "    ax.set_ylabel('Loss', fontsize=fnt)\n"
   ]
  },
  {
   "cell_type": "code",
   "execution_count": 71,
   "id": "7f0ed8a9",
   "metadata": {
    "collapsed": false,
    "ExecuteTime": {
     "end_time": "2023-06-20T12:24:09.592649Z",
     "start_time": "2023-06-20T12:24:09.524905Z"
    }
   },
   "outputs": [
    {
     "data": {
      "text/plain": "<Figure size 800x600 with 1 Axes>",
      "image/png": "[encoded data removed]"
     },
     "metadata": {},
     "output_type": "display_data"
    }
   ],
   "source": [
    "plot_train(train_losses, test_losses, val_losses)"
   ]
  },
  {
   "attachments": {},
   "cell_type": "markdown",
   "id": "d5fb3b29",
   "metadata": {
    "ExecuteTime": {
     "end_time": "2023-06-17T17:05:10.443904Z",
     "start_time": "2023-06-17T17:05:10.437284Z"
    }
   },
   "source": [
    "# Evaluation"
   ]
  },
  {
   "cell_type": "code",
   "execution_count": 72,
   "id": "0b8ec6da",
   "metadata": {
    "collapsed": false,
    "ExecuteTime": {
     "end_time": "2023-06-20T12:24:09.593827Z",
     "start_time": "2023-06-20T12:24:09.591744Z"
    }
   },
   "outputs": [
    {
     "name": "stdout",
     "output_type": "stream",
     "text": [
      "Final Test accuracy: 6.089513650438518\n"
     ]
    }
   ],
   "source": [
    "print(f'Final Test accuracy: {train_losses[-1]}')"
   ]
  },
  {
   "cell_type": "code",
   "execution_count": 73,
   "metadata": {
    "collapsed": false,
    "ExecuteTime": {
     "end_time": "2023-06-20T12:24:09.598305Z",
     "start_time": "2023-06-20T12:24:09.594523Z"
    }
   },
   "outputs": [
    {
     "name": "stdout",
     "output_type": "stream",
     "text": [
      "Number of objects = 7\n",
      "Predicted = \n",
      " tensor([[ 0.4840, -0.9045],\n",
      "        [ 0.9414, -0.1480],\n",
      "        [ 0.5835, -1.2193],\n",
      "        [ 0.2912, -1.2856],\n",
      "        [ 0.4763, -0.9872],\n",
      "        [ 0.6512, -0.6637],\n",
      "        [ 0.2629, -1.1434]], grad_fn=<AddBackward0>),\n",
      " Ground-truth = \n",
      " tensor([[ 2.9941, -5.2138],\n",
      "        [ 1.8626,  7.2901],\n",
      "        [-0.8698, -4.8716],\n",
      "        [-3.7912, -1.6376],\n",
      "        [ 8.4632,  1.6116],\n",
      "        [ 6.4506, -1.2052],\n",
      "        [-5.1832, -0.3881]])\n"
     ]
    }
   ],
   "source": [
    "def test_example(idx):\n",
    "    example = data_list_test[idx]\n",
    "    print(f'Number of objects = {example.x.shape[0]}')\n",
    "    pred = model(example)\n",
    "    true = example.y\n",
    "    print(f'Predicted = \\n {pred},\\n Ground-truth = \\n {true}')\n",
    "    \n",
    "test_example(5)\n",
    "    "
   ]
  }
 ],
 "metadata": {
  "kernelspec": {
   "display_name": "Python 3 (ipykernel)",
   "language": "python",
   "name": "python3"
  },
  "language_info": {
   "codemirror_mode": {
    "name": "ipython",
    "version": 3
   },
   "file_extension": ".py",
   "mimetype": "text/x-python",
   "name": "python",
   "nbconvert_exporter": "python",
   "pygments_lexer": "ipython3",
   "version": "3.11.2"
  }
 },
 "nbformat": 4,
 "nbformat_minor": 5
}
