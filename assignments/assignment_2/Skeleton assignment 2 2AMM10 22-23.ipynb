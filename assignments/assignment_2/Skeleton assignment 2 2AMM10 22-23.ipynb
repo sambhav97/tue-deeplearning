{
 "cells": [
  {
   "attachments": {},
   "cell_type": "markdown",
   "id": "d32f8d18",
   "metadata": {},
   "source": [
    "# Group Details\n",
    "\n",
    "## Group Name: 12\n",
    "\n",
    "### Student 1: Denise La Gordt Dillie\n",
    "\n",
    "### Student 2: Andreea Maican\n",
    "\n",
    "### Student 3: Sambhav Jain"
   ]
  },
  {
   "attachments": {},
   "cell_type": "markdown",
   "id": "faec2056",
   "metadata": {},
   "source": [
    "# Loading Data and Preliminaries"
   ]
  },
  {
   "cell_type": "code",
   "execution_count": 40,
   "id": "7d0580a5",
   "metadata": {
    "ExecuteTime": {
     "end_time": "2023-06-18T00:17:05.486823Z",
     "start_time": "2023-06-18T00:17:05.462712Z"
    }
   },
   "outputs": [],
   "source": [
    "import matplotlib.pyplot as plt\n",
    "import matplotlib\n",
    "import numpy as np\n",
    "import torch\n",
    "from torch_geometric.data import Data\n",
    "import torch.nn as nn\n",
    "import torch.nn.functional as F\n",
    "from torch_geometric.nn import GCNConv\n",
    "from torch_geometric.loader import DataLoader\n",
    "import os"
   ]
  },
  {
   "cell_type": "code",
   "execution_count": 41,
   "id": "b0756591",
   "metadata": {
    "ExecuteTime": {
     "end_time": "2023-06-18T00:17:05.494404Z",
     "start_time": "2023-06-18T00:17:05.466275Z"
    }
   },
   "outputs": [],
   "source": [
    "def load_array(filename, task):\n",
    "    datapoint = np.load(filename)\n",
    "    if task == 'task 1':\n",
    "        initial_state = datapoint['initial_state']\n",
    "        terminal_state = datapoint['terminal_state']\n",
    "        return initial_state, terminal_state\n",
    "    elif task == 'task 2' or task == 'task 3':\n",
    "        whole_trajectory = datapoint['trajectory']\n",
    "        # change shape: (num_bodies, attributes, time) ->  num_bodies, time, attributes\n",
    "        whole_trajectory = np.swapaxes(whole_trajectory, 1, 2)\n",
    "        initial_state = whole_trajectory[:, 0]\n",
    "        target = whole_trajectory[:, 1:, 1:]  # drop the first timepoint (second dim) and mass (last dim) for the prediction task\n",
    "        return initial_state, target\n",
    "    else:\n",
    "        raise NotImplementedError(\"'task' argument should be 'task 1', 'task 2' or 'task 3'!\")\n"
   ]
  },
  {
   "cell_type": "code",
   "execution_count": 42,
   "id": "bb77a4be",
   "metadata": {
    "ExecuteTime": {
     "end_time": "2023-06-18T00:17:05.495380Z",
     "start_time": "2023-06-18T00:17:05.468666Z"
    }
   },
   "outputs": [
    {
     "name": "stdout",
     "output_type": "stream",
     "text": [
      "shape of initial state (model input): (8, 5)\n",
      "[[ 4.54673709 -5.27118739  5.07863417 -1.09690628 -3.66929964]\n",
      " [ 3.57509525  4.3270607  -0.08095022 -0.57868726 -2.95971243]\n",
      " [ 2.67733735 -5.15972108  5.35238208  2.42652043  1.45870728]\n",
      " [ 2.27455417 -6.79584511  2.29632123  0.30418238 -0.4065998 ]\n",
      " [ 2.38359341 -2.75861066  1.77940931 -0.07643627 -0.35954359]\n",
      " [ 4.28596268  0.34981219  4.8286224   1.35630962 -2.55760522]\n",
      " [ 3.03118516 -0.50562258 15.04631712 -0.94772523 14.98127867]\n",
      " [ 4.13530017  1.81342682  3.84375499 -0.6989711  -2.25092411]]\n",
      "shape of terminal state (to be predicted by model): (8, 2)\n",
      "The initial x-coordinate of the body with index 2 in this trajectory was -5.159721083543527\n"
     ]
    }
   ],
   "source": [
    "\"\"\"\n",
    "This cell gives an example of loading a datapoint with numpy for task 1.\n",
    "\n",
    "The arrays returned by the function are structures as follows:\n",
    "initial_state: shape (n_bodies, [mass, x, y, v_x, v_y])\n",
    "terminal_state: shape (n_bodies, [x, y])\n",
    "\n",
    "\"\"\"\n",
    "\n",
    "example = load_array('C:/University/master/Q4/Deep Learning/data-assignment2/data/task 1/train/trajectory_0.npz', task='task 1')\n",
    "\n",
    "initial_state, terminal_state = example\n",
    "print(f'shape of initial state (model input): {initial_state.shape}')\n",
    "print(initial_state)\n",
    "print(f'shape of terminal state (to be predicted by model): {terminal_state.shape}')\n",
    "\n",
    "body_idx = 2\n",
    "print(f'The initial x-coordinate of the body with index {body_idx} in this trajectory was {initial_state[body_idx, 1]}')"
   ]
  },
  {
   "cell_type": "code",
   "execution_count": 43,
   "id": "1c3ea4cb",
   "metadata": {
    "ExecuteTime": {
     "end_time": "2023-06-18T00:17:05.496914Z",
     "start_time": "2023-06-18T00:17:05.473292Z"
    }
   },
   "outputs": [
    {
     "name": "stdout",
     "output_type": "stream",
     "text": [
      "shape of initial state (model input): (8, 5)\n",
      "shape of terminal state (to be predicted by model): (8, 49, 4)\n",
      "The y-coordinate of the body with index 2 at time with index 30 in remaining_trajectory was -0.3861544940435097\n",
      "the shape of the input of a test data example is (8, 5)\n",
      "the shape of the target of a test data example is (8, 49, 4)\n",
      "values of the test data example at time 30:\n",
      " [[-5.85725792 -5.394571           nan         nan]\n",
      " [-6.03781257 -5.72445953         nan         nan]\n",
      " [-0.90623054 -6.93416278         nan         nan]\n",
      " [ 2.83149339 -7.50100819         nan         nan]\n",
      " [-2.85586881  1.77667501         nan         nan]\n",
      " [ 4.04424526  4.00563603         nan         nan]\n",
      " [-5.24887713 -4.83081005         nan         nan]\n",
      " [-5.81391023 -5.1109838          nan         nan]]\n",
      "note: velocity values are unobserved (NaNs) in the test data!\n"
     ]
    }
   ],
   "source": [
    "\"\"\"\n",
    "This cell gives an example of loading a datapoint with numpy for task 2 / 3.\n",
    "\n",
    "The arrays returned by the function are structures as follows:\n",
    "initial_state: shape (n_bodies, [mass, x, y, v_x, v_y])\n",
    "remaining_trajectory: shape (n_bodies, time, [x, y, v_x, v_y])\n",
    "\n",
    "Note that for this task, you are asked to evaluate performance only with regard to the predictions of the positions (x and y).\n",
    "If you use the velocity of the remaining trajectory for training,\n",
    "this use should be purely auxiliary for the goal of predicting the positions [x,y] over time. \n",
    "While testing performance of your model on the test set, you do not have access to v_x and v_y of the remaining trajectory.\n",
    "\n",
    "\"\"\"\n",
    "\n",
    "example = load_array('C:/University/master/Q4/Deep Learning/data-assignment2/data/task 2_3/train/trajectory_0.npz', task='task 2')\n",
    "\n",
    "initial_state, remaining_trajectory = example\n",
    "print(f'shape of initial state (model input): {initial_state.shape}')\n",
    "print(f'shape of terminal state (to be predicted by model): {remaining_trajectory.shape}')\n",
    "\n",
    "body_idx = 2\n",
    "time_idx = 30\n",
    "print(f'The y-coordinate of the body with index {body_idx} at time with index {time_idx} in remaining_trajectory was {remaining_trajectory[body_idx, time_idx, 1]}')\n",
    "\n",
    "test_example = load_array('C:/University/master/Q4/Deep Learning/data-assignment2/data/task 2_3/test/trajectory_900.npz', task='task 3')\n",
    "test_initial_state, test_remaining_trajectory = test_example\n",
    "print(f'the shape of the input of a test data example is {test_initial_state.shape}')\n",
    "print(f'the shape of the target of a test data example is {test_remaining_trajectory.shape}')\n",
    "print(f'values of the test data example at time {time_idx}:\\n {test_remaining_trajectory[:, time_idx]}')\n",
    "print('note: velocity values are unobserved (NaNs) in the test data!')"
   ]
  },
  {
   "cell_type": "code",
   "execution_count": 44,
   "id": "10a3438a",
   "metadata": {
    "ExecuteTime": {
     "end_time": "2023-06-18T00:17:05.514618Z",
     "start_time": "2023-06-18T00:17:05.479020Z"
    }
   },
   "outputs": [
    {
     "data": {
      "text/plain": [
       "array([[ 4.31455329, -4.99311363, -5.10150489,  2.2491171 , -1.82520359],\n",
       "       [ 2.58525749, -4.92574075, -4.7534334 , -4.81897728, -3.07212095],\n",
       "       [ 2.40449047,  2.23254187, -6.04595524, -0.67381217, -0.58798851],\n",
       "       [ 2.28318603,  5.6605113 , -3.76376281, -0.41268251, -1.19812499],\n",
       "       [ 4.09793595, -4.73678906, -3.94704856,  1.13634781,  4.98383634],\n",
       "       [ 4.5579536 , -0.08848969,  5.42483477,  1.460317  , -0.21585929],\n",
       "       [ 3.42356878, -4.91282501, -4.6779343 ,  0.94123905,  2.66425652],\n",
       "       [ 3.59288181, -4.48225046, -4.548729  , -2.56573061, -2.39203918]])"
      ]
     },
     "execution_count": 44,
     "metadata": {},
     "output_type": "execute_result"
    }
   ],
   "source": [
    "test_initial_state"
   ]
  },
  {
   "attachments": {},
   "cell_type": "markdown",
   "id": "059b633c",
   "metadata": {},
   "source": [
    "# Data Handling and Preprocessing"
   ]
  },
  {
   "cell_type": "code",
   "execution_count": 45,
   "id": "e6ecb529",
   "metadata": {
    "ExecuteTime": {
     "end_time": "2023-06-18T00:17:05.514739Z",
     "start_time": "2023-06-18T00:17:05.486993Z"
    }
   },
   "outputs": [],
   "source": [
    "def create_graph_data(initial_state, terminal_state):\n",
    "    '''Takes a datapoint from task 1 data and returns a Data object ready to be used with\n",
    "    Pytorch Geometric. Each node is an object and will store initial position and speed, each edge stores\n",
    "    the distance between two objects and also their masses.'''\n",
    "    initial_state = np.array(initial_state)\n",
    "    terminal_state = np.array(terminal_state)\n",
    "\n",
    "    n_bodies = initial_state.shape[0]\n",
    "    num_features = initial_state.shape[1] - 1  # Exclude the mass from node features\n",
    "\n",
    "    # Create node features tensor\n",
    "    node_features = torch.tensor(initial_state[:, 1:], dtype=torch.float)  # Exclude the mass\n",
    "    node_features = node_features.view(-1, num_features)  # Reshape to (num_nodes, num_features)\n",
    "\n",
    "    # Create edge index tensor\n",
    "    edge_index = torch.tensor([[i, j] for i in range(n_bodies) for j in range(n_bodies) if i != j], dtype=torch.long)\n",
    "    edge_index = edge_index.t().contiguous()  # Reshape to (2, num_edges)\n",
    "\n",
    "    # Create edge features tensor\n",
    "    num_edges = edge_index.size(1)\n",
    "    edge_features = torch.empty(num_edges, 3, dtype=torch.float)  # +3 for distance and masses\n",
    "    # Populate edge features with distance and masses\n",
    "    for k, (i, j) in enumerate(edge_index.t()):\n",
    "        dx = node_features[i, 0] - node_features[j, 0]\n",
    "        dy = node_features[i, 1] - node_features[j, 1]\n",
    "        distance = torch.sqrt(dx ** 2 + dy ** 2)\n",
    "        masses = torch.from_numpy(initial_state[[i, j], 0]).float()  # Convert to PyTorch tensor\n",
    "        edge_features[k] = torch.cat((distance.view(1), masses), dim=0)\n",
    "\n",
    "    # Create target tensor\n",
    "    target = torch.tensor(terminal_state, dtype=torch.float).view(-1, 2)  # Reshape to (num_nodes, num_features + 1)\n",
    "\n",
    "    # Create PyG Data object\n",
    "    data = Data(x=node_features, edge_index=edge_index, edge_attr=edge_features, y=target)\n",
    "\n",
    "    return data\n",
    "\n",
    "# Example usage\n",
    "initial_state = [[1.0, 0.5, 0.3, 0.2, 0.1], [2.0, 0.1, 0.4, 0.3, 0.2], [0.5, 0.7, 0.8, 0.9, 1.0]]\n",
    "terminal_state = [[0.3, 0.2], [0.4, 0.6], [0.8, 0.9]]\n",
    "\n",
    "graph_data = create_graph_data(initial_state, terminal_state)"
   ]
  },
  {
   "cell_type": "code",
   "execution_count": 46,
   "id": "de466a8e",
   "metadata": {
    "ExecuteTime": {
     "end_time": "2023-06-18T00:17:07.056301Z",
     "start_time": "2023-06-18T00:17:05.488233Z"
    },
    "collapsed": false
   },
   "outputs": [],
   "source": [
    "# def create_dataloader(data_folder, task, shuffle, batch_size):\n",
    "#     data_list = [] # List to store the Data objects\n",
    "\n",
    "#     # Loop over all files in the folder\n",
    "#     for filename in os.listdir(data_folder):\n",
    "#         file_path = os.path.join(data_folder, filename)\n",
    "\n",
    "#         # Read the data from the file (modify this part based on your file format)\n",
    "#         states = load_array(file_path, task=task)\n",
    "#         initial_state, terminal_state = states\n",
    "\n",
    "#         # Create the Data object using create_graph_data function\n",
    "#         data = create_graph_data(initial_state, terminal_state)\n",
    "\n",
    "#         # Append the Data object to the list\n",
    "#         data_list.append(data)\n",
    "\n",
    "#     # Print the number of data samples\n",
    "#     print(f\"Number of data samples in {data_folder}: {len(data_list)}\")\n",
    "\n",
    "#     # Create a data loader\n",
    "#     dataloader = DataLoader(data_list, batch_size=batch_size, shuffle=shuffle)\n",
    "\n",
    "#     return dataloader\n",
    "\n",
    "# train_ratio=0.8\n",
    "\n",
    "\n",
    "# # Specify the paths to your train and test data folders\n",
    "# data_folder_train = 'C:/University/master/Q4/Deep Learning/data-assignment2/data/task 1/train'\n",
    "# data_folder_test = 'C:/University/master/Q4/Deep Learning/data-assignment2/data/task 1/test'\n",
    "\n",
    "\n",
    "# # Define the batch size\n",
    "# batch_size = 50\n",
    "\n",
    "# # Create data loaders\n",
    "# dataloader_train = create_dataloader(data_folder_train, task='task 1', shuffle=True, batch_size=batch_size)\n",
    "# dataloader_test = create_dataloader(data_folder_test, task='task 1', shuffle=False, batch_size=batch_size)"
   ]
  },
  {
   "cell_type": "code",
   "execution_count": 47,
   "id": "1b900ad9",
   "metadata": {},
   "outputs": [
    {
     "name": "stdout",
     "output_type": "stream",
     "text": [
      "Number of data samples in C:/University/master/Q4/Deep Learning/data-assignment2/data/task 1/train: 900\n",
      "Number of training samples: 720\n",
      "Number of validation samples: 180\n",
      "Number of data samples in C:/University/master/Q4/Deep Learning/data-assignment2/data/task 1/test: 100\n"
     ]
    }
   ],
   "source": [
    "import random\n",
    "\n",
    "def create_dataloader(data_folder, task, shuffle, batch_size, train_ratio=0.8):\n",
    "    data_list = []  # List to store the Data objects\n",
    "\n",
    "    # Loop over all files in the folder\n",
    "    for filename in os.listdir(data_folder):\n",
    "        file_path = os.path.join(data_folder, filename)\n",
    "\n",
    "        # Read the data from the file (modify this part based on your file format)\n",
    "        states = load_array(file_path, task=task)\n",
    "        initial_state, terminal_state = states\n",
    "\n",
    "        # Create the Data object using create_graph_data function\n",
    "        data = create_graph_data(initial_state, terminal_state)\n",
    "\n",
    "        # Append the Data object to the list\n",
    "        data_list.append(data)\n",
    "\n",
    "    # Shuffle the data if specified\n",
    "    if shuffle:\n",
    "        random.shuffle(data_list)\n",
    "\n",
    "    # Calculate the number of samples\n",
    "    num_samples = len(data_list)\n",
    "\n",
    "    if \"train\" in data_folder:\n",
    "        # Calculate the number of samples for train and validation\n",
    "        num_train = int(train_ratio * num_samples)\n",
    "        num_val = num_samples - num_train\n",
    "\n",
    "        # Split the data into train and validation sets\n",
    "        train_data = data_list[:num_train]\n",
    "        val_data = data_list[num_train:]\n",
    "\n",
    "        # Print the number of data samples\n",
    "        print(f\"Number of data samples in {data_folder}: {num_samples}\")\n",
    "        print(f\"Number of training samples: {num_train}\")\n",
    "        print(f\"Number of validation samples: {num_val}\")\n",
    "\n",
    "        # Create data loaders for train and validation sets\n",
    "        dataloader_train = DataLoader(train_data, batch_size=batch_size, shuffle=shuffle)\n",
    "        dataloader_val = DataLoader(val_data, batch_size=batch_size, shuffle=False)\n",
    "\n",
    "        return dataloader_train, dataloader_val\n",
    "    else:\n",
    "        # Print the number of data samples\n",
    "        print(f\"Number of data samples in {data_folder}: {num_samples}\")\n",
    "\n",
    "        # Create a data loader for the data\n",
    "        dataloader = DataLoader(data_list, batch_size=batch_size, shuffle=shuffle)\n",
    "\n",
    "        return dataloader\n",
    "\n",
    "# Specify the paths to your train and test data folders\n",
    "data_folder_train = 'C:/University/master/Q4/Deep Learning/data-assignment2/data/task 1/train'\n",
    "data_folder_test = 'C:/University/master/Q4/Deep Learning/data-assignment2/data/task 1/test'\n",
    "\n",
    "# Define the batch size\n",
    "batch_size = 50\n",
    "\n",
    "# Create data loaders for train and validation sets (only if the folder contains \"train\")\n",
    "dataloader_train, dataloader_val = create_dataloader(data_folder_train, task='task 1', shuffle=True, batch_size=batch_size)\n",
    "\n",
    "# Create a separate data loader for the test set\n",
    "dataloader_test= create_dataloader(data_folder_test, task='task 1', shuffle=False, batch_size=batch_size)\n"
   ]
  },
  {
   "attachments": {},
   "cell_type": "markdown",
   "id": "18b2874d",
   "metadata": {},
   "source": [
    "# Model Implementation"
   ]
  },
  {
   "cell_type": "code",
   "execution_count": 48,
   "id": "ba598378",
   "metadata": {
    "ExecuteTime": {
     "end_time": "2023-06-18T00:40:03.363118Z",
     "start_time": "2023-06-18T00:40:03.358048Z"
    }
   },
   "outputs": [],
   "source": [
    "class Node_to_emb(nn.Module):\n",
    "    def __init__(self, node_feat_dim=4, node_emb_dim=64):\n",
    "        super().__init__()\n",
    "        self.emb_dim = node_emb_dim\n",
    "        self.node_dim = node_feat_dim\n",
    "        self.emb = nn.Linear(self.node_dim, self.emb_dim)\n",
    "\n",
    "    def forward(self, nodes):\n",
    "        assert nodes.size(-1) == self.node_dim, 'wrong input dimension of node features!'\n",
    "        out = self.emb(nodes)\n",
    "        return out\n",
    "\n",
    "class MpLayer(torch.nn.Module):\n",
    "    def __init__(self, hidden_dim, activation=nn.ReLU()):\n",
    "        super(MpLayer, self).__init__()\n",
    "        self.edge_network = nn.Sequential(\n",
    "            nn.Linear(2 * hidden_dim, hidden_dim),\n",
    "            activation,\n",
    "            nn.Linear(hidden_dim, hidden_dim),\n",
    "            activation\n",
    "        )\n",
    "        self.node_network = nn.Sequential(\n",
    "            nn.Linear(2 * hidden_dim, hidden_dim),\n",
    "            activation,\n",
    "            nn.Linear(hidden_dim, hidden_dim)\n",
    "        )\n",
    "\n",
    "    def forward(self, input_to_layer):\n",
    "        node_tensor, edge_idx_tensor = input_to_layer\n",
    "        edge_messages_input = torch.cat([node_tensor[edge_idx_tensor[0, :]], node_tensor[edge_idx_tensor[1, :]]], dim=-1)  # shape (num_edges, 2*node_dim + edge_dim)\n",
    "        edge_messages_output = self.edge_network(edge_messages_input)  # shape (num_edges, hidden_dim)\n",
    "\n",
    "        # Aggregate the edge messages for each node the edge points to\n",
    "        node_agg_messages = torch.zeros(node_tensor.size(0), node_tensor.size(1)).to(node_tensor.device)\n",
    "        node_agg_messages = node_agg_messages.scatter_add_(\n",
    "            dim=0, index=edge_idx_tensor[1].unsqueeze(-1).expand(-1, node_tensor.size(1)), src=edge_messages_output\n",
    "        )\n",
    "\n",
    "        # Put the aggregated messages through the node update network\n",
    "        node_out = self.node_network(torch.cat([node_tensor, node_agg_messages], dim=-1))\n",
    "\n",
    "        return node_out, edge_idx_tensor\n",
    "\n",
    "class MpGNN(nn.Module):\n",
    "    def __init__(self, node_feat_dim, hidden_dim, activation=nn.ReLU(), num_layers=5, num_classes=2):\n",
    "        super(MpGNN, self).__init__()\n",
    "        self.node_to_emb = Node_to_emb(node_feat_dim, hidden_dim)\n",
    "        self.forward_net = nn.Sequential(*[MpLayer(hidden_dim, activation) for _ in range(num_layers)])\n",
    "        self.to_pred = nn.Linear(hidden_dim, num_classes)\n",
    "\n",
    "    def forward(self, x, edge_index, batch):\n",
    "        x = self.node_to_emb(x)\n",
    "        input_model = (x, edge_index)\n",
    "        output_model = self.forward_net(input_model)\n",
    "        x, _ = output_model\n",
    "\n",
    "        out = torch.zeros(batch.size(0), x.size(1)).to(x.device)\n",
    "        idx_aggregate_graph = batch.unsqueeze(-1).expand(-1, x.size(1))\n",
    "\n",
    "        out.scatter_add_(dim=0, index=idx_aggregate_graph, src=x)  # aggregate all node embeddings per graph in the batch\n",
    "\n",
    "        x = self.to_pred(out)\n",
    "        return x"
   ]
  },
  {
   "attachments": {},
   "cell_type": "markdown",
   "id": "dea70d73",
   "metadata": {},
   "source": [
    "# Model Training"
   ]
  },
  {
   "cell_type": "code",
   "execution_count": 49,
   "id": "e95af5f9",
   "metadata": {
    "ExecuteTime": {
     "end_time": "2023-06-18T00:40:04.806884Z",
     "start_time": "2023-06-18T00:40:04.801166Z"
    }
   },
   "outputs": [
    {
     "name": "stdout",
     "output_type": "stream",
     "text": [
      "Loaded device: cpu\n"
     ]
    }
   ],
   "source": [
    "device = torch.device('cuda' if torch.cuda.is_available() else 'cpu')\n",
    "device='cpu'\n",
    "print(f'Loaded device: {device}')"
   ]
  },
  {
   "cell_type": "code",
   "execution_count": 75,
   "id": "07e03ddf",
   "metadata": {
    "ExecuteTime": {
     "end_time": "2023-06-18T00:40:46.958884Z",
     "start_time": "2023-06-18T00:40:44.860082Z"
    }
   },
   "outputs": [
    {
     "name": "stdout",
     "output_type": "stream",
     "text": [
      "Epoch: 001, Train Loss: 6.8007, Test Loss: 6.4457, Val Loss: 6.6957 . Training time so far: 0.5 s\n",
      "Epoch: 002, Train Loss: 6.7994, Test Loss: 6.4481, Val Loss: 6.6990 . Training time so far: 1.0 s\n",
      "Epoch: 003, Train Loss: 6.7961, Test Loss: 6.4424, Val Loss: 6.6994 . Training time so far: 1.5 s\n",
      "Epoch: 004, Train Loss: 6.7995, Test Loss: 6.4420, Val Loss: 6.6978 . Training time so far: 2.1 s\n",
      "Epoch: 005, Train Loss: 6.8047, Test Loss: 6.4458, Val Loss: 6.7078 . Training time so far: 2.6 s\n",
      "Epoch: 006, Train Loss: 6.7973, Test Loss: 6.4333, Val Loss: 6.6995 . Training time so far: 3.1 s\n",
      "Epoch: 007, Train Loss: 6.7980, Test Loss: 6.4343, Val Loss: 6.7023 . Training time so far: 3.6 s\n",
      "Epoch: 008, Train Loss: 6.8014, Test Loss: 6.4346, Val Loss: 6.7001 . Training time so far: 4.1 s\n",
      "Epoch: 009, Train Loss: 6.7975, Test Loss: 6.4327, Val Loss: 6.7013 . Training time so far: 4.6 s\n",
      "Epoch: 010, Train Loss: 6.7985, Test Loss: 6.4388, Val Loss: 6.7042 . Training time so far: 5.1 s\n",
      "Epoch: 011, Train Loss: 6.7973, Test Loss: 6.4371, Val Loss: 6.7029 . Training time so far: 5.6 s\n",
      "Epoch: 012, Train Loss: 6.7979, Test Loss: 6.4364, Val Loss: 6.7026 . Training time so far: 6.1 s\n",
      "Epoch: 013, Train Loss: 6.7972, Test Loss: 6.4332, Val Loss: 6.7033 . Training time so far: 6.6 s\n",
      "Epoch: 014, Train Loss: 6.7983, Test Loss: 6.4317, Val Loss: 6.7074 . Training time so far: 7.1 s\n",
      "Epoch: 015, Train Loss: 6.7980, Test Loss: 6.4335, Val Loss: 6.7039 . Training time so far: 7.7 s\n",
      "Epoch: 016, Train Loss: 6.7976, Test Loss: 6.4343, Val Loss: 6.7019 . Training time so far: 8.2 s\n",
      "Epoch: 017, Train Loss: 6.7980, Test Loss: 6.4339, Val Loss: 6.7029 . Training time so far: 8.7 s\n",
      "Epoch: 018, Train Loss: 6.7973, Test Loss: 6.4350, Val Loss: 6.7033 . Training time so far: 9.2 s\n",
      "Epoch: 019, Train Loss: 6.7991, Test Loss: 6.4346, Val Loss: 6.7034 . Training time so far: 9.7 s\n",
      "Epoch: 020, Train Loss: 6.7979, Test Loss: 6.4345, Val Loss: 6.7031 . Training time so far: 10.2 s\n",
      "Epoch: 021, Train Loss: 6.7984, Test Loss: 6.4338, Val Loss: 6.7046 . Training time so far: 10.8 s\n",
      "Epoch: 022, Train Loss: 6.7980, Test Loss: 6.4349, Val Loss: 6.7027 . Training time so far: 11.3 s\n",
      "Epoch: 023, Train Loss: 6.7974, Test Loss: 6.4347, Val Loss: 6.7016 . Training time so far: 11.9 s\n",
      "Epoch: 024, Train Loss: 6.7991, Test Loss: 6.4333, Val Loss: 6.7016 . Training time so far: 12.4 s\n",
      "Epoch: 025, Train Loss: 6.7981, Test Loss: 6.4320, Val Loss: 6.7024 . Training time so far: 12.9 s\n",
      "Epoch: 026, Train Loss: 6.7979, Test Loss: 6.4328, Val Loss: 6.7036 . Training time so far: 13.4 s\n",
      "Epoch: 027, Train Loss: 6.7978, Test Loss: 6.4329, Val Loss: 6.7033 . Training time so far: 14.0 s\n",
      "Epoch: 028, Train Loss: 6.7976, Test Loss: 6.4340, Val Loss: 6.7022 . Training time so far: 14.5 s\n",
      "Epoch: 029, Train Loss: 6.7979, Test Loss: 6.4361, Val Loss: 6.7017 . Training time so far: 15.0 s\n",
      "Epoch: 030, Train Loss: 6.7979, Test Loss: 6.4356, Val Loss: 6.7019 . Training time so far: 15.5 s\n",
      "Epoch: 031, Train Loss: 6.7981, Test Loss: 6.4358, Val Loss: 6.7018 . Training time so far: 16.0 s\n",
      "Epoch: 032, Train Loss: 6.7976, Test Loss: 6.4364, Val Loss: 6.7012 . Training time so far: 16.4 s\n",
      "Epoch: 033, Train Loss: 6.7979, Test Loss: 6.4357, Val Loss: 6.7012 . Training time so far: 17.0 s\n",
      "Epoch: 034, Train Loss: 6.7975, Test Loss: 6.4361, Val Loss: 6.7006 . Training time so far: 17.4 s\n",
      "Epoch: 035, Train Loss: 6.7975, Test Loss: 6.4362, Val Loss: 6.7008 . Training time so far: 17.9 s\n",
      "Epoch: 036, Train Loss: 6.7980, Test Loss: 6.4369, Val Loss: 6.7007 . Training time so far: 18.4 s\n",
      "Epoch: 037, Train Loss: 6.7977, Test Loss: 6.4356, Val Loss: 6.7010 . Training time so far: 18.9 s\n",
      "Epoch: 038, Train Loss: 6.7979, Test Loss: 6.4351, Val Loss: 6.7005 . Training time so far: 19.4 s\n",
      "Epoch: 039, Train Loss: 6.7977, Test Loss: 6.4352, Val Loss: 6.7013 . Training time so far: 19.9 s\n",
      "Epoch: 040, Train Loss: 6.7975, Test Loss: 6.4352, Val Loss: 6.7004 . Training time so far: 20.3 s\n",
      "Epoch: 041, Train Loss: 6.7976, Test Loss: 6.4355, Val Loss: 6.7005 . Training time so far: 20.8 s\n",
      "Epoch: 042, Train Loss: 6.7976, Test Loss: 6.4354, Val Loss: 6.7005 . Training time so far: 21.3 s\n",
      "Epoch: 043, Train Loss: 6.7976, Test Loss: 6.4344, Val Loss: 6.7001 . Training time so far: 21.8 s\n",
      "Epoch: 044, Train Loss: 6.7981, Test Loss: 6.4336, Val Loss: 6.7012 . Training time so far: 22.3 s\n",
      "Epoch: 045, Train Loss: 6.7971, Test Loss: 6.4336, Val Loss: 6.7015 . Training time so far: 22.8 s\n",
      "Epoch: 046, Train Loss: 6.7978, Test Loss: 6.4345, Val Loss: 6.7019 . Training time so far: 23.3 s\n",
      "Epoch: 047, Train Loss: 6.7975, Test Loss: 6.4350, Val Loss: 6.7019 . Training time so far: 23.8 s\n",
      "Epoch: 048, Train Loss: 6.7978, Test Loss: 6.4348, Val Loss: 6.7010 . Training time so far: 24.2 s\n",
      "Epoch: 049, Train Loss: 6.7972, Test Loss: 6.4341, Val Loss: 6.7010 . Training time so far: 24.7 s\n",
      "Epoch: 050, Train Loss: 6.7976, Test Loss: 6.4348, Val Loss: 6.7014 . Training time so far: 25.3 s\n"
     ]
    }
   ],
   "source": [
    "import time\n",
    "import torch.nn.functional as F\n",
    "import math\n",
    "\n",
    "\n",
    "model = MpGNN(node_feat_dim=4, hidden_dim=32, num_layers=5)\n",
    "model.to(device)\n",
    "\n",
    "optimizer = torch.optim.Adam(model.parameters(), lr= 0.009)\n",
    "loss_func = torch.nn.MSELoss()\n",
    "\n",
    "def train():\n",
    "    model.train()\n",
    "    for data in dataloader_train:\n",
    "        data.to(device)\n",
    "        optimizer.zero_grad()\n",
    "        out = model(data.x, data.edge_index, data.batch)\n",
    "        loss = loss_func(out, data.y)\n",
    "        loss.backward()\n",
    "        optimizer.step()\n",
    "        \n",
    "        \n",
    "def test(loader):\n",
    "    model.eval()\n",
    "    mse = 0.0\n",
    "    total = 0\n",
    "\n",
    "    for data in loader:\n",
    "        data.to(device)\n",
    "        out = model(data.x, data.edge_index, data.batch)\n",
    "        mse += F.mse_loss(out, data.y, reduction='sum').item()\n",
    "        total += data.y.size(0)\n",
    "\n",
    "    mse /= total\n",
    "    rmse = math.sqrt(mse)\n",
    "\n",
    "    return rmse\n",
    "\n",
    "train_losses = []\n",
    "test_losses = []\n",
    "val_losses = []\n",
    "\n",
    "epochs = 50\n",
    "start = time.time()\n",
    "\n",
    "for epoch in range(1, epochs + 1):\n",
    "    train()\n",
    "    with torch.no_grad():\n",
    "        train_loss = test(dataloader_train)\n",
    "        test_loss = test(dataloader_test)\n",
    "        val_loss = test(dataloader_val)\n",
    "    toc = time.time()\n",
    "    print(f'Epoch: {epoch:03d}, Train Loss: {train_loss:.4f}, Test Loss: {test_loss:.4f}, Val Loss: {val_loss:.4f} . Training time so far: {toc - start:.1f} s')\n",
    "    train_losses.append(train_loss)\n",
    "    test_losses.append(test_loss)\n",
    "    val_losses.append(val_loss)\n"
   ]
  },
  {
   "cell_type": "code",
   "execution_count": 76,
   "id": "2d073cca",
   "metadata": {
    "ExecuteTime": {
     "end_time": "2023-06-18T00:40:49.239416Z",
     "start_time": "2023-06-18T00:40:49.235045Z"
    },
    "collapsed": false
   },
   "outputs": [],
   "source": [
    "def plot_train(train_losses, test_losses, val_losses):\n",
    "    fig, ax = plt.subplots(figsize=(8, 6))\n",
    "    fnt = 16\n",
    "    epochs = range(1, len(train_losses) + 1)\n",
    "    ax.plot(epochs, train_losses, color='blue', label='Train')\n",
    "    ax.plot(epochs, test_losses, color='green', linestyle='--', label='Test')\n",
    "    ax.plot(epochs, val_losses, color='red', linestyle='-.', label='Validation')\n",
    "    ax.legend(fontsize=fnt)\n",
    "    ax.tick_params(axis='both', labelsize=fnt)\n",
    "    ax.set_xlabel('Epoch', fontsize=fnt)\n",
    "    ax.set_ylabel('Loss', fontsize=fnt)\n"
   ]
  },
  {
   "cell_type": "code",
   "execution_count": 77,
   "id": "7f0ed8a9",
   "metadata": {
    "ExecuteTime": {
     "end_time": "2023-06-18T00:40:49.685859Z",
     "start_time": "2023-06-18T00:40:49.625673Z"
    },
    "collapsed": false
   },
   "outputs": [
    {
     "data": {
      "image/png": "[encoded data removed]",
      "text/plain": [
       "<Figure size 800x600 with 1 Axes>"
      ]
     },
     "metadata": {},
     "output_type": "display_data"
    }
   ],
   "source": [
    "plot_train(train_losses, test_losses, val_losses)"
   ]
  },
  {
   "attachments": {},
   "cell_type": "markdown",
   "id": "d5fb3b29",
   "metadata": {
    "ExecuteTime": {
     "end_time": "2023-06-17T17:05:10.443904Z",
     "start_time": "2023-06-17T17:05:10.437284Z"
    }
   },
   "source": [
    "# Evaluation"
   ]
  },
  {
   "cell_type": "code",
   "execution_count": 78,
   "id": "0b8ec6da",
   "metadata": {
    "ExecuteTime": {
     "end_time": "2023-06-18T00:40:52.763395Z",
     "start_time": "2023-06-18T00:40:52.751610Z"
    },
    "collapsed": false
   },
   "outputs": [
    {
     "name": "stdout",
     "output_type": "stream",
     "text": [
      "Final Test accuracy: 6.797613169051806\n"
     ]
    }
   ],
   "source": [
    "print(f'Final Test accuracy: {train_losses[-1]}')"
   ]
  },
  {
   "cell_type": "code",
   "execution_count": null,
   "metadata": {
    "collapsed": false
   },
   "outputs": [],
   "source": []
  }
 ],
 "metadata": {
  "kernelspec": {
   "display_name": "Python 3 (ipykernel)",
   "language": "python",
   "name": "python3"
  },
  "language_info": {
   "codemirror_mode": {
    "name": "ipython",
    "version": 3
   },
   "file_extension": ".py",
   "mimetype": "text/x-python",
   "name": "python",
   "nbconvert_exporter": "python",
   "pygments_lexer": "ipython3",
   "version": "3.11.2"
  }
 },
 "nbformat": 4,
 "nbformat_minor": 5
}
