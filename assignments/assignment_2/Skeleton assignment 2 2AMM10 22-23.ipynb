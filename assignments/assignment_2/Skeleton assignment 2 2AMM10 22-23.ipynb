{
 "cells": [
  {
   "attachments": {},
   "cell_type": "markdown",
   "id": "d32f8d18",
   "metadata": {},
   "source": [
    "# Group Details\n",
    "\n",
    "## Group Name: 12\n",
    "\n",
    "### Student 1: Denise La Gordt Dillie\n",
    "\n",
    "### Student 2: Andreea Maican\n",
    "\n",
    "### Student 3: Sambhav Jain"
   ]
  },
  {
   "attachments": {},
   "cell_type": "markdown",
   "id": "faec2056",
   "metadata": {},
   "source": [
    "# Loading Data and Preliminaries"
   ]
  },
  {
   "cell_type": "code",
   "execution_count": 1,
   "id": "7d0580a5",
   "metadata": {
    "ExecuteTime": {
     "end_time": "2023-06-23T00:45:43.149943Z",
     "start_time": "2023-06-23T00:45:43.087900Z"
    }
   },
   "outputs": [
    {
     "name": "stderr",
     "output_type": "stream",
     "text": [
      "c:\\.virtualenvs\\venv\\lib\\site-packages\\tqdm\\auto.py:22: TqdmWarning: IProgress not found. Please update jupyter and ipywidgets. See https://ipywidgets.readthedocs.io/en/stable/user_install.html\n",
      "  from .autonotebook import tqdm as notebook_tqdm\n"
     ]
    }
   ],
   "source": [
    "import matplotlib.pyplot as plt\n",
    "import matplotlib\n",
    "import numpy as np\n",
    "import torch\n",
    "from torch_geometric.data import Data\n",
    "import torch.nn as nn\n",
    "import torch.nn.functional as F\n",
    "from torch_geometric.loader import DataLoader\n",
    "import os\n",
    "import math\n",
    "import random\n",
    "import time\n",
    "from sklearn.metrics import r2_score, mean_absolute_error\n",
    "from tqdm import tqdm\n",
    "from torch_geometric.nn import SAGEConv, global_mean_pool\n",
    "from torch_geometric.data import batch\n",
    "from torch.nn import Linear"
   ]
  },
  {
   "cell_type": "code",
   "execution_count": 2,
   "id": "b0756591",
   "metadata": {
    "ExecuteTime": {
     "end_time": "2023-06-23T00:45:43.150065Z",
     "start_time": "2023-06-23T00:45:43.092626Z"
    }
   },
   "outputs": [],
   "source": [
    "def load_array(filename, task):\n",
    "    datapoint = np.load(filename)\n",
    "    if task == 'task 1':\n",
    "        initial_state = datapoint['initial_state']\n",
    "        terminal_state = datapoint['terminal_state']\n",
    "        return initial_state, terminal_state\n",
    "    elif task == 'task 2' or task == 'task 3':\n",
    "        whole_trajectory = datapoint['trajectory']\n",
    "        # change shape: (num_bodies, attributes, time) ->  num_bodies, time, attributes\n",
    "        whole_trajectory = np.swapaxes(whole_trajectory, 1, 2)\n",
    "        initial_state = whole_trajectory[:, 0]\n",
    "        target = whole_trajectory[:, 1:, 1:]  # drop the first timepoint (second dim) and mass (last dim) for the prediction task\n",
    "        return initial_state, target\n",
    "    else:\n",
    "        raise NotImplementedError(\"'task' argument should be 'task 1', 'task 2' or 'task 3'!\")"
   ]
  },
  {
   "cell_type": "code",
   "execution_count": 3,
   "id": "bb77a4be",
   "metadata": {
    "ExecuteTime": {
     "end_time": "2023-06-23T00:45:43.151554Z",
     "start_time": "2023-06-23T00:45:43.096282Z"
    }
   },
   "outputs": [
    {
     "name": "stdout",
     "output_type": "stream",
     "text": [
      "shape of initial state (model input): (8, 5)\n",
      "[[ 4.54673709 -5.27118739  5.07863417 -1.09690628 -3.66929964]\n",
      " [ 3.57509525  4.3270607  -0.08095022 -0.57868726 -2.95971243]\n",
      " [ 2.67733735 -5.15972108  5.35238208  2.42652043  1.45870728]\n",
      " [ 2.27455417 -6.79584511  2.29632123  0.30418238 -0.4065998 ]\n",
      " [ 2.38359341 -2.75861066  1.77940931 -0.07643627 -0.35954359]\n",
      " [ 4.28596268  0.34981219  4.8286224   1.35630962 -2.55760522]\n",
      " [ 3.03118516 -0.50562258 15.04631712 -0.94772523 14.98127867]\n",
      " [ 4.13530017  1.81342682  3.84375499 -0.6989711  -2.25092411]]\n",
      "shape of terminal state (to be predicted by model): (8, 2)\n",
      "The initial x-coordinate of the body with index 2 in this trajectory was -5.159721083543527\n"
     ]
    }
   ],
   "source": [
    "\"\"\"\n",
    "This cell gives an example of loading a datapoint with numpy for task 1.\n",
    "\n",
    "The arrays returned by the function are structures as follows:\n",
    "initial_state: shape (n_bodies, [mass, x, y, v_x, v_y])\n",
    "terminal_state: shape (n_bodies, [x, y])\n",
    "\n",
    "\"\"\"\n",
    "\n",
    "example = load_array('C:/Users/Gebruiker/OneDrive - TU Eindhoven/TUe/Master/2AMM10/tue-deeplearning/assignments/assignment_2/data/task 1/train/trajectory_0.npz', task='task 1')\n",
    "\n",
    "initial_state, terminal_state = example\n",
    "print(f'shape of initial state (model input): {initial_state.shape}')\n",
    "print(initial_state)\n",
    "print(f'shape of terminal state (to be predicted by model): {terminal_state.shape}')\n",
    "\n",
    "body_idx = 2\n",
    "print(f'The initial x-coordinate of the body with index {body_idx} in this trajectory was {initial_state[body_idx, 1]}')"
   ]
  },
  {
   "cell_type": "code",
   "execution_count": 4,
   "id": "1c3ea4cb",
   "metadata": {
    "ExecuteTime": {
     "end_time": "2023-06-23T00:45:43.207808Z",
     "start_time": "2023-06-23T00:45:43.101625Z"
    }
   },
   "outputs": [
    {
     "name": "stdout",
     "output_type": "stream",
     "text": [
      "shape of initial state (model input): (8, 5)\n",
      "shape of terminal state (to be predicted by model): (8, 49, 4)\n",
      "The y-coordinate of the body with index 2 at time with index 30 in remaining_trajectory was -0.3861544940435097\n",
      "the shape of the input of a test data example is (8, 5)\n",
      "the shape of the target of a test data example is (8, 49, 4)\n",
      "values of the test data example at time 30:\n",
      " [[-5.85725792 -5.394571           nan         nan]\n",
      " [-6.03781257 -5.72445953         nan         nan]\n",
      " [-0.90623054 -6.93416278         nan         nan]\n",
      " [ 2.83149339 -7.50100819         nan         nan]\n",
      " [-2.85586881  1.77667501         nan         nan]\n",
      " [ 4.04424526  4.00563603         nan         nan]\n",
      " [-5.24887713 -4.83081005         nan         nan]\n",
      " [-5.81391023 -5.1109838          nan         nan]]\n",
      "note: velocity values are unobserved (NaNs) in the test data!\n"
     ]
    }
   ],
   "source": [
    "\"\"\"\n",
    "This cell gives an example of loading a datapoint with numpy for task 2 / 3.\n",
    "\n",
    "The arrays returned by the function are structures as follows:\n",
    "initial_state: shape (n_bodies, [mass, x, y, v_x, v_y])\n",
    "remaining_trajectory: shape (n_bodies, time, [x, y, v_x, v_y])\n",
    "\n",
    "Note that for this task, you are asked to evaluate performance only with regard to the predictions of the positions (x and y).\n",
    "If you use the velocity of the remaining trajectory for training,\n",
    "this use should be purely auxiliary for the goal of predicting the positions [x,y] over time. \n",
    "While testing performance of your model on the test set, you do not have access to v_x and v_y of the remaining trajectory.\n",
    "\n",
    "\"\"\"\n",
    "\n",
    "example = load_array('C:/Users/Gebruiker/OneDrive - TU Eindhoven/TUe/Master/2AMM10/tue-deeplearning/assignments/assignment_2/data/task 2_3/train/trajectory_0.npz', task='task 2')\n",
    "\n",
    "initial_state, remaining_trajectory = example\n",
    "print(f'shape of initial state (model input): {initial_state.shape}')\n",
    "print(f'shape of terminal state (to be predicted by model): {remaining_trajectory.shape}')\n",
    "\n",
    "body_idx = 2\n",
    "time_idx = 30\n",
    "print(f'The y-coordinate of the body with index {body_idx} at time with index {time_idx} in remaining_trajectory was {remaining_trajectory[body_idx, time_idx, 1]}')\n",
    "\n",
    "test_example = load_array('C:/Users/Gebruiker/OneDrive - TU Eindhoven/TUe/Master/2AMM10/tue-deeplearning/assignments/assignment_2/data/task 2_3/test/trajectory_900.npz', task='task 3')\n",
    "test_initial_state, test_remaining_trajectory = test_example\n",
    "print(f'the shape of the input of a test data example is {test_initial_state.shape}')\n",
    "print(f'the shape of the target of a test data example is {test_remaining_trajectory.shape}')\n",
    "print(f'values of the test data example at time {time_idx}:\\n {test_remaining_trajectory[:, time_idx]}')\n",
    "print('note: velocity values are unobserved (NaNs) in the test data!')"
   ]
  },
  {
   "cell_type": "code",
   "execution_count": 5,
   "id": "10a3438a",
   "metadata": {
    "ExecuteTime": {
     "end_time": "2023-06-23T00:45:43.210236Z",
     "start_time": "2023-06-23T00:45:43.107670Z"
    }
   },
   "outputs": [
    {
     "data": {
      "text/plain": [
       "array([[ 4.31455329, -4.99311363, -5.10150489,  2.2491171 , -1.82520359],\n",
       "       [ 2.58525749, -4.92574075, -4.7534334 , -4.81897728, -3.07212095],\n",
       "       [ 2.40449047,  2.23254187, -6.04595524, -0.67381217, -0.58798851],\n",
       "       [ 2.28318603,  5.6605113 , -3.76376281, -0.41268251, -1.19812499],\n",
       "       [ 4.09793595, -4.73678906, -3.94704856,  1.13634781,  4.98383634],\n",
       "       [ 4.5579536 , -0.08848969,  5.42483477,  1.460317  , -0.21585929],\n",
       "       [ 3.42356878, -4.91282501, -4.6779343 ,  0.94123905,  2.66425652],\n",
       "       [ 3.59288181, -4.48225046, -4.548729  , -2.56573061, -2.39203918]])"
      ]
     },
     "execution_count": 5,
     "metadata": {},
     "output_type": "execute_result"
    }
   ],
   "source": [
    "test_initial_state"
   ]
  },
  {
   "attachments": {},
   "cell_type": "markdown",
   "id": "57a67e41",
   "metadata": {
    "collapsed": false
   },
   "source": [
    "# Task 1"
   ]
  },
  {
   "attachments": {},
   "cell_type": "markdown",
   "id": "059b633c",
   "metadata": {},
   "source": [
    "# Data Handling and Preprocessing"
   ]
  },
  {
   "cell_type": "code",
   "execution_count": 6,
   "id": "d32d5f8e",
   "metadata": {
    "ExecuteTime": {
     "end_time": "2023-06-23T00:45:43.212083Z",
     "start_time": "2023-06-23T00:45:43.114277Z"
    }
   },
   "outputs": [
    {
     "name": "stdout",
     "output_type": "stream",
     "text": [
      "tensor([[ 1.0000, -0.2252,  0.0762,  0.2000,  0.1000],\n",
      "        [ 2.0000,  0.1871,  0.0762,  0.3000,  0.2000],\n",
      "        [ 0.5000, -0.2980, -0.4574,  0.9000,  1.0000]]) tensor([[0, 0, 1],\n",
      "        [1, 2, 2]]) tensor([[11.7647],\n",
      "        [ 1.7241],\n",
      "        [ 1.9231]]) tensor([[-0.0554,  0.2217],\n",
      "        [-0.0554, -0.1906],\n",
      "        [-0.3707, -0.5786]])\n"
     ]
    }
   ],
   "source": [
    "def create_graph_data_task1(initial_state, terminal_state):\n",
    "    initial_state = np.array(initial_state)\n",
    "    terminal_state = np.array(terminal_state)\n",
    "\n",
    "    n_bodies = initial_state.shape[0]\n",
    "    num_features = initial_state.shape[1]\n",
    "\n",
    "    # Calculate center of mass\n",
    "    total_mass = np.sum(initial_state[:, 0])\n",
    "    center_of_mass_x = np.sum(initial_state[:, 1] * initial_state[:, 0]) / total_mass\n",
    "    center_of_mass_y = np.sum(initial_state[:, 2] * initial_state[:, 0]) / total_mass\n",
    "\n",
    "    # Adjust positions relative to center of mass for initial and terminal states\n",
    "    initial_state[:, 1] -= center_of_mass_x\n",
    "    initial_state[:, 2] -= center_of_mass_y\n",
    "    \n",
    "    terminal_state[:, 0] -= center_of_mass_x\n",
    "    terminal_state[:, 1] -= center_of_mass_y\n",
    "    \n",
    "    # Find the indices of the two most massive objects\n",
    "    mass_indices = np.argsort(initial_state[:, 0])\n",
    "    indices = mass_indices[-2:]\n",
    "    \n",
    "    # Calculate the vector between the two most massive objects\n",
    "    vector = initial_state[indices[1], 1:3] - initial_state[indices[0], 1:3]\n",
    "    \n",
    "    # Calculate the angle of rotation based on the vector\n",
    "    angle = math.atan2(vector[1], vector[0])\n",
    "    \n",
    "    # Apply rotation to the positions\n",
    "    rot_matrix = np.array([[math.cos(-angle), -math.sin(-angle)], [math.sin(-angle), math.cos(-angle)]])\n",
    "    initial_state[:, 1:3] = np.matmul(rot_matrix, initial_state[:, 1:3].T).T\n",
    "    terminal_state = np.matmul(rot_matrix, terminal_state.T).T\n",
    "    \n",
    "    # Create node features tensor\n",
    "    node_features = torch.tensor(initial_state, dtype=torch.float)\n",
    "    node_features = node_features.view(-1, num_features)  # Reshape to (num_nodes, num_features)\n",
    "\n",
    "    # Create edge index tensor\n",
    "    edge_index = torch.tensor([[i, j] for i in range(n_bodies) for j in range(n_bodies) if (i != j and i<j)], dtype=torch.long)\n",
    "    edge_index = edge_index.t().contiguous()  # Reshape to (2, num_edges)\n",
    "\n",
    "    # Create edge features tensor\n",
    "    num_edges = edge_index.size(1)\n",
    "    edge_features = torch.empty(num_edges, 1, dtype=torch.float)\n",
    "    # Populate edge features with force\n",
    "    for k, (i, j) in enumerate(edge_index.t()):\n",
    "        dx = node_features[i, 1] - node_features[j, 1]\n",
    "        dy = node_features[i, 2] - node_features[j, 2]\n",
    "        distance = torch.sqrt(dx**2 + dy**2)\n",
    "        force = ((node_features[i,0]*node_features[j,0])/(distance**2 + 1e-8))\n",
    "        edge_features[k] = force\n",
    "\n",
    "    # Create target tensor\n",
    "    target = torch.tensor(terminal_state, dtype=torch.float).view(-1, 2)  # Reshape to (num_nodes, num_features + 1)\n",
    "\n",
    "    # Create PyG Data object\n",
    "    data = Data(x=node_features, edge_index=edge_index, edge_attr=edge_features, y=target)\n",
    "\n",
    "    return data\n",
    "\n",
    "# Example usage\n",
    "initial_state = [[1.0, 0.5, 0.3, 0.2, 0.1], [2.0, 0.1, 0.4, 0.3, 0.2], [0.5, 0.7, 0.8, 0.9, 1.0]]\n",
    "terminal_state = [[0.3, 0.2], [0.4, 0.6], [0.8, 0.9]]\n",
    "\n",
    "graph_data = create_graph_data_task1(initial_state, terminal_state)\n",
    "print(graph_data.x, graph_data.edge_index, graph_data.edge_attr, graph_data.y)"
   ]
  },
  {
   "cell_type": "code",
   "execution_count": 7,
   "id": "9bbc8271",
   "metadata": {
    "ExecuteTime": {
     "end_time": "2023-06-23T00:45:44.107706Z",
     "start_time": "2023-06-23T00:45:43.117886Z"
    }
   },
   "outputs": [
    {
     "name": "stdout",
     "output_type": "stream",
     "text": [
      "Number of data samples in C:/Users/Gebruiker/OneDrive - TU Eindhoven/TUe/Master/2AMM10/tue-deeplearning/assignments/assignment_2/data/task 1/train: 900\n",
      "Number of training samples: 720\n",
      "Number of validation samples: 180\n",
      "Number of data samples in C:/Users/Gebruiker/OneDrive - TU Eindhoven/TUe/Master/2AMM10/tue-deeplearning/assignments/assignment_2/data/task 1/test: 100\n"
     ]
    }
   ],
   "source": [
    "def create_dataloader_task1(data_folder, task, shuffle, batch_size, train_ratio=0.8):\n",
    "    data_list = []  # List to store the Data objects\n",
    "\n",
    "    # Loop over all files in the folder\n",
    "    for filename in os.listdir(data_folder):\n",
    "        file_path = os.path.join(data_folder, filename)\n",
    "\n",
    "        # Read the data from the file (modify this part based on your file format)\n",
    "        states = load_array(file_path, task=task)\n",
    "        initial_state, terminal_state = states\n",
    "\n",
    "        # Create the Data object using create_graph_data function\n",
    "        data = create_graph_data_task1(initial_state, terminal_state)\n",
    "\n",
    "        # Append the Data object to the list\n",
    "        data_list.append(data)\n",
    "\n",
    "    # Shuffle the data if specified\n",
    "    if shuffle:\n",
    "        random.shuffle(data_list)\n",
    "\n",
    "    # Calculate the number of samples\n",
    "    num_samples = len(data_list)\n",
    "\n",
    "    if \"train\" in data_folder:\n",
    "        # Calculate the number of samples for train and validation\n",
    "        num_train = int(train_ratio * num_samples)\n",
    "        num_val = num_samples - num_train\n",
    "\n",
    "        # Split the data into train and validation sets\n",
    "        train_data = data_list[:num_train]\n",
    "        val_data = data_list[num_train:]\n",
    "\n",
    "        # Print the number of data samples\n",
    "        print(f\"Number of data samples in {data_folder}: {num_samples}\")\n",
    "        print(f\"Number of training samples: {num_train}\")\n",
    "        print(f\"Number of validation samples: {num_val}\")\n",
    "\n",
    "        # Create data loaders for train and validation sets\n",
    "        dataloader_train = DataLoader(train_data, batch_size=batch_size, shuffle=shuffle)\n",
    "        dataloader_val = DataLoader(val_data, batch_size=batch_size, shuffle=False)\n",
    "\n",
    "        return dataloader_train, dataloader_val, data_list\n",
    "    else:\n",
    "        # Print the number of data samples\n",
    "        print(f\"Number of data samples in {data_folder}: {num_samples}\")\n",
    "\n",
    "        # Create a data loader for the data\n",
    "        dataloader = DataLoader(data_list, batch_size=batch_size, shuffle=shuffle)\n",
    "\n",
    "        return dataloader, data_list\n",
    "\n",
    "# Specify the paths to your train and test data folders\n",
    "data_folder_train = 'C:/Users/Gebruiker/OneDrive - TU Eindhoven/TUe/Master/2AMM10/tue-deeplearning/assignments/assignment_2/data/task 1/train'\n",
    "data_folder_test = 'C:/Users/Gebruiker/OneDrive - TU Eindhoven/TUe/Master/2AMM10/tue-deeplearning/assignments/assignment_2/data/task 1/test'\n",
    "\n",
    "# Define the batch size\n",
    "batch_size = 50\n",
    "\n",
    "# Create data loaders for train and validation sets (only if the folder contains \"train\")\n",
    "dataloader_train, dataloader_val, data_list = create_dataloader_task1(data_folder_train, task='task 1', shuffle=True, batch_size=batch_size)\n",
    "\n",
    "# Create a separate data loader for the test set\n",
    "dataloader_test, data_list_test = create_dataloader_task1(data_folder_test, task='task 1', shuffle=False, batch_size=batch_size)"
   ]
  },
  {
   "attachments": {},
   "cell_type": "markdown",
   "id": "18b2874d",
   "metadata": {},
   "source": [
    "# Model Implementation"
   ]
  },
  {
   "cell_type": "code",
   "execution_count": 8,
   "id": "ef8b18af",
   "metadata": {
    "ExecuteTime": {
     "end_time": "2023-06-23T00:45:44.110105Z",
     "start_time": "2023-06-23T00:45:44.108536Z"
    }
   },
   "outputs": [],
   "source": [
    "class GNN(torch.nn.Module):\n",
    "    def __init__(self):\n",
    "        super(GNN, self).__init__()\n",
    "\n",
    "        self.conv1 = SAGEConv(5, 64)\n",
    "        self.conv2 = SAGEConv(64, 128)\n",
    "        self.conv3 = SAGEConv(128, 256)\n",
    "        self.conv4 = SAGEConv(256, 512)\n",
    "        self.conv5 = SAGEConv(512, 256)\n",
    "        self.conv6 = SAGEConv(256, 2)\n",
    "\n",
    "    def forward(self, data):\n",
    "        x, edge_index = data.x, data.edge_index\n",
    "\n",
    "        x = F.relu(self.conv1(x, edge_index))\n",
    "        x = F.relu(self.conv2(x, edge_index))\n",
    "        x = F.relu(self.conv3(x, edge_index))\n",
    "        x = F.relu(self.conv4(x, edge_index))\n",
    "        x = F.relu(self.conv5(x, edge_index))\n",
    "        x = self.conv6(x, edge_index)\n",
    "\n",
    "        return x"
   ]
  },
  {
   "attachments": {},
   "cell_type": "markdown",
   "id": "dea70d73",
   "metadata": {},
   "source": [
    "# Model Training"
   ]
  },
  {
   "cell_type": "code",
   "execution_count": 9,
   "id": "e95af5f9",
   "metadata": {
    "ExecuteTime": {
     "end_time": "2023-06-23T00:45:44.113929Z",
     "start_time": "2023-06-23T00:45:44.111488Z"
    }
   },
   "outputs": [
    {
     "name": "stdout",
     "output_type": "stream",
     "text": [
      "Loaded device: cpu\n"
     ]
    }
   ],
   "source": [
    "device = torch.device('cuda' if torch.cuda.is_available() else 'cpu')\n",
    "device='cpu'\n",
    "print(f'Loaded device: {device}')"
   ]
  },
  {
   "cell_type": "code",
   "execution_count": 10,
   "id": "a5e1d7e8",
   "metadata": {
    "ExecuteTime": {
     "end_time": "2023-06-23T00:45:44.178652Z",
     "start_time": "2023-06-23T00:45:44.172526Z"
    },
    "collapsed": false
   },
   "outputs": [],
   "source": [
    "model = GNN().to(device)\n",
    "optimizer = torch.optim.Adam(model.parameters(), lr=0.005)\n",
    "loss_func = torch.nn.MSELoss()\n",
    "\n",
    "def train(loader):\n",
    "    model.train()\n",
    "    total_loss = 0\n",
    "    total_r2_score = 0\n",
    "    total_mae = 0\n",
    "    total_samples = 0\n",
    "\n",
    "    for data in loader:\n",
    "        data.to(device)\n",
    "        optimizer.zero_grad()\n",
    "        output = model(data)\n",
    "        loss = loss_func(output, data.y)\n",
    "        loss.backward()\n",
    "        optimizer.step()\n",
    "        total_loss += loss.item()\n",
    "        predictions = output.detach().cpu().numpy()\n",
    "        true_labels = data.y.detach().cpu().numpy()\n",
    "        batch_size = true_labels.shape[0]\n",
    "        total_samples += batch_size\n",
    "\n",
    "         # R2 Score\n",
    "        total_r2_score += r2_score(true_labels, predictions) * batch_size\n",
    "\n",
    "        # MAE\n",
    "        mae = mean_absolute_error(true_labels, predictions)\n",
    "        total_mae += mae * batch_size\n",
    "\n",
    "    avg_loss = total_loss / len(loader)\n",
    "    avg_r2_score = total_r2_score / total_samples\n",
    "    avg_mae = total_mae / total_samples\n",
    "\n",
    "    return avg_loss, avg_r2_score, avg_mae\n",
    "\n",
    "def evaluate(loader):\n",
    "    model.eval()\n",
    "    total_loss = 0\n",
    "    total_r2_score = 0\n",
    "    total_mae = 0\n",
    "    total_samples = 0\n",
    "\n",
    "    with torch.no_grad():\n",
    "        for data in loader:\n",
    "            data.to(device)\n",
    "            output = model(data)\n",
    "            loss = loss_func(output, data.y)\n",
    "            total_loss += loss.item()\n",
    "\n",
    "            predictions = output.detach().cpu().numpy()\n",
    "            true_labels = data.y.detach().cpu().numpy()\n",
    "            batch_size = true_labels.shape[0]\n",
    "            total_samples += batch_size\n",
    "\n",
    "            # R2 Score\n",
    "            total_r2_score += r2_score(true_labels, predictions) * batch_size\n",
    "\n",
    "            # MAE\n",
    "            mae = mean_absolute_error(true_labels, predictions)\n",
    "            total_mae += mae * batch_size\n",
    "\n",
    "    avg_loss = total_loss / len(loader)\n",
    "    avg_r2_score = total_r2_score / total_samples\n",
    "    avg_mae = total_mae / total_samples\n",
    "\n",
    "    return avg_loss, avg_r2_score, avg_mae"
   ]
  },
  {
   "cell_type": "code",
   "execution_count": 11,
   "id": "cb2577ba",
   "metadata": {
    "ExecuteTime": {
     "end_time": "2023-06-23T00:45:52.878221Z",
     "start_time": "2023-06-23T00:45:44.180444Z"
    },
    "collapsed": false
   },
   "outputs": [
    {
     "name": "stderr",
     "output_type": "stream",
     "text": [
      "  0%|          | 0/50 [00:00<?, ?it/s]"
     ]
    },
    {
     "name": "stderr",
     "output_type": "stream",
     "text": [
      "  2%|▏         | 1/50 [00:01<01:30,  1.85s/it]"
     ]
    },
    {
     "name": "stdout",
     "output_type": "stream",
     "text": [
      "EPOCH: 001, TRAIN LOSS: 13.2161, VAL LOSS: 7.9661, TEST LOSS: 6.2628. TRAINING TIME SO FAR: 1.9 s\n",
      "TRAIN R2: 0.3284, VAL R2: 0.5571, TEST R2: 0.6497\n",
      "TRAIN MAE: 2.7941, VAL MAE: 2.1615, TEST MAE: 1.9637\n",
      "\n"
     ]
    },
    {
     "name": "stderr",
     "output_type": "stream",
     "text": [
      "  4%|▍         | 2/50 [00:03<01:18,  1.65s/it]"
     ]
    },
    {
     "name": "stdout",
     "output_type": "stream",
     "text": [
      "EPOCH: 002, TRAIN LOSS: 8.2273, VAL LOSS: 7.1475, TEST LOSS: 6.0370. TRAINING TIME SO FAR: 3.4 s\n",
      "TRAIN R2: 0.5946, VAL R2: 0.5980, TEST R2: 0.6632\n",
      "TRAIN MAE: 2.0920, VAL MAE: 2.0553, TEST MAE: 1.9100\n",
      "\n"
     ]
    },
    {
     "name": "stderr",
     "output_type": "stream",
     "text": [
      "  6%|▌         | 3/50 [00:05<01:19,  1.68s/it]"
     ]
    },
    {
     "name": "stdout",
     "output_type": "stream",
     "text": [
      "EPOCH: 003, TRAIN LOSS: 7.7296, VAL LOSS: 6.6866, TEST LOSS: 5.4246. TRAINING TIME SO FAR: 5.1 s\n",
      "TRAIN R2: 0.6225, VAL R2: 0.6248, TEST R2: 0.6972\n",
      "TRAIN MAE: 2.0092, VAL MAE: 1.9429, TEST MAE: 1.7994\n",
      "\n"
     ]
    },
    {
     "name": "stderr",
     "output_type": "stream",
     "text": [
      "  8%|▊         | 4/50 [00:06<01:17,  1.68s/it]"
     ]
    },
    {
     "name": "stdout",
     "output_type": "stream",
     "text": [
      "EPOCH: 004, TRAIN LOSS: 7.2690, VAL LOSS: 6.6255, TEST LOSS: 5.3213. TRAINING TIME SO FAR: 6.8 s\n",
      "TRAIN R2: 0.6380, VAL R2: 0.6278, TEST R2: 0.7019\n",
      "TRAIN MAE: 1.9566, VAL MAE: 1.9477, TEST MAE: 1.7809\n",
      "\n"
     ]
    },
    {
     "name": "stderr",
     "output_type": "stream",
     "text": [
      " 10%|█         | 5/50 [00:08<01:16,  1.69s/it]"
     ]
    },
    {
     "name": "stdout",
     "output_type": "stream",
     "text": [
      "EPOCH: 005, TRAIN LOSS: 7.3284, VAL LOSS: 6.6488, TEST LOSS: 5.1500. TRAINING TIME SO FAR: 8.5 s\n",
      "TRAIN R2: 0.6368, VAL R2: 0.6256, TEST R2: 0.7117\n",
      "TRAIN MAE: 1.9637, VAL MAE: 1.9363, TEST MAE: 1.7472\n",
      "\n"
     ]
    },
    {
     "name": "stderr",
     "output_type": "stream",
     "text": [
      " 12%|█▏        | 6/50 [00:10<01:13,  1.67s/it]"
     ]
    },
    {
     "name": "stdout",
     "output_type": "stream",
     "text": [
      "EPOCH: 006, TRAIN LOSS: 7.0459, VAL LOSS: 6.7500, TEST LOSS: 5.2805. TRAINING TIME SO FAR: 10.2 s\n",
      "TRAIN R2: 0.6463, VAL R2: 0.6209, TEST R2: 0.7041\n",
      "TRAIN MAE: 1.9487, VAL MAE: 1.9569, TEST MAE: 1.7629\n",
      "\n"
     ]
    },
    {
     "name": "stderr",
     "output_type": "stream",
     "text": [
      " 14%|█▍        | 7/50 [00:12<01:22,  1.92s/it]"
     ]
    },
    {
     "name": "stdout",
     "output_type": "stream",
     "text": [
      "EPOCH: 007, TRAIN LOSS: 7.0056, VAL LOSS: 6.8051, TEST LOSS: 5.2349. TRAINING TIME SO FAR: 12.6 s\n",
      "TRAIN R2: 0.6431, VAL R2: 0.6166, TEST R2: 0.7081\n",
      "TRAIN MAE: 1.9593, VAL MAE: 1.9727, TEST MAE: 1.7731\n",
      "\n"
     ]
    },
    {
     "name": "stderr",
     "output_type": "stream",
     "text": [
      " 16%|█▌        | 8/50 [00:14<01:22,  1.96s/it]"
     ]
    },
    {
     "name": "stdout",
     "output_type": "stream",
     "text": [
      "EPOCH: 008, TRAIN LOSS: 6.5567, VAL LOSS: 6.7556, TEST LOSS: 5.2275. TRAINING TIME SO FAR: 14.6 s\n",
      "TRAIN R2: 0.6651, VAL R2: 0.6200, TEST R2: 0.7073\n",
      "TRAIN MAE: 1.9097, VAL MAE: 1.9679, TEST MAE: 1.7700\n",
      "\n"
     ]
    },
    {
     "name": "stderr",
     "output_type": "stream",
     "text": [
      " 18%|█▊        | 9/50 [00:16<01:16,  1.86s/it]"
     ]
    },
    {
     "name": "stdout",
     "output_type": "stream",
     "text": [
      "EPOCH: 009, TRAIN LOSS: 6.4272, VAL LOSS: 6.7231, TEST LOSS: 5.2612. TRAINING TIME SO FAR: 16.3 s\n",
      "TRAIN R2: 0.6691, VAL R2: 0.6218, TEST R2: 0.7051\n",
      "TRAIN MAE: 1.9088, VAL MAE: 1.9630, TEST MAE: 1.7839\n",
      "\n"
     ]
    },
    {
     "name": "stderr",
     "output_type": "stream",
     "text": [
      " 20%|██        | 10/50 [00:17<01:11,  1.78s/it]"
     ]
    },
    {
     "name": "stdout",
     "output_type": "stream",
     "text": [
      "EPOCH: 010, TRAIN LOSS: 6.1415, VAL LOSS: 6.8150, TEST LOSS: 5.1723. TRAINING TIME SO FAR: 17.9 s\n",
      "TRAIN R2: 0.6819, VAL R2: 0.6190, TEST R2: 0.7115\n",
      "TRAIN MAE: 1.8567, VAL MAE: 1.9820, TEST MAE: 1.7574\n",
      "\n"
     ]
    },
    {
     "name": "stderr",
     "output_type": "stream",
     "text": [
      " 22%|██▏       | 11/50 [00:19<01:07,  1.74s/it]"
     ]
    },
    {
     "name": "stdout",
     "output_type": "stream",
     "text": [
      "EPOCH: 011, TRAIN LOSS: 6.1946, VAL LOSS: 6.7489, TEST LOSS: 5.0328. TRAINING TIME SO FAR: 19.5 s\n",
      "TRAIN R2: 0.6852, VAL R2: 0.6228, TEST R2: 0.7196\n",
      "TRAIN MAE: 1.8398, VAL MAE: 1.9704, TEST MAE: 1.7466\n",
      "\n"
     ]
    },
    {
     "name": "stderr",
     "output_type": "stream",
     "text": [
      " 24%|██▍       | 12/50 [00:21<01:14,  1.96s/it]"
     ]
    },
    {
     "name": "stdout",
     "output_type": "stream",
     "text": [
      "EPOCH: 012, TRAIN LOSS: 6.1392, VAL LOSS: 6.8551, TEST LOSS: 5.1561. TRAINING TIME SO FAR: 22.0 s\n",
      "TRAIN R2: 0.6850, VAL R2: 0.6146, TEST R2: 0.7115\n",
      "TRAIN MAE: 1.8448, VAL MAE: 1.9804, TEST MAE: 1.7342\n",
      "\n"
     ]
    },
    {
     "name": "stderr",
     "output_type": "stream",
     "text": [
      " 26%|██▌       | 13/50 [00:26<01:39,  2.68s/it]"
     ]
    },
    {
     "name": "stdout",
     "output_type": "stream",
     "text": [
      "EPOCH: 013, TRAIN LOSS: 6.7390, VAL LOSS: 6.9730, TEST LOSS: 5.4168. TRAINING TIME SO FAR: 26.3 s\n",
      "TRAIN R2: 0.6692, VAL R2: 0.6098, TEST R2: 0.6992\n",
      "TRAIN MAE: 1.8410, VAL MAE: 1.9854, TEST MAE: 1.7865\n",
      "\n"
     ]
    },
    {
     "name": "stderr",
     "output_type": "stream",
     "text": [
      " 28%|██▊       | 14/50 [00:30<01:58,  3.29s/it]"
     ]
    },
    {
     "name": "stdout",
     "output_type": "stream",
     "text": [
      "EPOCH: 014, TRAIN LOSS: 6.5642, VAL LOSS: 6.7772, TEST LOSS: 5.2107. TRAINING TIME SO FAR: 31.0 s\n",
      "TRAIN R2: 0.6792, VAL R2: 0.6184, TEST R2: 0.7091\n",
      "TRAIN MAE: 1.8327, VAL MAE: 1.9602, TEST MAE: 1.7713\n",
      "\n"
     ]
    },
    {
     "name": "stderr",
     "output_type": "stream",
     "text": [
      " 30%|███       | 15/50 [00:32<01:41,  2.90s/it]"
     ]
    },
    {
     "name": "stdout",
     "output_type": "stream",
     "text": [
      "EPOCH: 015, TRAIN LOSS: 6.0047, VAL LOSS: 6.7397, TEST LOSS: 5.2820. TRAINING TIME SO FAR: 33.0 s\n",
      "TRAIN R2: 0.7051, VAL R2: 0.6209, TEST R2: 0.7062\n",
      "TRAIN MAE: 1.7535, VAL MAE: 1.9624, TEST MAE: 1.7791\n",
      "\n"
     ]
    },
    {
     "name": "stderr",
     "output_type": "stream",
     "text": [
      " 32%|███▏      | 16/50 [00:34<01:26,  2.54s/it]"
     ]
    },
    {
     "name": "stdout",
     "output_type": "stream",
     "text": [
      "EPOCH: 016, TRAIN LOSS: 5.6808, VAL LOSS: 6.9033, TEST LOSS: 5.1889. TRAINING TIME SO FAR: 34.7 s\n",
      "TRAIN R2: 0.7074, VAL R2: 0.6121, TEST R2: 0.7116\n",
      "TRAIN MAE: 1.7855, VAL MAE: 1.9826, TEST MAE: 1.7659\n",
      "\n"
     ]
    },
    {
     "name": "stderr",
     "output_type": "stream",
     "text": [
      " 34%|███▍      | 17/50 [00:36<01:20,  2.44s/it]"
     ]
    },
    {
     "name": "stdout",
     "output_type": "stream",
     "text": [
      "EPOCH: 017, TRAIN LOSS: 5.2694, VAL LOSS: 6.9904, TEST LOSS: 5.4895. TRAINING TIME SO FAR: 36.9 s\n",
      "TRAIN R2: 0.7308, VAL R2: 0.6078, TEST R2: 0.6953\n",
      "TRAIN MAE: 1.7079, VAL MAE: 2.0082, TEST MAE: 1.8125\n",
      "\n"
     ]
    },
    {
     "name": "stderr",
     "output_type": "stream",
     "text": [
      " 36%|███▌      | 18/50 [00:39<01:15,  2.36s/it]"
     ]
    },
    {
     "name": "stdout",
     "output_type": "stream",
     "text": [
      "EPOCH: 018, TRAIN LOSS: 5.1104, VAL LOSS: 6.9728, TEST LOSS: 5.2804. TRAINING TIME SO FAR: 39.1 s\n",
      "TRAIN R2: 0.7339, VAL R2: 0.6090, TEST R2: 0.7068\n",
      "TRAIN MAE: 1.6949, VAL MAE: 1.9919, TEST MAE: 1.7887\n",
      "\n"
     ]
    },
    {
     "name": "stderr",
     "output_type": "stream",
     "text": [
      " 38%|███▊      | 19/50 [00:40<01:07,  2.19s/it]"
     ]
    },
    {
     "name": "stdout",
     "output_type": "stream",
     "text": [
      "EPOCH: 019, TRAIN LOSS: 5.4924, VAL LOSS: 7.0676, TEST LOSS: 5.5155. TRAINING TIME SO FAR: 40.9 s\n",
      "TRAIN R2: 0.7283, VAL R2: 0.6032, TEST R2: 0.6934\n",
      "TRAIN MAE: 1.6952, VAL MAE: 2.0167, TEST MAE: 1.8319\n",
      "\n"
     ]
    },
    {
     "name": "stderr",
     "output_type": "stream",
     "text": [
      " 40%|████      | 20/50 [00:42<01:03,  2.11s/it]"
     ]
    },
    {
     "name": "stdout",
     "output_type": "stream",
     "text": [
      "EPOCH: 020, TRAIN LOSS: 4.9348, VAL LOSS: 7.3392, TEST LOSS: 5.6977. TRAINING TIME SO FAR: 42.8 s\n",
      "TRAIN R2: 0.7444, VAL R2: 0.5875, TEST R2: 0.6840\n",
      "TRAIN MAE: 1.6664, VAL MAE: 2.0527, TEST MAE: 1.8612\n",
      "\n"
     ]
    },
    {
     "name": "stderr",
     "output_type": "stream",
     "text": [
      " 42%|████▏     | 21/50 [00:44<00:56,  1.96s/it]"
     ]
    },
    {
     "name": "stdout",
     "output_type": "stream",
     "text": [
      "EPOCH: 021, TRAIN LOSS: 4.8569, VAL LOSS: 7.0872, TEST LOSS: 5.6329. TRAINING TIME SO FAR: 44.4 s\n",
      "TRAIN R2: 0.7521, VAL R2: 0.6015, TEST R2: 0.6881\n",
      "TRAIN MAE: 1.6460, VAL MAE: 2.0278, TEST MAE: 1.8403\n",
      "\n"
     ]
    },
    {
     "name": "stderr",
     "output_type": "stream",
     "text": [
      " 44%|████▍     | 22/50 [00:46<00:52,  1.89s/it]"
     ]
    },
    {
     "name": "stdout",
     "output_type": "stream",
     "text": [
      "EPOCH: 022, TRAIN LOSS: 4.7059, VAL LOSS: 7.4653, TEST LOSS: 5.6391. TRAINING TIME SO FAR: 46.1 s\n",
      "TRAIN R2: 0.7611, VAL R2: 0.5789, TEST R2: 0.6852\n",
      "TRAIN MAE: 1.6027, VAL MAE: 2.0682, TEST MAE: 1.8414\n",
      "\n"
     ]
    },
    {
     "name": "stderr",
     "output_type": "stream",
     "text": [
      " 46%|████▌     | 23/50 [00:48<00:51,  1.91s/it]"
     ]
    },
    {
     "name": "stdout",
     "output_type": "stream",
     "text": [
      "EPOCH: 023, TRAIN LOSS: 4.5378, VAL LOSS: 6.9566, TEST LOSS: 5.3185. TRAINING TIME SO FAR: 48.1 s\n",
      "TRAIN R2: 0.7649, VAL R2: 0.6105, TEST R2: 0.7036\n",
      "TRAIN MAE: 1.5984, VAL MAE: 2.0007, TEST MAE: 1.7853\n",
      "\n"
     ]
    },
    {
     "name": "stderr",
     "output_type": "stream",
     "text": [
      " 48%|████▊     | 24/50 [00:49<00:47,  1.82s/it]"
     ]
    },
    {
     "name": "stdout",
     "output_type": "stream",
     "text": [
      "EPOCH: 024, TRAIN LOSS: 4.5075, VAL LOSS: 7.7705, TEST LOSS: 5.8426. TRAINING TIME SO FAR: 49.7 s\n",
      "TRAIN R2: 0.7711, VAL R2: 0.5634, TEST R2: 0.6767\n",
      "TRAIN MAE: 1.5897, VAL MAE: 2.1034, TEST MAE: 1.8639\n",
      "\n"
     ]
    },
    {
     "name": "stderr",
     "output_type": "stream",
     "text": [
      " 50%|█████     | 25/50 [00:51<00:44,  1.80s/it]"
     ]
    },
    {
     "name": "stdout",
     "output_type": "stream",
     "text": [
      "EPOCH: 025, TRAIN LOSS: 4.3449, VAL LOSS: 7.5155, TEST LOSS: 6.0372. TRAINING TIME SO FAR: 51.5 s\n",
      "TRAIN R2: 0.7792, VAL R2: 0.5789, TEST R2: 0.6669\n",
      "TRAIN MAE: 1.5431, VAL MAE: 2.0805, TEST MAE: 1.9199\n",
      "\n"
     ]
    },
    {
     "name": "stderr",
     "output_type": "stream",
     "text": [
      " 52%|█████▏    | 26/50 [00:53<00:42,  1.77s/it]"
     ]
    },
    {
     "name": "stdout",
     "output_type": "stream",
     "text": [
      "EPOCH: 026, TRAIN LOSS: 4.6069, VAL LOSS: 7.5269, TEST LOSS: 5.8372. TRAINING TIME SO FAR: 53.2 s\n",
      "TRAIN R2: 0.7730, VAL R2: 0.5771, TEST R2: 0.6769\n",
      "TRAIN MAE: 1.5523, VAL MAE: 2.0846, TEST MAE: 1.8681\n",
      "\n"
     ]
    },
    {
     "name": "stderr",
     "output_type": "stream",
     "text": [
      " 54%|█████▍    | 27/50 [00:55<00:42,  1.85s/it]"
     ]
    },
    {
     "name": "stdout",
     "output_type": "stream",
     "text": [
      "EPOCH: 027, TRAIN LOSS: 4.0949, VAL LOSS: 7.6254, TEST LOSS: 6.0120. TRAINING TIME SO FAR: 55.2 s\n",
      "TRAIN R2: 0.7907, VAL R2: 0.5715, TEST R2: 0.6663\n",
      "TRAIN MAE: 1.5208, VAL MAE: 2.1060, TEST MAE: 1.8964\n",
      "\n"
     ]
    },
    {
     "name": "stderr",
     "output_type": "stream",
     "text": [
      " 56%|█████▌    | 28/50 [00:57<00:40,  1.86s/it]"
     ]
    },
    {
     "name": "stdout",
     "output_type": "stream",
     "text": [
      "EPOCH: 028, TRAIN LOSS: 3.6908, VAL LOSS: 8.0017, TEST LOSS: 6.0863. TRAINING TIME SO FAR: 57.1 s\n",
      "TRAIN R2: 0.8084, VAL R2: 0.5508, TEST R2: 0.6636\n",
      "TRAIN MAE: 1.4479, VAL MAE: 2.1425, TEST MAE: 1.9202\n",
      "\n"
     ]
    },
    {
     "name": "stderr",
     "output_type": "stream",
     "text": [
      " 58%|█████▊    | 29/50 [00:59<00:43,  2.09s/it]"
     ]
    },
    {
     "name": "stdout",
     "output_type": "stream",
     "text": [
      "EPOCH: 029, TRAIN LOSS: 3.5594, VAL LOSS: 7.9906, TEST LOSS: 6.2829. TRAINING TIME SO FAR: 59.7 s\n",
      "TRAIN R2: 0.8191, VAL R2: 0.5509, TEST R2: 0.6504\n",
      "TRAIN MAE: 1.4091, VAL MAE: 2.1755, TEST MAE: 1.9457\n",
      "\n"
     ]
    },
    {
     "name": "stderr",
     "output_type": "stream",
     "text": [
      " 60%|██████    | 30/50 [01:01<00:39,  1.96s/it]"
     ]
    },
    {
     "name": "stdout",
     "output_type": "stream",
     "text": [
      "EPOCH: 030, TRAIN LOSS: 3.7413, VAL LOSS: 8.2304, TEST LOSS: 6.4184. TRAINING TIME SO FAR: 61.4 s\n",
      "TRAIN R2: 0.8060, VAL R2: 0.5364, TEST R2: 0.6440\n",
      "TRAIN MAE: 1.4584, VAL MAE: 2.1913, TEST MAE: 1.9429\n",
      "\n"
     ]
    },
    {
     "name": "stderr",
     "output_type": "stream",
     "text": [
      " 62%|██████▏   | 31/50 [01:07<01:04,  3.37s/it]"
     ]
    },
    {
     "name": "stdout",
     "output_type": "stream",
     "text": [
      "EPOCH: 031, TRAIN LOSS: 3.7050, VAL LOSS: 7.8896, TEST LOSS: 6.0086. TRAINING TIME SO FAR: 68.0 s\n",
      "TRAIN R2: 0.8131, VAL R2: 0.5564, TEST R2: 0.6685\n",
      "TRAIN MAE: 1.4339, VAL MAE: 2.1376, TEST MAE: 1.9022\n",
      "\n"
     ]
    },
    {
     "name": "stderr",
     "output_type": "stream",
     "text": [
      " 64%|██████▍   | 32/50 [01:14<01:17,  4.28s/it]"
     ]
    },
    {
     "name": "stdout",
     "output_type": "stream",
     "text": [
      "EPOCH: 032, TRAIN LOSS: 3.2645, VAL LOSS: 7.3822, TEST LOSS: 5.9847. TRAINING TIME SO FAR: 74.4 s\n",
      "TRAIN R2: 0.8319, VAL R2: 0.5853, TEST R2: 0.6664\n",
      "TRAIN MAE: 1.3575, VAL MAE: 2.0696, TEST MAE: 1.8922\n",
      "\n"
     ]
    },
    {
     "name": "stderr",
     "output_type": "stream",
     "text": [
      " 66%|██████▌   | 33/50 [01:16<01:00,  3.58s/it]"
     ]
    },
    {
     "name": "stdout",
     "output_type": "stream",
     "text": [
      "EPOCH: 033, TRAIN LOSS: 3.0528, VAL LOSS: 8.1470, TEST LOSS: 6.2740. TRAINING TIME SO FAR: 76.4 s\n",
      "TRAIN R2: 0.8431, VAL R2: 0.5411, TEST R2: 0.6525\n",
      "TRAIN MAE: 1.3090, VAL MAE: 2.1782, TEST MAE: 1.9502\n",
      "\n"
     ]
    },
    {
     "name": "stderr",
     "output_type": "stream",
     "text": [
      " 68%|██████▊   | 34/50 [01:17<00:47,  2.98s/it]"
     ]
    },
    {
     "name": "stdout",
     "output_type": "stream",
     "text": [
      "EPOCH: 034, TRAIN LOSS: 2.8701, VAL LOSS: 8.1006, TEST LOSS: 6.2331. TRAINING TIME SO FAR: 77.9 s\n",
      "TRAIN R2: 0.8535, VAL R2: 0.5441, TEST R2: 0.6553\n",
      "TRAIN MAE: 1.2674, VAL MAE: 2.1670, TEST MAE: 1.9222\n",
      "\n"
     ]
    },
    {
     "name": "stderr",
     "output_type": "stream",
     "text": [
      " 70%|███████   | 35/50 [01:19<00:37,  2.53s/it]"
     ]
    },
    {
     "name": "stdout",
     "output_type": "stream",
     "text": [
      "EPOCH: 035, TRAIN LOSS: 2.6740, VAL LOSS: 8.3950, TEST LOSS: 6.4448. TRAINING TIME SO FAR: 79.4 s\n",
      "TRAIN R2: 0.8618, VAL R2: 0.5273, TEST R2: 0.6401\n",
      "TRAIN MAE: 1.2311, VAL MAE: 2.2025, TEST MAE: 1.9581\n",
      "\n"
     ]
    },
    {
     "name": "stderr",
     "output_type": "stream",
     "text": [
      " 72%|███████▏  | 36/50 [01:23<00:40,  2.87s/it]"
     ]
    },
    {
     "name": "stdout",
     "output_type": "stream",
     "text": [
      "EPOCH: 036, TRAIN LOSS: 2.6021, VAL LOSS: 7.8755, TEST LOSS: 6.4133. TRAINING TIME SO FAR: 83.1 s\n",
      "TRAIN R2: 0.8679, VAL R2: 0.5574, TEST R2: 0.6456\n",
      "TRAIN MAE: 1.1962, VAL MAE: 2.1482, TEST MAE: 1.9656\n",
      "\n"
     ]
    },
    {
     "name": "stderr",
     "output_type": "stream",
     "text": [
      " 74%|███████▍  | 37/50 [01:24<00:32,  2.52s/it]"
     ]
    },
    {
     "name": "stdout",
     "output_type": "stream",
     "text": [
      "EPOCH: 037, TRAIN LOSS: 2.7049, VAL LOSS: 8.4547, TEST LOSS: 6.5605. TRAINING TIME SO FAR: 84.8 s\n",
      "TRAIN R2: 0.8647, VAL R2: 0.5243, TEST R2: 0.6360\n",
      "TRAIN MAE: 1.1989, VAL MAE: 2.2175, TEST MAE: 1.9931\n",
      "\n"
     ]
    },
    {
     "name": "stderr",
     "output_type": "stream",
     "text": [
      " 76%|███████▌  | 38/50 [01:27<00:31,  2.62s/it]"
     ]
    },
    {
     "name": "stdout",
     "output_type": "stream",
     "text": [
      "EPOCH: 038, TRAIN LOSS: 2.2957, VAL LOSS: 8.0765, TEST LOSS: 6.4180. TRAINING TIME SO FAR: 87.6 s\n",
      "TRAIN R2: 0.8816, VAL R2: 0.5445, TEST R2: 0.6427\n",
      "TRAIN MAE: 1.1427, VAL MAE: 2.1662, TEST MAE: 1.9651\n",
      "\n"
     ]
    },
    {
     "name": "stderr",
     "output_type": "stream",
     "text": [
      " 78%|███████▊  | 39/50 [01:32<00:36,  3.27s/it]"
     ]
    },
    {
     "name": "stdout",
     "output_type": "stream",
     "text": [
      "EPOCH: 039, TRAIN LOSS: 2.1686, VAL LOSS: 8.3944, TEST LOSS: 6.6021. TRAINING TIME SO FAR: 92.5 s\n",
      "TRAIN R2: 0.8877, VAL R2: 0.5290, TEST R2: 0.6335\n",
      "TRAIN MAE: 1.0943, VAL MAE: 2.2248, TEST MAE: 1.9842\n",
      "\n"
     ]
    },
    {
     "name": "stderr",
     "output_type": "stream",
     "text": [
      " 80%|████████  | 40/50 [01:34<00:29,  2.93s/it]"
     ]
    },
    {
     "name": "stdout",
     "output_type": "stream",
     "text": [
      "EPOCH: 040, TRAIN LOSS: 2.2097, VAL LOSS: 8.5860, TEST LOSS: 6.8162. TRAINING TIME SO FAR: 94.6 s\n",
      "TRAIN R2: 0.8867, VAL R2: 0.5170, TEST R2: 0.6214\n",
      "TRAIN MAE: 1.1057, VAL MAE: 2.2402, TEST MAE: 2.0079\n",
      "\n"
     ]
    },
    {
     "name": "stderr",
     "output_type": "stream",
     "text": [
      " 82%|████████▏ | 41/50 [01:36<00:23,  2.62s/it]"
     ]
    },
    {
     "name": "stdout",
     "output_type": "stream",
     "text": [
      "EPOCH: 041, TRAIN LOSS: 2.1350, VAL LOSS: 8.5702, TEST LOSS: 7.0380. TRAINING TIME SO FAR: 96.5 s\n",
      "TRAIN R2: 0.8944, VAL R2: 0.5177, TEST R2: 0.6077\n",
      "TRAIN MAE: 1.0544, VAL MAE: 2.2215, TEST MAE: 2.0351\n",
      "\n"
     ]
    },
    {
     "name": "stderr",
     "output_type": "stream",
     "text": [
      " 84%|████████▍ | 42/50 [01:38<00:19,  2.39s/it]"
     ]
    },
    {
     "name": "stdout",
     "output_type": "stream",
     "text": [
      "EPOCH: 042, TRAIN LOSS: 1.9353, VAL LOSS: 8.4759, TEST LOSS: 6.6836. TRAINING TIME SO FAR: 98.3 s\n",
      "TRAIN R2: 0.8999, VAL R2: 0.5255, TEST R2: 0.6283\n",
      "TRAIN MAE: 1.0388, VAL MAE: 2.2405, TEST MAE: 2.0124\n",
      "\n"
     ]
    },
    {
     "name": "stderr",
     "output_type": "stream",
     "text": [
      " 86%|████████▌ | 43/50 [01:40<00:15,  2.28s/it]"
     ]
    },
    {
     "name": "stdout",
     "output_type": "stream",
     "text": [
      "EPOCH: 043, TRAIN LOSS: 2.0503, VAL LOSS: 8.4733, TEST LOSS: 6.8433. TRAINING TIME SO FAR: 100.4 s\n",
      "TRAIN R2: 0.8970, VAL R2: 0.5229, TEST R2: 0.6181\n",
      "TRAIN MAE: 1.0711, VAL MAE: 2.2495, TEST MAE: 2.0195\n",
      "\n"
     ]
    },
    {
     "name": "stderr",
     "output_type": "stream",
     "text": [
      " 88%|████████▊ | 44/50 [01:42<00:12,  2.11s/it]"
     ]
    },
    {
     "name": "stdout",
     "output_type": "stream",
     "text": [
      "EPOCH: 044, TRAIN LOSS: 1.8330, VAL LOSS: 8.1146, TEST LOSS: 6.4449. TRAINING TIME SO FAR: 102.1 s\n",
      "TRAIN R2: 0.9053, VAL R2: 0.5447, TEST R2: 0.6408\n",
      "TRAIN MAE: 1.0198, VAL MAE: 2.1872, TEST MAE: 1.9591\n",
      "\n"
     ]
    },
    {
     "name": "stderr",
     "output_type": "stream",
     "text": [
      " 90%|█████████ | 45/50 [01:44<00:10,  2.11s/it]"
     ]
    },
    {
     "name": "stdout",
     "output_type": "stream",
     "text": [
      "EPOCH: 045, TRAIN LOSS: 1.6339, VAL LOSS: 8.6711, TEST LOSS: 6.8576. TRAINING TIME SO FAR: 104.2 s\n",
      "TRAIN R2: 0.9160, VAL R2: 0.5122, TEST R2: 0.6177\n",
      "TRAIN MAE: 0.9469, VAL MAE: 2.2590, TEST MAE: 2.0244\n",
      "\n"
     ]
    },
    {
     "name": "stderr",
     "output_type": "stream",
     "text": [
      " 92%|█████████▏| 46/50 [01:46<00:08,  2.10s/it]"
     ]
    },
    {
     "name": "stdout",
     "output_type": "stream",
     "text": [
      "EPOCH: 046, TRAIN LOSS: 1.5032, VAL LOSS: 8.4664, TEST LOSS: 6.6871. TRAINING TIME SO FAR: 106.2 s\n",
      "TRAIN R2: 0.9225, VAL R2: 0.5256, TEST R2: 0.6278\n",
      "TRAIN MAE: 0.9104, VAL MAE: 2.2220, TEST MAE: 1.9914\n",
      "\n"
     ]
    },
    {
     "name": "stderr",
     "output_type": "stream",
     "text": [
      " 94%|█████████▍| 47/50 [01:48<00:06,  2.05s/it]"
     ]
    },
    {
     "name": "stdout",
     "output_type": "stream",
     "text": [
      "EPOCH: 047, TRAIN LOSS: 1.4829, VAL LOSS: 8.4727, TEST LOSS: 6.8702. TRAINING TIME SO FAR: 108.2 s\n",
      "TRAIN R2: 0.9260, VAL R2: 0.5226, TEST R2: 0.6163\n",
      "TRAIN MAE: 0.8780, VAL MAE: 2.2272, TEST MAE: 2.0195\n",
      "\n"
     ]
    },
    {
     "name": "stderr",
     "output_type": "stream",
     "text": [
      " 96%|█████████▌| 48/50 [01:50<00:04,  2.26s/it]"
     ]
    },
    {
     "name": "stdout",
     "output_type": "stream",
     "text": [
      "EPOCH: 048, TRAIN LOSS: 1.5046, VAL LOSS: 8.7157, TEST LOSS: 6.7243. TRAINING TIME SO FAR: 110.9 s\n",
      "TRAIN R2: 0.9219, VAL R2: 0.5118, TEST R2: 0.6252\n",
      "TRAIN MAE: 0.9113, VAL MAE: 2.2735, TEST MAE: 2.0072\n",
      "\n"
     ]
    },
    {
     "name": "stderr",
     "output_type": "stream",
     "text": [
      " 98%|█████████▊| 49/50 [01:53<00:02,  2.50s/it]"
     ]
    },
    {
     "name": "stdout",
     "output_type": "stream",
     "text": [
      "EPOCH: 049, TRAIN LOSS: 1.3394, VAL LOSS: 8.7654, TEST LOSS: 6.9516. TRAINING TIME SO FAR: 114.0 s\n",
      "TRAIN R2: 0.9317, VAL R2: 0.5088, TEST R2: 0.6136\n",
      "TRAIN MAE: 0.8475, VAL MAE: 2.2666, TEST MAE: 2.0356\n",
      "\n"
     ]
    },
    {
     "name": "stderr",
     "output_type": "stream",
     "text": [
      "100%|██████████| 50/50 [01:56<00:00,  2.33s/it]"
     ]
    },
    {
     "name": "stdout",
     "output_type": "stream",
     "text": [
      "EPOCH: 050, TRAIN LOSS: 1.2860, VAL LOSS: 8.4264, TEST LOSS: 6.8796. TRAINING TIME SO FAR: 116.8 s\n",
      "TRAIN R2: 0.9346, VAL R2: 0.5244, TEST R2: 0.6161\n",
      "TRAIN MAE: 0.8205, VAL MAE: 2.2250, TEST MAE: 2.0028\n",
      "\n"
     ]
    },
    {
     "name": "stderr",
     "output_type": "stream",
     "text": [
      "\n"
     ]
    }
   ],
   "source": [
    "epochs = 50\n",
    "start = time.time()\n",
    "\n",
    "train_losses, train_r2_scores, train_maes = [], [], []\n",
    "val_losses, val_r2_scores, val_maes = [], [], []\n",
    "test_losses, test_r2_scores, test_maes = [], [], []\n",
    "\n",
    "for epoch in tqdm(range(1, epochs + 1)):\n",
    "\n",
    "    train_loss, train_r2_score, train_mae = train(dataloader_train)\n",
    "    val_loss, val_r2_score, val_mae = evaluate(dataloader_val)\n",
    "    test_loss, test_r2_score, test_mae = evaluate(dataloader_test)\n",
    "\n",
    "    toc = time.time()\n",
    "    print(f'EPOCH: {epoch:03d}, TRAIN LOSS: {train_loss:.4f}, VAL LOSS: {val_loss:.4f}, TEST LOSS: {test_loss:.4f}. TRAINING TIME SO FAR: {toc - start:.1f} s\\n'\n",
    "          f'TRAIN R2: {train_r2_score:.4f}, VAL R2: {val_r2_score:.4f}, TEST R2: {test_r2_score:.4f}\\n'\n",
    "          f'TRAIN MAE: {train_mae:.4f}, VAL MAE: {val_mae:.4f}, TEST MAE: {test_mae:.4f}\\n')\n",
    "\n",
    "    # Store metrics\n",
    "    train_losses.append(train_loss)\n",
    "    train_r2_scores.append(train_r2_score)\n",
    "    train_maes.append(train_mae)\n",
    "\n",
    "    val_losses.append(val_loss)\n",
    "    val_r2_scores.append(val_r2_score)\n",
    "    val_maes.append(val_mae)\n",
    "\n",
    "    test_losses.append(test_loss)\n",
    "    test_r2_scores.append(test_r2_score)\n",
    "    test_maes.append(test_mae)"
   ]
  },
  {
   "attachments": {},
   "cell_type": "markdown",
   "id": "d5fb3b29",
   "metadata": {},
   "source": [
    "# Evaluation"
   ]
  },
  {
   "cell_type": "code",
   "execution_count": 12,
   "id": "80fe6e67",
   "metadata": {
    "ExecuteTime": {
     "end_time": "2023-06-23T00:45:53.253347Z",
     "start_time": "2023-06-23T00:45:52.880261Z"
    },
    "collapsed": false
   },
   "outputs": [
    {
     "data": {
      "image/png": "[encoded data removed]",
      "text/plain": [
       "<Figure size 864x288 with 1 Axes>"
      ]
     },
     "metadata": {
      "needs_background": "light"
     },
     "output_type": "display_data"
    },
    {
     "data": {
      "image/png": "[encoded data removed]",
      "text/plain": [
       "<Figure size 864x288 with 1 Axes>"
      ]
     },
     "metadata": {
      "needs_background": "light"
     },
     "output_type": "display_data"
    },
    {
     "data": {
      "image/png": "[encoded data removed]",
      "text/plain": [
       "<Figure size 864x288 with 1 Axes>"
      ]
     },
     "metadata": {
      "needs_background": "light"
     },
     "output_type": "display_data"
    }
   ],
   "source": [
    "# Plot losses\n",
    "plt.figure(figsize=(12, 4))\n",
    "plt.plot(train_losses, label='Train')\n",
    "plt.plot(val_losses, label='Validation')\n",
    "plt.plot(test_losses, label='Test')\n",
    "plt.title('Loss over epochs')\n",
    "plt.xlabel('Epochs')\n",
    "plt.ylabel('Loss')\n",
    "plt.legend()\n",
    "plt.show()\n",
    "\n",
    "# Plot R2 scores\n",
    "plt.figure(figsize=(12, 4))\n",
    "plt.plot(train_r2_scores, label='Train')\n",
    "plt.plot(val_r2_scores, label='Validation')\n",
    "plt.plot(test_r2_scores, label='Test')\n",
    "plt.title('R2 Score over epochs')\n",
    "plt.xlabel('Epochs')\n",
    "plt.ylabel('R2 Score')\n",
    "plt.legend()\n",
    "plt.show()\n",
    "\n",
    "# Plot MAEs\n",
    "plt.figure(figsize=(12, 4))\n",
    "plt.plot(train_maes, label='Train')\n",
    "plt.plot(val_maes, label='Validation')\n",
    "plt.plot(test_maes, label='Test')\n",
    "plt.title('Mean Absolute Error over epochs')\n",
    "plt.xlabel('Epochs')\n",
    "plt.ylabel('Mean Absolute Error')\n",
    "plt.legend()\n",
    "plt.show()"
   ]
  },
  {
   "cell_type": "code",
   "execution_count": 16,
   "id": "fde30b2f",
   "metadata": {
    "ExecuteTime": {
     "end_time": "2023-06-23T00:45:53.457991Z",
     "start_time": "2023-06-23T00:45:53.251681Z"
    },
    "collapsed": false
   },
   "outputs": [
    {
     "name": "stdout",
     "output_type": "stream",
     "text": [
      "Best Prediction:\n",
      "Number of objects = 4\n",
      "Predicted = \n",
      " tensor([[-6.7254,  1.5280],\n",
      "        [ 8.1160,  3.9622],\n",
      "        [-6.4216,  2.4982],\n",
      "        [ 6.3730, -2.4851]], grad_fn=<AddBackward0>),\n",
      " Ground Truth = \n",
      " tensor([[-6.1241,  1.5668],\n",
      "        [ 8.3216,  1.8433],\n",
      "        [-8.3659,  2.2316],\n",
      "        [ 6.4287, -2.9754]])\n"
     ]
    },
    {
     "data": {
      "image/png": "[encoded data removed]",
      "text/plain": [
       "<Figure size 720x432 with 1 Axes>"
      ]
     },
     "metadata": {
      "needs_background": "light"
     },
     "output_type": "display_data"
    },
    {
     "name": "stdout",
     "output_type": "stream",
     "text": [
      "Worst Prediction:\n",
      "Number of objects = 8\n",
      "Predicted = \n",
      " tensor([[ 7.1233,  9.4702],\n",
      "        [ 0.3874, -0.0796],\n",
      "        [ 3.5055,  2.5907],\n",
      "        [-4.8857, -5.7391],\n",
      "        [-0.4185,  1.3705],\n",
      "        [ 4.7395,  4.2098],\n",
      "        [-2.0596, -4.5620],\n",
      "        [-1.9794, -4.2427]], grad_fn=<AddBackward0>),\n",
      " Ground Truth = \n",
      " tensor([[ 0.0167,  5.4419],\n",
      "        [ 0.5348, -7.1306],\n",
      "        [ 1.2346,  6.2574],\n",
      "        [ 6.4766,  0.2680],\n",
      "        [ 0.9324,  4.9514],\n",
      "        [ 0.3648,  6.3364],\n",
      "        [-2.7643, -4.7080],\n",
      "        [-2.4013, -5.5557]])\n"
     ]
    },
    {
     "data": {
      "image/png": "[encoded data removed]",
      "text/plain": [
       "<Figure size 720x432 with 1 Axes>"
      ]
     },
     "metadata": {
      "needs_background": "light"
     },
     "output_type": "display_data"
    }
   ],
   "source": [
    "def plot_objects(pred, true, title):\n",
    "    \"\"\"\n",
    "    Function to plot the predicted and true positions of the objects.\n",
    "\n",
    "    Parameters:\n",
    "    pred (tensor): Predicted positions of the objects.\n",
    "    true (tensor): True positions of the objects.\n",
    "    title (str): Title of the plot.\n",
    "    \"\"\"\n",
    "    plt.figure(figsize=(10, 6))\n",
    "    plt.scatter(pred[:, 0].detach().numpy(), pred[:, 1].detach().numpy(), c='blue', label='Predicted Positions')\n",
    "    for i in range(len(pred)):\n",
    "        plt.annotate(i, (pred[i,0],pred[i,1]+0.2))\n",
    "    plt.scatter(true[:, 0].detach().numpy(), true[:, 1].detach().numpy(), c='red', label='Ground Truth Positions')\n",
    "    for i in range(len(true)):\n",
    "        plt.annotate(i, (true[i,0],true[i,1]+0.2))\n",
    "    plt.xlabel('X Coordinate')\n",
    "    plt.ylabel('Y Coordinate')\n",
    "    plt.title(title)\n",
    "    plt.legend()\n",
    "    plt.grid(True)\n",
    "    plt.show()\n",
    "\n",
    "def find_best_worst_predictions(data_list):\n",
    "    \"\"\"\n",
    "    Function to find the best and worst predictions based on the norm of the difference between the predicted and true positions.\n",
    "\n",
    "    Parameters:\n",
    "    data_list (list): List of data examples.\n",
    "\n",
    "    Returns:\n",
    "    best_idx (int): Index of the best prediction.\n",
    "    worst_idx (int): Index of the worst prediction.\n",
    "    \"\"\"\n",
    "    best_idx = None\n",
    "    worst_idx = None\n",
    "    best_distance = float('inf')\n",
    "    worst_distance = float('-inf')\n",
    "\n",
    "    # Iterate through the test set to find the best and worst predictions\n",
    "    for idx, example in enumerate(data_list):\n",
    "        pred = model(example)\n",
    "        true = example.y\n",
    "        distance = torch.norm(pred - true)\n",
    "        if distance < best_distance:\n",
    "            best_distance = distance\n",
    "            best_idx = idx\n",
    "        if distance > worst_distance:\n",
    "            worst_distance = distance\n",
    "            worst_idx = idx\n",
    "\n",
    "    return best_idx, worst_idx\n",
    "\n",
    "def test_example(idx, data_list, title):\n",
    "    \"\"\"\n",
    "    Function to test a single example and plot the predicted and true positions.\n",
    "\n",
    "    Parameters:\n",
    "    idx (int): Index of the example in the data list.\n",
    "    data_list (list): List of data examples.\n",
    "    title (str): Title of the plot.\n",
    "    \"\"\"\n",
    "    example = data_list[idx]\n",
    "    print(f'Number of objects = {example.x.shape[0]}')\n",
    "    pred = model(example)\n",
    "    true = example.y\n",
    "    print(f'Predicted = \\n {pred},\\n Ground Truth = \\n {true}')\n",
    "    plot_objects(pred, true, title)\n",
    "\n",
    "# Find the indices of the best and worst predictions\n",
    "best_idx, worst_idx = find_best_worst_predictions(data_list_test)\n",
    "\n",
    "print(\"Best Prediction:\")\n",
    "# Test and plot the best prediction\n",
    "test_example(best_idx, data_list_test, 'Best Prediction')\n",
    "\n",
    "print(\"Worst Prediction:\")\n",
    "# Test and plot the worst prediction\n",
    "test_example(worst_idx, data_list_test, 'Worst Prediction')"
   ]
  },
  {
   "cell_type": "code",
   "execution_count": null,
   "id": "ab1ead19",
   "metadata": {
    "ExecuteTime": {
     "end_time": "2023-06-23T00:45:53.709487Z",
     "start_time": "2023-06-23T00:45:53.451436Z"
    },
    "collapsed": false
   },
   "outputs": [
    {
     "name": "stdout",
     "output_type": "stream",
     "text": [
      "Linear Baseline:\n",
      "Train - R2 Score: -1.276036925794152, MAE: 4.853354083849736\n",
      "Validation - R2 Score: -1.0973950570633868, MAE: 4.604953109240923\n",
      "Test - R2 Score: -1.1536830208310371, MAE: 4.598807295163472\n",
      "\n",
      "Constant Baseline:\n",
      "Train - R2 Score: 0.27537215484434, MAE: 2.9720276647787287\n",
      "Validation - R2 Score: 0.29204692467617205, MAE: 2.8700055726341795\n",
      "Test - R2 Score: 0.3450025863825506, MAE: 2.792816334300571\n",
      "\n",
      "Trained Model:\n",
      "Train - R2 Score: 0.9348032498584494, MAE: 0.7732898139525618\n",
      "Validation - R2 Score: 0.5484032302511169, MAE: 2.1814374187262127\n",
      "Test - R2 Score: 0.6105035056831194, MAE: 2.016734129852719\n"
     ]
    },
    {
     "data": {
      "image/png": "[encoded data removed]",
      "text/plain": [
       "<Figure size 1000x600 with 1 Axes>"
      ]
     },
     "metadata": {},
     "output_type": "display_data"
    },
    {
     "data": {
      "image/png": "[encoded data removed]",
      "text/plain": [
       "<Figure size 1000x600 with 1 Axes>"
      ]
     },
     "metadata": {},
     "output_type": "display_data"
    }
   ],
   "source": [
    "# Define the linear baseline function\n",
    "def linear_baseline(initial_state, t):\n",
    "    \"\"\"\n",
    "    The linear baseline predicts the final position as the initial position plus velocity times time.\n",
    "    \"\"\"\n",
    "    final_state = initial_state[:, 1:3] + t * initial_state[:, 3:5]\n",
    "    return final_state\n",
    "\n",
    "# Define the constant baseline function\n",
    "def constant_baseline(initial_state):\n",
    "    \"\"\"\n",
    "    The constant baseline predicts the final position to be the same as the initial position.\n",
    "    \"\"\"\n",
    "    final_state = initial_state[:, 1:3]\n",
    "    return final_state\n",
    "\n",
    "# Define the function to evaluate a baseline\n",
    "def evaluate_baseline(baseline_func, data_list, t=None):\n",
    "    \"\"\"\n",
    "    This function evaluates a baseline function on a list of data. It calculates the R2 score and MAE.\n",
    "    \"\"\"\n",
    "    total_r2_score = 0\n",
    "    total_mae = 0\n",
    "    total_samples = 0\n",
    "\n",
    "    for example in data_list:\n",
    "        if t is not None:\n",
    "            pred = baseline_func(example.x.detach().numpy(), t)\n",
    "        else:\n",
    "            pred = baseline_func(example.x.detach().numpy())\n",
    "        true = example.y.detach().numpy()\n",
    "        batch_size = true.shape[0]\n",
    "        total_samples += batch_size\n",
    "\n",
    "        # Calculate R2 Score\n",
    "        total_r2_score += r2_score(true, pred) * batch_size\n",
    "\n",
    "        # Calculate MAE\n",
    "        mae = mean_absolute_error(true, pred)\n",
    "        total_mae += mae * batch_size\n",
    "\n",
    "    avg_r2_score = total_r2_score / total_samples\n",
    "    avg_mae = total_mae / total_samples\n",
    "\n",
    "    return avg_r2_score, avg_mae\n",
    "\n",
    "# Define the function to evaluate the model\n",
    "def evaluate_model(model, data_list):\n",
    "    \"\"\"\n",
    "    This function evaluates a model on a list of data. It calculates the R2 score and MAE.\n",
    "    \"\"\"\n",
    "    total_r2_score = 0\n",
    "    total_mae = 0\n",
    "    total_samples = 0\n",
    "\n",
    "    model.eval()  # Set the model to evaluation mode\n",
    "    with torch.no_grad():  # Disable gradient calculations\n",
    "        for example in data_list:\n",
    "            pred = model(example)  # Pass the data through the model\n",
    "            true = example.y\n",
    "            batch_size = true.shape[0]\n",
    "            total_samples += batch_size\n",
    "\n",
    "            # Calculate R2 Score\n",
    "            total_r2_score += r2_score(true.detach().numpy(), pred.detach().numpy()) * batch_size\n",
    "\n",
    "            # Calculate MAE\n",
    "            mae = mean_absolute_error(true.detach().numpy(), pred.detach().numpy())\n",
    "            total_mae += mae * batch_size\n",
    "\n",
    "    avg_r2_score = total_r2_score / total_samples\n",
    "    avg_mae = total_mae / total_samples\n",
    "\n",
    "    return avg_r2_score, avg_mae\n",
    "\n",
    "# Initialize dictionaries to store the R2 and MAE scores for each model and each data split\n",
    "r2_scores = {\"Linear\": [], \"Constant\": [], \"Model\": []}\n",
    "mae_scores = {\"Linear\": [], \"Constant\": [], \"Model\": []}\n",
    "\n",
    "# Define the time at which you want to predict the position\n",
    "t = 5.0\n",
    "\n",
    "# Evaluate the linear baseline\n",
    "print(\"Linear Baseline:\")\n",
    "for split_name, data_list in zip([\"Train\", \"Validation\", \"Test\"], [dataloader_train, dataloader_val, dataloader_test]):\n",
    "    linear_r2_score, linear_mae = evaluate_baseline(linear_baseline, data_list, t)\n",
    "    print(f'{split_name} - R2 Score: {linear_r2_score}, MAE: {linear_mae}')\n",
    "    r2_scores[\"Linear\"].append(linear_r2_score)\n",
    "    mae_scores[\"Linear\"].append(linear_mae)\n",
    "\n",
    "# Evaluate the constant baseline\n",
    "print(\"\\nConstant Baseline:\")\n",
    "for split_name, data_list in zip([\"Train\", \"Validation\", \"Test\"], [dataloader_train, dataloader_val, dataloader_test]):\n",
    "    constant_r2_score, constant_mae = evaluate_baseline(constant_baseline, data_list)\n",
    "    print(f'{split_name} - R2 Score: {constant_r2_score}, MAE: {constant_mae}')\n",
    "    r2_scores[\"Constant\"].append(constant_r2_score)\n",
    "    mae_scores[\"Constant\"].append(constant_mae)\n",
    "\n",
    "# Evaluate the trained model\n",
    "print(\"\\nTrained Model:\")\n",
    "for split_name, data_list in zip([\"Train\", \"Validation\", \"Test\"], [dataloader_train, dataloader_val, dataloader_test]):\n",
    "    model_r2_score, model_mae = evaluate_model(model, data_list)\n",
    "    print(f'{split_name} - R2 Score: {model_r2_score}, MAE: {model_mae}')\n",
    "    r2_scores[\"Model\"].append(model_r2_score)\n",
    "    mae_scores[\"Model\"].append(model_mae)\n",
    "\n",
    "# Create a list of the data splits for the x-axis of the plots\n",
    "splits = [\"Train\", \"Validation\", \"Test\"]\n",
    "\n",
    "# Create a plot for the R2 scores\n",
    "plt.figure(figsize=(10, 6))\n",
    "for model, scores in r2_scores.items():\n",
    "    plt.plot(splits, scores, marker='o', label=model)\n",
    "plt.title('R2 Scores for Each Model on Each Data Split')\n",
    "plt.xlabel('Data Split')\n",
    "plt.ylabel('R2 Score')\n",
    "plt.legend()\n",
    "plt.grid(True)\n",
    "plt.show()\n",
    "\n",
    "# Create a plot for the MAE scores\n",
    "plt.figure(figsize=(10, 6))\n",
    "for model, scores in mae_scores.items():\n",
    "    plt.plot(splits, scores, marker='o', label=model)\n",
    "plt.title('MAE Scores for Each Model on Each Data Split')\n",
    "plt.xlabel('Data Split')\n",
    "plt.ylabel('MAE Score')\n",
    "plt.legend()\n",
    "plt.grid(True)\n",
    "plt.show()"
   ]
  },
  {
   "attachments": {},
   "cell_type": "markdown",
   "id": "1ffeb2ed",
   "metadata": {
    "collapsed": false
   },
   "source": [
    "# Task 2"
   ]
  },
  {
   "attachments": {},
   "cell_type": "markdown",
   "id": "7669a1bd",
   "metadata": {
    "collapsed": false
   },
   "source": [
    "# Data Handling and Preprocessing\n"
   ]
  },
  {
   "cell_type": "code",
   "execution_count": null,
   "id": "619ebdb5",
   "metadata": {
    "ExecuteTime": {
     "end_time": "2023-06-23T00:45:53.715732Z",
     "start_time": "2023-06-23T00:45:53.706079Z"
    },
    "collapsed": false
   },
   "outputs": [
    {
     "name": "stdout",
     "output_type": "stream",
     "text": [
      "tensor([[ 1.0000, -0.2252,  0.0762,  0.2000,  0.1000],\n",
      "        [ 2.0000,  0.1871,  0.0762,  0.3000,  0.2000],\n",
      "        [ 0.5000, -0.2980, -0.4574,  0.9000,  1.0000]]) tensor([[0, 0, 1],\n",
      "        [1, 2, 2]]) tensor([[11.7647],\n",
      "        [ 1.7241],\n",
      "        [ 1.9231]]) tensor([[[-0.0554,  0.2217, -0.1282,  0.1005],\n",
      "         [-0.2010, -0.0208, -0.2737, -0.1421]],\n",
      "\n",
      "        [[-0.0554, -0.1906, -0.1282, -0.3118],\n",
      "         [-0.2010, -0.4331, -0.2737, -0.5544]],\n",
      "\n",
      "        [[-0.3707, -0.5786, -0.4435, -0.6999],\n",
      "         [-0.5163, -0.8212, -0.5890, -0.9424]]])\n"
     ]
    }
   ],
   "source": [
    "def create_graph_data_task2(initial_state, trajectory):\n",
    "    initial_state = np.array(initial_state)\n",
    "    trajectory = np.array(trajectory)\n",
    "\n",
    "    n_bodies = initial_state.shape[0]\n",
    "    num_features = initial_state.shape[1]\n",
    "\n",
    "    # Calculate center of mass\n",
    "    total_mass = np.sum(initial_state[:, 0])\n",
    "    center_of_mass_x = np.sum(initial_state[:, 1] * initial_state[:, 0]) / total_mass\n",
    "    center_of_mass_y = np.sum(initial_state[:, 2] * initial_state[:, 0]) / total_mass\n",
    "\n",
    "    # Adjust positions relative to center of mass for initial and terminal states\n",
    "    initial_state[:, 1] -= center_of_mass_x\n",
    "    initial_state[:, 2] -= center_of_mass_y\n",
    "\n",
    "    trajectory[:, :, 0] -= center_of_mass_x\n",
    "    trajectory[:, :, 1] -= center_of_mass_y\n",
    "\n",
    "    # Find the indices of the two most massive objects\n",
    "    mass_indices = np.argsort(initial_state[:, 0])\n",
    "    indices = mass_indices[-2:]\n",
    "\n",
    "    # Calculate the vector between the two most massive objects\n",
    "    vector = initial_state[indices[1], 1:3] - initial_state[indices[0], 1:3]\n",
    "\n",
    "    # Calculate the angle of rotation based on the vector\n",
    "    angle = math.atan2(vector[1], vector[0])\n",
    "\n",
    "    # Apply rotation to the positions\n",
    "    rot_matrix = np.array([[math.cos(-angle), -math.sin(-angle)], [math.sin(-angle), math.cos(-angle)]])\n",
    "    initial_state[:, 1:3] = np.matmul(rot_matrix, initial_state[:, 1:3].T).T\n",
    "    for i in range(trajectory.shape[1]):\n",
    "        trajectory[:, i, :2] = np.matmul(rot_matrix, trajectory[:, i, :2].T).T\n",
    "\n",
    "    # Create node features tensor\n",
    "    node_features = torch.tensor(initial_state, dtype=torch.float)\n",
    "    node_features = node_features.view(-1, num_features)  # Reshape to (num_nodes, num_features)\n",
    "\n",
    "    # Create edge index tensor\n",
    "    edge_index = torch.tensor([[i, j] for i in range(n_bodies) for j in range(n_bodies) if (i != j and i<j)], dtype=torch.long)\n",
    "    edge_index = edge_index.t().contiguous()  # Reshape to (2, num_edges)\n",
    "\n",
    "    # Create edge features tensor\n",
    "    num_edges = edge_index.size(1)\n",
    "    edge_features = torch.empty(num_edges, 1, dtype=torch.float)\n",
    "    # Populate edge features with force\n",
    "    for k, (i, j) in enumerate(edge_index.t()):\n",
    "        dx = node_features[i, 1] - node_features[j, 1]\n",
    "        dy = node_features[i, 2] - node_features[j, 2]\n",
    "        distance = torch.sqrt(dx**2 + dy**2)\n",
    "        force = ((node_features[i,0]*node_features[j,0])/(distance**2 + 1e-8))\n",
    "        edge_features[k] = force\n",
    "\n",
    "     # Create target tensor\n",
    "    target = torch.tensor(trajectory, dtype=torch.float).reshape(n_bodies, -1, 4)\n",
    "\n",
    "    # Create PyG Data object\n",
    "    data = Data(x=node_features, edge_index=edge_index, edge_attr=edge_features, y=target)\n",
    "\n",
    "    return data\n",
    "\n",
    "# Example usage\n",
    "initial_state = [[1.0, 0.5, 0.3, 0.2, 0.1], [2.0, 0.1, 0.4, 0.3, 0.2], [0.5, 0.7, 0.8, 0.9, 1.0]]\n",
    "trajectory = [\n",
    "    [[0.3, 0.2], [0.4, 0.3], [0.5, 0.4], [0.6, 0.5]],\n",
    "    [[0.4, 0.6], [0.5, 0.7], [0.6, 0.8], [0.7, 0.9]],\n",
    "    [[0.8, 0.9], [0.9, 1.0], [1.0, 1.1], [1.1, 1.2]]\n",
    "]\n",
    "\n",
    "graph_data = create_graph_data_task2(initial_state, trajectory)\n",
    "print(graph_data.x, graph_data.edge_index, graph_data.edge_attr, graph_data.y)"
   ]
  },
  {
   "cell_type": "code",
   "execution_count": null,
   "id": "bc6fbcc2",
   "metadata": {
    "ExecuteTime": {
     "end_time": "2023-06-23T00:45:54.794896Z",
     "start_time": "2023-06-23T00:45:53.716635Z"
    },
    "collapsed": false
   },
   "outputs": [
    {
     "name": "stdout",
     "output_type": "stream",
     "text": [
      "Number of data samples in /Users/sambhavjain/Library/Mobile Documents/com~apple~CloudDocs/TU Eindhoven/Q4/Deep Learning/tue-deeplearning/assignments/assignment_2/data/task 2_3/train: 900\n",
      "Number of training samples: 720\n",
      "Number of validation samples: 180\n",
      "Number of data samples in /Users/sambhavjain/Library/Mobile Documents/com~apple~CloudDocs/TU Eindhoven/Q4/Deep Learning/tue-deeplearning/assignments/assignment_2/data/task 2_3/test: 100\n"
     ]
    }
   ],
   "source": [
    "def create_dataloader_task2(data_folder, task, shuffle, batch_size, train_ratio=0.8):\n",
    "    data_list = []  # List to store the Data objects\n",
    "\n",
    "    # Loop over all files in the folder\n",
    "    for filename in os.listdir(data_folder):\n",
    "        file_path = os.path.join(data_folder, filename)\n",
    "\n",
    "        # Read the data from the file (modify this part based on your file format)\n",
    "        states = load_array(file_path, task=task)\n",
    "        initial_state, trajectory = states\n",
    "\n",
    "        # Create the Data object using create_graph_data function\n",
    "        data = create_graph_data_task2(initial_state, trajectory)\n",
    "\n",
    "        # Handle NaN values in the target data only for the test set\n",
    "        if \"test\" in data_folder:\n",
    "            if torch.isnan(data.y).any():\n",
    "                nan_mask = torch.isnan(data.y)\n",
    "                data.y[nan_mask] = torch.mean(data.y[~nan_mask])\n",
    "\n",
    "        # Append the Data object to the list\n",
    "        data_list.append(data)\n",
    "\n",
    "    # Shuffle the data if specified\n",
    "    if shuffle:\n",
    "        random.shuffle(data_list)\n",
    "\n",
    "    # Calculate the number of samples\n",
    "    num_samples = len(data_list)\n",
    "\n",
    "    if \"train\" in data_folder:\n",
    "        # Calculate the number of samples for train and validation\n",
    "        num_train = int(train_ratio * num_samples)\n",
    "        num_val = num_samples - num_train\n",
    "\n",
    "        # Split the data into train and validation sets\n",
    "        train_data = data_list[:num_train]\n",
    "        val_data = data_list[num_train:]\n",
    "\n",
    "        # Print the number of data samples\n",
    "        print(f\"Number of data samples in {data_folder}: {num_samples}\")\n",
    "        print(f\"Number of training samples: {num_train}\")\n",
    "        print(f\"Number of validation samples: {num_val}\")\n",
    "\n",
    "        # Create data loaders for train and validation sets\n",
    "        dataloader_train = DataLoader(train_data, batch_size=batch_size, shuffle=shuffle)\n",
    "        dataloader_val = DataLoader(val_data, batch_size=batch_size, shuffle=False)\n",
    "\n",
    "        return dataloader_train, dataloader_val, data_list\n",
    "    else:\n",
    "        # Print the number of data samples\n",
    "        print(f\"Number of data samples in {data_folder}: {num_samples}\")\n",
    "\n",
    "        # Create a data loader for the data\n",
    "        dataloader = DataLoader(data_list, batch_size=batch_size, shuffle=shuffle)\n",
    "\n",
    "        return dataloader, data_list\n",
    "\n",
    "# Specify the paths to your train and test data folders\n",
    "data_folder_train = '/Users/sambhavjain/Library/Mobile Documents/com~apple~CloudDocs/TU Eindhoven/Q4/Deep Learning/tue-deeplearning/assignments/assignment_2/data/task 2_3/train'\n",
    "data_folder_test = '/Users/sambhavjain/Library/Mobile Documents/com~apple~CloudDocs/TU Eindhoven/Q4/Deep Learning/tue-deeplearning/assignments/assignment_2/data/task 2_3/test'\n",
    "\n",
    "# Define the batch size\n",
    "batch_size = 50\n",
    "\n",
    "# Create data loaders for train and validation sets (only if the folder contains \"train\")\n",
    "dataloader_train, dataloader_val, data_list = create_dataloader_task2(data_folder_train, task='task 2', shuffle=True, batch_size=batch_size)\n",
    "\n",
    "# Create a separate data loader for the test set\n",
    "dataloader_test, data_list_test = create_dataloader_task2(data_folder_test, task='task 2', shuffle=False, batch_size=batch_size)"
   ]
  },
  {
   "attachments": {},
   "cell_type": "markdown",
   "id": "b547c42f",
   "metadata": {
    "collapsed": false
   },
   "source": [
    "# Model Implementation"
   ]
  },
  {
   "cell_type": "code",
   "execution_count": null,
   "id": "2c3c3cec",
   "metadata": {
    "ExecuteTime": {
     "end_time": "2023-06-23T00:45:54.798195Z",
     "start_time": "2023-06-23T00:45:54.797098Z"
    },
    "collapsed": false
   },
   "outputs": [],
   "source": [
    "class GNN_LSTM(torch.nn.Module):\n",
    "    def __init__(self):\n",
    "        super(GNN_LSTM, self).__init__()\n",
    "\n",
    "        self.conv1 = SAGEConv(5, 64)\n",
    "        self.conv2 = SAGEConv(64, 128)\n",
    "        self.conv3 = SAGEConv(128, 256)\n",
    "        self.conv4 = SAGEConv(256, 512)\n",
    "        self.conv5 = SAGEConv(512, 256)\n",
    "\n",
    "        self.pool = global_mean_pool\n",
    "\n",
    "        self.lstm = nn.LSTM(256, 128, num_layers=1, batch_first=True)\n",
    "        self.fc = nn.Linear(128, 4)\n",
    "\n",
    "    def forward(self, data):\n",
    "        x, edge_index, batch = data.x, data.edge_index, data.batch\n",
    "\n",
    "        x = F.relu(self.conv1(x, edge_index))\n",
    "        x = F.relu(self.conv2(x, edge_index))\n",
    "        x = F.relu(self.conv3(x, edge_index))\n",
    "        x = F.relu(self.conv4(x, edge_index))\n",
    "        x = F.relu(self.conv5(x, edge_index))\n",
    "\n",
    "        # Apply global mean pooling to get a fixed-size vector for each graph\n",
    "        x_pool = self.pool(x, batch)\n",
    "\n",
    "        # Repeat the pooled graph embeddings for each sequence in the corresponding graph\n",
    "        x = x_pool[batch]\n",
    "\n",
    "        # Expand dimensions to match the input shape expected by the LSTM\n",
    "        x = x.unsqueeze(1).expand(-1, data.y.size(1), -1)\n",
    "\n",
    "        # Pass x through LSTM\n",
    "        x, _ = self.lstm(x)\n",
    "\n",
    "        # Pass the output of LSTM through fully connected layer\n",
    "        x = self.fc(x)\n",
    "\n",
    "        return x"
   ]
  },
  {
   "attachments": {},
   "cell_type": "markdown",
   "id": "fd8845b4",
   "metadata": {
    "collapsed": false
   },
   "source": [
    "# Model Training"
   ]
  },
  {
   "cell_type": "code",
   "execution_count": null,
   "id": "ee62769b",
   "metadata": {
    "ExecuteTime": {
     "end_time": "2023-06-23T00:45:54.801321Z",
     "start_time": "2023-06-23T00:45:54.798967Z"
    },
    "collapsed": false
   },
   "outputs": [
    {
     "name": "stdout",
     "output_type": "stream",
     "text": [
      "Loaded device: cpu\n"
     ]
    }
   ],
   "source": [
    "device = torch.device('cuda' if torch.cuda.is_available() else 'cpu')\n",
    "device='cpu'\n",
    "print(f'Loaded device: {device}')"
   ]
  },
  {
   "cell_type": "code",
   "execution_count": null,
   "id": "8edcc913",
   "metadata": {
    "ExecuteTime": {
     "end_time": "2023-06-23T00:45:54.806136Z",
     "start_time": "2023-06-23T00:45:54.805919Z"
    },
    "collapsed": false
   },
   "outputs": [],
   "source": [
    "def calculate_cosine_similarity(true_labels, predictions):\n",
    "    \"\"\"\n",
    "    This function calculates the cosine similarity between true_labels and predictions for each sample individually.\n",
    "    It reshapes the inputs to 2D arrays and computes the cosine similarity using the cosine_similarity function.\n",
    "\n",
    "    Parameters:\n",
    "    true_labels (numpy array): The ground truth values. It is a 3D numpy array with shape (n_samples, n_sequence, n_outputs).\n",
    "    predictions (numpy array): The predicted values. It is a 3D numpy array with shape (n_samples, n_sequence, n_outputs).\n",
    "\n",
    "    Returns:\n",
    "    numpy array: The cosine similarity values for each sample.\n",
    "    \"\"\"\n",
    "    num_samples = true_labels.shape[0]\n",
    "    cosine_sims = np.zeros(num_samples)\n",
    "\n",
    "    for i in range(num_samples):\n",
    "        true_label = true_labels[i]\n",
    "        prediction = predictions[i]\n",
    "\n",
    "        # Reshape to 2D arrays\n",
    "        true_label_2d = true_label.reshape(-1, true_label.shape[-1])\n",
    "        prediction_2d = prediction.reshape(-1, prediction.shape[-1])\n",
    "\n",
    "        cosine_sim = cosine_similarity(true_label_2d, prediction_2d)[0][0]\n",
    "        cosine_sims[i] = cosine_sim\n",
    "\n",
    "    return cosine_sims\n",
    "\n",
    "def rmse_3d(y_true, y_pred):\n",
    "    \"\"\"\n",
    "    This function calculates the Root Mean Square Error (RMSE) for 3D inputs. It computes the RMSE for each point in the sequence\n",
    "    and then returns the average error.\n",
    "\n",
    "    Parameters:\n",
    "    y_true (numpy array): The ground truth values. It is a 3D numpy array with shape (n_samples, n_sequence, n_outputs).\n",
    "    y_pred (numpy array): The predicted values. It is a 3D numpy array with shape (n_samples, n_sequence, n_outputs).\n",
    "\n",
    "    Returns:\n",
    "    float: The average RMSE for all points in the sequence.\n",
    "    \"\"\"\n",
    "    assert y_true.shape == y_pred.shape\n",
    "    mse = np.mean((y_true - y_pred) ** 2, axis=(1, 2))\n",
    "    rmse = np.sqrt(mse)\n",
    "\n",
    "    return np.mean(rmse)"
   ]
  },
  {
   "cell_type": "code",
   "execution_count": null,
   "id": "f5c250b4",
   "metadata": {
    "ExecuteTime": {
     "end_time": "2023-06-23T00:45:54.842021Z",
     "start_time": "2023-06-23T00:45:54.811242Z"
    },
    "collapsed": false
   },
   "outputs": [],
   "source": [
    "from sklearn.metrics.pairwise import cosine_similarity\n",
    "\n",
    "model = GNN_LSTM().to(device)\n",
    "optimizer = torch.optim.Adam(model.parameters(), lr=0.005)\n",
    "loss_func = torch.nn.MSELoss()\n",
    "\n",
    "def train(loader):\n",
    "    model.train()\n",
    "    total_loss = 0\n",
    "    total_samples = 0\n",
    "    total_rmse = 0\n",
    "    total_cosine_similarity = 0\n",
    "\n",
    "    for data in loader:\n",
    "        data.to(device)\n",
    "        optimizer.zero_grad()\n",
    "        output = model(data)\n",
    "        loss = loss_func(output, data.y)\n",
    "        loss.backward()\n",
    "        optimizer.step()\n",
    "        total_loss += loss.item() * data.num_graphs\n",
    "        total_samples += data.num_graphs\n",
    "        predictions = output.detach().cpu().numpy()\n",
    "        true_labels = data.y.detach().cpu().numpy()\n",
    "\n",
    "        # RMSE\n",
    "        total_rmse += rmse_3d(true_labels, predictions) * data.num_graphs\n",
    "\n",
    "        # Cosine Similarity\n",
    "        cosine_sims = calculate_cosine_similarity(true_labels, predictions)\n",
    "        total_cosine_similarity += np.sum(cosine_sims)\n",
    "\n",
    "    avg_loss = total_loss / total_samples\n",
    "    avg_rmse = total_rmse / total_samples\n",
    "    avg_cosine_sim = total_cosine_similarity / total_samples\n",
    "\n",
    "    return avg_loss, avg_rmse, avg_cosine_sim\n",
    "\n",
    "def evaluate(loader):\n",
    "    model.eval()\n",
    "    total_loss = 0\n",
    "    total_samples = 0\n",
    "    total_rmse = 0\n",
    "    total_cosine_similarity = 0\n",
    "\n",
    "    for data in loader:\n",
    "        data.to(device)\n",
    "        output = model(data)\n",
    "        loss = loss_func(output, data.y)\n",
    "        total_loss += loss.item() * data.num_graphs\n",
    "        total_samples += data.num_graphs\n",
    "        predictions = output.detach().cpu().numpy()\n",
    "        true_labels = data.y.detach().cpu().numpy()\n",
    "\n",
    "        # RMSE\n",
    "        total_rmse += rmse_3d(true_labels, predictions) * data.num_graphs\n",
    "\n",
    "        # Cosine Similarity\n",
    "        cosine_sims = calculate_cosine_similarity(true_labels, predictions)\n",
    "        total_cosine_similarity += np.sum(cosine_sims)\n",
    "\n",
    "    avg_loss = total_loss / total_samples\n",
    "    avg_rmse = total_rmse / total_samples\n",
    "    avg_cosine_sim = total_cosine_similarity / total_samples\n",
    "\n",
    "    return avg_loss, avg_rmse, avg_cosine_sim"
   ]
  },
  {
   "cell_type": "code",
   "execution_count": null,
   "id": "18ad41e5",
   "metadata": {
    "ExecuteTime": {
     "end_time": "2023-06-23T00:47:38.232376Z",
     "start_time": "2023-06-23T00:45:54.820101Z"
    },
    "collapsed": false
   },
   "outputs": [
    {
     "name": "stderr",
     "output_type": "stream",
     "text": [
      "  2%|▏         | 1/50 [00:02<01:38,  2.00s/it]"
     ]
    },
    {
     "name": "stdout",
     "output_type": "stream",
     "text": [
      "EPOCH: 001, TRAIN LOSS: 9.7081, VAL LOSS: 9.1622, TEST LOSS: 9.2092. TRAINING TIME SO FAR: 2.0 s\n",
      "TRAIN COSINE SIM: 0.0471, VAL COSINE SIM: -0.0410, TEST COSINE SIM: -0.1137\n",
      "TRAIN RMSE: 2.9402, VAL RMSE: 2.8711, TEST RMSE: 2.8650\n",
      "\n"
     ]
    },
    {
     "name": "stderr",
     "output_type": "stream",
     "text": [
      "  4%|▍         | 2/50 [00:03<01:35,  1.99s/it]"
     ]
    },
    {
     "name": "stdout",
     "output_type": "stream",
     "text": [
      "EPOCH: 002, TRAIN LOSS: 9.6685, VAL LOSS: 9.1487, TEST LOSS: 9.2033. TRAINING TIME SO FAR: 4.0 s\n",
      "TRAIN COSINE SIM: 0.0888, VAL COSINE SIM: -0.0331, TEST COSINE SIM: -0.1624\n",
      "TRAIN RMSE: 2.9362, VAL RMSE: 2.8733, TEST RMSE: 2.8694\n",
      "\n"
     ]
    },
    {
     "name": "stderr",
     "output_type": "stream",
     "text": [
      "  6%|▌         | 3/50 [00:05<01:33,  2.00s/it]"
     ]
    },
    {
     "name": "stdout",
     "output_type": "stream",
     "text": [
      "EPOCH: 003, TRAIN LOSS: 9.6463, VAL LOSS: 9.1271, TEST LOSS: 9.2157. TRAINING TIME SO FAR: 6.0 s\n",
      "TRAIN COSINE SIM: 0.1320, VAL COSINE SIM: 0.1871, TEST COSINE SIM: 0.1020\n",
      "TRAIN RMSE: 2.9379, VAL RMSE: 2.8691, TEST RMSE: 2.8643\n",
      "\n"
     ]
    },
    {
     "name": "stderr",
     "output_type": "stream",
     "text": [
      "  8%|▊         | 4/50 [00:07<01:31,  2.00s/it]"
     ]
    },
    {
     "name": "stdout",
     "output_type": "stream",
     "text": [
      "EPOCH: 004, TRAIN LOSS: 9.6095, VAL LOSS: 9.0506, TEST LOSS: 9.0902. TRAINING TIME SO FAR: 8.0 s\n",
      "TRAIN COSINE SIM: 0.2049, VAL COSINE SIM: 0.2026, TEST COSINE SIM: 0.3207\n",
      "TRAIN RMSE: 2.9364, VAL RMSE: 2.8684, TEST RMSE: 2.8598\n",
      "\n"
     ]
    },
    {
     "name": "stderr",
     "output_type": "stream",
     "text": [
      " 10%|█         | 5/50 [00:09<01:29,  2.00s/it]"
     ]
    },
    {
     "name": "stdout",
     "output_type": "stream",
     "text": [
      "EPOCH: 005, TRAIN LOSS: 9.5872, VAL LOSS: 9.0459, TEST LOSS: 9.1113. TRAINING TIME SO FAR: 10.0 s\n",
      "TRAIN COSINE SIM: 0.3370, VAL COSINE SIM: 0.3044, TEST COSINE SIM: 0.3124\n",
      "TRAIN RMSE: 2.9344, VAL RMSE: 2.8654, TEST RMSE: 2.8603\n",
      "\n"
     ]
    },
    {
     "name": "stderr",
     "output_type": "stream",
     "text": [
      " 12%|█▏        | 6/50 [00:12<01:28,  2.02s/it]"
     ]
    },
    {
     "name": "stdout",
     "output_type": "stream",
     "text": [
      "EPOCH: 006, TRAIN LOSS: 9.5651, VAL LOSS: 9.0232, TEST LOSS: 9.0514. TRAINING TIME SO FAR: 12.0 s\n",
      "TRAIN COSINE SIM: 0.3627, VAL COSINE SIM: 0.2424, TEST COSINE SIM: 0.3727\n",
      "TRAIN RMSE: 2.9338, VAL RMSE: 2.8661, TEST RMSE: 2.8554\n",
      "\n"
     ]
    },
    {
     "name": "stderr",
     "output_type": "stream",
     "text": [
      " 14%|█▍        | 7/50 [00:14<01:26,  2.01s/it]"
     ]
    },
    {
     "name": "stdout",
     "output_type": "stream",
     "text": [
      "EPOCH: 007, TRAIN LOSS: 9.5459, VAL LOSS: 9.0187, TEST LOSS: 9.0564. TRAINING TIME SO FAR: 14.1 s\n",
      "TRAIN COSINE SIM: 0.3942, VAL COSINE SIM: 0.3787, TEST COSINE SIM: 0.4038\n",
      "TRAIN RMSE: 2.9303, VAL RMSE: 2.8620, TEST RMSE: 2.8530\n",
      "\n"
     ]
    },
    {
     "name": "stderr",
     "output_type": "stream",
     "text": [
      " 16%|█▌        | 8/50 [00:16<01:25,  2.04s/it]"
     ]
    },
    {
     "name": "stdout",
     "output_type": "stream",
     "text": [
      "EPOCH: 008, TRAIN LOSS: 9.5282, VAL LOSS: 8.9989, TEST LOSS: 9.0383. TRAINING TIME SO FAR: 16.1 s\n",
      "TRAIN COSINE SIM: 0.3980, VAL COSINE SIM: 0.3288, TEST COSINE SIM: 0.4256\n",
      "TRAIN RMSE: 2.9307, VAL RMSE: 2.8631, TEST RMSE: 2.8542\n",
      "\n"
     ]
    },
    {
     "name": "stderr",
     "output_type": "stream",
     "text": [
      " 18%|█▊        | 9/50 [00:18<01:24,  2.07s/it]"
     ]
    },
    {
     "name": "stdout",
     "output_type": "stream",
     "text": [
      "EPOCH: 009, TRAIN LOSS: 9.5194, VAL LOSS: 8.9875, TEST LOSS: 9.0211. TRAINING TIME SO FAR: 18.3 s\n",
      "TRAIN COSINE SIM: 0.4112, VAL COSINE SIM: 0.3894, TEST COSINE SIM: 0.4858\n",
      "TRAIN RMSE: 2.9299, VAL RMSE: 2.8621, TEST RMSE: 2.8509\n",
      "\n"
     ]
    },
    {
     "name": "stderr",
     "output_type": "stream",
     "text": [
      " 20%|██        | 10/50 [00:20<01:23,  2.09s/it]"
     ]
    },
    {
     "name": "stdout",
     "output_type": "stream",
     "text": [
      "EPOCH: 010, TRAIN LOSS: 9.5197, VAL LOSS: 8.9941, TEST LOSS: 9.0364. TRAINING TIME SO FAR: 20.4 s\n",
      "TRAIN COSINE SIM: 0.4358, VAL COSINE SIM: 0.3992, TEST COSINE SIM: 0.4419\n",
      "TRAIN RMSE: 2.9302, VAL RMSE: 2.8625, TEST RMSE: 2.8527\n",
      "\n"
     ]
    },
    {
     "name": "stderr",
     "output_type": "stream",
     "text": [
      " 22%|██▏       | 11/50 [00:22<01:21,  2.10s/it]"
     ]
    },
    {
     "name": "stdout",
     "output_type": "stream",
     "text": [
      "EPOCH: 011, TRAIN LOSS: 9.5179, VAL LOSS: 9.0014, TEST LOSS: 9.0503. TRAINING TIME SO FAR: 22.5 s\n",
      "TRAIN COSINE SIM: 0.4437, VAL COSINE SIM: 0.4334, TEST COSINE SIM: 0.4705\n",
      "TRAIN RMSE: 2.9278, VAL RMSE: 2.8614, TEST RMSE: 2.8498\n",
      "\n"
     ]
    },
    {
     "name": "stderr",
     "output_type": "stream",
     "text": [
      " 24%|██▍       | 12/50 [00:24<01:19,  2.10s/it]"
     ]
    },
    {
     "name": "stdout",
     "output_type": "stream",
     "text": [
      "EPOCH: 012, TRAIN LOSS: 9.5107, VAL LOSS: 8.9863, TEST LOSS: 9.0203. TRAINING TIME SO FAR: 24.6 s\n",
      "TRAIN COSINE SIM: 0.4361, VAL COSINE SIM: 0.4303, TEST COSINE SIM: 0.5032\n",
      "TRAIN RMSE: 2.9281, VAL RMSE: 2.8610, TEST RMSE: 2.8462\n",
      "\n"
     ]
    },
    {
     "name": "stderr",
     "output_type": "stream",
     "text": [
      " 26%|██▌       | 13/50 [00:26<01:17,  2.10s/it]"
     ]
    },
    {
     "name": "stdout",
     "output_type": "stream",
     "text": [
      "EPOCH: 013, TRAIN LOSS: 9.5028, VAL LOSS: 8.9854, TEST LOSS: 9.0146. TRAINING TIME SO FAR: 26.7 s\n",
      "TRAIN COSINE SIM: 0.4446, VAL COSINE SIM: 0.4537, TEST COSINE SIM: 0.5469\n",
      "TRAIN RMSE: 2.9273, VAL RMSE: 2.8604, TEST RMSE: 2.8450\n",
      "\n"
     ]
    },
    {
     "name": "stderr",
     "output_type": "stream",
     "text": [
      " 28%|██▊       | 14/50 [00:28<01:15,  2.11s/it]"
     ]
    },
    {
     "name": "stdout",
     "output_type": "stream",
     "text": [
      "EPOCH: 014, TRAIN LOSS: 9.4984, VAL LOSS: 8.9909, TEST LOSS: 9.0240. TRAINING TIME SO FAR: 28.9 s\n",
      "TRAIN COSINE SIM: 0.4584, VAL COSINE SIM: 0.4278, TEST COSINE SIM: 0.5130\n",
      "TRAIN RMSE: 2.9261, VAL RMSE: 2.8609, TEST RMSE: 2.8486\n",
      "\n"
     ]
    },
    {
     "name": "stderr",
     "output_type": "stream",
     "text": [
      " 30%|███       | 15/50 [00:30<01:13,  2.10s/it]"
     ]
    },
    {
     "name": "stdout",
     "output_type": "stream",
     "text": [
      "EPOCH: 015, TRAIN LOSS: 9.5037, VAL LOSS: 8.9856, TEST LOSS: 9.0204. TRAINING TIME SO FAR: 30.9 s\n",
      "TRAIN COSINE SIM: 0.4598, VAL COSINE SIM: 0.4676, TEST COSINE SIM: 0.5203\n",
      "TRAIN RMSE: 2.9268, VAL RMSE: 2.8588, TEST RMSE: 2.8443\n",
      "\n"
     ]
    },
    {
     "name": "stderr",
     "output_type": "stream",
     "text": [
      " 32%|███▏      | 16/50 [00:33<01:11,  2.10s/it]"
     ]
    },
    {
     "name": "stdout",
     "output_type": "stream",
     "text": [
      "EPOCH: 016, TRAIN LOSS: 9.5035, VAL LOSS: 9.0069, TEST LOSS: 9.0616. TRAINING TIME SO FAR: 33.1 s\n",
      "TRAIN COSINE SIM: 0.4723, VAL COSINE SIM: 0.4334, TEST COSINE SIM: 0.4991\n",
      "TRAIN RMSE: 2.9264, VAL RMSE: 2.8615, TEST RMSE: 2.8487\n",
      "\n"
     ]
    },
    {
     "name": "stderr",
     "output_type": "stream",
     "text": [
      " 34%|███▍      | 17/50 [00:35<01:09,  2.10s/it]"
     ]
    },
    {
     "name": "stdout",
     "output_type": "stream",
     "text": [
      "EPOCH: 017, TRAIN LOSS: 9.5076, VAL LOSS: 8.9843, TEST LOSS: 9.0202. TRAINING TIME SO FAR: 35.1 s\n",
      "TRAIN COSINE SIM: 0.4592, VAL COSINE SIM: 0.4735, TEST COSINE SIM: 0.5281\n",
      "TRAIN RMSE: 2.9266, VAL RMSE: 2.8589, TEST RMSE: 2.8453\n",
      "\n"
     ]
    },
    {
     "name": "stderr",
     "output_type": "stream",
     "text": [
      " 36%|███▌      | 18/50 [00:37<01:07,  2.10s/it]"
     ]
    },
    {
     "name": "stdout",
     "output_type": "stream",
     "text": [
      "EPOCH: 018, TRAIN LOSS: 9.5137, VAL LOSS: 8.9844, TEST LOSS: 9.0182. TRAINING TIME SO FAR: 37.3 s\n",
      "TRAIN COSINE SIM: 0.4846, VAL COSINE SIM: 0.4725, TEST COSINE SIM: 0.5437\n",
      "TRAIN RMSE: 2.9270, VAL RMSE: 2.8594, TEST RMSE: 2.8443\n",
      "\n"
     ]
    },
    {
     "name": "stderr",
     "output_type": "stream",
     "text": [
      " 38%|███▊      | 19/50 [00:39<01:04,  2.10s/it]"
     ]
    },
    {
     "name": "stdout",
     "output_type": "stream",
     "text": [
      "EPOCH: 019, TRAIN LOSS: 9.5063, VAL LOSS: 8.9864, TEST LOSS: 9.0214. TRAINING TIME SO FAR: 39.3 s\n",
      "TRAIN COSINE SIM: 0.4747, VAL COSINE SIM: 0.4275, TEST COSINE SIM: 0.5083\n",
      "TRAIN RMSE: 2.9264, VAL RMSE: 2.8590, TEST RMSE: 2.8468\n",
      "\n"
     ]
    },
    {
     "name": "stderr",
     "output_type": "stream",
     "text": [
      " 40%|████      | 20/50 [00:41<01:02,  2.10s/it]"
     ]
    },
    {
     "name": "stdout",
     "output_type": "stream",
     "text": [
      "EPOCH: 020, TRAIN LOSS: 9.5090, VAL LOSS: 8.9862, TEST LOSS: 9.0350. TRAINING TIME SO FAR: 41.4 s\n",
      "TRAIN COSINE SIM: 0.4885, VAL COSINE SIM: 0.4406, TEST COSINE SIM: 0.4761\n",
      "TRAIN RMSE: 2.9248, VAL RMSE: 2.8604, TEST RMSE: 2.8498\n",
      "\n"
     ]
    },
    {
     "name": "stderr",
     "output_type": "stream",
     "text": [
      " 42%|████▏     | 21/50 [00:43<01:01,  2.11s/it]"
     ]
    },
    {
     "name": "stdout",
     "output_type": "stream",
     "text": [
      "EPOCH: 021, TRAIN LOSS: 9.4973, VAL LOSS: 8.9841, TEST LOSS: 9.0233. TRAINING TIME SO FAR: 43.6 s\n",
      "TRAIN COSINE SIM: 0.4873, VAL COSINE SIM: 0.4791, TEST COSINE SIM: 0.5165\n",
      "TRAIN RMSE: 2.9258, VAL RMSE: 2.8573, TEST RMSE: 2.8451\n",
      "\n"
     ]
    },
    {
     "name": "stderr",
     "output_type": "stream",
     "text": [
      " 44%|████▍     | 22/50 [00:45<00:58,  2.09s/it]"
     ]
    },
    {
     "name": "stdout",
     "output_type": "stream",
     "text": [
      "EPOCH: 022, TRAIN LOSS: 9.4934, VAL LOSS: 8.9851, TEST LOSS: 9.0065. TRAINING TIME SO FAR: 45.6 s\n",
      "TRAIN COSINE SIM: 0.4853, VAL COSINE SIM: 0.4549, TEST COSINE SIM: 0.5483\n",
      "TRAIN RMSE: 2.9238, VAL RMSE: 2.8589, TEST RMSE: 2.8437\n",
      "\n"
     ]
    },
    {
     "name": "stderr",
     "output_type": "stream",
     "text": [
      " 46%|████▌     | 23/50 [00:47<00:56,  2.10s/it]"
     ]
    },
    {
     "name": "stdout",
     "output_type": "stream",
     "text": [
      "EPOCH: 023, TRAIN LOSS: 9.4866, VAL LOSS: 8.9825, TEST LOSS: 9.0163. TRAINING TIME SO FAR: 47.7 s\n",
      "TRAIN COSINE SIM: 0.4780, VAL COSINE SIM: 0.4752, TEST COSINE SIM: 0.5436\n",
      "TRAIN RMSE: 2.9245, VAL RMSE: 2.8575, TEST RMSE: 2.8440\n",
      "\n"
     ]
    },
    {
     "name": "stderr",
     "output_type": "stream",
     "text": [
      " 48%|████▊     | 24/50 [00:49<00:54,  2.10s/it]"
     ]
    },
    {
     "name": "stdout",
     "output_type": "stream",
     "text": [
      "EPOCH: 024, TRAIN LOSS: 9.4977, VAL LOSS: 8.9927, TEST LOSS: 9.0232. TRAINING TIME SO FAR: 49.8 s\n",
      "TRAIN COSINE SIM: 0.4841, VAL COSINE SIM: 0.3881, TEST COSINE SIM: 0.5032\n",
      "TRAIN RMSE: 2.9246, VAL RMSE: 2.8590, TEST RMSE: 2.8452\n",
      "\n"
     ]
    },
    {
     "name": "stderr",
     "output_type": "stream",
     "text": [
      " 50%|█████     | 25/50 [00:51<00:52,  2.09s/it]"
     ]
    },
    {
     "name": "stdout",
     "output_type": "stream",
     "text": [
      "EPOCH: 025, TRAIN LOSS: 9.5000, VAL LOSS: 8.9838, TEST LOSS: 9.0219. TRAINING TIME SO FAR: 51.9 s\n",
      "TRAIN COSINE SIM: 0.4777, VAL COSINE SIM: 0.4716, TEST COSINE SIM: 0.5230\n",
      "TRAIN RMSE: 2.9261, VAL RMSE: 2.8585, TEST RMSE: 2.8452\n",
      "\n"
     ]
    },
    {
     "name": "stderr",
     "output_type": "stream",
     "text": [
      " 52%|█████▏    | 26/50 [00:53<00:49,  2.08s/it]"
     ]
    },
    {
     "name": "stdout",
     "output_type": "stream",
     "text": [
      "EPOCH: 026, TRAIN LOSS: 9.4998, VAL LOSS: 8.9830, TEST LOSS: 9.0186. TRAINING TIME SO FAR: 54.0 s\n",
      "TRAIN COSINE SIM: 0.4829, VAL COSINE SIM: 0.4625, TEST COSINE SIM: 0.5435\n",
      "TRAIN RMSE: 2.9243, VAL RMSE: 2.8571, TEST RMSE: 2.8436\n",
      "\n"
     ]
    },
    {
     "name": "stderr",
     "output_type": "stream",
     "text": [
      " 54%|█████▍    | 27/50 [00:56<00:47,  2.08s/it]"
     ]
    },
    {
     "name": "stdout",
     "output_type": "stream",
     "text": [
      "EPOCH: 027, TRAIN LOSS: 9.4939, VAL LOSS: 8.9842, TEST LOSS: 9.0196. TRAINING TIME SO FAR: 56.1 s\n",
      "TRAIN COSINE SIM: 0.4832, VAL COSINE SIM: 0.4521, TEST COSINE SIM: 0.5013\n",
      "TRAIN RMSE: 2.9244, VAL RMSE: 2.8590, TEST RMSE: 2.8465\n",
      "\n"
     ]
    },
    {
     "name": "stderr",
     "output_type": "stream",
     "text": [
      " 56%|█████▌    | 28/50 [00:58<00:45,  2.07s/it]"
     ]
    },
    {
     "name": "stdout",
     "output_type": "stream",
     "text": [
      "EPOCH: 028, TRAIN LOSS: 9.4797, VAL LOSS: 8.9811, TEST LOSS: 9.0132. TRAINING TIME SO FAR: 58.1 s\n",
      "TRAIN COSINE SIM: 0.4919, VAL COSINE SIM: 0.4694, TEST COSINE SIM: 0.4983\n",
      "TRAIN RMSE: 2.9228, VAL RMSE: 2.8574, TEST RMSE: 2.8435\n",
      "\n"
     ]
    },
    {
     "name": "stderr",
     "output_type": "stream",
     "text": [
      " 58%|█████▊    | 29/50 [01:00<00:43,  2.06s/it]"
     ]
    },
    {
     "name": "stdout",
     "output_type": "stream",
     "text": [
      "EPOCH: 029, TRAIN LOSS: 9.4908, VAL LOSS: 8.9846, TEST LOSS: 9.0207. TRAINING TIME SO FAR: 60.1 s\n",
      "TRAIN COSINE SIM: 0.4848, VAL COSINE SIM: 0.4681, TEST COSINE SIM: 0.5185\n",
      "TRAIN RMSE: 2.9236, VAL RMSE: 2.8582, TEST RMSE: 2.8454\n",
      "\n"
     ]
    },
    {
     "name": "stderr",
     "output_type": "stream",
     "text": [
      " 60%|██████    | 30/50 [01:02<00:41,  2.05s/it]"
     ]
    },
    {
     "name": "stdout",
     "output_type": "stream",
     "text": [
      "EPOCH: 030, TRAIN LOSS: 9.5047, VAL LOSS: 8.9952, TEST LOSS: 9.0234. TRAINING TIME SO FAR: 62.2 s\n",
      "TRAIN COSINE SIM: 0.4698, VAL COSINE SIM: 0.3495, TEST COSINE SIM: 0.4630\n",
      "TRAIN RMSE: 2.9251, VAL RMSE: 2.8615, TEST RMSE: 2.8485\n",
      "\n"
     ]
    },
    {
     "name": "stderr",
     "output_type": "stream",
     "text": [
      " 62%|██████▏   | 31/50 [01:04<00:39,  2.05s/it]"
     ]
    },
    {
     "name": "stdout",
     "output_type": "stream",
     "text": [
      "EPOCH: 031, TRAIN LOSS: 9.4996, VAL LOSS: 8.9838, TEST LOSS: 9.0228. TRAINING TIME SO FAR: 64.2 s\n",
      "TRAIN COSINE SIM: 0.4789, VAL COSINE SIM: 0.4841, TEST COSINE SIM: 0.5207\n",
      "TRAIN RMSE: 2.9253, VAL RMSE: 2.8567, TEST RMSE: 2.8448\n",
      "\n"
     ]
    },
    {
     "name": "stderr",
     "output_type": "stream",
     "text": [
      " 64%|██████▍   | 32/50 [01:06<00:36,  2.05s/it]"
     ]
    },
    {
     "name": "stdout",
     "output_type": "stream",
     "text": [
      "EPOCH: 032, TRAIN LOSS: 9.4983, VAL LOSS: 8.9833, TEST LOSS: 9.0185. TRAINING TIME SO FAR: 66.3 s\n",
      "TRAIN COSINE SIM: 0.5034, VAL COSINE SIM: 0.4904, TEST COSINE SIM: 0.5279\n",
      "TRAIN RMSE: 2.9228, VAL RMSE: 2.8574, TEST RMSE: 2.8446\n",
      "\n"
     ]
    },
    {
     "name": "stderr",
     "output_type": "stream",
     "text": [
      " 66%|██████▌   | 33/50 [01:08<00:34,  2.05s/it]"
     ]
    },
    {
     "name": "stdout",
     "output_type": "stream",
     "text": [
      "EPOCH: 033, TRAIN LOSS: 9.4975, VAL LOSS: 8.9805, TEST LOSS: 9.0141. TRAINING TIME SO FAR: 68.3 s\n",
      "TRAIN COSINE SIM: 0.4885, VAL COSINE SIM: 0.4742, TEST COSINE SIM: 0.5101\n",
      "TRAIN RMSE: 2.9241, VAL RMSE: 2.8576, TEST RMSE: 2.8448\n",
      "\n"
     ]
    },
    {
     "name": "stderr",
     "output_type": "stream",
     "text": [
      " 68%|██████▊   | 34/50 [01:10<00:32,  2.05s/it]"
     ]
    },
    {
     "name": "stdout",
     "output_type": "stream",
     "text": [
      "EPOCH: 034, TRAIN LOSS: 9.4878, VAL LOSS: 8.9826, TEST LOSS: 9.0167. TRAINING TIME SO FAR: 70.3 s\n",
      "TRAIN COSINE SIM: 0.4974, VAL COSINE SIM: 0.4761, TEST COSINE SIM: 0.5254\n",
      "TRAIN RMSE: 2.9239, VAL RMSE: 2.8575, TEST RMSE: 2.8433\n",
      "\n"
     ]
    },
    {
     "name": "stderr",
     "output_type": "stream",
     "text": [
      " 70%|███████   | 35/50 [01:12<00:30,  2.05s/it]"
     ]
    },
    {
     "name": "stdout",
     "output_type": "stream",
     "text": [
      "EPOCH: 035, TRAIN LOSS: 9.4981, VAL LOSS: 8.9848, TEST LOSS: 9.0201. TRAINING TIME SO FAR: 72.4 s\n",
      "TRAIN COSINE SIM: 0.4873, VAL COSINE SIM: 0.4328, TEST COSINE SIM: 0.4681\n",
      "TRAIN RMSE: 2.9242, VAL RMSE: 2.8582, TEST RMSE: 2.8463\n",
      "\n"
     ]
    },
    {
     "name": "stderr",
     "output_type": "stream",
     "text": [
      " 72%|███████▏  | 36/50 [01:14<00:28,  2.06s/it]"
     ]
    },
    {
     "name": "stdout",
     "output_type": "stream",
     "text": [
      "EPOCH: 036, TRAIN LOSS: 9.4862, VAL LOSS: 8.9827, TEST LOSS: 9.0175. TRAINING TIME SO FAR: 74.5 s\n",
      "TRAIN COSINE SIM: 0.4803, VAL COSINE SIM: 0.4554, TEST COSINE SIM: 0.4843\n",
      "TRAIN RMSE: 2.9234, VAL RMSE: 2.8576, TEST RMSE: 2.8452\n",
      "\n"
     ]
    },
    {
     "name": "stderr",
     "output_type": "stream",
     "text": [
      " 74%|███████▍  | 37/50 [01:16<00:26,  2.07s/it]"
     ]
    },
    {
     "name": "stdout",
     "output_type": "stream",
     "text": [
      "EPOCH: 037, TRAIN LOSS: 9.4968, VAL LOSS: 8.9865, TEST LOSS: 9.0117. TRAINING TIME SO FAR: 76.6 s\n",
      "TRAIN COSINE SIM: 0.4916, VAL COSINE SIM: 0.4550, TEST COSINE SIM: 0.5335\n",
      "TRAIN RMSE: 2.9240, VAL RMSE: 2.8593, TEST RMSE: 2.8432\n",
      "\n"
     ]
    },
    {
     "name": "stderr",
     "output_type": "stream",
     "text": [
      " 76%|███████▌  | 38/50 [01:18<00:24,  2.07s/it]"
     ]
    },
    {
     "name": "stdout",
     "output_type": "stream",
     "text": [
      "EPOCH: 038, TRAIN LOSS: 9.4881, VAL LOSS: 8.9923, TEST LOSS: 9.0211. TRAINING TIME SO FAR: 78.6 s\n",
      "TRAIN COSINE SIM: 0.4880, VAL COSINE SIM: 0.4023, TEST COSINE SIM: 0.4469\n",
      "TRAIN RMSE: 2.9237, VAL RMSE: 2.8578, TEST RMSE: 2.8450\n",
      "\n"
     ]
    },
    {
     "name": "stderr",
     "output_type": "stream",
     "text": [
      " 78%|███████▊  | 39/50 [01:20<00:22,  2.06s/it]"
     ]
    },
    {
     "name": "stdout",
     "output_type": "stream",
     "text": [
      "EPOCH: 039, TRAIN LOSS: 9.4975, VAL LOSS: 8.9855, TEST LOSS: 9.0083. TRAINING TIME SO FAR: 80.7 s\n",
      "TRAIN COSINE SIM: 0.4765, VAL COSINE SIM: 0.4203, TEST COSINE SIM: 0.4966\n",
      "TRAIN RMSE: 2.9241, VAL RMSE: 2.8599, TEST RMSE: 2.8448\n",
      "\n"
     ]
    },
    {
     "name": "stderr",
     "output_type": "stream",
     "text": [
      " 80%|████████  | 40/50 [01:22<00:20,  2.06s/it]"
     ]
    },
    {
     "name": "stdout",
     "output_type": "stream",
     "text": [
      "EPOCH: 040, TRAIN LOSS: 9.4991, VAL LOSS: 8.9861, TEST LOSS: 9.0219. TRAINING TIME SO FAR: 82.8 s\n",
      "TRAIN COSINE SIM: 0.4812, VAL COSINE SIM: 0.4684, TEST COSINE SIM: 0.5065\n",
      "TRAIN RMSE: 2.9251, VAL RMSE: 2.8569, TEST RMSE: 2.8436\n",
      "\n"
     ]
    },
    {
     "name": "stderr",
     "output_type": "stream",
     "text": [
      " 82%|████████▏ | 41/50 [01:24<00:18,  2.06s/it]"
     ]
    },
    {
     "name": "stdout",
     "output_type": "stream",
     "text": [
      "EPOCH: 041, TRAIN LOSS: 9.4853, VAL LOSS: 8.9844, TEST LOSS: 9.0157. TRAINING TIME SO FAR: 84.8 s\n",
      "TRAIN COSINE SIM: 0.4917, VAL COSINE SIM: 0.4417, TEST COSINE SIM: 0.4875\n",
      "TRAIN RMSE: 2.9223, VAL RMSE: 2.8583, TEST RMSE: 2.8448\n",
      "\n"
     ]
    },
    {
     "name": "stderr",
     "output_type": "stream",
     "text": [
      " 84%|████████▍ | 42/50 [01:26<00:16,  2.05s/it]"
     ]
    },
    {
     "name": "stdout",
     "output_type": "stream",
     "text": [
      "EPOCH: 042, TRAIN LOSS: 9.4830, VAL LOSS: 8.9838, TEST LOSS: 9.0118. TRAINING TIME SO FAR: 86.9 s\n",
      "TRAIN COSINE SIM: 0.4917, VAL COSINE SIM: 0.4363, TEST COSINE SIM: 0.5150\n",
      "TRAIN RMSE: 2.9218, VAL RMSE: 2.8575, TEST RMSE: 2.8433\n",
      "\n"
     ]
    },
    {
     "name": "stderr",
     "output_type": "stream",
     "text": [
      " 86%|████████▌ | 43/50 [01:28<00:14,  2.06s/it]"
     ]
    },
    {
     "name": "stdout",
     "output_type": "stream",
     "text": [
      "EPOCH: 043, TRAIN LOSS: 9.4948, VAL LOSS: 8.9836, TEST LOSS: 9.0110. TRAINING TIME SO FAR: 88.9 s\n",
      "TRAIN COSINE SIM: 0.4834, VAL COSINE SIM: 0.4264, TEST COSINE SIM: 0.4768\n",
      "TRAIN RMSE: 2.9237, VAL RMSE: 2.8586, TEST RMSE: 2.8441\n",
      "\n"
     ]
    },
    {
     "name": "stderr",
     "output_type": "stream",
     "text": [
      " 88%|████████▊ | 44/50 [01:30<00:12,  2.05s/it]"
     ]
    },
    {
     "name": "stdout",
     "output_type": "stream",
     "text": [
      "EPOCH: 044, TRAIN LOSS: 9.4982, VAL LOSS: 8.9824, TEST LOSS: 9.0146. TRAINING TIME SO FAR: 91.0 s\n",
      "TRAIN COSINE SIM: 0.4885, VAL COSINE SIM: 0.4409, TEST COSINE SIM: 0.4876\n",
      "TRAIN RMSE: 2.9235, VAL RMSE: 2.8577, TEST RMSE: 2.8441\n",
      "\n"
     ]
    },
    {
     "name": "stderr",
     "output_type": "stream",
     "text": [
      " 90%|█████████ | 45/50 [01:33<00:10,  2.06s/it]"
     ]
    },
    {
     "name": "stdout",
     "output_type": "stream",
     "text": [
      "EPOCH: 045, TRAIN LOSS: 9.5085, VAL LOSS: 8.9831, TEST LOSS: 9.0232. TRAINING TIME SO FAR: 93.0 s\n",
      "TRAIN COSINE SIM: 0.4980, VAL COSINE SIM: 0.4291, TEST COSINE SIM: 0.4873\n",
      "TRAIN RMSE: 2.9247, VAL RMSE: 2.8591, TEST RMSE: 2.8459\n",
      "\n"
     ]
    },
    {
     "name": "stderr",
     "output_type": "stream",
     "text": [
      " 92%|█████████▏| 46/50 [01:35<00:08,  2.07s/it]"
     ]
    },
    {
     "name": "stdout",
     "output_type": "stream",
     "text": [
      "EPOCH: 046, TRAIN LOSS: 9.5088, VAL LOSS: 8.9815, TEST LOSS: 9.0257. TRAINING TIME SO FAR: 95.1 s\n",
      "TRAIN COSINE SIM: 0.4917, VAL COSINE SIM: 0.4487, TEST COSINE SIM: 0.4749\n",
      "TRAIN RMSE: 2.9243, VAL RMSE: 2.8578, TEST RMSE: 2.8468\n",
      "\n"
     ]
    },
    {
     "name": "stderr",
     "output_type": "stream",
     "text": [
      " 94%|█████████▍| 47/50 [01:37<00:06,  2.07s/it]"
     ]
    },
    {
     "name": "stdout",
     "output_type": "stream",
     "text": [
      "EPOCH: 047, TRAIN LOSS: 9.4946, VAL LOSS: 8.9827, TEST LOSS: 9.0163. TRAINING TIME SO FAR: 97.2 s\n",
      "TRAIN COSINE SIM: 0.4978, VAL COSINE SIM: 0.4349, TEST COSINE SIM: 0.4715\n",
      "TRAIN RMSE: 2.9233, VAL RMSE: 2.8591, TEST RMSE: 2.8459\n",
      "\n"
     ]
    },
    {
     "name": "stderr",
     "output_type": "stream",
     "text": [
      " 96%|█████████▌| 48/50 [01:39<00:04,  2.07s/it]"
     ]
    },
    {
     "name": "stdout",
     "output_type": "stream",
     "text": [
      "EPOCH: 048, TRAIN LOSS: 9.4900, VAL LOSS: 8.9849, TEST LOSS: 9.0196. TRAINING TIME SO FAR: 99.3 s\n",
      "TRAIN COSINE SIM: 0.4833, VAL COSINE SIM: 0.4749, TEST COSINE SIM: 0.5161\n",
      "TRAIN RMSE: 2.9231, VAL RMSE: 2.8583, TEST RMSE: 2.8452\n",
      "\n"
     ]
    },
    {
     "name": "stderr",
     "output_type": "stream",
     "text": [
      " 98%|█████████▊| 49/50 [01:41<00:02,  2.07s/it]"
     ]
    },
    {
     "name": "stdout",
     "output_type": "stream",
     "text": [
      "EPOCH: 049, TRAIN LOSS: 9.4923, VAL LOSS: 8.9842, TEST LOSS: 9.0324. TRAINING TIME SO FAR: 101.3 s\n",
      "TRAIN COSINE SIM: 0.4915, VAL COSINE SIM: 0.4496, TEST COSINE SIM: 0.4887\n",
      "TRAIN RMSE: 2.9225, VAL RMSE: 2.8592, TEST RMSE: 2.8478\n",
      "\n"
     ]
    },
    {
     "name": "stderr",
     "output_type": "stream",
     "text": [
      "100%|██████████| 50/50 [01:43<00:00,  2.07s/it]"
     ]
    },
    {
     "name": "stdout",
     "output_type": "stream",
     "text": [
      "EPOCH: 050, TRAIN LOSS: 9.4921, VAL LOSS: 8.9845, TEST LOSS: 9.0220. TRAINING TIME SO FAR: 103.4 s\n",
      "TRAIN COSINE SIM: 0.4905, VAL COSINE SIM: 0.4202, TEST COSINE SIM: 0.4873\n",
      "TRAIN RMSE: 2.9228, VAL RMSE: 2.8587, TEST RMSE: 2.8467\n",
      "\n"
     ]
    },
    {
     "name": "stderr",
     "output_type": "stream",
     "text": [
      "\n"
     ]
    }
   ],
   "source": [
    "epochs = 50\n",
    "start = time.time()\n",
    "\n",
    "train_losses, train_rmses, train_cosine_sims = [], [], []\n",
    "val_losses, val_rmses, val_cosine_sims = [], [], []\n",
    "test_losses, test_rmses, test_cosine_sims = [], [], []\n",
    "\n",
    "for epoch in tqdm(range(1, epochs + 1)):\n",
    "    train_loss, train_rmse, train_cosine_sim = train(dataloader_train)\n",
    "    val_loss, val_rmse, val_cosine_sim = evaluate(dataloader_val)\n",
    "    test_loss, test_rmse, test_cosine_sim = evaluate(dataloader_test)\n",
    "\n",
    "    toc = time.time()\n",
    "    print(f'EPOCH: {epoch:03d}, TRAIN LOSS: {train_loss:.4f}, VAL LOSS: {val_loss:.4f}, TEST LOSS: {test_loss:.4f}. TRAINING TIME SO FAR: {toc - start:.1f} s\\n'\n",
    "          f'TRAIN COSINE SIM: {train_cosine_sim:.4f}, VAL COSINE SIM: {val_cosine_sim:.4f}, TEST COSINE SIM: {test_cosine_sim:.4f}\\n'\n",
    "          f'TRAIN RMSE: {train_rmse:.4f}, VAL RMSE: {val_rmse:.4f}, TEST RMSE: {test_rmse:.4f}\\n')\n",
    "\n",
    "    # Store metrics\n",
    "    train_losses.append(train_loss)\n",
    "    train_cosine_sims.append(train_cosine_sim)\n",
    "    train_rmses.append(train_rmse)\n",
    "\n",
    "    val_losses.append(val_loss)\n",
    "    val_cosine_sims.append(val_cosine_sim)\n",
    "    val_rmses.append(val_rmse)\n",
    "\n",
    "    test_losses.append(test_loss)\n",
    "    test_cosine_sims.append(test_cosine_sim)\n",
    "    test_rmses.append(test_rmse)"
   ]
  },
  {
   "attachments": {},
   "cell_type": "markdown",
   "id": "fc505d82",
   "metadata": {
    "collapsed": false
   },
   "source": [
    "# Evaluation"
   ]
  },
  {
   "cell_type": "code",
   "execution_count": null,
   "id": "83263363",
   "metadata": {
    "ExecuteTime": {
     "end_time": "2023-06-23T00:47:38.457141Z",
     "start_time": "2023-06-23T00:47:38.243849Z"
    },
    "collapsed": false
   },
   "outputs": [
    {
     "data": {
      "image/png": "[encoded data removed]",
      "text/plain": [
       "<Figure size 1200x400 with 1 Axes>"
      ]
     },
     "metadata": {},
     "output_type": "display_data"
    },
    {
     "data": {
      "image/png": "[encoded data removed]",
      "text/plain": [
       "<Figure size 1200x400 with 1 Axes>"
      ]
     },
     "metadata": {},
     "output_type": "display_data"
    },
    {
     "data": {
      "image/png": "[encoded data removed]",
      "text/plain": [
       "<Figure size 1200x400 with 1 Axes>"
      ]
     },
     "metadata": {},
     "output_type": "display_data"
    }
   ],
   "source": [
    "# Plot losses\n",
    "plt.figure(figsize=(12, 4))\n",
    "plt.plot(train_losses, label='Train')\n",
    "plt.plot(val_losses, label='Validation')\n",
    "plt.plot(test_losses, label='Test')\n",
    "plt.title('Loss over epochs')\n",
    "plt.xlabel('Epochs')\n",
    "plt.ylabel('Loss')\n",
    "plt.legend()\n",
    "plt.show()\n",
    "\n",
    "# Plot Cosine Sim\n",
    "plt.figure(figsize=(12, 4))\n",
    "plt.plot(train_cosine_sims, label='Train')\n",
    "plt.plot(val_cosine_sims, label='Validation')\n",
    "plt.plot(test_cosine_sims, label='Test')\n",
    "plt.title('Cosine Similarity over epochs')\n",
    "plt.xlabel('Epochs')\n",
    "plt.ylabel('Cosine Similarity')\n",
    "plt.legend()\n",
    "plt.show()\n",
    "\n",
    "# Plot RMSE\n",
    "plt.figure(figsize=(12, 4))\n",
    "plt.plot(train_rmses, label='Train')\n",
    "plt.plot(val_rmses, label='Validation')\n",
    "plt.plot(test_rmses, label='Test')\n",
    "plt.title('RMSE over epochs')\n",
    "plt.xlabel('Epochs')\n",
    "plt.ylabel('RMSE')\n",
    "plt.legend()\n",
    "plt.show()"
   ]
  },
  {
   "attachments": {},
   "cell_type": "markdown",
   "id": "6f1af3b2",
   "metadata": {
    "collapsed": false
   },
   "source": [
    "# Task 3"
   ]
  },
  {
   "attachments": {},
   "cell_type": "markdown",
   "id": "70050e0b",
   "metadata": {
    "collapsed": false
   },
   "source": [
    "# Data Handling and Preprocessing"
   ]
  },
  {
   "cell_type": "code",
   "execution_count": null,
   "id": "d30d4772",
   "metadata": {
    "ExecuteTime": {
     "end_time": "2023-06-23T00:47:38.457274Z",
     "start_time": "2023-06-23T00:47:38.438968Z"
    },
    "collapsed": false
   },
   "outputs": [
    {
     "name": "stdout",
     "output_type": "stream",
     "text": [
      "tensor([[ 1.0000, -0.2252,  0.0762,  0.2000,  0.1000],\n",
      "        [ 2.0000,  0.1871,  0.0762,  0.3000,  0.2000],\n",
      "        [ 0.5000, -0.2980, -0.4574,  0.9000,  1.0000]]) tensor([[0, 0, 1],\n",
      "        [1, 2, 2]]) tensor([[11.7647],\n",
      "        [ 1.7241],\n",
      "        [ 1.9231]]) tensor([[[-0.0554,  0.2217, -0.1282,  0.1005],\n",
      "         [-0.2010, -0.0208, -0.2737, -0.1421]],\n",
      "\n",
      "        [[-0.0554, -0.1906, -0.1282, -0.3118],\n",
      "         [-0.2010, -0.4331, -0.2737, -0.5544]],\n",
      "\n",
      "        [[-0.3707, -0.5786, -0.4435, -0.6999],\n",
      "         [-0.5163, -0.8212, -0.5890, -0.9424]]])\n"
     ]
    }
   ],
   "source": [
    "def create_graph_data_task3(initial_state, trajectory):\n",
    "    initial_state = np.array(initial_state)\n",
    "    trajectory = np.array(trajectory)\n",
    "\n",
    "    n_bodies = initial_state.shape[0]\n",
    "    num_features = initial_state.shape[1]\n",
    "\n",
    "    # Calculate center of mass\n",
    "    total_mass = np.sum(initial_state[:, 0])\n",
    "    center_of_mass_x = np.sum(initial_state[:, 1] * initial_state[:, 0]) / total_mass\n",
    "    center_of_mass_y = np.sum(initial_state[:, 2] * initial_state[:, 0]) / total_mass\n",
    "\n",
    "    # Adjust positions relative to center of mass for initial and terminal states\n",
    "    initial_state[:, 1] -= center_of_mass_x\n",
    "    initial_state[:, 2] -= center_of_mass_y\n",
    "\n",
    "    trajectory[:, :, 0] -= center_of_mass_x\n",
    "    trajectory[:, :, 1] -= center_of_mass_y\n",
    "\n",
    "    # Find the indices of the two most massive objects\n",
    "    mass_indices = np.argsort(initial_state[:, 0])\n",
    "    indices = mass_indices[-2:]\n",
    "\n",
    "    # Calculate the vector between the two most massive objects\n",
    "    vector = initial_state[indices[1], 1:3] - initial_state[indices[0], 1:3]\n",
    "\n",
    "    # Calculate the angle of rotation based on the vector\n",
    "    angle = math.atan2(vector[1], vector[0])\n",
    "\n",
    "    # Apply rotation to the positions\n",
    "    rot_matrix = np.array([[math.cos(-angle), -math.sin(-angle)], [math.sin(-angle), math.cos(-angle)]])\n",
    "    initial_state[:, 1:3] = np.matmul(rot_matrix, initial_state[:, 1:3].T).T\n",
    "    for i in range(trajectory.shape[1]):\n",
    "        trajectory[:, i, :2] = np.matmul(rot_matrix, trajectory[:, i, :2].T).T\n",
    "\n",
    "    # Create node features tensor\n",
    "    node_features = torch.tensor(initial_state, dtype=torch.float)\n",
    "    node_features = node_features.view(-1, num_features)  # Reshape to (num_nodes, num_features)\n",
    "\n",
    "    # Create edge index tensor\n",
    "    edge_index = torch.tensor([[i, j] for i in range(n_bodies) for j in range(n_bodies) if (i != j and i < j)],\n",
    "                              dtype=torch.long)\n",
    "    edge_index = edge_index.t().contiguous()  # Reshape to (2, num_edges)\n",
    "\n",
    "    # Create edge features tensor\n",
    "    num_edges = edge_index.size(1)\n",
    "    edge_features = torch.empty(num_edges, 1, dtype=torch.float)\n",
    "    # Populate edge features with force\n",
    "    for k, (i, j) in enumerate(edge_index.t()):\n",
    "        dx = node_features[i, 1] - node_features[j, 1]\n",
    "        dy = node_features[i, 2] - node_features[j, 2]\n",
    "        distance = torch.sqrt(dx ** 2 + dy ** 2)\n",
    "        force = ((node_features[i, 0] * node_features[j, 0]) / (distance ** 2 + 1e-8))\n",
    "        edge_features[k] = force\n",
    "\n",
    "    # Create target tensor\n",
    "    target = torch.tensor(trajectory, dtype=torch.float).reshape(n_bodies, -1, 4)\n",
    "\n",
    "    # Create PyG Data object\n",
    "    data = Data(x=node_features, edge_index=edge_index, edge_attr=edge_features, y=target)\n",
    "\n",
    "    return data\n",
    "\n",
    "\n",
    "# Example usage\n",
    "initial_state = [[1.0, 0.5, 0.3, 0.2, 0.1], [2.0, 0.1, 0.4, 0.3, 0.2], [0.5, 0.7, 0.8, 0.9, 1.0]]\n",
    "trajectory = [\n",
    "    [[0.3, 0.2], [0.4, 0.3], [0.5, 0.4], [0.6, 0.5]],\n",
    "    [[0.4, 0.6], [0.5, 0.7], [0.6, 0.8], [0.7, 0.9]],\n",
    "    [[0.8, 0.9], [0.9, 1.0], [1.0, 1.1], [1.1, 1.2]]\n",
    "]\n",
    "\n",
    "graph_data = create_graph_data_task3(initial_state, trajectory)\n",
    "print(graph_data.x, graph_data.edge_index, graph_data.edge_attr, graph_data.y)"
   ]
  },
  {
   "cell_type": "code",
   "execution_count": null,
   "id": "62a9f4e6",
   "metadata": {
    "ExecuteTime": {
     "end_time": "2023-06-23T00:47:39.507741Z",
     "start_time": "2023-06-23T00:47:38.444608Z"
    },
    "collapsed": false
   },
   "outputs": [
    {
     "name": "stdout",
     "output_type": "stream",
     "text": [
      "Number of data samples in /Users/sambhavjain/Library/Mobile Documents/com~apple~CloudDocs/TU Eindhoven/Q4/Deep Learning/tue-deeplearning/assignments/assignment_2/data/task 2_3/train: 900\n",
      "Number of training samples: 720\n",
      "Number of validation samples: 180\n",
      "Number of data samples in /Users/sambhavjain/Library/Mobile Documents/com~apple~CloudDocs/TU Eindhoven/Q4/Deep Learning/tue-deeplearning/assignments/assignment_2/data/task 2_3/test: 100\n"
     ]
    }
   ],
   "source": [
    "def create_dataloader_task3(data_folder, task, shuffle, batch_size, train_ratio=0.8):\n",
    "    data_list = []  # List to store the Data objects\n",
    "\n",
    "    # Loop over all files in the folder\n",
    "    for filename in os.listdir(data_folder):\n",
    "        file_path = os.path.join(data_folder, filename)\n",
    "\n",
    "        # Read the data from the file (modify this part based on your file format)\n",
    "        states = load_array(file_path, task=task)\n",
    "        initial_state, trajectory = states\n",
    "\n",
    "        # Create the Data object using create_graph_data function\n",
    "        data = create_graph_data_task3(initial_state, trajectory)\n",
    "\n",
    "        # Handle NaN values in the target data only for the test set\n",
    "        if \"test\" in data_folder:\n",
    "            if torch.isnan(data.y).any():\n",
    "                nan_mask = torch.isnan(data.y)\n",
    "                data.y[nan_mask] = torch.mean(data.y[~nan_mask])\n",
    "\n",
    "        # Append the Data object to the list\n",
    "        data_list.append(data)\n",
    "\n",
    "    # Shuffle the data if specified\n",
    "    if shuffle:\n",
    "        random.shuffle(data_list)\n",
    "\n",
    "    # Calculate the number of samples\n",
    "    num_samples = len(data_list)\n",
    "\n",
    "    if \"train\" in data_folder:\n",
    "        # Calculate the number of samples for train and validation\n",
    "        num_train = int(train_ratio * num_samples)\n",
    "        num_val = num_samples - num_train\n",
    "\n",
    "        # Split the data into train and validation sets\n",
    "        train_data = data_list[:num_train]\n",
    "        val_data = data_list[num_train:]\n",
    "\n",
    "        # Print the number of data samples\n",
    "        print(f\"Number of data samples in {data_folder}: {num_samples}\")\n",
    "        print(f\"Number of training samples: {num_train}\")\n",
    "        print(f\"Number of validation samples: {num_val}\")\n",
    "\n",
    "        # Create data loaders for train and validation sets\n",
    "        dataloader_train = DataLoader(train_data, batch_size=batch_size, shuffle=shuffle)\n",
    "        dataloader_val = DataLoader(val_data, batch_size=batch_size, shuffle=False)\n",
    "\n",
    "        return dataloader_train, dataloader_val, data_list\n",
    "    else:\n",
    "        # Print the number of data samples\n",
    "        print(f\"Number of data samples in {data_folder}: {num_samples}\")\n",
    "\n",
    "        # Create a data loader for the data\n",
    "        dataloader = DataLoader(data_list, batch_size=batch_size, shuffle=shuffle)\n",
    "\n",
    "        return dataloader, data_list\n",
    "\n",
    "# Specify the paths to your train and test data folders\n",
    "data_folder_train = '/Users/sambhavjain/Library/Mobile Documents/com~apple~CloudDocs/TU Eindhoven/Q4/Deep Learning/tue-deeplearning/assignments/assignment_2/data/task 2_3/train'\n",
    "data_folder_test = '/Users/sambhavjain/Library/Mobile Documents/com~apple~CloudDocs/TU Eindhoven/Q4/Deep Learning/tue-deeplearning/assignments/assignment_2/data/task 2_3/test'\n",
    "\n",
    "# Define the batch size\n",
    "batch_size = 50\n",
    "\n",
    "# Create data loaders for train and validation sets (only if the folder contains \"train\")\n",
    "dataloader_train, dataloader_val, data_list = create_dataloader_task3(data_folder_train, task='task 3', shuffle=True, batch_size=batch_size)\n",
    "\n",
    "# Create a separate data loader for the test set\n",
    "dataloader_test, data_list_test = create_dataloader_task3(data_folder_test, task='task 3', shuffle=False, batch_size=batch_size)"
   ]
  },
  {
   "attachments": {},
   "cell_type": "markdown",
   "id": "745c1bb4",
   "metadata": {
    "collapsed": false
   },
   "source": [
    "# Model Implementation"
   ]
  },
  {
   "cell_type": "code",
   "execution_count": null,
   "id": "34c571a0",
   "metadata": {
    "ExecuteTime": {
     "end_time": "2023-06-23T00:47:39.511985Z",
     "start_time": "2023-06-23T00:47:39.510454Z"
    },
    "collapsed": false
   },
   "outputs": [],
   "source": [
    "class GraphVAE(torch.nn.Module):\n",
    "    def __init__(self):\n",
    "        super(GraphVAE, self).__init__()\n",
    "\n",
    "        # Encoder layers\n",
    "        self.conv1 = SAGEConv(5, 64)\n",
    "        self.conv2 = SAGEConv(64, 128)\n",
    "        self.conv3 = SAGEConv(128, 256)\n",
    "        self.fc_mu = Linear(256, 20)  # mu layer\n",
    "        self.fc_var = Linear(256, 20)  # logvariance layer\n",
    "\n",
    "        # Decoder layers\n",
    "        self.fc1 = Linear(20, 512)\n",
    "        self.fc2 = Linear(512, 512)\n",
    "        self.fc3 = Linear(512, 512)\n",
    "        self.fc4 = Linear(512, 256)\n",
    "        self.fc5 = Linear(256, 128)\n",
    "        self.fc6 = Linear(128, 64)\n",
    "        self.fc7 = Linear(64, 4)\n",
    "\n",
    "    def encode(self, x, edge_index, batch):\n",
    "        x = F.relu(self.conv1(x, edge_index))\n",
    "        x = F.relu(self.conv2(x, edge_index))\n",
    "        x = F.relu(self.conv3(x, edge_index))\n",
    "        x = global_mean_pool(x, batch)  # Pooling\n",
    "        mu = self.fc_mu(x)\n",
    "        log_var = self.fc_var(x)\n",
    "        return mu, log_var\n",
    "\n",
    "    def reparameterize(self, mu, log_var):\n",
    "        std = torch.exp(log_var / 2)\n",
    "        eps = torch.randn_like(std)\n",
    "        return mu + eps * std\n",
    "\n",
    "    def decode(self, z, batch):\n",
    "        x = F.relu(self.fc1(z))\n",
    "        x = F.relu(self.fc2(x))\n",
    "        x = F.relu(self.fc3(x))\n",
    "        x = self.fc4(x)\n",
    "        x = x[batch]  # Use the batch tensor to map each node to its corresponding graph\n",
    "        return x\n",
    "\n",
    "    def forward(self, data):\n",
    "        mu, log_var = self.encode(data.x, data.edge_index, data.batch)\n",
    "        z = self.reparameterize(mu, log_var)\n",
    "        return self.decode(z, data.batch), mu, log_var\n"
   ]
  },
  {
   "attachments": {},
   "cell_type": "markdown",
   "id": "07171352",
   "metadata": {
    "collapsed": false
   },
   "source": [
    "# Model Training"
   ]
  },
  {
   "cell_type": "code",
   "execution_count": null,
   "id": "27da0702",
   "metadata": {
    "ExecuteTime": {
     "end_time": "2023-06-23T00:47:39.514486Z",
     "start_time": "2023-06-23T00:47:39.512676Z"
    },
    "collapsed": false
   },
   "outputs": [
    {
     "name": "stdout",
     "output_type": "stream",
     "text": [
      "Loaded device: cpu\n"
     ]
    }
   ],
   "source": [
    "device = torch.device('cuda' if torch.cuda.is_available() else 'cpu')\n",
    "device='cpu'\n",
    "print(f'Loaded device: {device}')"
   ]
  },
  {
   "cell_type": "code",
   "execution_count": null,
   "id": "c7ea5650",
   "metadata": {
    "ExecuteTime": {
     "end_time": "2023-06-23T00:47:39.517260Z",
     "start_time": "2023-06-23T00:47:39.515543Z"
    },
    "collapsed": false
   },
   "outputs": [],
   "source": [
    "def loss_func(recon_x, x, mu, logvar, batch):\n",
    "    recon_losses = []\n",
    "    for i in range(batch.max().item() + 1):\n",
    "        recon_x_i = recon_x[batch == i][:, :4]  # Adjust the size of recon_x_i to match 4 output features\n",
    "        x_i = x[batch == i][:, :4]  # Adjust the size of x_i to match 4 features\n",
    "        recon_loss_i = F.mse_loss(recon_x_i, x_i, reduction='none').sum()\n",
    "        recon_losses.append(recon_loss_i)\n",
    "    recon_loss = torch.stack(recon_losses).mean()\n",
    "    kld_loss = -0.5 * torch.sum(1 + logvar - mu.pow(2) - logvar.exp())\n",
    "    total_loss = recon_loss + kld_loss\n",
    "    return total_loss"
   ]
  },
  {
   "cell_type": "code",
   "execution_count": null,
   "id": "6058edcb",
   "metadata": {
    "ExecuteTime": {
     "end_time": "2023-06-23T00:47:39.526488Z",
     "start_time": "2023-06-23T00:47:39.519208Z"
    },
    "collapsed": false
   },
   "outputs": [],
   "source": [
    "model = GraphVAE().to(device)\n",
    "optimizer = torch.optim.Adam(model.parameters(), lr=0.005)\n",
    "\n",
    "def train(loader):\n",
    "    model.train()\n",
    "    total_loss = 0\n",
    "    total_samples = 0\n",
    "\n",
    "    for data in loader:\n",
    "        data.to(device)\n",
    "        optimizer.zero_grad()\n",
    "        recon_batch, mu, logvar = model(data)\n",
    "        loss = loss_func(recon_batch, data.x, mu, logvar, data.batch)\n",
    "        loss.backward()\n",
    "        optimizer.step()\n",
    "        total_loss += loss.item() * data.num_graphs\n",
    "        total_samples += data.num_graphs\n",
    "\n",
    "    return total_loss / total_samples\n",
    "\n",
    "def evaluate(loader):\n",
    "    model.eval()\n",
    "    total_loss = 0\n",
    "    total_samples = 0\n",
    "\n",
    "    with torch.no_grad():\n",
    "        for data in loader:\n",
    "            data.to(device)\n",
    "            recon_batch, mu, logvar = model(data)\n",
    "            loss = loss_func(recon_batch, data.x, mu, logvar, data.batch)\n",
    "            total_loss += loss.item() * data.num_graphs\n",
    "            total_samples += data.num_graphs\n",
    "\n",
    "    return total_loss / total_samples"
   ]
  },
  {
   "cell_type": "code",
   "execution_count": null,
   "id": "a9a55121",
   "metadata": {
    "ExecuteTime": {
     "end_time": "2023-06-23T00:47:41.831579Z",
     "start_time": "2023-06-23T00:47:39.527374Z"
    },
    "collapsed": false
   },
   "outputs": [
    {
     "name": "stderr",
     "output_type": "stream",
     "text": [
      " 10%|█         | 1/10 [00:00<00:02,  4.42it/s]"
     ]
    },
    {
     "name": "stdout",
     "output_type": "stream",
     "text": [
      "EPOCH: 001, TRAIN LOSS: 273.4922, VAL LOSS: 253.8482, TEST LOSS: 271.3687. TRAINING TIME SO FAR: 0.2 s\n",
      "\n"
     ]
    },
    {
     "name": "stderr",
     "output_type": "stream",
     "text": [
      " 20%|██        | 2/10 [00:00<00:01,  4.38it/s]"
     ]
    },
    {
     "name": "stdout",
     "output_type": "stream",
     "text": [
      "EPOCH: 002, TRAIN LOSS: 244.0882, VAL LOSS: 251.3596, TEST LOSS: 267.8622. TRAINING TIME SO FAR: 0.5 s\n",
      "\n"
     ]
    },
    {
     "name": "stderr",
     "output_type": "stream",
     "text": [
      " 30%|███       | 3/10 [00:00<00:01,  4.36it/s]"
     ]
    },
    {
     "name": "stdout",
     "output_type": "stream",
     "text": [
      "EPOCH: 003, TRAIN LOSS: 243.3917, VAL LOSS: 251.0100, TEST LOSS: 266.6100. TRAINING TIME SO FAR: 0.7 s\n",
      "\n"
     ]
    },
    {
     "name": "stderr",
     "output_type": "stream",
     "text": [
      " 40%|████      | 4/10 [00:00<00:01,  4.33it/s]"
     ]
    },
    {
     "name": "stdout",
     "output_type": "stream",
     "text": [
      "EPOCH: 004, TRAIN LOSS: 242.9504, VAL LOSS: 250.7969, TEST LOSS: 267.6408. TRAINING TIME SO FAR: 0.9 s\n",
      "\n"
     ]
    },
    {
     "name": "stderr",
     "output_type": "stream",
     "text": [
      " 50%|█████     | 5/10 [00:01<00:01,  4.37it/s]"
     ]
    },
    {
     "name": "stdout",
     "output_type": "stream",
     "text": [
      "EPOCH: 005, TRAIN LOSS: 242.6897, VAL LOSS: 250.6961, TEST LOSS: 266.8099. TRAINING TIME SO FAR: 1.1 s\n",
      "\n"
     ]
    },
    {
     "name": "stderr",
     "output_type": "stream",
     "text": [
      " 60%|██████    | 6/10 [00:01<00:00,  4.32it/s]"
     ]
    },
    {
     "name": "stdout",
     "output_type": "stream",
     "text": [
      "EPOCH: 006, TRAIN LOSS: 242.7795, VAL LOSS: 251.7592, TEST LOSS: 267.6027. TRAINING TIME SO FAR: 1.4 s\n",
      "\n"
     ]
    },
    {
     "name": "stderr",
     "output_type": "stream",
     "text": [
      " 70%|███████   | 7/10 [00:01<00:00,  4.37it/s]"
     ]
    },
    {
     "name": "stdout",
     "output_type": "stream",
     "text": [
      "EPOCH: 007, TRAIN LOSS: 243.4462, VAL LOSS: 251.0942, TEST LOSS: 266.4288. TRAINING TIME SO FAR: 1.6 s\n",
      "\n"
     ]
    },
    {
     "name": "stderr",
     "output_type": "stream",
     "text": [
      " 80%|████████  | 8/10 [00:01<00:00,  4.39it/s]"
     ]
    },
    {
     "name": "stdout",
     "output_type": "stream",
     "text": [
      "EPOCH: 008, TRAIN LOSS: 243.0988, VAL LOSS: 250.5232, TEST LOSS: 266.1964. TRAINING TIME SO FAR: 1.8 s\n",
      "\n"
     ]
    },
    {
     "name": "stderr",
     "output_type": "stream",
     "text": [
      " 90%|█████████ | 9/10 [00:02<00:00,  4.40it/s]"
     ]
    },
    {
     "name": "stdout",
     "output_type": "stream",
     "text": [
      "EPOCH: 009, TRAIN LOSS: 242.6756, VAL LOSS: 250.7455, TEST LOSS: 267.0733. TRAINING TIME SO FAR: 2.1 s\n",
      "\n"
     ]
    },
    {
     "name": "stderr",
     "output_type": "stream",
     "text": [
      "100%|██████████| 10/10 [00:02<00:00,  4.39it/s]"
     ]
    },
    {
     "name": "stdout",
     "output_type": "stream",
     "text": [
      "EPOCH: 010, TRAIN LOSS: 242.6881, VAL LOSS: 250.1976, TEST LOSS: 266.5088. TRAINING TIME SO FAR: 2.3 s\n",
      "\n"
     ]
    },
    {
     "name": "stderr",
     "output_type": "stream",
     "text": [
      "\n"
     ]
    }
   ],
   "source": [
    "epochs = 10\n",
    "start = time.time()\n",
    "\n",
    "train_losses = []\n",
    "val_losses = []\n",
    "test_losses = []\n",
    "\n",
    "for epoch in tqdm(range(1, epochs + 1)):\n",
    "\n",
    "    train_loss = train(dataloader_train)\n",
    "    val_loss = evaluate(dataloader_val)\n",
    "    test_loss = evaluate(dataloader_test)\n",
    "\n",
    "    toc = time.time()\n",
    "    print(f'EPOCH: {epoch:03d}, TRAIN LOSS: {train_loss:.4f}, VAL LOSS: {val_loss:.4f}, TEST LOSS: {test_loss:.4f}. TRAINING TIME SO FAR: {toc - start:.1f} s\\n')\n",
    "\n",
    "    # Store metrics\n",
    "    train_losses.append(train_loss)\n",
    "    val_losses.append(val_loss)\n",
    "    test_losses.append(test_loss)"
   ]
  },
  {
   "cell_type": "code",
   "execution_count": null,
   "id": "5c71985e",
   "metadata": {
    "ExecuteTime": {
     "end_time": "2023-06-23T00:47:41.831748Z",
     "start_time": "2023-06-23T00:47:41.808772Z"
    },
    "collapsed": false
   },
   "outputs": [],
   "source": []
  }
 ],
 "metadata": {
  "kernelspec": {
   "display_name": "Python 3 (ipykernel)",
   "language": "python",
   "name": "python3"
  },
  "language_info": {
   "codemirror_mode": {
    "name": "ipython",
    "version": 3
   },
   "file_extension": ".py",
   "mimetype": "text/x-python",
   "name": "python",
   "nbconvert_exporter": "python",
   "pygments_lexer": "ipython3",
   "version": "3.6.12"
  }
 },
 "nbformat": 4,
 "nbformat_minor": 5
}
