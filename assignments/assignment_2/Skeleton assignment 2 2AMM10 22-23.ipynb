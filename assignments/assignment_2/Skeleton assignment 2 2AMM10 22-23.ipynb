{
 "cells": [
  {
   "attachments": {},
   "cell_type": "markdown",
   "id": "d32f8d18",
   "metadata": {},
   "source": [
    "# Group Details\n",
    "\n",
    "## Group Name: 12\n",
    "\n",
    "### Student 1: Denise La Gordt Dillie\n",
    "\n",
    "### Student 2: Andreea Maican\n",
    "\n",
    "### Student 3: Sambhav Jain"
   ]
  },
  {
   "attachments": {},
   "cell_type": "markdown",
   "id": "faec2056",
   "metadata": {},
   "source": [
    "# Loading Data and Preliminaries"
   ]
  },
  {
   "cell_type": "code",
   "execution_count": 1,
   "id": "7d0580a5",
   "metadata": {
    "ExecuteTime": {
     "end_time": "2023-06-21T00:09:51.750923Z",
     "start_time": "2023-06-21T00:09:51.711552Z"
    }
   },
   "outputs": [
    {
     "name": "stderr",
     "output_type": "stream",
     "text": [
      "c:\\.virtualenvs\\venv\\lib\\site-packages\\tqdm\\auto.py:22: TqdmWarning: IProgress not found. Please update jupyter and ipywidgets. See https://ipywidgets.readthedocs.io/en/stable/user_install.html\n",
      "  from .autonotebook import tqdm as notebook_tqdm\n"
     ]
    }
   ],
   "source": [
    "import matplotlib.pyplot as plt\n",
    "import matplotlib\n",
    "import numpy as np\n",
    "import torch\n",
    "from torch_geometric.data import Data\n",
    "import torch.nn as nn\n",
    "import torch.nn.functional as F\n",
    "from torch_geometric.loader import DataLoader\n",
    "import os\n",
    "import math\n",
    "import random\n",
    "import time\n",
    "from sklearn.metrics import r2_score, mean_absolute_error\n",
    "from tqdm import tqdm"
   ]
  },
  {
   "cell_type": "code",
   "execution_count": 2,
   "id": "b0756591",
   "metadata": {
    "ExecuteTime": {
     "end_time": "2023-06-21T00:09:51.756793Z",
     "start_time": "2023-06-21T00:09:51.716539Z"
    }
   },
   "outputs": [],
   "source": [
    "def load_array(filename, task):\n",
    "    datapoint = np.load(filename)\n",
    "    if task == 'task 1':\n",
    "        initial_state = datapoint['initial_state']\n",
    "        terminal_state = datapoint['terminal_state']\n",
    "        return initial_state, terminal_state\n",
    "    elif task == 'task 2' or task == 'task 3':\n",
    "        whole_trajectory = datapoint['trajectory']\n",
    "        # change shape: (num_bodies, attributes, time) ->  num_bodies, time, attributes\n",
    "        whole_trajectory = np.swapaxes(whole_trajectory, 1, 2)\n",
    "        initial_state = whole_trajectory[:, 0]\n",
    "        target = whole_trajectory[:, 1:, 1:]  # drop the first timepoint (second dim) and mass (last dim) for the prediction task\n",
    "        return initial_state, target\n",
    "    else:\n",
    "        raise NotImplementedError(\"'task' argument should be 'task 1', 'task 2' or 'task 3'!\")"
   ]
  },
  {
   "cell_type": "code",
   "execution_count": 3,
   "id": "bb77a4be",
   "metadata": {
    "ExecuteTime": {
     "end_time": "2023-06-21T00:09:51.757763Z",
     "start_time": "2023-06-21T00:09:51.720066Z"
    }
   },
   "outputs": [
    {
     "name": "stdout",
     "output_type": "stream",
     "text": [
      "shape of initial state (model input): (8, 5)\n",
      "[[ 4.54673709 -5.27118739  5.07863417 -1.09690628 -3.66929964]\n",
      " [ 3.57509525  4.3270607  -0.08095022 -0.57868726 -2.95971243]\n",
      " [ 2.67733735 -5.15972108  5.35238208  2.42652043  1.45870728]\n",
      " [ 2.27455417 -6.79584511  2.29632123  0.30418238 -0.4065998 ]\n",
      " [ 2.38359341 -2.75861066  1.77940931 -0.07643627 -0.35954359]\n",
      " [ 4.28596268  0.34981219  4.8286224   1.35630962 -2.55760522]\n",
      " [ 3.03118516 -0.50562258 15.04631712 -0.94772523 14.98127867]\n",
      " [ 4.13530017  1.81342682  3.84375499 -0.6989711  -2.25092411]]\n",
      "shape of terminal state (to be predicted by model): (8, 2)\n",
      "The initial x-coordinate of the body with index 2 in this trajectory was -5.159721083543527\n"
     ]
    }
   ],
   "source": [
    "\"\"\"\n",
    "This cell gives an example of loading a datapoint with numpy for task 1.\n",
    "\n",
    "The arrays returned by the function are structures as follows:\n",
    "initial_state: shape (n_bodies, [mass, x, y, v_x, v_y])\n",
    "terminal_state: shape (n_bodies, [x, y])\n",
    "\n",
    "\"\"\"\n",
    "\n",
    "example = load_array('C:/Users/Gebruiker/OneDrive - TU Eindhoven/TUe/Master/2AMM10/tue-deeplearning/assignments/assignment_2/data/task 1/train/trajectory_0.npz', task='task 1')\n",
    "\n",
    "initial_state, terminal_state = example\n",
    "print(f'shape of initial state (model input): {initial_state.shape}')\n",
    "print(initial_state)\n",
    "print(f'shape of terminal state (to be predicted by model): {terminal_state.shape}')\n",
    "\n",
    "body_idx = 2\n",
    "print(f'The initial x-coordinate of the body with index {body_idx} in this trajectory was {initial_state[body_idx, 1]}')"
   ]
  },
  {
   "cell_type": "code",
   "execution_count": 4,
   "id": "1c3ea4cb",
   "metadata": {
    "ExecuteTime": {
     "end_time": "2023-06-21T00:09:51.785513Z",
     "start_time": "2023-06-21T00:09:51.725055Z"
    }
   },
   "outputs": [
    {
     "name": "stdout",
     "output_type": "stream",
     "text": [
      "shape of initial state (model input): (8, 5)\n",
      "shape of terminal state (to be predicted by model): (8, 49, 4)\n",
      "The y-coordinate of the body with index 2 at time with index 30 in remaining_trajectory was -0.3861544940435097\n",
      "the shape of the input of a test data example is (8, 5)\n",
      "the shape of the target of a test data example is (8, 49, 4)\n",
      "values of the test data example at time 30:\n",
      " [[-5.85725792 -5.394571           nan         nan]\n",
      " [-6.03781257 -5.72445953         nan         nan]\n",
      " [-0.90623054 -6.93416278         nan         nan]\n",
      " [ 2.83149339 -7.50100819         nan         nan]\n",
      " [-2.85586881  1.77667501         nan         nan]\n",
      " [ 4.04424526  4.00563603         nan         nan]\n",
      " [-5.24887713 -4.83081005         nan         nan]\n",
      " [-5.81391023 -5.1109838          nan         nan]]\n",
      "note: velocity values are unobserved (NaNs) in the test data!\n"
     ]
    }
   ],
   "source": [
    "\"\"\"\n",
    "This cell gives an example of loading a datapoint with numpy for task 2 / 3.\n",
    "\n",
    "The arrays returned by the function are structures as follows:\n",
    "initial_state: shape (n_bodies, [mass, x, y, v_x, v_y])\n",
    "remaining_trajectory: shape (n_bodies, time, [x, y, v_x, v_y])\n",
    "\n",
    "Note that for this task, you are asked to evaluate performance only with regard to the predictions of the positions (x and y).\n",
    "If you use the velocity of the remaining trajectory for training,\n",
    "this use should be purely auxiliary for the goal of predicting the positions [x,y] over time. \n",
    "While testing performance of your model on the test set, you do not have access to v_x and v_y of the remaining trajectory.\n",
    "\n",
    "\"\"\"\n",
    "\n",
    "example = load_array('C:/Users/Gebruiker/OneDrive - TU Eindhoven/TUe/Master/2AMM10/tue-deeplearning/assignments/assignment_2/data/task 2_3/train/trajectory_0.npz', task='task 2')\n",
    "\n",
    "initial_state, remaining_trajectory = example\n",
    "print(f'shape of initial state (model input): {initial_state.shape}')\n",
    "print(f'shape of terminal state (to be predicted by model): {remaining_trajectory.shape}')\n",
    "\n",
    "body_idx = 2\n",
    "time_idx = 30\n",
    "print(f'The y-coordinate of the body with index {body_idx} at time with index {time_idx} in remaining_trajectory was {remaining_trajectory[body_idx, time_idx, 1]}')\n",
    "\n",
    "test_example = load_array('C:/Users/Gebruiker/OneDrive - TU Eindhoven/TUe/Master/2AMM10/tue-deeplearning/assignments/assignment_2/data/task 2_3/test/trajectory_900.npz', task='task 3')\n",
    "test_initial_state, test_remaining_trajectory = test_example\n",
    "print(f'the shape of the input of a test data example is {test_initial_state.shape}')\n",
    "print(f'the shape of the target of a test data example is {test_remaining_trajectory.shape}')\n",
    "print(f'values of the test data example at time {time_idx}:\\n {test_remaining_trajectory[:, time_idx]}')\n",
    "print('note: velocity values are unobserved (NaNs) in the test data!')"
   ]
  },
  {
   "cell_type": "code",
   "execution_count": 5,
   "id": "10a3438a",
   "metadata": {
    "ExecuteTime": {
     "end_time": "2023-06-21T00:09:51.786198Z",
     "start_time": "2023-06-21T00:09:51.731342Z"
    }
   },
   "outputs": [
    {
     "data": {
      "text/plain": [
       "array([[ 4.31455329, -4.99311363, -5.10150489,  2.2491171 , -1.82520359],\n",
       "       [ 2.58525749, -4.92574075, -4.7534334 , -4.81897728, -3.07212095],\n",
       "       [ 2.40449047,  2.23254187, -6.04595524, -0.67381217, -0.58798851],\n",
       "       [ 2.28318603,  5.6605113 , -3.76376281, -0.41268251, -1.19812499],\n",
       "       [ 4.09793595, -4.73678906, -3.94704856,  1.13634781,  4.98383634],\n",
       "       [ 4.5579536 , -0.08848969,  5.42483477,  1.460317  , -0.21585929],\n",
       "       [ 3.42356878, -4.91282501, -4.6779343 ,  0.94123905,  2.66425652],\n",
       "       [ 3.59288181, -4.48225046, -4.548729  , -2.56573061, -2.39203918]])"
      ]
     },
     "execution_count": 5,
     "metadata": {},
     "output_type": "execute_result"
    }
   ],
   "source": [
    "test_initial_state"
   ]
  },
  {
   "attachments": {},
   "cell_type": "markdown",
   "id": "059b633c",
   "metadata": {},
   "source": [
    "# Data Handling and Preprocessing"
   ]
  },
  {
   "cell_type": "code",
   "execution_count": 6,
   "id": "e6ecb529",
   "metadata": {
    "ExecuteTime": {
     "end_time": "2023-06-21T00:09:51.786611Z",
     "start_time": "2023-06-21T00:09:51.737782Z"
    }
   },
   "outputs": [
    {
     "name": "stdout",
     "output_type": "stream",
     "text": [
      "tensor([[1.0000, 0.5000, 0.3000, 0.2000, 0.1000],\n",
      "        [2.0000, 0.1000, 0.4000, 0.3000, 0.2000],\n",
      "        [0.5000, 0.7000, 0.8000, 0.9000, 1.0000]]) tensor([[0, 0, 1],\n",
      "        [1, 2, 2]]) tensor([[11.7647],\n",
      "        [ 1.7241],\n",
      "        [ 1.9231]]) tensor([[0.3000, 0.2000],\n",
      "        [0.4000, 0.6000],\n",
      "        [0.8000, 0.9000]])\n"
     ]
    }
   ],
   "source": [
    "def create_graph_data(initial_state, terminal_state):\n",
    "    '''Takes a datapoint from task 1 data and returns a Data object ready to be used with\n",
    "    Pytorch Geometric. Each node is an object and will store initial position and speed, each edge stores\n",
    "    the distance between two objects and also their masses.'''\n",
    "    initial_state = np.array(initial_state)\n",
    "    terminal_state = np.array(terminal_state)\n",
    "\n",
    "    n_bodies = initial_state.shape[0]\n",
    "    num_features = initial_state.shape[1]\n",
    "\n",
    "    # Create node features tensor\n",
    "    node_features = torch.tensor(initial_state, dtype=torch.float)\n",
    "    node_features = node_features.view(-1, num_features)  # Reshape to (num_nodes, num_features)\n",
    "\n",
    "    # Create edge index tensor\n",
    "    edge_index = torch.tensor([[i, j] for i in range(n_bodies) for j in range(n_bodies) if (i != j and i<j)], dtype=torch.long)\n",
    "    edge_index = edge_index.t().contiguous()  # Reshape to (2, num_edges)\n",
    "\n",
    "    # Create edge features tensor\n",
    "    num_edges = edge_index.size(1)\n",
    "    edge_features = torch.empty(num_edges, 1, dtype=torch.float)\n",
    "    # Populate edge features with force\n",
    "    for k, (i, j) in enumerate(edge_index.t()):\n",
    "        dx = node_features[i, 1] - node_features[j, 1]\n",
    "        dy = node_features[i, 2] - node_features[j, 2]\n",
    "        distance = torch.sqrt(dx**2 + dy**2)\n",
    "        force = ((node_features[i,0]*node_features[j,0])/(distance**2 + 1e-8))\n",
    "        edge_features[k] = force\n",
    "\n",
    "    # Create target tensor\n",
    "    target = torch.tensor(terminal_state, dtype=torch.float).view(-1, 2)  # Reshape to (num_nodes, num_features + 1)\n",
    "\n",
    "    # Create PyG Data object\n",
    "    data = Data(x=node_features, edge_index=edge_index, edge_attr=edge_features, y=target)\n",
    "\n",
    "    return data\n",
    "\n",
    "# Example usage\n",
    "initial_state = [[1.0, 0.5, 0.3, 0.2, 0.1], [2.0, 0.1, 0.4, 0.3, 0.2], [0.5, 0.7, 0.8, 0.9, 1.0]]\n",
    "terminal_state = [[0.3, 0.2], [0.4, 0.6], [0.8, 0.9]]\n",
    "\n",
    "graph_data = create_graph_data(initial_state, terminal_state)\n",
    "print(graph_data.x, graph_data.edge_index, graph_data.edge_attr, graph_data.y)"
   ]
  },
  {
   "cell_type": "code",
   "execution_count": 45,
   "id": "d32d5f8e",
   "metadata": {},
   "outputs": [
    {
     "name": "stdout",
     "output_type": "stream",
     "text": [
      "tensor([[ 1.0000, -0.2252,  0.0762,  0.2000,  0.1000],\n",
      "        [ 2.0000,  0.1871,  0.0762,  0.3000,  0.2000],\n",
      "        [ 0.5000, -0.2980, -0.4574,  0.9000,  1.0000]]) tensor([[0, 0, 1],\n",
      "        [1, 2, 2]]) tensor([[11.7647],\n",
      "        [ 1.7241],\n",
      "        [ 1.9231]]) tensor([[-0.0554,  0.2217],\n",
      "        [-0.0554, -0.1906],\n",
      "        [-0.3707, -0.5786]])\n"
     ]
    }
   ],
   "source": [
    "def create_graph_data_symm(initial_state, terminal_state):\n",
    "    initial_state = np.array(initial_state)\n",
    "    terminal_state = np.array(terminal_state)\n",
    "\n",
    "    n_bodies = initial_state.shape[0]\n",
    "    num_features = initial_state.shape[1]\n",
    "\n",
    "    # Calculate center of mass\n",
    "    total_mass = np.sum(initial_state[:, 0])\n",
    "    center_of_mass_x = np.sum(initial_state[:, 1] * initial_state[:, 0]) / total_mass\n",
    "    center_of_mass_y = np.sum(initial_state[:, 2] * initial_state[:, 0]) / total_mass\n",
    "\n",
    "    # Adjust positions relative to center of mass for initial and terminal states\n",
    "    initial_state[:, 1] -= center_of_mass_x\n",
    "    initial_state[:, 2] -= center_of_mass_y\n",
    "    \n",
    "    terminal_state[:, 0] -= center_of_mass_x\n",
    "    terminal_state[:, 1] -= center_of_mass_y\n",
    "    \n",
    "    # Find the indices of the two most massive objects\n",
    "    mass_indices = np.argsort(initial_state[:, 0])\n",
    "    indices = mass_indices[-2:]\n",
    "    \n",
    "    # Calculate the vector between the two most massive objects\n",
    "    vector = initial_state[indices[1], 1:3] - initial_state[indices[0], 1:3]\n",
    "    \n",
    "    # Calculate the angle of rotation based on the vector\n",
    "    angle = math.atan2(vector[1], vector[0])\n",
    "    \n",
    "    # Apply rotation to the positions\n",
    "    rot_matrix = np.array([[math.cos(-angle), -math.sin(-angle)], [math.sin(-angle), math.cos(-angle)]])\n",
    "    initial_state[:, 1:3] = np.matmul(rot_matrix, initial_state[:, 1:3].T).T\n",
    "    terminal_state = np.matmul(rot_matrix, terminal_state.T).T\n",
    "    \n",
    "    # Create node features tensor\n",
    "    node_features = torch.tensor(initial_state, dtype=torch.float)\n",
    "    node_features = node_features.view(-1, num_features)  # Reshape to (num_nodes, num_features)\n",
    "\n",
    "    # Create edge index tensor\n",
    "    edge_index = torch.tensor([[i, j] for i in range(n_bodies) for j in range(n_bodies) if (i != j and i<j)], dtype=torch.long)\n",
    "    edge_index = edge_index.t().contiguous()  # Reshape to (2, num_edges)\n",
    "\n",
    "    # Create edge features tensor\n",
    "    num_edges = edge_index.size(1)\n",
    "    edge_features = torch.empty(num_edges, 1, dtype=torch.float)\n",
    "    # Populate edge features with force\n",
    "    for k, (i, j) in enumerate(edge_index.t()):\n",
    "        dx = node_features[i, 1] - node_features[j, 1]\n",
    "        dy = node_features[i, 2] - node_features[j, 2]\n",
    "        distance = torch.sqrt(dx**2 + dy**2)\n",
    "        force = ((node_features[i,0]*node_features[j,0])/(distance**2 + 1e-8))\n",
    "        edge_features[k] = force\n",
    "\n",
    "    # Create target tensor\n",
    "    target = torch.tensor(terminal_state, dtype=torch.float).view(-1, 2)  # Reshape to (num_nodes, num_features + 1)\n",
    "\n",
    "    # Create PyG Data object\n",
    "    data = Data(x=node_features, edge_index=edge_index, edge_attr=edge_features, y=target)\n",
    "\n",
    "    return data\n",
    "\n",
    "# Example usage\n",
    "initial_state = [[1.0, 0.5, 0.3, 0.2, 0.1], [2.0, 0.1, 0.4, 0.3, 0.2], [0.5, 0.7, 0.8, 0.9, 1.0]]\n",
    "terminal_state = [[0.3, 0.2], [0.4, 0.6], [0.8, 0.9]]\n",
    "\n",
    "graph_data = create_graph_data_symm(initial_state, terminal_state)\n",
    "print(graph_data.x, graph_data.edge_index, graph_data.edge_attr, graph_data.y)"
   ]
  },
  {
   "cell_type": "code",
   "execution_count": 46,
   "id": "9bbc8271",
   "metadata": {
    "ExecuteTime": {
     "end_time": "2023-06-21T00:09:52.681562Z",
     "start_time": "2023-06-21T00:09:51.751108Z"
    }
   },
   "outputs": [
    {
     "name": "stdout",
     "output_type": "stream",
     "text": [
      "Number of data samples in C:/Users/Gebruiker/OneDrive - TU Eindhoven/TUe/Master/2AMM10/tue-deeplearning/assignments/assignment_2/data/task 1/train: 900\n",
      "Number of training samples: 720\n",
      "Number of validation samples: 180\n",
      "Number of data samples in C:/Users/Gebruiker/OneDrive - TU Eindhoven/TUe/Master/2AMM10/tue-deeplearning/assignments/assignment_2/data/task 1/test: 100\n"
     ]
    }
   ],
   "source": [
    "def create_dataloader(data_folder, task, shuffle, batch_size, train_ratio=0.8):\n",
    "    data_list = []  # List to store the Data objects\n",
    "\n",
    "    # Loop over all files in the folder\n",
    "    for filename in os.listdir(data_folder):\n",
    "        file_path = os.path.join(data_folder, filename)\n",
    "\n",
    "        # Read the data from the file (modify this part based on your file format)\n",
    "        states = load_array(file_path, task=task)\n",
    "        initial_state, terminal_state = states\n",
    "\n",
    "        # Create the Data object using create_graph_data function\n",
    "        data = create_graph_data_symm(initial_state, terminal_state)\n",
    "\n",
    "        # Append the Data object to the list\n",
    "        data_list.append(data)\n",
    "\n",
    "    # Shuffle the data if specified\n",
    "    if shuffle:\n",
    "        random.shuffle(data_list)\n",
    "\n",
    "    # Calculate the number of samples\n",
    "    num_samples = len(data_list)\n",
    "\n",
    "    if \"train\" in data_folder:\n",
    "        # Calculate the number of samples for train and validation\n",
    "        num_train = int(train_ratio * num_samples)\n",
    "        num_val = num_samples - num_train\n",
    "\n",
    "        # Split the data into train and validation sets\n",
    "        train_data = data_list[:num_train]\n",
    "        val_data = data_list[num_train:]\n",
    "\n",
    "        # Print the number of data samples\n",
    "        print(f\"Number of data samples in {data_folder}: {num_samples}\")\n",
    "        print(f\"Number of training samples: {num_train}\")\n",
    "        print(f\"Number of validation samples: {num_val}\")\n",
    "\n",
    "        # Create data loaders for train and validation sets\n",
    "        dataloader_train = DataLoader(train_data, batch_size=batch_size, shuffle=shuffle)\n",
    "        dataloader_val = DataLoader(val_data, batch_size=batch_size, shuffle=False)\n",
    "\n",
    "        return dataloader_train, dataloader_val, data_list\n",
    "    else:\n",
    "        # Print the number of data samples\n",
    "        print(f\"Number of data samples in {data_folder}: {num_samples}\")\n",
    "\n",
    "        # Create a data loader for the data\n",
    "        dataloader = DataLoader(data_list, batch_size=batch_size, shuffle=shuffle)\n",
    "\n",
    "        return dataloader, data_list\n",
    "\n",
    "# Specify the paths to your train and test data folders\n",
    "data_folder_train = 'C:/Users/Gebruiker/OneDrive - TU Eindhoven/TUe/Master/2AMM10/tue-deeplearning/assignments/assignment_2/data/task 1/train'\n",
    "data_folder_test = 'C:/Users/Gebruiker/OneDrive - TU Eindhoven/TUe/Master/2AMM10/tue-deeplearning/assignments/assignment_2/data/task 1/test'\n",
    "\n",
    "# Define the batch size\n",
    "batch_size = 50\n",
    "\n",
    "# Create data loaders for train and validation sets (only if the folder contains \"train\")\n",
    "dataloader_train, dataloader_val, data_list = create_dataloader(data_folder_train, task='task 1', shuffle=True, batch_size=batch_size)\n",
    "\n",
    "# Create a separate data loader for the test set\n",
    "dataloader_test, data_list_test = create_dataloader(data_folder_test, task='task 1', shuffle=False, batch_size=batch_size)"
   ]
  },
  {
   "attachments": {},
   "cell_type": "markdown",
   "id": "775dd1ce",
   "metadata": {
    "collapsed": false
   },
   "source": [
    "# Task 1"
   ]
  },
  {
   "attachments": {},
   "cell_type": "markdown",
   "id": "18b2874d",
   "metadata": {},
   "source": [
    "# Model Implementation"
   ]
  },
  {
   "cell_type": "code",
   "execution_count": 96,
   "id": "ef8b18af",
   "metadata": {
    "ExecuteTime": {
     "end_time": "2023-06-21T00:09:52.684349Z",
     "start_time": "2023-06-21T00:09:52.682854Z"
    }
   },
   "outputs": [],
   "source": [
    "from torch_geometric.nn import SAGEConv\n",
    "\n",
    "class GNN(torch.nn.Module):\n",
    "    def __init__(self):\n",
    "        super(GNN, self).__init__()\n",
    "\n",
    "        self.conv1 = SAGEConv(5, 64)\n",
    "        self.conv2 = SAGEConv(64, 128)\n",
    "        self.conv3 = SAGEConv(128, 256)\n",
    "        self.conv4 = SAGEConv(256, 512)\n",
    "        self.conv5 = SAGEConv(512, 256)\n",
    "        self.conv6 = SAGEConv(256, 2)\n",
    "\n",
    "    def forward(self, data):\n",
    "        x, edge_index = data.x, data.edge_index\n",
    "\n",
    "        x = F.relu(self.conv1(x, edge_index))\n",
    "        x = F.relu(self.conv2(x, edge_index))\n",
    "        x = F.relu(self.conv3(x, edge_index))\n",
    "        x = F.relu(self.conv4(x, edge_index))\n",
    "        x = F.relu(self.conv5(x, edge_index))\n",
    "        x = self.conv6(x, edge_index)\n",
    "\n",
    "        return x"
   ]
  },
  {
   "attachments": {},
   "cell_type": "markdown",
   "id": "dea70d73",
   "metadata": {},
   "source": [
    "# Model Training"
   ]
  },
  {
   "cell_type": "code",
   "execution_count": 97,
   "id": "e95af5f9",
   "metadata": {
    "ExecuteTime": {
     "end_time": "2023-06-21T00:09:52.687122Z",
     "start_time": "2023-06-21T00:09:52.684852Z"
    }
   },
   "outputs": [
    {
     "name": "stdout",
     "output_type": "stream",
     "text": [
      "Loaded device: cpu\n"
     ]
    }
   ],
   "source": [
    "device = torch.device('cuda' if torch.cuda.is_available() else 'cpu')\n",
    "device='cpu'\n",
    "print(f'Loaded device: {device}')"
   ]
  },
  {
   "cell_type": "code",
   "execution_count": 98,
   "id": "a5e1d7e8",
   "metadata": {
    "ExecuteTime": {
     "end_time": "2023-06-21T00:09:52.696522Z",
     "start_time": "2023-06-21T00:09:52.689665Z"
    },
    "collapsed": false
   },
   "outputs": [],
   "source": [
    "model = GNN().to(device)\n",
    "optimizer = torch.optim.Adam(model.parameters(), lr=0.005)\n",
    "loss_func = torch.nn.MSELoss()\n",
    "\n",
    "def train(loader):\n",
    "    model.train()\n",
    "    total_loss = 0\n",
    "    total_r2_score = 0\n",
    "    total_mae = 0\n",
    "    total_samples = 0\n",
    "\n",
    "    for data in loader:\n",
    "        data.to(device)\n",
    "        optimizer.zero_grad()\n",
    "        output = model(data)\n",
    "        loss = loss_func(output, data.y)\n",
    "        loss.backward()\n",
    "        optimizer.step()\n",
    "        total_loss += loss.item()\n",
    "        predictions = output.detach().cpu().numpy()\n",
    "        true_labels = data.y.detach().cpu().numpy()\n",
    "        batch_size = true_labels.shape[0]\n",
    "        total_samples += batch_size\n",
    "\n",
    "         # R2 Score\n",
    "        total_r2_score += r2_score(true_labels, predictions) * batch_size\n",
    "\n",
    "        # MAE\n",
    "        mae = mean_absolute_error(true_labels, predictions)\n",
    "        total_mae += mae * batch_size\n",
    "\n",
    "    avg_loss = total_loss / len(loader)\n",
    "    avg_r2_score = total_r2_score / total_samples\n",
    "    avg_mae = total_mae / total_samples\n",
    "\n",
    "    return avg_loss, avg_r2_score, avg_mae\n",
    "\n",
    "def evaluate(loader):\n",
    "    model.eval()\n",
    "    total_loss = 0\n",
    "    total_r2_score = 0\n",
    "    total_mae = 0\n",
    "    total_samples = 0\n",
    "\n",
    "    with torch.no_grad():\n",
    "        for data in loader:\n",
    "            data.to(device)\n",
    "            output = model(data)\n",
    "            loss = loss_func(output, data.y)\n",
    "            total_loss += loss.item()\n",
    "\n",
    "            predictions = output.detach().cpu().numpy()\n",
    "            true_labels = data.y.detach().cpu().numpy()\n",
    "            batch_size = true_labels.shape[0]\n",
    "            total_samples += batch_size\n",
    "\n",
    "            # R2 Score\n",
    "            total_r2_score += r2_score(true_labels, predictions) * batch_size\n",
    "\n",
    "            # MAE\n",
    "            mae = mean_absolute_error(true_labels, predictions)\n",
    "            total_mae += mae * batch_size\n",
    "\n",
    "    avg_loss = total_loss / len(loader)\n",
    "    avg_r2_score = total_r2_score / total_samples\n",
    "    avg_mae = total_mae / total_samples\n",
    "\n",
    "    return avg_loss, avg_r2_score, avg_mae"
   ]
  },
  {
   "cell_type": "code",
   "execution_count": 99,
   "id": "cb2577ba",
   "metadata": {
    "ExecuteTime": {
     "end_time": "2023-06-21T00:10:01.458835Z",
     "start_time": "2023-06-21T00:09:52.699403Z"
    },
    "collapsed": false
   },
   "outputs": [
    {
     "name": "stderr",
     "output_type": "stream",
     "text": [
      "  2%|▏         | 1/50 [00:02<02:03,  2.52s/it]"
     ]
    },
    {
     "name": "stdout",
     "output_type": "stream",
     "text": [
      "EPOCH: 001, TRAIN LOSS: 12.0884, VAL LOSS: 8.3703, TEST LOSS: 6.4876. TRAINING TIME SO FAR: 2.5 s\n",
      "TRAIN R2: 0.3815, VAL R2: 0.5555, TEST R2: 0.6397\n",
      "TRAIN MAE: 2.6275, VAL MAE: 2.1821, TEST MAE: 1.9979\n",
      "\n"
     ]
    },
    {
     "name": "stderr",
     "output_type": "stream",
     "text": [
      "  4%|▍         | 2/50 [00:04<01:45,  2.19s/it]"
     ]
    },
    {
     "name": "stdout",
     "output_type": "stream",
     "text": [
      "EPOCH: 002, TRAIN LOSS: 8.0331, VAL LOSS: 7.4293, TEST LOSS: 5.6982. TRAINING TIME SO FAR: 4.5 s\n",
      "TRAIN R2: 0.5939, VAL R2: 0.6053, TEST R2: 0.6808\n",
      "TRAIN MAE: 2.0831, VAL MAE: 2.0153, TEST MAE: 1.8525\n",
      "\n"
     ]
    },
    {
     "name": "stderr",
     "output_type": "stream",
     "text": [
      "  6%|▌         | 3/50 [00:06<01:38,  2.09s/it]"
     ]
    },
    {
     "name": "stdout",
     "output_type": "stream",
     "text": [
      "EPOCH: 003, TRAIN LOSS: 7.3851, VAL LOSS: 7.2606, TEST LOSS: 5.4930. TRAINING TIME SO FAR: 6.5 s\n",
      "TRAIN R2: 0.6256, VAL R2: 0.6125, TEST R2: 0.6906\n",
      "TRAIN MAE: 2.0037, VAL MAE: 1.9850, TEST MAE: 1.8092\n",
      "\n"
     ]
    },
    {
     "name": "stderr",
     "output_type": "stream",
     "text": [
      "  8%|▊         | 4/50 [00:08<01:40,  2.18s/it]"
     ]
    },
    {
     "name": "stdout",
     "output_type": "stream",
     "text": [
      "EPOCH: 004, TRAIN LOSS: 7.3045, VAL LOSS: 7.1586, TEST LOSS: 5.5012. TRAINING TIME SO FAR: 8.8 s\n",
      "TRAIN R2: 0.6282, VAL R2: 0.6185, TEST R2: 0.6930\n",
      "TRAIN MAE: 1.9913, VAL MAE: 1.9725, TEST MAE: 1.8216\n",
      "\n"
     ]
    },
    {
     "name": "stderr",
     "output_type": "stream",
     "text": [
      " 10%|█         | 5/50 [00:10<01:34,  2.10s/it]"
     ]
    },
    {
     "name": "stdout",
     "output_type": "stream",
     "text": [
      "EPOCH: 005, TRAIN LOSS: 7.0686, VAL LOSS: 7.0637, TEST LOSS: 5.2975. TRAINING TIME SO FAR: 10.7 s\n",
      "TRAIN R2: 0.6312, VAL R2: 0.6235, TEST R2: 0.7030\n",
      "TRAIN MAE: 1.9806, VAL MAE: 1.9498, TEST MAE: 1.7711\n",
      "\n"
     ]
    },
    {
     "name": "stderr",
     "output_type": "stream",
     "text": [
      " 12%|█▏        | 6/50 [00:12<01:28,  2.02s/it]"
     ]
    },
    {
     "name": "stdout",
     "output_type": "stream",
     "text": [
      "EPOCH: 006, TRAIN LOSS: 6.8416, VAL LOSS: 7.5061, TEST LOSS: 5.6119. TRAINING TIME SO FAR: 12.6 s\n",
      "TRAIN R2: 0.6445, VAL R2: 0.5969, TEST R2: 0.6843\n",
      "TRAIN MAE: 1.9479, VAL MAE: 2.0520, TEST MAE: 1.8545\n",
      "\n"
     ]
    },
    {
     "name": "stderr",
     "output_type": "stream",
     "text": [
      " 14%|█▍        | 7/50 [00:14<01:27,  2.04s/it]"
     ]
    },
    {
     "name": "stdout",
     "output_type": "stream",
     "text": [
      "EPOCH: 007, TRAIN LOSS: 6.6342, VAL LOSS: 7.2929, TEST LOSS: 5.5496. TRAINING TIME SO FAR: 14.7 s\n",
      "TRAIN R2: 0.6522, VAL R2: 0.6125, TEST R2: 0.6924\n",
      "TRAIN MAE: 1.9447, VAL MAE: 1.9887, TEST MAE: 1.8193\n",
      "\n"
     ]
    },
    {
     "name": "stderr",
     "output_type": "stream",
     "text": [
      " 16%|█▌        | 8/50 [00:17<01:34,  2.25s/it]"
     ]
    },
    {
     "name": "stdout",
     "output_type": "stream",
     "text": [
      "EPOCH: 008, TRAIN LOSS: 6.6678, VAL LOSS: 7.2246, TEST LOSS: 5.3983. TRAINING TIME SO FAR: 17.4 s\n",
      "TRAIN R2: 0.6585, VAL R2: 0.6126, TEST R2: 0.6970\n",
      "TRAIN MAE: 1.9220, VAL MAE: 1.9743, TEST MAE: 1.7816\n",
      "\n"
     ]
    },
    {
     "name": "stderr",
     "output_type": "stream",
     "text": [
      " 18%|█▊        | 9/50 [00:19<01:28,  2.16s/it]"
     ]
    },
    {
     "name": "stdout",
     "output_type": "stream",
     "text": [
      "EPOCH: 009, TRAIN LOSS: 6.8788, VAL LOSS: 7.1021, TEST LOSS: 5.3425. TRAINING TIME SO FAR: 19.3 s\n",
      "TRAIN R2: 0.6567, VAL R2: 0.6220, TEST R2: 0.7018\n",
      "TRAIN MAE: 1.8844, VAL MAE: 1.9728, TEST MAE: 1.7848\n",
      "\n"
     ]
    },
    {
     "name": "stderr",
     "output_type": "stream",
     "text": [
      " 20%|██        | 10/50 [00:21<01:28,  2.21s/it]"
     ]
    },
    {
     "name": "stdout",
     "output_type": "stream",
     "text": [
      "EPOCH: 010, TRAIN LOSS: 6.6024, VAL LOSS: 6.9322, TEST LOSS: 5.1579. TRAINING TIME SO FAR: 21.7 s\n",
      "TRAIN R2: 0.6689, VAL R2: 0.6303, TEST R2: 0.7128\n",
      "TRAIN MAE: 1.8566, VAL MAE: 1.9336, TEST MAE: 1.7441\n",
      "\n"
     ]
    },
    {
     "name": "stderr",
     "output_type": "stream",
     "text": [
      " 22%|██▏       | 11/50 [00:23<01:20,  2.07s/it]"
     ]
    },
    {
     "name": "stdout",
     "output_type": "stream",
     "text": [
      "EPOCH: 011, TRAIN LOSS: 6.1927, VAL LOSS: 7.0261, TEST LOSS: 5.2246. TRAINING TIME SO FAR: 23.4 s\n",
      "TRAIN R2: 0.6850, VAL R2: 0.6257, TEST R2: 0.7088\n",
      "TRAIN MAE: 1.8216, VAL MAE: 1.9281, TEST MAE: 1.7303\n",
      "\n"
     ]
    },
    {
     "name": "stderr",
     "output_type": "stream",
     "text": [
      " 24%|██▍       | 12/50 [00:25<01:22,  2.16s/it]"
     ]
    },
    {
     "name": "stdout",
     "output_type": "stream",
     "text": [
      "EPOCH: 012, TRAIN LOSS: 6.0653, VAL LOSS: 7.2035, TEST LOSS: 5.6779. TRAINING TIME SO FAR: 25.8 s\n",
      "TRAIN R2: 0.6858, VAL R2: 0.6153, TEST R2: 0.6844\n",
      "TRAIN MAE: 1.8338, VAL MAE: 1.9828, TEST MAE: 1.8213\n",
      "\n"
     ]
    },
    {
     "name": "stderr",
     "output_type": "stream",
     "text": [
      " 26%|██▌       | 13/50 [00:27<01:19,  2.15s/it]"
     ]
    },
    {
     "name": "stdout",
     "output_type": "stream",
     "text": [
      "EPOCH: 013, TRAIN LOSS: 5.7630, VAL LOSS: 7.0654, TEST LOSS: 5.4875. TRAINING TIME SO FAR: 27.9 s\n",
      "TRAIN R2: 0.6979, VAL R2: 0.6214, TEST R2: 0.6948\n",
      "TRAIN MAE: 1.8114, VAL MAE: 1.9403, TEST MAE: 1.7972\n",
      "\n"
     ]
    },
    {
     "name": "stderr",
     "output_type": "stream",
     "text": [
      " 28%|██▊       | 14/50 [00:30<01:17,  2.15s/it]"
     ]
    },
    {
     "name": "stdout",
     "output_type": "stream",
     "text": [
      "EPOCH: 014, TRAIN LOSS: 5.5515, VAL LOSS: 6.9816, TEST LOSS: 5.5658. TRAINING TIME SO FAR: 30.1 s\n",
      "TRAIN R2: 0.7100, VAL R2: 0.6272, TEST R2: 0.6895\n",
      "TRAIN MAE: 1.7681, VAL MAE: 1.9489, TEST MAE: 1.8252\n",
      "\n"
     ]
    },
    {
     "name": "stderr",
     "output_type": "stream",
     "text": [
      " 30%|███       | 15/50 [00:31<01:12,  2.06s/it]"
     ]
    },
    {
     "name": "stdout",
     "output_type": "stream",
     "text": [
      "EPOCH: 015, TRAIN LOSS: 5.6259, VAL LOSS: 7.4221, TEST LOSS: 5.6970. TRAINING TIME SO FAR: 31.9 s\n",
      "TRAIN R2: 0.7059, VAL R2: 0.6026, TEST R2: 0.6832\n",
      "TRAIN MAE: 1.7687, VAL MAE: 1.9974, TEST MAE: 1.8360\n",
      "\n"
     ]
    },
    {
     "name": "stderr",
     "output_type": "stream",
     "text": [
      " 32%|███▏      | 16/50 [00:33<01:07,  1.98s/it]"
     ]
    },
    {
     "name": "stdout",
     "output_type": "stream",
     "text": [
      "EPOCH: 016, TRAIN LOSS: 6.0366, VAL LOSS: 7.1131, TEST LOSS: 5.4282. TRAINING TIME SO FAR: 33.7 s\n",
      "TRAIN R2: 0.7005, VAL R2: 0.6206, TEST R2: 0.6986\n",
      "TRAIN MAE: 1.7523, VAL MAE: 1.9505, TEST MAE: 1.7737\n",
      "\n"
     ]
    },
    {
     "name": "stderr",
     "output_type": "stream",
     "text": [
      " 34%|███▍      | 17/50 [00:35<01:07,  2.06s/it]"
     ]
    },
    {
     "name": "stdout",
     "output_type": "stream",
     "text": [
      "EPOCH: 017, TRAIN LOSS: 5.7494, VAL LOSS: 7.0704, TEST LOSS: 5.6040. TRAINING TIME SO FAR: 36.0 s\n",
      "TRAIN R2: 0.7061, VAL R2: 0.6234, TEST R2: 0.6877\n",
      "TRAIN MAE: 1.7621, VAL MAE: 1.9541, TEST MAE: 1.8142\n",
      "\n"
     ]
    },
    {
     "name": "stderr",
     "output_type": "stream",
     "text": [
      " 36%|███▌      | 18/50 [00:37<01:05,  2.04s/it]"
     ]
    },
    {
     "name": "stdout",
     "output_type": "stream",
     "text": [
      "EPOCH: 018, TRAIN LOSS: 5.1794, VAL LOSS: 7.1185, TEST LOSS: 5.6835. TRAINING TIME SO FAR: 38.0 s\n",
      "TRAIN R2: 0.7299, VAL R2: 0.6202, TEST R2: 0.6823\n",
      "TRAIN MAE: 1.6955, VAL MAE: 1.9722, TEST MAE: 1.8341\n",
      "\n"
     ]
    },
    {
     "name": "stderr",
     "output_type": "stream",
     "text": [
      " 38%|███▊      | 19/50 [00:41<01:13,  2.38s/it]"
     ]
    },
    {
     "name": "stdout",
     "output_type": "stream",
     "text": [
      "EPOCH: 019, TRAIN LOSS: 4.9754, VAL LOSS: 7.3512, TEST LOSS: 5.7151. TRAINING TIME SO FAR: 41.1 s\n",
      "TRAIN R2: 0.7399, VAL R2: 0.6065, TEST R2: 0.6829\n",
      "TRAIN MAE: 1.6716, VAL MAE: 1.9980, TEST MAE: 1.8158\n",
      "\n"
     ]
    },
    {
     "name": "stderr",
     "output_type": "stream",
     "text": [
      " 40%|████      | 20/50 [00:43<01:11,  2.39s/it]"
     ]
    },
    {
     "name": "stdout",
     "output_type": "stream",
     "text": [
      "EPOCH: 020, TRAIN LOSS: 4.6231, VAL LOSS: 7.2530, TEST LOSS: 5.8121. TRAINING TIME SO FAR: 43.5 s\n",
      "TRAIN R2: 0.7554, VAL R2: 0.6127, TEST R2: 0.6777\n",
      "TRAIN MAE: 1.6152, VAL MAE: 1.9883, TEST MAE: 1.8497\n",
      "\n"
     ]
    },
    {
     "name": "stderr",
     "output_type": "stream",
     "text": [
      " 42%|████▏     | 21/50 [00:45<01:07,  2.33s/it]"
     ]
    },
    {
     "name": "stdout",
     "output_type": "stream",
     "text": [
      "EPOCH: 021, TRAIN LOSS: 4.6259, VAL LOSS: 7.2621, TEST LOSS: 5.6946. TRAINING TIME SO FAR: 45.7 s\n",
      "TRAIN R2: 0.7604, VAL R2: 0.6099, TEST R2: 0.6823\n",
      "TRAIN MAE: 1.6012, VAL MAE: 1.9776, TEST MAE: 1.8357\n",
      "\n"
     ]
    },
    {
     "name": "stderr",
     "output_type": "stream",
     "text": [
      " 44%|████▍     | 22/50 [00:47<01:00,  2.17s/it]"
     ]
    },
    {
     "name": "stdout",
     "output_type": "stream",
     "text": [
      "EPOCH: 022, TRAIN LOSS: 4.9565, VAL LOSS: 7.2623, TEST LOSS: 5.7426. TRAINING TIME SO FAR: 47.5 s\n",
      "TRAIN R2: 0.7532, VAL R2: 0.6114, TEST R2: 0.6816\n",
      "TRAIN MAE: 1.5986, VAL MAE: 2.0105, TEST MAE: 1.8408\n",
      "\n"
     ]
    },
    {
     "name": "stderr",
     "output_type": "stream",
     "text": [
      " 46%|████▌     | 23/50 [00:49<00:55,  2.07s/it]"
     ]
    },
    {
     "name": "stdout",
     "output_type": "stream",
     "text": [
      "EPOCH: 023, TRAIN LOSS: 4.3192, VAL LOSS: 7.9160, TEST LOSS: 6.2035. TRAINING TIME SO FAR: 49.3 s\n",
      "TRAIN R2: 0.7740, VAL R2: 0.5806, TEST R2: 0.6561\n",
      "TRAIN MAE: 1.5636, VAL MAE: 2.0892, TEST MAE: 1.8915\n",
      "\n"
     ]
    },
    {
     "name": "stderr",
     "output_type": "stream",
     "text": [
      " 48%|████▊     | 24/50 [00:51<00:53,  2.05s/it]"
     ]
    },
    {
     "name": "stdout",
     "output_type": "stream",
     "text": [
      "EPOCH: 024, TRAIN LOSS: 4.1910, VAL LOSS: 7.3597, TEST LOSS: 6.0371. TRAINING TIME SO FAR: 51.4 s\n",
      "TRAIN R2: 0.7824, VAL R2: 0.6064, TEST R2: 0.6642\n",
      "TRAIN MAE: 1.5382, VAL MAE: 1.9969, TEST MAE: 1.8763\n",
      "\n"
     ]
    },
    {
     "name": "stderr",
     "output_type": "stream",
     "text": [
      " 50%|█████     | 25/50 [00:53<00:49,  1.98s/it]"
     ]
    },
    {
     "name": "stdout",
     "output_type": "stream",
     "text": [
      "EPOCH: 025, TRAIN LOSS: 4.0002, VAL LOSS: 7.6399, TEST LOSS: 6.1713. TRAINING TIME SO FAR: 53.2 s\n",
      "TRAIN R2: 0.7916, VAL R2: 0.5937, TEST R2: 0.6576\n",
      "TRAIN MAE: 1.4934, VAL MAE: 2.0479, TEST MAE: 1.9024\n",
      "\n"
     ]
    },
    {
     "name": "stderr",
     "output_type": "stream",
     "text": [
      " 52%|█████▏    | 26/50 [00:54<00:45,  1.91s/it]"
     ]
    },
    {
     "name": "stdout",
     "output_type": "stream",
     "text": [
      "EPOCH: 026, TRAIN LOSS: 4.1454, VAL LOSS: 7.5624, TEST LOSS: 6.0331. TRAINING TIME SO FAR: 54.9 s\n",
      "TRAIN R2: 0.7848, VAL R2: 0.5966, TEST R2: 0.6644\n",
      "TRAIN MAE: 1.5282, VAL MAE: 2.0296, TEST MAE: 1.8718\n",
      "\n"
     ]
    },
    {
     "name": "stderr",
     "output_type": "stream",
     "text": [
      " 54%|█████▍    | 27/50 [00:56<00:43,  1.89s/it]"
     ]
    },
    {
     "name": "stdout",
     "output_type": "stream",
     "text": [
      "EPOCH: 027, TRAIN LOSS: 4.5436, VAL LOSS: 8.0581, TEST LOSS: 6.3544. TRAINING TIME SO FAR: 56.8 s\n",
      "TRAIN R2: 0.7847, VAL R2: 0.5712, TEST R2: 0.6474\n",
      "TRAIN MAE: 1.4772, VAL MAE: 2.1126, TEST MAE: 1.9388\n",
      "\n"
     ]
    },
    {
     "name": "stderr",
     "output_type": "stream",
     "text": [
      " 56%|█████▌    | 28/50 [00:58<00:40,  1.84s/it]"
     ]
    },
    {
     "name": "stdout",
     "output_type": "stream",
     "text": [
      "EPOCH: 028, TRAIN LOSS: 3.6793, VAL LOSS: 7.8658, TEST LOSS: 6.4058. TRAINING TIME SO FAR: 58.5 s\n",
      "TRAIN R2: 0.8124, VAL R2: 0.5806, TEST R2: 0.6445\n",
      "TRAIN MAE: 1.4224, VAL MAE: 2.0929, TEST MAE: 1.9307\n",
      "\n"
     ]
    },
    {
     "name": "stderr",
     "output_type": "stream",
     "text": [
      " 58%|█████▊    | 29/50 [01:00<00:37,  1.80s/it]"
     ]
    },
    {
     "name": "stdout",
     "output_type": "stream",
     "text": [
      "EPOCH: 029, TRAIN LOSS: 3.4254, VAL LOSS: 7.6209, TEST LOSS: 6.2319. TRAINING TIME SO FAR: 60.2 s\n",
      "TRAIN R2: 0.8208, VAL R2: 0.5925, TEST R2: 0.6535\n",
      "TRAIN MAE: 1.3929, VAL MAE: 2.0503, TEST MAE: 1.9115\n",
      "\n"
     ]
    },
    {
     "name": "stderr",
     "output_type": "stream",
     "text": [
      " 60%|██████    | 30/50 [01:02<00:36,  1.82s/it]"
     ]
    },
    {
     "name": "stdout",
     "output_type": "stream",
     "text": [
      "EPOCH: 030, TRAIN LOSS: 3.3689, VAL LOSS: 7.9993, TEST LOSS: 6.3266. TRAINING TIME SO FAR: 62.1 s\n",
      "TRAIN R2: 0.8267, VAL R2: 0.5726, TEST R2: 0.6482\n",
      "TRAIN MAE: 1.3547, VAL MAE: 2.1243, TEST MAE: 1.9190\n",
      "\n"
     ]
    },
    {
     "name": "stderr",
     "output_type": "stream",
     "text": [
      " 62%|██████▏   | 31/50 [01:03<00:34,  1.80s/it]"
     ]
    },
    {
     "name": "stdout",
     "output_type": "stream",
     "text": [
      "EPOCH: 031, TRAIN LOSS: 3.0578, VAL LOSS: 7.9701, TEST LOSS: 6.1752. TRAINING TIME SO FAR: 63.8 s\n",
      "TRAIN R2: 0.8404, VAL R2: 0.5736, TEST R2: 0.6580\n",
      "TRAIN MAE: 1.3187, VAL MAE: 2.1040, TEST MAE: 1.9104\n",
      "\n"
     ]
    },
    {
     "name": "stderr",
     "output_type": "stream",
     "text": [
      " 64%|██████▍   | 32/50 [01:05<00:31,  1.77s/it]"
     ]
    },
    {
     "name": "stdout",
     "output_type": "stream",
     "text": [
      "EPOCH: 032, TRAIN LOSS: 3.1457, VAL LOSS: 8.1063, TEST LOSS: 6.3308. TRAINING TIME SO FAR: 65.5 s\n",
      "TRAIN R2: 0.8403, VAL R2: 0.5663, TEST R2: 0.6492\n",
      "TRAIN MAE: 1.3016, VAL MAE: 2.1299, TEST MAE: 1.9143\n",
      "\n"
     ]
    },
    {
     "name": "stderr",
     "output_type": "stream",
     "text": [
      " 66%|██████▌   | 33/50 [01:07<00:32,  1.89s/it]"
     ]
    },
    {
     "name": "stdout",
     "output_type": "stream",
     "text": [
      "EPOCH: 033, TRAIN LOSS: 2.6845, VAL LOSS: 8.5010, TEST LOSS: 6.8794. TRAINING TIME SO FAR: 67.7 s\n",
      "TRAIN R2: 0.8566, VAL R2: 0.5454, TEST R2: 0.6178\n",
      "TRAIN MAE: 1.2446, VAL MAE: 2.1764, TEST MAE: 2.0255\n",
      "\n"
     ]
    },
    {
     "name": "stderr",
     "output_type": "stream",
     "text": [
      " 68%|██████▊   | 34/50 [01:11<00:37,  2.36s/it]"
     ]
    },
    {
     "name": "stdout",
     "output_type": "stream",
     "text": [
      "EPOCH: 034, TRAIN LOSS: 2.4621, VAL LOSS: 8.5943, TEST LOSS: 6.7203. TRAINING TIME SO FAR: 71.2 s\n",
      "TRAIN R2: 0.8708, VAL R2: 0.5422, TEST R2: 0.6265\n",
      "TRAIN MAE: 1.1812, VAL MAE: 2.1801, TEST MAE: 1.9740\n",
      "\n"
     ]
    },
    {
     "name": "stderr",
     "output_type": "stream",
     "text": [
      " 70%|███████   | 35/50 [01:13<00:33,  2.25s/it]"
     ]
    },
    {
     "name": "stdout",
     "output_type": "stream",
     "text": [
      "EPOCH: 035, TRAIN LOSS: 2.3670, VAL LOSS: 8.4849, TEST LOSS: 6.6715. TRAINING TIME SO FAR: 73.1 s\n",
      "TRAIN R2: 0.8748, VAL R2: 0.5473, TEST R2: 0.6277\n",
      "TRAIN MAE: 1.1612, VAL MAE: 2.1768, TEST MAE: 1.9662\n",
      "\n"
     ]
    },
    {
     "name": "stderr",
     "output_type": "stream",
     "text": [
      " 72%|███████▏  | 36/50 [01:15<00:31,  2.23s/it]"
     ]
    },
    {
     "name": "stdout",
     "output_type": "stream",
     "text": [
      "EPOCH: 036, TRAIN LOSS: 2.4051, VAL LOSS: 8.7194, TEST LOSS: 6.8270. TRAINING TIME SO FAR: 75.3 s\n",
      "TRAIN R2: 0.8784, VAL R2: 0.5324, TEST R2: 0.6207\n",
      "TRAIN MAE: 1.1455, VAL MAE: 2.2302, TEST MAE: 1.9817\n",
      "\n"
     ]
    },
    {
     "name": "stderr",
     "output_type": "stream",
     "text": [
      " 74%|███████▍  | 37/50 [01:18<00:30,  2.36s/it]"
     ]
    },
    {
     "name": "stdout",
     "output_type": "stream",
     "text": [
      "EPOCH: 037, TRAIN LOSS: 3.7094, VAL LOSS: 9.0635, TEST LOSS: 7.1041. TRAINING TIME SO FAR: 78.0 s\n",
      "TRAIN R2: 0.8268, VAL R2: 0.5138, TEST R2: 0.6058\n",
      "TRAIN MAE: 1.2978, VAL MAE: 2.2740, TEST MAE: 2.0639\n",
      "\n"
     ]
    },
    {
     "name": "stderr",
     "output_type": "stream",
     "text": [
      " 76%|███████▌  | 38/50 [01:20<00:27,  2.29s/it]"
     ]
    },
    {
     "name": "stdout",
     "output_type": "stream",
     "text": [
      "EPOCH: 038, TRAIN LOSS: 4.8899, VAL LOSS: 8.2002, TEST LOSS: 6.4591. TRAINING TIME SO FAR: 80.1 s\n",
      "TRAIN R2: 0.7700, VAL R2: 0.5625, TEST R2: 0.6410\n",
      "TRAIN MAE: 1.5334, VAL MAE: 2.1313, TEST MAE: 1.9555\n",
      "\n"
     ]
    },
    {
     "name": "stderr",
     "output_type": "stream",
     "text": [
      " 78%|███████▊  | 39/50 [01:22<00:24,  2.19s/it]"
     ]
    },
    {
     "name": "stdout",
     "output_type": "stream",
     "text": [
      "EPOCH: 039, TRAIN LOSS: 3.8924, VAL LOSS: 8.0949, TEST LOSS: 6.4320. TRAINING TIME SO FAR: 82.1 s\n",
      "TRAIN R2: 0.8166, VAL R2: 0.5652, TEST R2: 0.6411\n",
      "TRAIN MAE: 1.3615, VAL MAE: 2.1201, TEST MAE: 1.9462\n",
      "\n"
     ]
    },
    {
     "name": "stderr",
     "output_type": "stream",
     "text": [
      " 80%|████████  | 40/50 [01:24<00:21,  2.12s/it]"
     ]
    },
    {
     "name": "stdout",
     "output_type": "stream",
     "text": [
      "EPOCH: 040, TRAIN LOSS: 3.0783, VAL LOSS: 8.3894, TEST LOSS: 6.6080. TRAINING TIME SO FAR: 84.0 s\n",
      "TRAIN R2: 0.8523, VAL R2: 0.5523, TEST R2: 0.6342\n",
      "TRAIN MAE: 1.2222, VAL MAE: 2.1699, TEST MAE: 1.9397\n",
      "\n"
     ]
    },
    {
     "name": "stderr",
     "output_type": "stream",
     "text": [
      " 82%|████████▏ | 41/50 [01:26<00:20,  2.24s/it]"
     ]
    },
    {
     "name": "stdout",
     "output_type": "stream",
     "text": [
      "EPOCH: 041, TRAIN LOSS: 2.6146, VAL LOSS: 8.6213, TEST LOSS: 6.6393. TRAINING TIME SO FAR: 86.6 s\n",
      "TRAIN R2: 0.8709, VAL R2: 0.5380, TEST R2: 0.6292\n",
      "TRAIN MAE: 1.1601, VAL MAE: 2.2007, TEST MAE: 1.9581\n",
      "\n"
     ]
    },
    {
     "name": "stderr",
     "output_type": "stream",
     "text": [
      " 84%|████████▍ | 42/50 [01:28<00:17,  2.16s/it]"
     ]
    },
    {
     "name": "stdout",
     "output_type": "stream",
     "text": [
      "EPOCH: 042, TRAIN LOSS: 2.1581, VAL LOSS: 8.4074, TEST LOSS: 6.6285. TRAINING TIME SO FAR: 88.5 s\n",
      "TRAIN R2: 0.8875, VAL R2: 0.5520, TEST R2: 0.6330\n",
      "TRAIN MAE: 1.1046, VAL MAE: 2.1669, TEST MAE: 1.9614\n",
      "\n"
     ]
    },
    {
     "name": "stderr",
     "output_type": "stream",
     "text": [
      " 86%|████████▌ | 43/50 [01:30<00:15,  2.24s/it]"
     ]
    },
    {
     "name": "stdout",
     "output_type": "stream",
     "text": [
      "EPOCH: 043, TRAIN LOSS: 2.2888, VAL LOSS: 8.8725, TEST LOSS: 6.9602. TRAINING TIME SO FAR: 91.0 s\n",
      "TRAIN R2: 0.8883, VAL R2: 0.5264, TEST R2: 0.6114\n",
      "TRAIN MAE: 1.0658, VAL MAE: 2.2235, TEST MAE: 2.0200\n",
      "\n"
     ]
    },
    {
     "name": "stderr",
     "output_type": "stream",
     "text": [
      " 88%|████████▊ | 44/50 [01:32<00:12,  2.14s/it]"
     ]
    },
    {
     "name": "stdout",
     "output_type": "stream",
     "text": [
      "EPOCH: 044, TRAIN LOSS: 2.2178, VAL LOSS: 8.4346, TEST LOSS: 6.7034. TRAINING TIME SO FAR: 92.9 s\n",
      "TRAIN R2: 0.8884, VAL R2: 0.5475, TEST R2: 0.6287\n",
      "TRAIN MAE: 1.0924, VAL MAE: 2.1699, TEST MAE: 1.9984\n",
      "\n"
     ]
    },
    {
     "name": "stderr",
     "output_type": "stream",
     "text": [
      " 90%|█████████ | 45/50 [01:35<00:10,  2.16s/it]"
     ]
    },
    {
     "name": "stdout",
     "output_type": "stream",
     "text": [
      "EPOCH: 045, TRAIN LOSS: 2.4829, VAL LOSS: 8.8881, TEST LOSS: 6.8764. TRAINING TIME SO FAR: 95.1 s\n",
      "TRAIN R2: 0.8859, VAL R2: 0.5246, TEST R2: 0.6179\n",
      "TRAIN MAE: 1.0516, VAL MAE: 2.2250, TEST MAE: 2.0044\n",
      "\n"
     ]
    },
    {
     "name": "stderr",
     "output_type": "stream",
     "text": [
      " 92%|█████████▏| 46/50 [01:37<00:08,  2.20s/it]"
     ]
    },
    {
     "name": "stdout",
     "output_type": "stream",
     "text": [
      "EPOCH: 046, TRAIN LOSS: 1.9397, VAL LOSS: 8.6709, TEST LOSS: 6.8449. TRAINING TIME SO FAR: 97.4 s\n",
      "TRAIN R2: 0.9027, VAL R2: 0.5364, TEST R2: 0.6190\n",
      "TRAIN MAE: 1.0070, VAL MAE: 2.1917, TEST MAE: 2.0100\n",
      "\n"
     ]
    },
    {
     "name": "stderr",
     "output_type": "stream",
     "text": [
      " 94%|█████████▍| 47/50 [01:39<00:06,  2.18s/it]"
     ]
    },
    {
     "name": "stdout",
     "output_type": "stream",
     "text": [
      "EPOCH: 047, TRAIN LOSS: 2.0663, VAL LOSS: 8.6838, TEST LOSS: 6.8048. TRAINING TIME SO FAR: 99.5 s\n",
      "TRAIN R2: 0.8971, VAL R2: 0.5352, TEST R2: 0.6227\n",
      "TRAIN MAE: 1.0487, VAL MAE: 2.2157, TEST MAE: 1.9978\n",
      "\n"
     ]
    },
    {
     "name": "stderr",
     "output_type": "stream",
     "text": [
      " 96%|█████████▌| 48/50 [01:42<00:04,  2.29s/it]"
     ]
    },
    {
     "name": "stdout",
     "output_type": "stream",
     "text": [
      "EPOCH: 048, TRAIN LOSS: 2.1592, VAL LOSS: 8.5182, TEST LOSS: 6.8904. TRAINING TIME SO FAR: 102.1 s\n",
      "TRAIN R2: 0.9026, VAL R2: 0.5456, TEST R2: 0.6160\n",
      "TRAIN MAE: 0.9591, VAL MAE: 2.1782, TEST MAE: 1.9989\n",
      "\n"
     ]
    },
    {
     "name": "stderr",
     "output_type": "stream",
     "text": [
      " 98%|█████████▊| 49/50 [01:44<00:02,  2.29s/it]"
     ]
    },
    {
     "name": "stdout",
     "output_type": "stream",
     "text": [
      "EPOCH: 049, TRAIN LOSS: 1.6135, VAL LOSS: 8.8633, TEST LOSS: 6.9882. TRAINING TIME SO FAR: 104.3 s\n",
      "TRAIN R2: 0.9210, VAL R2: 0.5274, TEST R2: 0.6101\n",
      "TRAIN MAE: 0.8883, VAL MAE: 2.2392, TEST MAE: 1.9983\n",
      "\n"
     ]
    },
    {
     "name": "stderr",
     "output_type": "stream",
     "text": [
      "100%|██████████| 50/50 [01:46<00:00,  2.13s/it]"
     ]
    },
    {
     "name": "stdout",
     "output_type": "stream",
     "text": [
      "EPOCH: 050, TRAIN LOSS: 1.3071, VAL LOSS: 8.7033, TEST LOSS: 6.9405. TRAINING TIME SO FAR: 106.7 s\n",
      "TRAIN R2: 0.9331, VAL R2: 0.5348, TEST R2: 0.6138\n",
      "TRAIN MAE: 0.8269, VAL MAE: 2.2034, TEST MAE: 2.0027\n",
      "\n"
     ]
    },
    {
     "name": "stderr",
     "output_type": "stream",
     "text": [
      "\n"
     ]
    }
   ],
   "source": [
    "epochs = 50\n",
    "start = time.time()\n",
    "\n",
    "train_losses, train_r2_scores, train_maes = [], [], []\n",
    "val_losses, val_r2_scores, val_maes = [], [], []\n",
    "test_losses, test_r2_scores, test_maes = [], [], []\n",
    "\n",
    "for epoch in tqdm(range(1, epochs + 1)):\n",
    "\n",
    "    train_loss, train_r2_score, train_mae = train(dataloader_train)\n",
    "    val_loss, val_r2_score, val_mae = evaluate(dataloader_val)\n",
    "    test_loss, test_r2_score, test_mae = evaluate(dataloader_test)\n",
    "\n",
    "    toc = time.time()\n",
    "    print(f'EPOCH: {epoch:03d}, TRAIN LOSS: {train_loss:.4f}, VAL LOSS: {val_loss:.4f}, TEST LOSS: {test_loss:.4f}. TRAINING TIME SO FAR: {toc - start:.1f} s\\n'\n",
    "          f'TRAIN R2: {train_r2_score:.4f}, VAL R2: {val_r2_score:.4f}, TEST R2: {test_r2_score:.4f}\\n'\n",
    "          f'TRAIN MAE: {train_mae:.4f}, VAL MAE: {val_mae:.4f}, TEST MAE: {test_mae:.4f}\\n')\n",
    "\n",
    "    # Store metrics\n",
    "    train_losses.append(train_loss)\n",
    "    train_r2_scores.append(train_r2_score)\n",
    "    train_maes.append(train_mae)\n",
    "\n",
    "    val_losses.append(val_loss)\n",
    "    val_r2_scores.append(val_r2_score)\n",
    "    val_maes.append(val_mae)\n",
    "\n",
    "    test_losses.append(test_loss)\n",
    "    test_r2_scores.append(test_r2_score)\n",
    "    test_maes.append(test_mae)"
   ]
  },
  {
   "attachments": {},
   "cell_type": "markdown",
   "id": "d5fb3b29",
   "metadata": {},
   "source": [
    "# Evaluation"
   ]
  },
  {
   "cell_type": "code",
   "execution_count": null,
   "id": "80fe6e67",
   "metadata": {
    "ExecuteTime": {
     "end_time": "2023-06-21T00:10:01.686743Z",
     "start_time": "2023-06-21T00:10:01.467926Z"
    },
    "collapsed": false
   },
   "outputs": [
    {
     "data": {
      "image/png": "[encoded data removed]",
      "text/plain": [
       "<Figure size 864x288 with 1 Axes>"
      ]
     },
     "metadata": {
      "needs_background": "light"
     },
     "output_type": "display_data"
    },
    {
     "data": {
      "image/png": "[encoded data removed]",
      "text/plain": [
       "<Figure size 864x288 with 1 Axes>"
      ]
     },
     "metadata": {
      "needs_background": "light"
     },
     "output_type": "display_data"
    },
    {
     "data": {
      "image/png": "[encoded data removed]",
      "text/plain": [
       "<Figure size 864x288 with 1 Axes>"
      ]
     },
     "metadata": {
      "needs_background": "light"
     },
     "output_type": "display_data"
    }
   ],
   "source": [
    "# Plot losses\n",
    "plt.figure(figsize=(12, 4))\n",
    "plt.plot(train_losses, label='Train')\n",
    "plt.plot(val_losses, label='Validation')\n",
    "plt.plot(test_losses, label='Test')\n",
    "plt.title('Loss over epochs')\n",
    "plt.xlabel('Epochs')\n",
    "plt.ylabel('Loss')\n",
    "plt.legend()\n",
    "plt.show()\n",
    "\n",
    "# Plot R2 scores\n",
    "plt.figure(figsize=(12, 4))\n",
    "plt.plot(train_r2_scores, label='Train')\n",
    "plt.plot(val_r2_scores, label='Validation')\n",
    "plt.plot(test_r2_scores, label='Test')\n",
    "plt.title('R2 Score over epochs')\n",
    "plt.xlabel('Epochs')\n",
    "plt.ylabel('R2 Score')\n",
    "plt.legend()\n",
    "plt.show()\n",
    "\n",
    "# Plot MAEs\n",
    "plt.figure(figsize=(12, 4))\n",
    "plt.plot(train_maes, label='Train')\n",
    "plt.plot(val_maes, label='Validation')\n",
    "plt.plot(test_maes, label='Test')\n",
    "plt.title('Mean Absolute Error over epochs')\n",
    "plt.xlabel('Epochs')\n",
    "plt.ylabel('Mean Absolute Error')\n",
    "plt.legend()\n",
    "plt.show()"
   ]
  },
  {
   "cell_type": "code",
   "execution_count": null,
   "id": "2ede941b",
   "metadata": {
    "ExecuteTime": {
     "end_time": "2023-06-21T00:10:01.686890Z",
     "start_time": "2023-06-21T00:10:01.660362Z"
    },
    "collapsed": false
   },
   "outputs": [
    {
     "name": "stdout",
     "output_type": "stream",
     "text": [
      "Number of objects = 9\n",
      "Predicted = \n",
      " tensor([[-0.3890, -1.7734],\n",
      "        [-3.8027,  4.1485],\n",
      "        [ 0.0433, -5.2258],\n",
      "        [ 3.9641,  0.3598],\n",
      "        [-3.1195,  6.5067],\n",
      "        [-0.4845, -3.7214],\n",
      "        [ 5.8031,  1.4657],\n",
      "        [-2.2144, -4.0112],\n",
      "        [ 0.3719, -3.3808]], grad_fn=<AddBackward0>),\n",
      " Ground-truth = \n",
      " tensor([[-1.6904, -4.7714],\n",
      "        [-6.4399,  6.5713],\n",
      "        [-2.6690, -3.6703],\n",
      "        [ 7.4225,  4.6230],\n",
      "        [-4.8910,  7.5831],\n",
      "        [-2.7757, -4.8574],\n",
      "        [ 6.9858,  6.4830],\n",
      "        [ 6.2565,  0.0731],\n",
      "        [-1.4717, -8.1335]])\n"
     ]
    }
   ],
   "source": [
    "def test_example(idx):\n",
    "    example = data_list_test[idx]\n",
    "    print(f'Number of objects = {example.x.shape[0]}')\n",
    "    pred = model(example)\n",
    "    true = example.y\n",
    "    print(f'Predicted = \\n {pred},\\n Ground-truth = \\n {true}')\n",
    "\n",
    "test_example(5)"
   ]
  },
  {
   "attachments": {},
   "cell_type": "markdown",
   "id": "1ffeb2ed",
   "metadata": {
    "collapsed": false
   },
   "source": [
    "# Task 2"
   ]
  },
  {
   "cell_type": "code",
   "execution_count": null,
   "id": "04628774",
   "metadata": {
    "ExecuteTime": {
     "end_time": "2023-06-21T00:10:01.686926Z",
     "start_time": "2023-06-21T00:10:01.663988Z"
    },
    "collapsed": false
   },
   "outputs": [],
   "source": []
  }
 ],
 "metadata": {
  "kernelspec": {
   "display_name": "Python 3 (ipykernel)",
   "language": "python",
   "name": "python3"
  },
  "language_info": {
   "codemirror_mode": {
    "name": "ipython",
    "version": 3
   },
   "file_extension": ".py",
   "mimetype": "text/x-python",
   "name": "python",
   "nbconvert_exporter": "python",
   "pygments_lexer": "ipython3",
   "version": "3.6.12"
  }
 },
 "nbformat": 4,
 "nbformat_minor": 5
}
