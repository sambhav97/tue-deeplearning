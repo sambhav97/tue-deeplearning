{
 "cells": [
  {
   "attachments": {},
   "cell_type": "markdown",
   "id": "d32f8d18",
   "metadata": {},
   "source": [
    "# Group Details\n",
    "\n",
    "## Group Name: 12\n",
    "\n",
    "### Student 1: Denise La Gordt Dillie\n",
    "\n",
    "### Student 2: Andreea Maican\n",
    "\n",
    "### Student 3: Sambhav Jain"
   ]
  },
  {
   "attachments": {},
   "cell_type": "markdown",
   "id": "faec2056",
   "metadata": {},
   "source": [
    "# Loading Data and Preliminaries"
   ]
  },
  {
   "cell_type": "code",
   "execution_count": 760,
   "id": "7d0580a5",
   "metadata": {
    "ExecuteTime": {
     "end_time": "2023-06-22T15:12:03.630003Z",
     "start_time": "2023-06-22T15:12:03.622663Z"
    }
   },
   "outputs": [],
   "source": [
    "import matplotlib.pyplot as plt\n",
    "import matplotlib\n",
    "import numpy as np\n",
    "import torch\n",
    "from torch_geometric.data import Data\n",
    "import torch.nn as nn\n",
    "import torch.nn.functional as F\n",
    "from torch_geometric.loader import DataLoader\n",
    "import os\n",
    "import math\n",
    "import random\n",
    "import time\n",
    "from sklearn.metrics import r2_score, mean_absolute_error\n",
    "from tqdm import tqdm"
   ]
  },
  {
   "cell_type": "code",
   "execution_count": 761,
   "id": "b0756591",
   "metadata": {
    "ExecuteTime": {
     "end_time": "2023-06-22T15:12:03.968158Z",
     "start_time": "2023-06-22T15:12:03.964914Z"
    }
   },
   "outputs": [],
   "source": [
    "def load_array(filename, task):\n",
    "    datapoint = np.load(filename)\n",
    "    if task == 'task 1':\n",
    "        initial_state = datapoint['initial_state']\n",
    "        terminal_state = datapoint['terminal_state']\n",
    "        return initial_state, terminal_state\n",
    "    elif task == 'task 2' or task == 'task 3':\n",
    "        whole_trajectory = datapoint['trajectory']\n",
    "        # change shape: (num_bodies, attributes, time) ->  num_bodies, time, attributes\n",
    "        whole_trajectory = np.swapaxes(whole_trajectory, 1, 2)\n",
    "        initial_state = whole_trajectory[:, 0]\n",
    "        target = whole_trajectory[:, 1:, 1:]  # drop the first timepoint (second dim) and mass (last dim) for the prediction task\n",
    "        return initial_state, target\n",
    "    else:\n",
    "        raise NotImplementedError(\"'task' argument should be 'task 1', 'task 2' or 'task 3'!\")"
   ]
  },
  {
   "cell_type": "code",
   "execution_count": 762,
   "id": "bb77a4be",
   "metadata": {
    "ExecuteTime": {
     "end_time": "2023-06-22T15:12:04.416021Z",
     "start_time": "2023-06-22T15:12:04.410682Z"
    }
   },
   "outputs": [
    {
     "name": "stdout",
     "output_type": "stream",
     "text": [
      "shape of initial state (model input): (8, 5)\n",
      "[[ 4.54673709 -5.27118739  5.07863417 -1.09690628 -3.66929964]\n",
      " [ 3.57509525  4.3270607  -0.08095022 -0.57868726 -2.95971243]\n",
      " [ 2.67733735 -5.15972108  5.35238208  2.42652043  1.45870728]\n",
      " [ 2.27455417 -6.79584511  2.29632123  0.30418238 -0.4065998 ]\n",
      " [ 2.38359341 -2.75861066  1.77940931 -0.07643627 -0.35954359]\n",
      " [ 4.28596268  0.34981219  4.8286224   1.35630962 -2.55760522]\n",
      " [ 3.03118516 -0.50562258 15.04631712 -0.94772523 14.98127867]\n",
      " [ 4.13530017  1.81342682  3.84375499 -0.6989711  -2.25092411]]\n",
      "shape of terminal state (to be predicted by model): (8, 2)\n",
      "The initial x-coordinate of the body with index 2 in this trajectory was -5.159721083543527\n"
     ]
    }
   ],
   "source": [
    "\"\"\"\n",
    "This cell gives an example of loading a datapoint with numpy for task 1.\n",
    "\n",
    "The arrays returned by the function are structures as follows:\n",
    "initial_state: shape (n_bodies, [mass, x, y, v_x, v_y])\n",
    "terminal_state: shape (n_bodies, [x, y])\n",
    "\n",
    "\"\"\"\n",
    "\n",
    "example = load_array('/Users/sambhavjain/Library/Mobile Documents/com~apple~CloudDocs/TU Eindhoven/Q4/Deep Learning/tue-deeplearning/assignments/assignment_2/data/task 1/train/trajectory_0.npz', task='task 1')\n",
    "\n",
    "initial_state, terminal_state = example\n",
    "print(f'shape of initial state (model input): {initial_state.shape}')\n",
    "print(initial_state)\n",
    "print(f'shape of terminal state (to be predicted by model): {terminal_state.shape}')\n",
    "\n",
    "body_idx = 2\n",
    "print(f'The initial x-coordinate of the body with index {body_idx} in this trajectory was {initial_state[body_idx, 1]}')"
   ]
  },
  {
   "cell_type": "code",
   "execution_count": 763,
   "id": "1c3ea4cb",
   "metadata": {
    "ExecuteTime": {
     "end_time": "2023-06-22T15:12:04.781663Z",
     "start_time": "2023-06-22T15:12:04.770611Z"
    }
   },
   "outputs": [
    {
     "name": "stdout",
     "output_type": "stream",
     "text": [
      "shape of initial state (model input): (8, 5)\n",
      "shape of terminal state (to be predicted by model): (8, 49, 4)\n",
      "The y-coordinate of the body with index 2 at time with index 30 in remaining_trajectory was -0.3861544940435097\n",
      "the shape of the input of a test data example is (8, 5)\n",
      "the shape of the target of a test data example is (8, 49, 4)\n",
      "values of the test data example at time 30:\n",
      " [[-5.85725792 -5.394571           nan         nan]\n",
      " [-6.03781257 -5.72445953         nan         nan]\n",
      " [-0.90623054 -6.93416278         nan         nan]\n",
      " [ 2.83149339 -7.50100819         nan         nan]\n",
      " [-2.85586881  1.77667501         nan         nan]\n",
      " [ 4.04424526  4.00563603         nan         nan]\n",
      " [-5.24887713 -4.83081005         nan         nan]\n",
      " [-5.81391023 -5.1109838          nan         nan]]\n",
      "note: velocity values are unobserved (NaNs) in the test data!\n"
     ]
    }
   ],
   "source": [
    "\"\"\"\n",
    "This cell gives an example of loading a datapoint with numpy for task 2 / 3.\n",
    "\n",
    "The arrays returned by the function are structures as follows:\n",
    "initial_state: shape (n_bodies, [mass, x, y, v_x, v_y])\n",
    "remaining_trajectory: shape (n_bodies, time, [x, y, v_x, v_y])\n",
    "\n",
    "Note that for this task, you are asked to evaluate performance only with regard to the predictions of the positions (x and y).\n",
    "If you use the velocity of the remaining trajectory for training,\n",
    "this use should be purely auxiliary for the goal of predicting the positions [x,y] over time. \n",
    "While testing performance of your model on the test set, you do not have access to v_x and v_y of the remaining trajectory.\n",
    "\n",
    "\"\"\"\n",
    "\n",
    "example = load_array('/Users/sambhavjain/Library/Mobile Documents/com~apple~CloudDocs/TU Eindhoven/Q4/Deep Learning/tue-deeplearning/assignments/assignment_2/data/task 2_3/train/trajectory_0.npz', task='task 2')\n",
    "\n",
    "initial_state, remaining_trajectory = example\n",
    "print(f'shape of initial state (model input): {initial_state.shape}')\n",
    "print(f'shape of terminal state (to be predicted by model): {remaining_trajectory.shape}')\n",
    "\n",
    "body_idx = 2\n",
    "time_idx = 30\n",
    "print(f'The y-coordinate of the body with index {body_idx} at time with index {time_idx} in remaining_trajectory was {remaining_trajectory[body_idx, time_idx, 1]}')\n",
    "\n",
    "test_example = load_array('/Users/sambhavjain/Library/Mobile Documents/com~apple~CloudDocs/TU Eindhoven/Q4/Deep Learning/tue-deeplearning/assignments/assignment_2/data/task 2_3/test/trajectory_900.npz', task='task 3')\n",
    "test_initial_state, test_remaining_trajectory = test_example\n",
    "print(f'the shape of the input of a test data example is {test_initial_state.shape}')\n",
    "print(f'the shape of the target of a test data example is {test_remaining_trajectory.shape}')\n",
    "print(f'values of the test data example at time {time_idx}:\\n {test_remaining_trajectory[:, time_idx]}')\n",
    "print('note: velocity values are unobserved (NaNs) in the test data!')"
   ]
  },
  {
   "cell_type": "code",
   "execution_count": 764,
   "id": "10a3438a",
   "metadata": {
    "ExecuteTime": {
     "end_time": "2023-06-22T15:12:05.244270Z",
     "start_time": "2023-06-22T15:12:05.238895Z"
    }
   },
   "outputs": [
    {
     "data": {
      "text/plain": "array([[ 4.31455329, -4.99311363, -5.10150489,  2.2491171 , -1.82520359],\n       [ 2.58525749, -4.92574075, -4.7534334 , -4.81897728, -3.07212095],\n       [ 2.40449047,  2.23254187, -6.04595524, -0.67381217, -0.58798851],\n       [ 2.28318603,  5.6605113 , -3.76376281, -0.41268251, -1.19812499],\n       [ 4.09793595, -4.73678906, -3.94704856,  1.13634781,  4.98383634],\n       [ 4.5579536 , -0.08848969,  5.42483477,  1.460317  , -0.21585929],\n       [ 3.42356878, -4.91282501, -4.6779343 ,  0.94123905,  2.66425652],\n       [ 3.59288181, -4.48225046, -4.548729  , -2.56573061, -2.39203918]])"
     },
     "execution_count": 764,
     "metadata": {},
     "output_type": "execute_result"
    }
   ],
   "source": [
    "test_initial_state"
   ]
  },
  {
   "cell_type": "markdown",
   "source": [
    "# Task 1"
   ],
   "metadata": {
    "collapsed": false
   }
  },
  {
   "attachments": {},
   "cell_type": "markdown",
   "id": "059b633c",
   "metadata": {},
   "source": [
    "# Data Handling and Preprocessing"
   ]
  },
  {
   "cell_type": "code",
   "execution_count": 765,
   "id": "d32d5f8e",
   "metadata": {
    "ExecuteTime": {
     "end_time": "2023-06-22T15:12:06.928068Z",
     "start_time": "2023-06-22T15:12:06.915147Z"
    }
   },
   "outputs": [
    {
     "name": "stdout",
     "output_type": "stream",
     "text": [
      "tensor([[ 1.0000, -0.2252,  0.0762,  0.2000,  0.1000],\n",
      "        [ 2.0000,  0.1871,  0.0762,  0.3000,  0.2000],\n",
      "        [ 0.5000, -0.2980, -0.4574,  0.9000,  1.0000]]) tensor([[0, 0, 1],\n",
      "        [1, 2, 2]]) tensor([[11.7647],\n",
      "        [ 1.7241],\n",
      "        [ 1.9231]]) tensor([[-0.0554,  0.2217],\n",
      "        [-0.0554, -0.1906],\n",
      "        [-0.3707, -0.5786]])\n"
     ]
    }
   ],
   "source": [
    "def create_graph_data_task1(initial_state, terminal_state):\n",
    "    initial_state = np.array(initial_state)\n",
    "    terminal_state = np.array(terminal_state)\n",
    "\n",
    "    n_bodies = initial_state.shape[0]\n",
    "    num_features = initial_state.shape[1]\n",
    "\n",
    "    # Calculate center of mass\n",
    "    total_mass = np.sum(initial_state[:, 0])\n",
    "    center_of_mass_x = np.sum(initial_state[:, 1] * initial_state[:, 0]) / total_mass\n",
    "    center_of_mass_y = np.sum(initial_state[:, 2] * initial_state[:, 0]) / total_mass\n",
    "\n",
    "    # Adjust positions relative to center of mass for initial and terminal states\n",
    "    initial_state[:, 1] -= center_of_mass_x\n",
    "    initial_state[:, 2] -= center_of_mass_y\n",
    "    \n",
    "    terminal_state[:, 0] -= center_of_mass_x\n",
    "    terminal_state[:, 1] -= center_of_mass_y\n",
    "    \n",
    "    # Find the indices of the two most massive objects\n",
    "    mass_indices = np.argsort(initial_state[:, 0])\n",
    "    indices = mass_indices[-2:]\n",
    "    \n",
    "    # Calculate the vector between the two most massive objects\n",
    "    vector = initial_state[indices[1], 1:3] - initial_state[indices[0], 1:3]\n",
    "    \n",
    "    # Calculate the angle of rotation based on the vector\n",
    "    angle = math.atan2(vector[1], vector[0])\n",
    "    \n",
    "    # Apply rotation to the positions\n",
    "    rot_matrix = np.array([[math.cos(-angle), -math.sin(-angle)], [math.sin(-angle), math.cos(-angle)]])\n",
    "    initial_state[:, 1:3] = np.matmul(rot_matrix, initial_state[:, 1:3].T).T\n",
    "    terminal_state = np.matmul(rot_matrix, terminal_state.T).T\n",
    "    \n",
    "    # Create node features tensor\n",
    "    node_features = torch.tensor(initial_state, dtype=torch.float)\n",
    "    node_features = node_features.view(-1, num_features)  # Reshape to (num_nodes, num_features)\n",
    "\n",
    "    # Create edge index tensor\n",
    "    edge_index = torch.tensor([[i, j] for i in range(n_bodies) for j in range(n_bodies) if (i != j and i<j)], dtype=torch.long)\n",
    "    edge_index = edge_index.t().contiguous()  # Reshape to (2, num_edges)\n",
    "\n",
    "    # Create edge features tensor\n",
    "    num_edges = edge_index.size(1)\n",
    "    edge_features = torch.empty(num_edges, 1, dtype=torch.float)\n",
    "    # Populate edge features with force\n",
    "    for k, (i, j) in enumerate(edge_index.t()):\n",
    "        dx = node_features[i, 1] - node_features[j, 1]\n",
    "        dy = node_features[i, 2] - node_features[j, 2]\n",
    "        distance = torch.sqrt(dx**2 + dy**2)\n",
    "        force = ((node_features[i,0]*node_features[j,0])/(distance**2 + 1e-8))\n",
    "        edge_features[k] = force\n",
    "\n",
    "    # Create target tensor\n",
    "    target = torch.tensor(terminal_state, dtype=torch.float).view(-1, 2)  # Reshape to (num_nodes, num_features + 1)\n",
    "\n",
    "    # Create PyG Data object\n",
    "    data = Data(x=node_features, edge_index=edge_index, edge_attr=edge_features, y=target)\n",
    "\n",
    "    return data\n",
    "\n",
    "# Example usage\n",
    "initial_state = [[1.0, 0.5, 0.3, 0.2, 0.1], [2.0, 0.1, 0.4, 0.3, 0.2], [0.5, 0.7, 0.8, 0.9, 1.0]]\n",
    "terminal_state = [[0.3, 0.2], [0.4, 0.6], [0.8, 0.9]]\n",
    "\n",
    "graph_data = create_graph_data_task1(initial_state, terminal_state)\n",
    "print(graph_data.x, graph_data.edge_index, graph_data.edge_attr, graph_data.y)"
   ]
  },
  {
   "cell_type": "code",
   "execution_count": 766,
   "id": "9bbc8271",
   "metadata": {
    "ExecuteTime": {
     "end_time": "2023-06-22T15:12:08.759572Z",
     "start_time": "2023-06-22T15:12:07.586692Z"
    }
   },
   "outputs": [
    {
     "name": "stdout",
     "output_type": "stream",
     "text": [
      "Number of data samples in /Users/sambhavjain/Library/Mobile Documents/com~apple~CloudDocs/TU Eindhoven/Q4/Deep Learning/tue-deeplearning/assignments/assignment_2/data/task 1/train: 900\n",
      "Number of training samples: 720\n",
      "Number of validation samples: 180\n",
      "Number of data samples in /Users/sambhavjain/Library/Mobile Documents/com~apple~CloudDocs/TU Eindhoven/Q4/Deep Learning/tue-deeplearning/assignments/assignment_2/data/task 1/test: 100\n"
     ]
    }
   ],
   "source": [
    "def create_dataloader_task1(data_folder, task, shuffle, batch_size, train_ratio=0.8):\n",
    "    data_list = []  # List to store the Data objects\n",
    "\n",
    "    # Loop over all files in the folder\n",
    "    for filename in os.listdir(data_folder):\n",
    "        file_path = os.path.join(data_folder, filename)\n",
    "\n",
    "        # Read the data from the file (modify this part based on your file format)\n",
    "        states = load_array(file_path, task=task)\n",
    "        initial_state, terminal_state = states\n",
    "\n",
    "        # Create the Data object using create_graph_data function\n",
    "        data = create_graph_data_task1(initial_state, terminal_state)\n",
    "\n",
    "        # Append the Data object to the list\n",
    "        data_list.append(data)\n",
    "\n",
    "    # Shuffle the data if specified\n",
    "    if shuffle:\n",
    "        random.shuffle(data_list)\n",
    "\n",
    "    # Calculate the number of samples\n",
    "    num_samples = len(data_list)\n",
    "\n",
    "    if \"train\" in data_folder:\n",
    "        # Calculate the number of samples for train and validation\n",
    "        num_train = int(train_ratio * num_samples)\n",
    "        num_val = num_samples - num_train\n",
    "\n",
    "        # Split the data into train and validation sets\n",
    "        train_data = data_list[:num_train]\n",
    "        val_data = data_list[num_train:]\n",
    "\n",
    "        # Print the number of data samples\n",
    "        print(f\"Number of data samples in {data_folder}: {num_samples}\")\n",
    "        print(f\"Number of training samples: {num_train}\")\n",
    "        print(f\"Number of validation samples: {num_val}\")\n",
    "\n",
    "        # Create data loaders for train and validation sets\n",
    "        dataloader_train = DataLoader(train_data, batch_size=batch_size, shuffle=shuffle)\n",
    "        dataloader_val = DataLoader(val_data, batch_size=batch_size, shuffle=False)\n",
    "\n",
    "        return dataloader_train, dataloader_val, data_list\n",
    "    else:\n",
    "        # Print the number of data samples\n",
    "        print(f\"Number of data samples in {data_folder}: {num_samples}\")\n",
    "\n",
    "        # Create a data loader for the data\n",
    "        dataloader = DataLoader(data_list, batch_size=batch_size, shuffle=shuffle)\n",
    "\n",
    "        return dataloader, data_list\n",
    "\n",
    "# Specify the paths to your train and test data folders\n",
    "data_folder_train = '/Users/sambhavjain/Library/Mobile Documents/com~apple~CloudDocs/TU Eindhoven/Q4/Deep Learning/tue-deeplearning/assignments/assignment_2/data/task 1/train'\n",
    "data_folder_test = '/Users/sambhavjain/Library/Mobile Documents/com~apple~CloudDocs/TU Eindhoven/Q4/Deep Learning/tue-deeplearning/assignments/assignment_2/data/task 1/test'\n",
    "\n",
    "# Define the batch size\n",
    "batch_size = 50\n",
    "\n",
    "# Create data loaders for train and validation sets (only if the folder contains \"train\")\n",
    "dataloader_train, dataloader_val, data_list = create_dataloader_task1(data_folder_train, task='task 1', shuffle=True, batch_size=batch_size)\n",
    "\n",
    "# Create a separate data loader for the test set\n",
    "dataloader_test, data_list_test = create_dataloader_task1(data_folder_test, task='task 1', shuffle=False, batch_size=batch_size)"
   ]
  },
  {
   "attachments": {},
   "cell_type": "markdown",
   "id": "18b2874d",
   "metadata": {},
   "source": [
    "# Model Implementation"
   ]
  },
  {
   "cell_type": "code",
   "execution_count": 767,
   "id": "ef8b18af",
   "metadata": {
    "ExecuteTime": {
     "end_time": "2023-06-22T15:12:09.743308Z",
     "start_time": "2023-06-22T15:12:09.741496Z"
    }
   },
   "outputs": [],
   "source": [
    "from torch_geometric.nn import SAGEConv\n",
    "\n",
    "class GNN(torch.nn.Module):\n",
    "    def __init__(self):\n",
    "        super(GNN, self).__init__()\n",
    "\n",
    "        self.conv1 = SAGEConv(5, 64)\n",
    "        self.conv2 = SAGEConv(64, 128)\n",
    "        self.conv3 = SAGEConv(128, 256)\n",
    "        self.conv4 = SAGEConv(256, 512)\n",
    "        self.conv5 = SAGEConv(512, 256)\n",
    "        self.conv6 = SAGEConv(256, 2)\n",
    "\n",
    "    def forward(self, data):\n",
    "        x, edge_index = data.x, data.edge_index\n",
    "\n",
    "        x = F.relu(self.conv1(x, edge_index))\n",
    "        x = F.relu(self.conv2(x, edge_index))\n",
    "        x = F.relu(self.conv3(x, edge_index))\n",
    "        x = F.relu(self.conv4(x, edge_index))\n",
    "        x = F.relu(self.conv5(x, edge_index))\n",
    "        x = self.conv6(x, edge_index)\n",
    "\n",
    "        return x"
   ]
  },
  {
   "attachments": {},
   "cell_type": "markdown",
   "id": "dea70d73",
   "metadata": {},
   "source": [
    "# Model Training"
   ]
  },
  {
   "cell_type": "code",
   "execution_count": 768,
   "id": "e95af5f9",
   "metadata": {
    "ExecuteTime": {
     "end_time": "2023-06-22T15:12:10.744947Z",
     "start_time": "2023-06-22T15:12:10.741201Z"
    }
   },
   "outputs": [
    {
     "name": "stdout",
     "output_type": "stream",
     "text": [
      "Loaded device: cpu\n"
     ]
    }
   ],
   "source": [
    "device = torch.device('cuda' if torch.cuda.is_available() else 'cpu')\n",
    "device='cpu'\n",
    "print(f'Loaded device: {device}')"
   ]
  },
  {
   "cell_type": "code",
   "execution_count": 769,
   "id": "a5e1d7e8",
   "metadata": {
    "collapsed": false,
    "ExecuteTime": {
     "end_time": "2023-06-22T15:12:11.147559Z",
     "start_time": "2023-06-22T15:12:11.134071Z"
    }
   },
   "outputs": [],
   "source": [
    "model = GNN().to(device)\n",
    "optimizer = torch.optim.Adam(model.parameters(), lr=0.005)\n",
    "loss_func = torch.nn.MSELoss()\n",
    "\n",
    "def train(loader):\n",
    "    model.train()\n",
    "    total_loss = 0\n",
    "    total_r2_score = 0\n",
    "    total_mae = 0\n",
    "    total_samples = 0\n",
    "\n",
    "    for data in loader:\n",
    "        data.to(device)\n",
    "        optimizer.zero_grad()\n",
    "        output = model(data)\n",
    "        loss = loss_func(output, data.y)\n",
    "        loss.backward()\n",
    "        optimizer.step()\n",
    "        total_loss += loss.item()\n",
    "        predictions = output.detach().cpu().numpy()\n",
    "        true_labels = data.y.detach().cpu().numpy()\n",
    "        batch_size = true_labels.shape[0]\n",
    "        total_samples += batch_size\n",
    "\n",
    "         # R2 Score\n",
    "        total_r2_score += r2_score(true_labels, predictions) * batch_size\n",
    "\n",
    "        # MAE\n",
    "        mae = mean_absolute_error(true_labels, predictions)\n",
    "        total_mae += mae * batch_size\n",
    "\n",
    "    avg_loss = total_loss / len(loader)\n",
    "    avg_r2_score = total_r2_score / total_samples\n",
    "    avg_mae = total_mae / total_samples\n",
    "\n",
    "    return avg_loss, avg_r2_score, avg_mae\n",
    "\n",
    "def evaluate(loader):\n",
    "    model.eval()\n",
    "    total_loss = 0\n",
    "    total_r2_score = 0\n",
    "    total_mae = 0\n",
    "    total_samples = 0\n",
    "\n",
    "    with torch.no_grad():\n",
    "        for data in loader:\n",
    "            data.to(device)\n",
    "            output = model(data)\n",
    "            loss = loss_func(output, data.y)\n",
    "            total_loss += loss.item()\n",
    "\n",
    "            predictions = output.detach().cpu().numpy()\n",
    "            true_labels = data.y.detach().cpu().numpy()\n",
    "            batch_size = true_labels.shape[0]\n",
    "            total_samples += batch_size\n",
    "\n",
    "            # R2 Score\n",
    "            total_r2_score += r2_score(true_labels, predictions) * batch_size\n",
    "\n",
    "            # MAE\n",
    "            mae = mean_absolute_error(true_labels, predictions)\n",
    "            total_mae += mae * batch_size\n",
    "\n",
    "    avg_loss = total_loss / len(loader)\n",
    "    avg_r2_score = total_r2_score / total_samples\n",
    "    avg_mae = total_mae / total_samples\n",
    "\n",
    "    return avg_loss, avg_r2_score, avg_mae"
   ]
  },
  {
   "cell_type": "code",
   "execution_count": 770,
   "id": "cb2577ba",
   "metadata": {
    "collapsed": false,
    "ExecuteTime": {
     "end_time": "2023-06-22T15:12:20.258823Z",
     "start_time": "2023-06-22T15:12:11.624353Z"
    }
   },
   "outputs": [
    {
     "name": "stderr",
     "output_type": "stream",
     "text": [
      "  4%|▍         | 2/50 [00:00<00:09,  5.25it/s]"
     ]
    },
    {
     "name": "stdout",
     "output_type": "stream",
     "text": [
      "EPOCH: 001, TRAIN LOSS: 13.2697, VAL LOSS: 10.4117, TEST LOSS: 7.9221. TRAINING TIME SO FAR: 0.2 s\n",
      "TRAIN R2: 0.3213, VAL R2: 0.4657, TEST R2: 0.5607\n",
      "TRAIN MAE: 2.7977, VAL MAE: 2.4355, TEST MAE: 2.2116\n",
      "\n",
      "EPOCH: 002, TRAIN LOSS: 8.1517, VAL LOSS: 7.8079, TEST LOSS: 5.6332. TRAINING TIME SO FAR: 0.4 s\n",
      "TRAIN R2: 0.5870, VAL R2: 0.5917, TEST R2: 0.6849\n",
      "TRAIN MAE: 2.1022, VAL MAE: 2.0899, TEST MAE: 1.8431\n",
      "\n"
     ]
    },
    {
     "name": "stderr",
     "output_type": "stream",
     "text": [
      "  8%|▊         | 4/50 [00:00<00:08,  5.61it/s]"
     ]
    },
    {
     "name": "stdout",
     "output_type": "stream",
     "text": [
      "EPOCH: 003, TRAIN LOSS: 7.4899, VAL LOSS: 7.8891, TEST LOSS: 5.9452. TRAINING TIME SO FAR: 0.6 s\n",
      "TRAIN R2: 0.6208, VAL R2: 0.5882, TEST R2: 0.6687\n",
      "TRAIN MAE: 1.9927, VAL MAE: 2.1136, TEST MAE: 1.8915\n",
      "\n",
      "EPOCH: 004, TRAIN LOSS: 7.4100, VAL LOSS: 8.0080, TEST LOSS: 5.5926. TRAINING TIME SO FAR: 0.7 s\n",
      "TRAIN R2: 0.6209, VAL R2: 0.5834, TEST R2: 0.6873\n",
      "TRAIN MAE: 2.0032, VAL MAE: 2.1025, TEST MAE: 1.8253\n",
      "\n"
     ]
    },
    {
     "name": "stderr",
     "output_type": "stream",
     "text": [
      " 12%|█▏        | 6/50 [00:01<00:07,  5.75it/s]"
     ]
    },
    {
     "name": "stdout",
     "output_type": "stream",
     "text": [
      "EPOCH: 005, TRAIN LOSS: 6.9959, VAL LOSS: 7.7660, TEST LOSS: 5.4006. TRAINING TIME SO FAR: 0.9 s\n",
      "TRAIN R2: 0.6425, VAL R2: 0.5937, TEST R2: 0.6975\n",
      "TRAIN MAE: 1.9502, VAL MAE: 2.0373, TEST MAE: 1.7672\n",
      "\n",
      "EPOCH: 006, TRAIN LOSS: 6.7667, VAL LOSS: 7.5387, TEST LOSS: 5.1994. TRAINING TIME SO FAR: 1.1 s\n",
      "TRAIN R2: 0.6486, VAL R2: 0.6044, TEST R2: 0.7104\n",
      "TRAIN MAE: 1.9308, VAL MAE: 2.0232, TEST MAE: 1.7547\n",
      "\n"
     ]
    },
    {
     "name": "stderr",
     "output_type": "stream",
     "text": [
      " 16%|█▌        | 8/50 [00:01<00:07,  5.84it/s]"
     ]
    },
    {
     "name": "stdout",
     "output_type": "stream",
     "text": [
      "EPOCH: 007, TRAIN LOSS: 6.5471, VAL LOSS: 7.5849, TEST LOSS: 5.1815. TRAINING TIME SO FAR: 1.2 s\n",
      "TRAIN R2: 0.6574, VAL R2: 0.6069, TEST R2: 0.7107\n",
      "TRAIN MAE: 1.9080, VAL MAE: 2.0319, TEST MAE: 1.7577\n",
      "\n",
      "EPOCH: 008, TRAIN LOSS: 6.8545, VAL LOSS: 7.5366, TEST LOSS: 5.3043. TRAINING TIME SO FAR: 1.4 s\n",
      "TRAIN R2: 0.6564, VAL R2: 0.6076, TEST R2: 0.7042\n",
      "TRAIN MAE: 1.8811, VAL MAE: 2.0470, TEST MAE: 1.7790\n",
      "\n"
     ]
    },
    {
     "name": "stderr",
     "output_type": "stream",
     "text": [
      " 20%|██        | 10/50 [00:01<00:06,  5.89it/s]"
     ]
    },
    {
     "name": "stdout",
     "output_type": "stream",
     "text": [
      "EPOCH: 009, TRAIN LOSS: 6.5583, VAL LOSS: 7.6018, TEST LOSS: 5.2020. TRAINING TIME SO FAR: 1.6 s\n",
      "TRAIN R2: 0.6645, VAL R2: 0.6042, TEST R2: 0.7098\n",
      "TRAIN MAE: 1.8699, VAL MAE: 2.0407, TEST MAE: 1.7535\n",
      "\n",
      "EPOCH: 010, TRAIN LOSS: 6.4560, VAL LOSS: 7.5641, TEST LOSS: 5.2265. TRAINING TIME SO FAR: 1.7 s\n",
      "TRAIN R2: 0.6693, VAL R2: 0.6047, TEST R2: 0.7086\n",
      "TRAIN MAE: 1.8758, VAL MAE: 2.0402, TEST MAE: 1.7612\n",
      "\n"
     ]
    },
    {
     "name": "stderr",
     "output_type": "stream",
     "text": [
      " 24%|██▍       | 12/50 [00:02<00:06,  5.67it/s]"
     ]
    },
    {
     "name": "stdout",
     "output_type": "stream",
     "text": [
      "EPOCH: 011, TRAIN LOSS: 6.1186, VAL LOSS: 7.3816, TEST LOSS: 5.0379. TRAINING TIME SO FAR: 1.9 s\n",
      "TRAIN R2: 0.6820, VAL R2: 0.6149, TEST R2: 0.7192\n",
      "TRAIN MAE: 1.8379, VAL MAE: 2.0040, TEST MAE: 1.7143\n",
      "\n",
      "EPOCH: 012, TRAIN LOSS: 5.9667, VAL LOSS: 7.5480, TEST LOSS: 5.1608. TRAINING TIME SO FAR: 2.1 s\n",
      "TRAIN R2: 0.6865, VAL R2: 0.6067, TEST R2: 0.7133\n",
      "TRAIN MAE: 1.8272, VAL MAE: 2.0294, TEST MAE: 1.7436\n",
      "\n"
     ]
    },
    {
     "name": "stderr",
     "output_type": "stream",
     "text": [
      " 28%|██▊       | 14/50 [00:02<00:06,  5.76it/s]"
     ]
    },
    {
     "name": "stdout",
     "output_type": "stream",
     "text": [
      "EPOCH: 013, TRAIN LOSS: 6.2404, VAL LOSS: 7.6438, TEST LOSS: 5.4651. TRAINING TIME SO FAR: 2.3 s\n",
      "TRAIN R2: 0.6868, VAL R2: 0.5996, TEST R2: 0.6941\n",
      "TRAIN MAE: 1.7991, VAL MAE: 2.0564, TEST MAE: 1.8036\n",
      "\n",
      "EPOCH: 014, TRAIN LOSS: 5.8482, VAL LOSS: 7.4414, TEST LOSS: 5.0795. TRAINING TIME SO FAR: 2.5 s\n",
      "TRAIN R2: 0.6962, VAL R2: 0.6099, TEST R2: 0.7172\n",
      "TRAIN MAE: 1.7961, VAL MAE: 2.0187, TEST MAE: 1.7338\n",
      "\n"
     ]
    },
    {
     "name": "stderr",
     "output_type": "stream",
     "text": [
      " 32%|███▏      | 16/50 [00:02<00:05,  5.83it/s]"
     ]
    },
    {
     "name": "stdout",
     "output_type": "stream",
     "text": [
      "EPOCH: 015, TRAIN LOSS: 5.7189, VAL LOSS: 7.4925, TEST LOSS: 5.0609. TRAINING TIME SO FAR: 2.6 s\n",
      "TRAIN R2: 0.7029, VAL R2: 0.6101, TEST R2: 0.7183\n",
      "TRAIN MAE: 1.7706, VAL MAE: 2.0243, TEST MAE: 1.7256\n",
      "\n",
      "EPOCH: 016, TRAIN LOSS: 5.8630, VAL LOSS: 7.9305, TEST LOSS: 5.4566. TRAINING TIME SO FAR: 2.8 s\n",
      "TRAIN R2: 0.7024, VAL R2: 0.5853, TEST R2: 0.6945\n",
      "TRAIN MAE: 1.7755, VAL MAE: 2.0901, TEST MAE: 1.7879\n",
      "\n"
     ]
    },
    {
     "name": "stderr",
     "output_type": "stream",
     "text": [
      " 36%|███▌      | 18/50 [00:03<00:05,  5.85it/s]"
     ]
    },
    {
     "name": "stdout",
     "output_type": "stream",
     "text": [
      "EPOCH: 017, TRAIN LOSS: 5.6074, VAL LOSS: 7.8608, TEST LOSS: 5.3177. TRAINING TIME SO FAR: 3.0 s\n",
      "TRAIN R2: 0.7086, VAL R2: 0.5895, TEST R2: 0.7024\n",
      "TRAIN MAE: 1.7696, VAL MAE: 2.0867, TEST MAE: 1.7699\n",
      "\n",
      "EPOCH: 018, TRAIN LOSS: 5.3909, VAL LOSS: 7.5918, TEST LOSS: 5.2994. TRAINING TIME SO FAR: 3.1 s\n",
      "TRAIN R2: 0.7185, VAL R2: 0.6041, TEST R2: 0.7050\n",
      "TRAIN MAE: 1.7354, VAL MAE: 2.0411, TEST MAE: 1.7611\n",
      "\n"
     ]
    },
    {
     "name": "stderr",
     "output_type": "stream",
     "text": [
      " 40%|████      | 20/50 [00:03<00:05,  5.88it/s]"
     ]
    },
    {
     "name": "stdout",
     "output_type": "stream",
     "text": [
      "EPOCH: 019, TRAIN LOSS: 5.3339, VAL LOSS: 8.0911, TEST LOSS: 5.5358. TRAINING TIME SO FAR: 3.3 s\n",
      "TRAIN R2: 0.7270, VAL R2: 0.5814, TEST R2: 0.6921\n",
      "TRAIN MAE: 1.7062, VAL MAE: 2.1114, TEST MAE: 1.8156\n",
      "\n",
      "EPOCH: 020, TRAIN LOSS: 5.1236, VAL LOSS: 7.5020, TEST LOSS: 5.0346. TRAINING TIME SO FAR: 3.5 s\n",
      "TRAIN R2: 0.7315, VAL R2: 0.6100, TEST R2: 0.7200\n",
      "TRAIN MAE: 1.7024, VAL MAE: 2.0315, TEST MAE: 1.7370\n",
      "\n"
     ]
    },
    {
     "name": "stderr",
     "output_type": "stream",
     "text": [
      " 44%|████▍     | 22/50 [00:03<00:04,  5.89it/s]"
     ]
    },
    {
     "name": "stdout",
     "output_type": "stream",
     "text": [
      "EPOCH: 021, TRAIN LOSS: 4.9105, VAL LOSS: 7.8827, TEST LOSS: 5.2662. TRAINING TIME SO FAR: 3.6 s\n",
      "TRAIN R2: 0.7424, VAL R2: 0.5907, TEST R2: 0.7074\n",
      "TRAIN MAE: 1.6618, VAL MAE: 2.0859, TEST MAE: 1.7392\n",
      "\n",
      "EPOCH: 022, TRAIN LOSS: 4.7848, VAL LOSS: 7.8232, TEST LOSS: 5.3714. TRAINING TIME SO FAR: 3.8 s\n",
      "TRAIN R2: 0.7518, VAL R2: 0.5909, TEST R2: 0.7029\n",
      "TRAIN MAE: 1.6317, VAL MAE: 2.0957, TEST MAE: 1.7687\n",
      "\n"
     ]
    },
    {
     "name": "stderr",
     "output_type": "stream",
     "text": [
      " 48%|████▊     | 24/50 [00:04<00:04,  5.77it/s]"
     ]
    },
    {
     "name": "stdout",
     "output_type": "stream",
     "text": [
      "EPOCH: 023, TRAIN LOSS: 4.8255, VAL LOSS: 7.9665, TEST LOSS: 5.3650. TRAINING TIME SO FAR: 4.0 s\n",
      "TRAIN R2: 0.7515, VAL R2: 0.5861, TEST R2: 0.7006\n",
      "TRAIN MAE: 1.6371, VAL MAE: 2.0922, TEST MAE: 1.7692\n",
      "\n",
      "EPOCH: 024, TRAIN LOSS: 4.5839, VAL LOSS: 7.8371, TEST LOSS: 5.6131. TRAINING TIME SO FAR: 4.2 s\n",
      "TRAIN R2: 0.7619, VAL R2: 0.5922, TEST R2: 0.6879\n",
      "TRAIN MAE: 1.6082, VAL MAE: 2.0905, TEST MAE: 1.8132\n",
      "\n"
     ]
    },
    {
     "name": "stderr",
     "output_type": "stream",
     "text": [
      " 52%|█████▏    | 26/50 [00:04<00:04,  5.57it/s]"
     ]
    },
    {
     "name": "stdout",
     "output_type": "stream",
     "text": [
      "EPOCH: 025, TRAIN LOSS: 4.5117, VAL LOSS: 8.1916, TEST LOSS: 5.9628. TRAINING TIME SO FAR: 4.4 s\n",
      "TRAIN R2: 0.7690, VAL R2: 0.5728, TEST R2: 0.6661\n",
      "TRAIN MAE: 1.5634, VAL MAE: 2.1415, TEST MAE: 1.8693\n",
      "\n",
      "EPOCH: 026, TRAIN LOSS: 4.7346, VAL LOSS: 8.2796, TEST LOSS: 5.8308. TRAINING TIME SO FAR: 4.5 s\n",
      "TRAIN R2: 0.7564, VAL R2: 0.5664, TEST R2: 0.6746\n",
      "TRAIN MAE: 1.6167, VAL MAE: 2.1506, TEST MAE: 1.8539\n",
      "\n"
     ]
    },
    {
     "name": "stderr",
     "output_type": "stream",
     "text": [
      " 56%|█████▌    | 28/50 [00:04<00:03,  5.73it/s]"
     ]
    },
    {
     "name": "stdout",
     "output_type": "stream",
     "text": [
      "EPOCH: 027, TRAIN LOSS: 6.2781, VAL LOSS: 8.6215, TEST LOSS: 6.0306. TRAINING TIME SO FAR: 4.7 s\n",
      "TRAIN R2: 0.7441, VAL R2: 0.5522, TEST R2: 0.6611\n",
      "TRAIN MAE: 1.6300, VAL MAE: 2.1995, TEST MAE: 1.8892\n",
      "\n",
      "EPOCH: 028, TRAIN LOSS: 5.1292, VAL LOSS: 7.9949, TEST LOSS: 5.7197. TRAINING TIME SO FAR: 4.9 s\n",
      "TRAIN R2: 0.7357, VAL R2: 0.5826, TEST R2: 0.6822\n",
      "TRAIN MAE: 1.6921, VAL MAE: 2.1247, TEST MAE: 1.8406\n",
      "\n"
     ]
    },
    {
     "name": "stderr",
     "output_type": "stream",
     "text": [
      " 60%|██████    | 30/50 [00:05<00:03,  5.83it/s]"
     ]
    },
    {
     "name": "stdout",
     "output_type": "stream",
     "text": [
      "EPOCH: 029, TRAIN LOSS: 4.3891, VAL LOSS: 8.4020, TEST LOSS: 5.5669. TRAINING TIME SO FAR: 5.1 s\n",
      "TRAIN R2: 0.7707, VAL R2: 0.5641, TEST R2: 0.6894\n",
      "TRAIN MAE: 1.5751, VAL MAE: 2.1607, TEST MAE: 1.8063\n",
      "\n",
      "EPOCH: 030, TRAIN LOSS: 3.9443, VAL LOSS: 8.3411, TEST LOSS: 5.9080. TRAINING TIME SO FAR: 5.2 s\n",
      "TRAIN R2: 0.7931, VAL R2: 0.5657, TEST R2: 0.6702\n",
      "TRAIN MAE: 1.4897, VAL MAE: 2.1734, TEST MAE: 1.8524\n",
      "\n"
     ]
    },
    {
     "name": "stderr",
     "output_type": "stream",
     "text": [
      " 64%|██████▍   | 32/50 [00:05<00:03,  5.86it/s]"
     ]
    },
    {
     "name": "stdout",
     "output_type": "stream",
     "text": [
      "EPOCH: 031, TRAIN LOSS: 3.9938, VAL LOSS: 8.4500, TEST LOSS: 5.7165. TRAINING TIME SO FAR: 5.4 s\n",
      "TRAIN R2: 0.7937, VAL R2: 0.5624, TEST R2: 0.6809\n",
      "TRAIN MAE: 1.4853, VAL MAE: 2.1628, TEST MAE: 1.8228\n",
      "\n",
      "EPOCH: 032, TRAIN LOSS: 3.7855, VAL LOSS: 8.1474, TEST LOSS: 5.6833. TRAINING TIME SO FAR: 5.6 s\n",
      "TRAIN R2: 0.8037, VAL R2: 0.5764, TEST R2: 0.6823\n",
      "TRAIN MAE: 1.4484, VAL MAE: 2.1474, TEST MAE: 1.8220\n",
      "\n"
     ]
    },
    {
     "name": "stderr",
     "output_type": "stream",
     "text": [
      " 68%|██████▊   | 34/50 [00:05<00:02,  5.92it/s]"
     ]
    },
    {
     "name": "stdout",
     "output_type": "stream",
     "text": [
      "EPOCH: 033, TRAIN LOSS: 3.4944, VAL LOSS: 8.2926, TEST LOSS: 5.7947. TRAINING TIME SO FAR: 5.7 s\n",
      "TRAIN R2: 0.8170, VAL R2: 0.5695, TEST R2: 0.6764\n",
      "TRAIN MAE: 1.4009, VAL MAE: 2.1548, TEST MAE: 1.8438\n",
      "\n",
      "EPOCH: 034, TRAIN LOSS: 3.3746, VAL LOSS: 8.9708, TEST LOSS: 6.1076. TRAINING TIME SO FAR: 5.9 s\n",
      "TRAIN R2: 0.8289, VAL R2: 0.5338, TEST R2: 0.6576\n",
      "TRAIN MAE: 1.3570, VAL MAE: 2.2566, TEST MAE: 1.9020\n",
      "\n"
     ]
    },
    {
     "name": "stderr",
     "output_type": "stream",
     "text": [
      " 72%|███████▏  | 36/50 [00:06<00:02,  5.84it/s]"
     ]
    },
    {
     "name": "stdout",
     "output_type": "stream",
     "text": [
      "EPOCH: 035, TRAIN LOSS: 3.2619, VAL LOSS: 8.5577, TEST LOSS: 6.1149. TRAINING TIME SO FAR: 6.1 s\n",
      "TRAIN R2: 0.8331, VAL R2: 0.5549, TEST R2: 0.6560\n",
      "TRAIN MAE: 1.3325, VAL MAE: 2.1917, TEST MAE: 1.8925\n",
      "\n",
      "EPOCH: 036, TRAIN LOSS: 2.8790, VAL LOSS: 8.6475, TEST LOSS: 5.9934. TRAINING TIME SO FAR: 6.2 s\n",
      "TRAIN R2: 0.8499, VAL R2: 0.5529, TEST R2: 0.6630\n",
      "TRAIN MAE: 1.2737, VAL MAE: 2.2039, TEST MAE: 1.8697\n",
      "\n"
     ]
    },
    {
     "name": "stderr",
     "output_type": "stream",
     "text": [
      " 76%|███████▌  | 38/50 [00:06<00:02,  5.69it/s]"
     ]
    },
    {
     "name": "stdout",
     "output_type": "stream",
     "text": [
      "EPOCH: 037, TRAIN LOSS: 2.9663, VAL LOSS: 9.1214, TEST LOSS: 6.3332. TRAINING TIME SO FAR: 6.4 s\n",
      "TRAIN R2: 0.8469, VAL R2: 0.5269, TEST R2: 0.6436\n",
      "TRAIN MAE: 1.3015, VAL MAE: 2.2788, TEST MAE: 1.9395\n",
      "\n",
      "EPOCH: 038, TRAIN LOSS: 2.8995, VAL LOSS: 8.8875, TEST LOSS: 6.0027. TRAINING TIME SO FAR: 6.6 s\n",
      "TRAIN R2: 0.8496, VAL R2: 0.5368, TEST R2: 0.6631\n",
      "TRAIN MAE: 1.2824, VAL MAE: 2.2432, TEST MAE: 1.8713\n",
      "\n"
     ]
    },
    {
     "name": "stderr",
     "output_type": "stream",
     "text": [
      " 80%|████████  | 40/50 [00:06<00:01,  5.80it/s]"
     ]
    },
    {
     "name": "stdout",
     "output_type": "stream",
     "text": [
      "EPOCH: 039, TRAIN LOSS: 2.6821, VAL LOSS: 9.0849, TEST LOSS: 6.3651. TRAINING TIME SO FAR: 6.8 s\n",
      "TRAIN R2: 0.8609, VAL R2: 0.5297, TEST R2: 0.6419\n",
      "TRAIN MAE: 1.2227, VAL MAE: 2.2606, TEST MAE: 1.9312\n",
      "\n",
      "EPOCH: 040, TRAIN LOSS: 2.5381, VAL LOSS: 8.8108, TEST LOSS: 6.2600. TRAINING TIME SO FAR: 6.9 s\n",
      "TRAIN R2: 0.8674, VAL R2: 0.5426, TEST R2: 0.6484\n",
      "TRAIN MAE: 1.1937, VAL MAE: 2.2502, TEST MAE: 1.9035\n",
      "\n"
     ]
    },
    {
     "name": "stderr",
     "output_type": "stream",
     "text": [
      " 84%|████████▍ | 42/50 [00:07<00:01,  5.88it/s]"
     ]
    },
    {
     "name": "stdout",
     "output_type": "stream",
     "text": [
      "EPOCH: 041, TRAIN LOSS: 2.7080, VAL LOSS: 10.1500, TEST LOSS: 7.2110. TRAINING TIME SO FAR: 7.1 s\n",
      "TRAIN R2: 0.8736, VAL R2: 0.4728, TEST R2: 0.5914\n",
      "TRAIN MAE: 1.1585, VAL MAE: 2.3939, TEST MAE: 2.0565\n",
      "\n",
      "EPOCH: 042, TRAIN LOSS: 4.5461, VAL LOSS: 9.7119, TEST LOSS: 7.1180. TRAINING TIME SO FAR: 7.3 s\n",
      "TRAIN R2: 0.7823, VAL R2: 0.4928, TEST R2: 0.5973\n",
      "TRAIN MAE: 1.4597, VAL MAE: 2.3707, TEST MAE: 2.0670\n",
      "\n"
     ]
    },
    {
     "name": "stderr",
     "output_type": "stream",
     "text": [
      " 88%|████████▊ | 44/50 [00:07<00:01,  5.91it/s]"
     ]
    },
    {
     "name": "stdout",
     "output_type": "stream",
     "text": [
      "EPOCH: 043, TRAIN LOSS: 5.6646, VAL LOSS: 8.6528, TEST LOSS: 6.1563. TRAINING TIME SO FAR: 7.4 s\n",
      "TRAIN R2: 0.7218, VAL R2: 0.5477, TEST R2: 0.6545\n",
      "TRAIN MAE: 1.6832, VAL MAE: 2.2126, TEST MAE: 1.8933\n",
      "\n",
      "EPOCH: 044, TRAIN LOSS: 4.2369, VAL LOSS: 8.8504, TEST LOSS: 6.4010. TRAINING TIME SO FAR: 7.6 s\n",
      "TRAIN R2: 0.7936, VAL R2: 0.5386, TEST R2: 0.6423\n",
      "TRAIN MAE: 1.4498, VAL MAE: 2.2450, TEST MAE: 1.9546\n",
      "\n"
     ]
    },
    {
     "name": "stderr",
     "output_type": "stream",
     "text": [
      " 92%|█████████▏| 46/50 [00:07<00:00,  5.95it/s]"
     ]
    },
    {
     "name": "stdout",
     "output_type": "stream",
     "text": [
      "EPOCH: 045, TRAIN LOSS: 3.4661, VAL LOSS: 8.6191, TEST LOSS: 6.0179. TRAINING TIME SO FAR: 7.8 s\n",
      "TRAIN R2: 0.8261, VAL R2: 0.5509, TEST R2: 0.6604\n",
      "TRAIN MAE: 1.3418, VAL MAE: 2.2050, TEST MAE: 1.8819\n",
      "\n",
      "EPOCH: 046, TRAIN LOSS: 2.8650, VAL LOSS: 9.0316, TEST LOSS: 6.3535. TRAINING TIME SO FAR: 7.9 s\n",
      "TRAIN R2: 0.8541, VAL R2: 0.5274, TEST R2: 0.6428\n",
      "TRAIN MAE: 1.2480, VAL MAE: 2.2756, TEST MAE: 1.9260\n",
      "\n"
     ]
    },
    {
     "name": "stderr",
     "output_type": "stream",
     "text": [
      " 96%|█████████▌| 48/50 [00:08<00:00,  5.92it/s]"
     ]
    },
    {
     "name": "stdout",
     "output_type": "stream",
     "text": [
      "EPOCH: 047, TRAIN LOSS: 3.0398, VAL LOSS: 8.7653, TEST LOSS: 5.9624. TRAINING TIME SO FAR: 8.1 s\n",
      "TRAIN R2: 0.8492, VAL R2: 0.5432, TEST R2: 0.6644\n",
      "TRAIN MAE: 1.2611, VAL MAE: 2.2126, TEST MAE: 1.8565\n",
      "\n",
      "EPOCH: 048, TRAIN LOSS: 3.2781, VAL LOSS: 8.8409, TEST LOSS: 6.4728. TRAINING TIME SO FAR: 8.3 s\n",
      "TRAIN R2: 0.8426, VAL R2: 0.5382, TEST R2: 0.6356\n",
      "TRAIN MAE: 1.2538, VAL MAE: 2.2390, TEST MAE: 1.9264\n",
      "\n"
     ]
    },
    {
     "name": "stderr",
     "output_type": "stream",
     "text": [
      "100%|██████████| 50/50 [00:08<00:00,  5.79it/s]"
     ]
    },
    {
     "name": "stdout",
     "output_type": "stream",
     "text": [
      "EPOCH: 049, TRAIN LOSS: 2.6854, VAL LOSS: 9.1716, TEST LOSS: 6.5105. TRAINING TIME SO FAR: 8.5 s\n",
      "TRAIN R2: 0.8727, VAL R2: 0.5212, TEST R2: 0.6334\n",
      "TRAIN MAE: 1.1416, VAL MAE: 2.2652, TEST MAE: 1.9311\n",
      "\n",
      "EPOCH: 050, TRAIN LOSS: 2.1559, VAL LOSS: 8.9680, TEST LOSS: 6.5251. TRAINING TIME SO FAR: 8.6 s\n",
      "TRAIN R2: 0.8911, VAL R2: 0.5315, TEST R2: 0.6324\n",
      "TRAIN MAE: 1.0735, VAL MAE: 2.2643, TEST MAE: 1.9414\n",
      "\n"
     ]
    },
    {
     "name": "stderr",
     "output_type": "stream",
     "text": [
      "\n"
     ]
    }
   ],
   "source": [
    "epochs = 50\n",
    "start = time.time()\n",
    "\n",
    "train_losses, train_r2_scores, train_maes = [], [], []\n",
    "val_losses, val_r2_scores, val_maes = [], [], []\n",
    "test_losses, test_r2_scores, test_maes = [], [], []\n",
    "\n",
    "for epoch in tqdm(range(1, epochs + 1)):\n",
    "\n",
    "    train_loss, train_r2_score, train_mae = train(dataloader_train)\n",
    "    val_loss, val_r2_score, val_mae = evaluate(dataloader_val)\n",
    "    test_loss, test_r2_score, test_mae = evaluate(dataloader_test)\n",
    "\n",
    "    toc = time.time()\n",
    "    print(f'EPOCH: {epoch:03d}, TRAIN LOSS: {train_loss:.4f}, VAL LOSS: {val_loss:.4f}, TEST LOSS: {test_loss:.4f}. TRAINING TIME SO FAR: {toc - start:.1f} s\\n'\n",
    "          f'TRAIN R2: {train_r2_score:.4f}, VAL R2: {val_r2_score:.4f}, TEST R2: {test_r2_score:.4f}\\n'\n",
    "          f'TRAIN MAE: {train_mae:.4f}, VAL MAE: {val_mae:.4f}, TEST MAE: {test_mae:.4f}\\n')\n",
    "\n",
    "    # Store metrics\n",
    "    train_losses.append(train_loss)\n",
    "    train_r2_scores.append(train_r2_score)\n",
    "    train_maes.append(train_mae)\n",
    "\n",
    "    val_losses.append(val_loss)\n",
    "    val_r2_scores.append(val_r2_score)\n",
    "    val_maes.append(val_mae)\n",
    "\n",
    "    test_losses.append(test_loss)\n",
    "    test_r2_scores.append(test_r2_score)\n",
    "    test_maes.append(test_mae)"
   ]
  },
  {
   "attachments": {},
   "cell_type": "markdown",
   "id": "d5fb3b29",
   "metadata": {},
   "source": [
    "# Evaluation"
   ]
  },
  {
   "cell_type": "code",
   "execution_count": 771,
   "id": "80fe6e67",
   "metadata": {
    "collapsed": false,
    "ExecuteTime": {
     "end_time": "2023-06-22T15:12:31.184269Z",
     "start_time": "2023-06-22T15:12:30.938354Z"
    }
   },
   "outputs": [
    {
     "data": {
      "text/plain": "<Figure size 1200x400 with 1 Axes>",
      "image/png": "[encoded data removed]"
     },
     "metadata": {},
     "output_type": "display_data"
    },
    {
     "data": {
      "text/plain": "<Figure size 1200x400 with 1 Axes>",
      "image/png": "[encoded data removed]"
     },
     "metadata": {},
     "output_type": "display_data"
    },
    {
     "data": {
      "text/plain": "<Figure size 1200x400 with 1 Axes>",
      "image/png": "[encoded data removed]"
     },
     "metadata": {},
     "output_type": "display_data"
    }
   ],
   "source": [
    "# Plot losses\n",
    "plt.figure(figsize=(12, 4))\n",
    "plt.plot(train_losses, label='Train')\n",
    "plt.plot(val_losses, label='Validation')\n",
    "plt.plot(test_losses, label='Test')\n",
    "plt.title('Loss over epochs')\n",
    "plt.xlabel('Epochs')\n",
    "plt.ylabel('Loss')\n",
    "plt.legend()\n",
    "plt.show()\n",
    "\n",
    "# Plot R2 scores\n",
    "plt.figure(figsize=(12, 4))\n",
    "plt.plot(train_r2_scores, label='Train')\n",
    "plt.plot(val_r2_scores, label='Validation')\n",
    "plt.plot(test_r2_scores, label='Test')\n",
    "plt.title('R2 Score over epochs')\n",
    "plt.xlabel('Epochs')\n",
    "plt.ylabel('R2 Score')\n",
    "plt.legend()\n",
    "plt.show()\n",
    "\n",
    "# Plot MAEs\n",
    "plt.figure(figsize=(12, 4))\n",
    "plt.plot(train_maes, label='Train')\n",
    "plt.plot(val_maes, label='Validation')\n",
    "plt.plot(test_maes, label='Test')\n",
    "plt.title('Mean Absolute Error over epochs')\n",
    "plt.xlabel('Epochs')\n",
    "plt.ylabel('Mean Absolute Error')\n",
    "plt.legend()\n",
    "plt.show()"
   ]
  },
  {
   "cell_type": "code",
   "execution_count": 774,
   "id": "2ede941b",
   "metadata": {
    "collapsed": false,
    "ExecuteTime": {
     "end_time": "2023-06-22T15:19:06.791083Z",
     "start_time": "2023-06-22T15:19:06.781245Z"
    }
   },
   "outputs": [
    {
     "name": "stdout",
     "output_type": "stream",
     "text": [
      "Number of objects = 4\n",
      "Predicted = \n",
      " tensor([[-3.8415, -2.8606],\n",
      "        [-0.1509,  3.6389],\n",
      "        [ 3.8629,  0.5163],\n",
      "        [-2.4974,  0.9261]], grad_fn=<AddBackward0>),\n",
      " Ground-truth = \n",
      " tensor([[-6.2194, -1.7776],\n",
      "        [-0.7291,  1.7628],\n",
      "        [ 5.8773, -0.7688],\n",
      "        [-0.7455,  1.1968]])\n"
     ]
    }
   ],
   "source": [
    "def test_example(idx):\n",
    "    example = data_list_test[idx]\n",
    "    print(f'Number of objects = {example.x.shape[0]}')\n",
    "    pred = model(example)\n",
    "    true = example.y\n",
    "    print(f'Predicted = \\n {pred},\\n Ground-truth = \\n {true}')\n",
    "\n",
    "test_example(69)"
   ]
  },
  {
   "cell_type": "code",
   "execution_count": 773,
   "outputs": [
    {
     "name": "stdout",
     "output_type": "stream",
     "text": [
      "49\n",
      "15\n",
      "Best Prediction:\n",
      "Predicted: tensor([[-4.2029,  1.5404],\n",
      "        [-0.7845, -1.7979],\n",
      "        [-3.8487,  3.1269],\n",
      "        [ 7.7387, -1.0013],\n",
      "        [ 5.1025, -3.4620]], grad_fn=<AddBackward0>)\n",
      "Ground Truth: tensor([[-3.6062,  2.0311],\n",
      "        [-2.1979, -0.7593],\n",
      "        [-3.8360,  2.8207],\n",
      "        [ 8.2181, -1.4074],\n",
      "        [ 3.3610, -2.8819]])\n",
      "\n",
      "Worst Prediction:\n",
      "Predicted: tensor([[ 0.1923,  4.4787],\n",
      "        [-3.5519,  5.1616],\n",
      "        [-4.0275,  1.5179],\n",
      "        [ 2.7162, -3.1433],\n",
      "        [ 3.7148, -4.8719],\n",
      "        [ 3.3522, -5.2112],\n",
      "        [-2.3400,  2.1881]], grad_fn=<AddBackward0>)\n",
      "Ground Truth: tensor([[-11.4410,  -3.9949],\n",
      "        [ -2.0440,   2.3187],\n",
      "        [ -1.0526,   1.2658],\n",
      "        [  3.2806,  -0.1443],\n",
      "        [  2.3582,  -2.4777],\n",
      "        [  3.8380,  -1.1217],\n",
      "        [ -2.1108,   2.5135]])\n",
      "\n"
     ]
    },
    {
     "data": {
      "text/plain": "<Figure size 640x480 with 1 Axes>",
      "image/png": "[encoded data removed]"
     },
     "metadata": {},
     "output_type": "display_data"
    },
    {
     "data": {
      "text/plain": "<Figure size 640x480 with 1 Axes>",
      "image/png": "[encoded data removed]"
     },
     "metadata": {},
     "output_type": "display_data"
    }
   ],
   "source": [
    "import torch\n",
    "import matplotlib.pyplot as plt\n",
    "\n",
    "def test_example(idx):\n",
    "    example = data_list_test[idx]\n",
    "    print(f'Number of objects = {example.x.shape[0]}')\n",
    "    pred = model(example)\n",
    "    true = example.y\n",
    "    print(f'Predicted = \\n {pred},\\n Ground-truth = \\n {true}')\n",
    "    plot_objects(pred, true)\n",
    "\n",
    "def plot_objects(pred, true):\n",
    "    plt.scatter(pred[:, 0].detach().numpy(), pred[:, 1].detach().numpy(), c='blue', label='Predicted')\n",
    "    plt.scatter(true[:, 0].detach().numpy(), true[:, 1].detach().numpy(), c='red', label='Ground Truth')\n",
    "    plt.xlabel('X')\n",
    "    plt.ylabel('Y')\n",
    "    plt.title('Object Plot')\n",
    "    plt.legend()\n",
    "    plt.show()\n",
    "\n",
    "def find_best_worst_predictions(predictions, ground_truth):\n",
    "    distances = torch.norm(predictions - ground_truth, dim=1)\n",
    "    best_idx = torch.argmin(distances)\n",
    "    worst_idx = torch.argmax(distances)\n",
    "    return best_idx.item(), worst_idx.item()\n",
    "\n",
    "# Assuming 'model' is the trained model\n",
    "# Assuming 'data_list_test' is the test dataset\n",
    "\n",
    "best_idx = None\n",
    "worst_idx = None\n",
    "best_distance = float('inf')\n",
    "worst_distance = float('-inf')\n",
    "\n",
    "# Iterate through the test set to find the best and worst predictions\n",
    "for idx, example in enumerate(data_list_test):\n",
    "    pred = model(example)\n",
    "    true = example.y\n",
    "    distance = torch.norm(pred - true)\n",
    "    if distance < best_distance:\n",
    "        best_distance = distance\n",
    "        best_idx = idx\n",
    "    if distance > worst_distance:\n",
    "        worst_distance = distance\n",
    "        worst_idx = idx\n",
    "\n",
    "best_prediction = model(data_list_test[best_idx])\n",
    "best_ground_truth = data_list_test[best_idx].y\n",
    "\n",
    "print(best_idx)\n",
    "print(worst_idx)\n",
    "\n",
    "worst_prediction = model(data_list_test[worst_idx])\n",
    "worst_ground_truth = data_list_test[worst_idx].y\n",
    "\n",
    "print(\"Best Prediction:\")\n",
    "print(\"Predicted:\", best_prediction)\n",
    "print(\"Ground Truth:\", best_ground_truth)\n",
    "print()\n",
    "\n",
    "print(\"Worst Prediction:\")\n",
    "print(\"Predicted:\", worst_prediction)\n",
    "print(\"Ground Truth:\", worst_ground_truth)\n",
    "print()\n",
    "\n",
    "plot_objects(best_prediction, best_ground_truth)\n",
    "plot_objects(worst_prediction, worst_ground_truth)"
   ],
   "metadata": {
    "collapsed": false,
    "ExecuteTime": {
     "end_time": "2023-06-22T15:12:33.407544Z",
     "start_time": "2023-06-22T15:12:33.207344Z"
    }
   }
  },
  {
   "cell_type": "code",
   "execution_count": null,
   "outputs": [],
   "source": [
    "import torch\n",
    "import matplotlib.pyplot as plt\n",
    "import pandas as pd\n",
    "\n",
    "def test_example(idx):\n",
    "    example = data_list_test[idx]\n",
    "    print(f'Number of objects = {example.x.shape[0]}')\n",
    "    pred = model(example)\n",
    "    true = example.y\n",
    "    print(f'Predicted = \\n {pred},\\n Ground-truth = \\n {true}')\n",
    "    plot_objects(pred, true)\n",
    "\n",
    "def plot_objects(pred, true):\n",
    "    plt.scatter(pred[:, 0].detach().numpy(), pred[:, 1].detach().numpy(), c='blue', label='Predicted')\n",
    "    plt.scatter(true[:, 0].detach().numpy(), true[:, 1].detach().numpy(), c='red', label='Ground Truth')\n",
    "    plt.xlabel('X')\n",
    "    plt.ylabel('Y')\n",
    "    plt.title('Object Plot')\n",
    "    plt.legend()\n",
    "    plt.show()\n",
    "\n",
    "def find_best_worst_predictions(predictions, ground_truth):\n",
    "    distances = torch.norm(predictions - ground_truth, dim=1)\n",
    "    best_idx = torch.argmin(distances)\n",
    "    worst_idx = torch.argmax(distances)\n",
    "    return best_idx.item(), worst_idx.item()\n",
    "\n",
    "# Assuming 'model' is the trained model\n",
    "# Assuming 'data_list_test' is the test dataset\n",
    "\n",
    "best_idx = None\n",
    "worst_idx = None\n",
    "best_distance = float('inf')\n",
    "worst_distance = float('-inf')\n",
    "\n",
    "# Iterate through the test set to find the best and worst predictions\n",
    "for idx, example in enumerate(data_list_test):\n",
    "    pred = model(example)\n",
    "    true = example.y\n",
    "    distance = torch.norm(pred - true)\n",
    "    if distance < best_distance:\n",
    "        best_distance = distance\n",
    "        best_idx = idx\n",
    "    if distance > worst_distance:\n",
    "        worst_distance = distance\n",
    "        worst_idx = idx\n",
    "\n",
    "\n",
    "print(best_idx)\n",
    "print(worst_idx)\n",
    "\n",
    "best_prediction = model(data_list_test[best_idx])\n",
    "best_ground_truth = data_list_test[best_idx].y\n",
    "\n",
    "worst_prediction = model(data_list_test[worst_idx])\n",
    "worst_ground_truth = data_list_test[worst_idx].y\n",
    "\n",
    "best_table = pd.DataFrame({\n",
    "    'Coordinate X': best_ground_truth[:, 0].tolist(),\n",
    "    'Coordinate Y': best_ground_truth[:, 1].tolist(),\n",
    "    'Distance': [best_distance.item()] * best_ground_truth.shape[0]\n",
    "})\n",
    "\n",
    "worst_table = pd.DataFrame({\n",
    "    'Coordinate X': worst_ground_truth[:, 0].tolist(),\n",
    "    'Coordinate Y': worst_ground_truth[:, 1].tolist(),\n",
    "    'Distance': [worst_distance.item()] * worst_ground_truth.shape[0]\n",
    "})\n",
    "\n",
    "print(\"Best Case:\")\n",
    "print(best_table)\n",
    "print()\n",
    "\n",
    "print(\"Worst Case:\")\n",
    "print(worst_table)\n",
    "print()\n",
    "\n",
    "plot_objects(best_prediction, best_ground_truth)\n",
    "plot_objects(worst_prediction, worst_ground_truth)"
   ],
   "metadata": {
    "collapsed": false
   }
  },
  {
   "attachments": {},
   "cell_type": "markdown",
   "id": "1ffeb2ed",
   "metadata": {
    "collapsed": false
   },
   "source": [
    "# Task 2"
   ]
  },
  {
   "cell_type": "markdown",
   "source": [
    "# Data Handling and Preprocessing\n"
   ],
   "metadata": {
    "collapsed": false
   }
  },
  {
   "cell_type": "code",
   "execution_count": 752,
   "outputs": [
    {
     "name": "stdout",
     "output_type": "stream",
     "text": [
      "tensor([[ 1.0000, -0.2252,  0.0762,  0.2000,  0.1000],\n",
      "        [ 2.0000,  0.1871,  0.0762,  0.3000,  0.2000],\n",
      "        [ 0.5000, -0.2980, -0.4574,  0.9000,  1.0000]]) tensor([[0, 0, 1],\n",
      "        [1, 2, 2]]) tensor([[11.7647],\n",
      "        [ 1.7241],\n",
      "        [ 1.9231]]) tensor([[[-0.0554,  0.2217, -0.1282,  0.1005],\n",
      "         [-0.2010, -0.0208, -0.2737, -0.1421]],\n",
      "\n",
      "        [[-0.0554, -0.1906, -0.1282, -0.3118],\n",
      "         [-0.2010, -0.4331, -0.2737, -0.5544]],\n",
      "\n",
      "        [[-0.3707, -0.5786, -0.4435, -0.6999],\n",
      "         [-0.5163, -0.8212, -0.5890, -0.9424]]])\n"
     ]
    }
   ],
   "source": [
    "def create_graph_data_task2(initial_state, trajectory):\n",
    "    initial_state = np.array(initial_state)\n",
    "    trajectory = np.array(trajectory)\n",
    "\n",
    "    n_bodies = initial_state.shape[0]\n",
    "    num_features = initial_state.shape[1]\n",
    "\n",
    "    # Calculate center of mass\n",
    "    total_mass = np.sum(initial_state[:, 0])\n",
    "    center_of_mass_x = np.sum(initial_state[:, 1] * initial_state[:, 0]) / total_mass\n",
    "    center_of_mass_y = np.sum(initial_state[:, 2] * initial_state[:, 0]) / total_mass\n",
    "\n",
    "    # Adjust positions relative to center of mass for initial and terminal states\n",
    "    initial_state[:, 1] -= center_of_mass_x\n",
    "    initial_state[:, 2] -= center_of_mass_y\n",
    "\n",
    "    trajectory[:, :, 0] -= center_of_mass_x\n",
    "    trajectory[:, :, 1] -= center_of_mass_y\n",
    "\n",
    "    # Find the indices of the two most massive objects\n",
    "    mass_indices = np.argsort(initial_state[:, 0])\n",
    "    indices = mass_indices[-2:]\n",
    "\n",
    "    # Calculate the vector between the two most massive objects\n",
    "    vector = initial_state[indices[1], 1:3] - initial_state[indices[0], 1:3]\n",
    "\n",
    "    # Calculate the angle of rotation based on the vector\n",
    "    angle = math.atan2(vector[1], vector[0])\n",
    "\n",
    "    # Apply rotation to the positions\n",
    "    rot_matrix = np.array([[math.cos(-angle), -math.sin(-angle)], [math.sin(-angle), math.cos(-angle)]])\n",
    "    initial_state[:, 1:3] = np.matmul(rot_matrix, initial_state[:, 1:3].T).T\n",
    "    for i in range(trajectory.shape[1]):\n",
    "        trajectory[:, i, :2] = np.matmul(rot_matrix, trajectory[:, i, :2].T).T\n",
    "\n",
    "    # Create node features tensor\n",
    "    node_features = torch.tensor(initial_state, dtype=torch.float)\n",
    "    node_features = node_features.view(-1, num_features)  # Reshape to (num_nodes, num_features)\n",
    "\n",
    "    # Check the number of nodes\n",
    "    assert n_bodies == initial_state.shape[0], \"Mismatch between n_bodies and actual number of nodes\"\n",
    "\n",
    "    # Create edge index tensor\n",
    "    edge_index = torch.tensor([[i, j] for i in range(n_bodies) for j in range(n_bodies) if (i != j and i<j)], dtype=torch.long)\n",
    "    edge_index = edge_index.t().contiguous()  # Reshape to (2, num_edges)\n",
    "\n",
    "    # Create edge features tensor\n",
    "    num_edges = edge_index.size(1)\n",
    "    edge_features = torch.empty(num_edges, 1, dtype=torch.float)\n",
    "    # Populate edge features with force\n",
    "    for k, (i, j) in enumerate(edge_index.t()):\n",
    "        dx = node_features[i, 1] - node_features[j, 1]\n",
    "        dy = node_features[i, 2] - node_features[j, 2]\n",
    "        distance = torch.sqrt(dx**2 + dy**2)\n",
    "        force = ((node_features[i,0]*node_features[j,0])/(distance**2 + 1e-8))\n",
    "        edge_features[k] = force\n",
    "\n",
    "    # # Create target tensor\n",
    "    # if trajectory.shape[2] == 2:  # If only positions are used\n",
    "    #     target = torch.tensor(trajectory, dtype=torch.float).reshape(n_bodies, -1, 2)\n",
    "    # else:  # If both positions and velocities are used\n",
    "    #     target = torch.tensor(trajectory, dtype=torch.float).reshape(n_bodies, -1, 4)\n",
    "\n",
    "     # Create target tensor\n",
    "    target = torch.tensor(trajectory, dtype=torch.float).reshape(n_bodies, -1, 4)\n",
    "\n",
    "    # Create PyG Data object\n",
    "    data = Data(x=node_features, edge_index=edge_index, edge_attr=edge_features, y=target)\n",
    "\n",
    "    return data\n",
    "\n",
    "# Example usage\n",
    "initial_state = [[1.0, 0.5, 0.3, 0.2, 0.1], [2.0, 0.1, 0.4, 0.3, 0.2], [0.5, 0.7, 0.8, 0.9, 1.0]]\n",
    "trajectory = [\n",
    "    [[0.3, 0.2], [0.4, 0.3], [0.5, 0.4], [0.6, 0.5]],\n",
    "    [[0.4, 0.6], [0.5, 0.7], [0.6, 0.8], [0.7, 0.9]],\n",
    "    [[0.8, 0.9], [0.9, 1.0], [1.0, 1.1], [1.1, 1.2]]\n",
    "]\n",
    "\n",
    "graph_data = create_graph_data_task2(initial_state, trajectory)\n",
    "print(graph_data.x, graph_data.edge_index, graph_data.edge_attr, graph_data.y)"
   ],
   "metadata": {
    "collapsed": false,
    "ExecuteTime": {
     "end_time": "2023-06-22T14:58:55.712909Z",
     "start_time": "2023-06-22T14:58:55.707510Z"
    }
   }
  },
  {
   "cell_type": "code",
   "execution_count": 753,
   "outputs": [
    {
     "name": "stdout",
     "output_type": "stream",
     "text": [
      "Number of data samples in /Users/sambhavjain/Library/Mobile Documents/com~apple~CloudDocs/TU Eindhoven/Q4/Deep Learning/tue-deeplearning/assignments/assignment_2/data/task 2_3/train: 900\n",
      "Number of training samples: 720\n",
      "Number of validation samples: 180\n",
      "Number of data samples in /Users/sambhavjain/Library/Mobile Documents/com~apple~CloudDocs/TU Eindhoven/Q4/Deep Learning/tue-deeplearning/assignments/assignment_2/data/task 2_3/test: 100\n"
     ]
    }
   ],
   "source": [
    "def create_dataloader_task2(data_folder, task, shuffle, batch_size, train_ratio=0.8):\n",
    "    data_list = []  # List to store the Data objects\n",
    "\n",
    "    # Loop over all files in the folder\n",
    "    for filename in os.listdir(data_folder):\n",
    "        file_path = os.path.join(data_folder, filename)\n",
    "\n",
    "        # Read the data from the file (modify this part based on your file format)\n",
    "        states = load_array(file_path, task=task)\n",
    "        initial_state, trajectory = states\n",
    "\n",
    "        # Create the Data object using create_graph_data function\n",
    "        data = create_graph_data_task2(initial_state, trajectory)\n",
    "\n",
    "        # Handle NaN values in the target data only for the test set\n",
    "        if \"test\" in data_folder:\n",
    "            if torch.isnan(data.y).any():\n",
    "                nan_mask = torch.isnan(data.y)\n",
    "                data.y[nan_mask] = torch.mean(data.y[~nan_mask])\n",
    "\n",
    "        # Append the Data object to the list\n",
    "        data_list.append(data)\n",
    "\n",
    "    # Shuffle the data if specified\n",
    "    if shuffle:\n",
    "        random.shuffle(data_list)\n",
    "\n",
    "    # Calculate the number of samples\n",
    "    num_samples = len(data_list)\n",
    "\n",
    "    if \"train\" in data_folder:\n",
    "        # Calculate the number of samples for train and validation\n",
    "        num_train = int(train_ratio * num_samples)\n",
    "        num_val = num_samples - num_train\n",
    "\n",
    "        # Split the data into train and validation sets\n",
    "        train_data = data_list[:num_train]\n",
    "        val_data = data_list[num_train:]\n",
    "\n",
    "        # Print the number of data samples\n",
    "        print(f\"Number of data samples in {data_folder}: {num_samples}\")\n",
    "        print(f\"Number of training samples: {num_train}\")\n",
    "        print(f\"Number of validation samples: {num_val}\")\n",
    "\n",
    "        # Create data loaders for train and validation sets\n",
    "        dataloader_train = DataLoader(train_data, batch_size=batch_size, shuffle=shuffle)\n",
    "        dataloader_val = DataLoader(val_data, batch_size=batch_size, shuffle=False)\n",
    "\n",
    "        return dataloader_train, dataloader_val, data_list\n",
    "    else:\n",
    "        # Print the number of data samples\n",
    "        print(f\"Number of data samples in {data_folder}: {num_samples}\")\n",
    "\n",
    "        # Create a data loader for the data\n",
    "        dataloader = DataLoader(data_list, batch_size=batch_size, shuffle=shuffle)\n",
    "\n",
    "        return dataloader, data_list\n",
    "\n",
    "# Specify the paths to your train and test data folders\n",
    "data_folder_train = '/Users/sambhavjain/Library/Mobile Documents/com~apple~CloudDocs/TU Eindhoven/Q4/Deep Learning/tue-deeplearning/assignments/assignment_2/data/task 2_3/train'\n",
    "data_folder_test = '/Users/sambhavjain/Library/Mobile Documents/com~apple~CloudDocs/TU Eindhoven/Q4/Deep Learning/tue-deeplearning/assignments/assignment_2/data/task 2_3/test'\n",
    "\n",
    "# Define the batch size\n",
    "batch_size = 50\n",
    "\n",
    "# Create data loaders for train and validation sets (only if the folder contains \"train\")\n",
    "dataloader_train, dataloader_val, data_list = create_dataloader_task2(data_folder_train, task='task 2', shuffle=True, batch_size=batch_size)\n",
    "\n",
    "# Create a separate data loader for the test set\n",
    "dataloader_test, data_list_test = create_dataloader_task2(data_folder_test, task='task 2', shuffle=False, batch_size=batch_size)"
   ],
   "metadata": {
    "collapsed": false,
    "ExecuteTime": {
     "end_time": "2023-06-22T14:58:57.224992Z",
     "start_time": "2023-06-22T14:58:56.119089Z"
    }
   }
  },
  {
   "cell_type": "code",
   "execution_count": 573,
   "outputs": [],
   "source": [
    "# def create_dataloader_task2(data_folder, task, shuffle, batch_size, train_ratio=0.8):\n",
    "#     data_list = []  # List to store the Data objects\n",
    "#\n",
    "#     # Loop over all files in the folder\n",
    "#     for filename in os.listdir(data_folder):\n",
    "#         file_path = os.path.join(data_folder, filename)\n",
    "#\n",
    "#         # Read the data from the file (modify this part based on your file format)\n",
    "#         states = load_array(file_path, task=task)\n",
    "#         initial_state, trajectory = states\n",
    "#\n",
    "#         # If this is the test set, only use the positions\n",
    "#         if \"test\" in data_folder:\n",
    "#             initial_state = initial_state[:, :3]  # Positions are the first 3 features\n",
    "#             trajectory = trajectory[:, :, :2]  # Positions are the first 2 features\n",
    "#\n",
    "#         # Create the Data object using create_graph_data function\n",
    "#         data = create_graph_data_task2(initial_state, trajectory)\n",
    "#\n",
    "#         # Append the Data object to the list\n",
    "#         data_list.append(data)\n",
    "#\n",
    "#     # Shuffle the data if specified\n",
    "#     if shuffle:\n",
    "#         random.shuffle(data_list)\n",
    "#\n",
    "#     # Calculate the number of samples\n",
    "#     num_samples = len(data_list)\n",
    "#\n",
    "#     if \"train\" in data_folder:\n",
    "#         # Calculate the number of samples for train and validation\n",
    "#         num_train = int(train_ratio * num_samples)\n",
    "#         num_val = num_samples - num_train\n",
    "#\n",
    "#         # Split the data into train and validation sets\n",
    "#         train_data = data_list[:num_train]\n",
    "#         val_data = data_list[num_train:]\n",
    "#\n",
    "#         # Print the number of data samples\n",
    "#         print(f\"Number of data samples in {data_folder}: {num_samples}\")\n",
    "#         print(f\"Number of training samples: {num_train}\")\n",
    "#         print(f\"Number of validation samples: {num_val}\")\n",
    "#\n",
    "#         # Create data loaders for train and validation sets\n",
    "#         dataloader_train = DataLoader(train_data, batch_size=batch_size, shuffle=shuffle)\n",
    "#         dataloader_val = DataLoader(val_data, batch_size=batch_size, shuffle=False)\n",
    "#\n",
    "#         return dataloader_train, dataloader_val, data_list\n",
    "#     else:\n",
    "#         # Print the number of data samples\n",
    "#         print(f\"Number of data samples in {data_folder}: {num_samples}\")\n",
    "#\n",
    "#         # Create a data loader for the data\n",
    "#         dataloader = DataLoader(data_list, batch_size=batch_size, shuffle=shuffle)\n",
    "#\n",
    "#         return dataloader, data_list\n",
    "#\n",
    "# # Specify the paths to your train and test data folders\n",
    "# data_folder_train = '/Users/sambhavjain/Library/Mobile Documents/com~apple~CloudDocs/TU Eindhoven/Q4/Deep Learning/tue-deeplearning/assignments/assignment_2/data/task 2_3/train'\n",
    "# data_folder_test = '/Users/sambhavjain/Library/Mobile Documents/com~apple~CloudDocs/TU Eindhoven/Q4/Deep Learning/tue-deeplearning/assignments/assignment_2/data/task 2_3/test'\n",
    "#\n",
    "# # Define the batch size\n",
    "# batch_size = 50\n",
    "#\n",
    "# # Create data loaders for train and validation sets (only if the folder contains \"train\")\n",
    "# dataloader_train, dataloader_val, data_list = create_dataloader_task2(data_folder_train, task='task 2', shuffle=True, batch_size=batch_size)\n",
    "#\n",
    "# # Create a separate data loader for the test set\n",
    "# dataloader_test, data_list_test = create_dataloader_task2(data_folder_test, task='task 2', shuffle=False, batch_size=batch_size)\n"
   ],
   "metadata": {
    "collapsed": false,
    "ExecuteTime": {
     "end_time": "2023-06-22T13:38:47.491463Z",
     "start_time": "2023-06-22T13:38:47.486314Z"
    }
   }
  },
  {
   "cell_type": "markdown",
   "source": [
    "# Model Implementation"
   ],
   "metadata": {
    "collapsed": false
   }
  },
  {
   "cell_type": "code",
   "execution_count": 689,
   "outputs": [],
   "source": [
    "from torch_geometric.nn import global_mean_pool, GCNConv\n",
    "from torch_geometric.nn import GraphSAGE\n",
    "\n",
    "class GNN_LSTM(torch.nn.Module):\n",
    "    def __init__(self):\n",
    "        super(GNN_LSTM, self).__init__()\n",
    "\n",
    "        self.conv1 = SAGEConv(5, 64)\n",
    "        self.conv2 = SAGEConv(64, 128)\n",
    "        self.conv3 = SAGEConv(128, 256)\n",
    "        self.conv4 = SAGEConv(256, 512)\n",
    "        self.conv5 = SAGEConv(512, 256)\n",
    "\n",
    "        self.pool = global_mean_pool\n",
    "\n",
    "        self.lstm = nn.LSTM(256, 128, num_layers=2, batch_first=True)\n",
    "        self.fc = nn.Linear(128, 4)\n",
    "\n",
    "    def forward(self, data):\n",
    "        x, edge_index, batch = data.x, data.edge_index, data.batch\n",
    "\n",
    "        x = F.relu(self.conv1(x, edge_index))\n",
    "        x = F.relu(self.conv2(x, edge_index))\n",
    "        x = F.relu(self.conv3(x, edge_index))\n",
    "        x = F.relu(self.conv4(x, edge_index))\n",
    "        x = F.relu(self.conv5(x, edge_index))\n",
    "\n",
    "        # Apply global mean pooling to get a fixed-size vector for each graph\n",
    "        x_pool = self.pool(x, batch)\n",
    "\n",
    "        # Repeat the pooled graph embeddings for each sequence in the corresponding graph\n",
    "        x = x_pool[batch]\n",
    "\n",
    "        # Expand dimensions to match the input shape expected by the LSTM\n",
    "        x = x.unsqueeze(1).expand(-1, data.y.size(1), -1)\n",
    "\n",
    "        # Pass x through LSTM\n",
    "        x, _ = self.lstm(x)\n",
    "\n",
    "        # Pass the output of LSTM through fully connected layer\n",
    "        x = self.fc(x)\n",
    "\n",
    "        return x"
   ],
   "metadata": {
    "collapsed": false,
    "ExecuteTime": {
     "end_time": "2023-06-22T14:11:49.463844Z",
     "start_time": "2023-06-22T14:11:49.457541Z"
    }
   }
  },
  {
   "cell_type": "code",
   "execution_count": 690,
   "outputs": [],
   "source": [
    "# from torch_geometric.nn import global_mean_pool\n",
    "#\n",
    "# class GNN_LSTM(torch.nn.Module):\n",
    "#     def __init__(self):\n",
    "#         super(GNN_LSTM, self).__init__()\n",
    "#\n",
    "#         self.conv1_train = SAGEConv(5, 64)\n",
    "#         self.conv1_test = SAGEConv(3, 64)\n",
    "#         self.conv2 = SAGEConv(64, 128)\n",
    "#         self.conv3 = SAGEConv(128, 256)\n",
    "#         self.conv4 = SAGEConv(256, 512)\n",
    "#         self.conv5 = SAGEConv(512, 256)\n",
    "#\n",
    "#         self.pool = global_mean_pool\n",
    "#\n",
    "#         self.lstm_train = nn.LSTM(256, 128, num_layers=2, batch_first=True)\n",
    "#         self.lstm_test = nn.LSTM(64, 128, num_layers=2, batch_first=True)\n",
    "#         self.fc = nn.Linear(128, 4)\n",
    "#         self.fc_test = nn.Linear(128, 2)  # Change input size to 128\n",
    "#\n",
    "#     def forward(self, data):\n",
    "#         x, edge_index, batch = data.x, data.edge_index, data.batch\n",
    "#\n",
    "#         if x.size(-1) == 5:  # Training\n",
    "#             x = F.relu(self.conv1_train(x, edge_index))\n",
    "#             x = F.relu(self.conv2(x, edge_index))\n",
    "#             x = F.relu(self.conv3(x, edge_index))\n",
    "#             x = F.relu(self.conv4(x, edge_index))\n",
    "#             x = F.relu(self.conv5(x, edge_index))\n",
    "#             # Apply global mean pooling to get a fixed-size vector for each graph\n",
    "#             x_pool = self.pool(x, batch)\n",
    "#             # Repeat the pooled graph embeddings for each sequence in the corresponding graph\n",
    "#             x = x_pool[batch]\n",
    "#             # Expand dimensions to match the input shape expected by the LSTM\n",
    "#             x = x.unsqueeze(1).expand(-1, data.y.size(1), -1)\n",
    "#             # Pass x through LSTM\n",
    "#             x, _ = self.lstm_train(x)\n",
    "#             # Pass the output of LSTM through fully connected layer\n",
    "#             x = self.fc(x)\n",
    "#         else:  # Testing\n",
    "#             x = F.relu(self.conv1_test(x[:, :3], edge_index))  # Only use the positions\n",
    "#             # Apply global mean pooling to get a fixed-size vector for each graph\n",
    "#             x_pool = self.pool(x, batch)\n",
    "#             # Repeat the pooled graph embeddings for each sequence in the corresponding graph\n",
    "#             x = x_pool[batch]\n",
    "#             # Expand dimensions to match the input shape expected by the LSTM\n",
    "#             x = x.unsqueeze(1).expand(-1, data.y.size(1), -1)\n",
    "#             # Pass x through LSTM\n",
    "#             x, _ = self.lstm_test(x)\n",
    "#             # Pass the output of LSTM through fully connected layer\n",
    "#             x = self.fc_test(x)\n",
    "#\n",
    "#         return x\n"
   ],
   "metadata": {
    "collapsed": false,
    "ExecuteTime": {
     "end_time": "2023-06-22T14:11:49.839564Z",
     "start_time": "2023-06-22T14:11:49.832819Z"
    }
   }
  },
  {
   "cell_type": "markdown",
   "source": [
    "# Model Training"
   ],
   "metadata": {
    "collapsed": false
   }
  },
  {
   "cell_type": "code",
   "execution_count": 691,
   "outputs": [
    {
     "name": "stdout",
     "output_type": "stream",
     "text": [
      "Loaded device: cpu\n"
     ]
    }
   ],
   "source": [
    "device = torch.device('cuda' if torch.cuda.is_available() else 'cpu')\n",
    "device='cpu'\n",
    "print(f'Loaded device: {device}')"
   ],
   "metadata": {
    "collapsed": false,
    "ExecuteTime": {
     "end_time": "2023-06-22T14:11:50.362808Z",
     "start_time": "2023-06-22T14:11:50.360168Z"
    }
   }
  },
  {
   "cell_type": "code",
   "execution_count": 692,
   "outputs": [],
   "source": [
    "def r2_score_3d(y_true, y_pred):\n",
    "    \"\"\"\n",
    "    This function calculates the R2 score for 3D inputs. It computes the R2 score for each point in the sequence and then returns the average score.\n",
    "\n",
    "    Parameters:\n",
    "    y_true (numpy array): The ground truth values. It is a 3D numpy array with shape (n_samples, n_sequence, n_outputs).\n",
    "    y_pred (numpy array): The predicted values. It is a 3D numpy array with shape (n_samples, n_sequence, n_outputs).\n",
    "\n",
    "    Returns:\n",
    "    float: The average R2 score for all points in the sequence.\n",
    "    \"\"\"\n",
    "    assert y_true.shape == y_pred.shape\n",
    "    r2_scores = [r2_score(y_true[:, i, :], y_pred[:, i, :]) for i in range(y_true.shape[1])]\n",
    "    return np.mean(r2_scores)\n",
    "\n",
    "def mae_3d(y_true, y_pred):\n",
    "    \"\"\"\n",
    "    This function calculates the Mean Absolute Error (MAE) for 3D inputs. It computes the MAE for each point in the sequence and then returns the average error.\n",
    "\n",
    "    Parameters:\n",
    "    y_true (numpy array): The ground truth values. It is a 3D numpy array with shape (n_samples, n_sequence, n_outputs).\n",
    "    y_pred (numpy array): The predicted values. It is a 3D numpy array with shape (n_samples, n_sequence, n_outputs).\n",
    "\n",
    "    Returns:\n",
    "    float: The average MAE for all points in the sequence.\n",
    "    \"\"\"\n",
    "    assert y_true.shape == y_pred.shape\n",
    "    maes = [mean_absolute_error(y_true[:, i, :], y_pred[:, i, :]) for i in range(y_true.shape[1])]\n",
    "    return np.mean(maes)"
   ],
   "metadata": {
    "collapsed": false,
    "ExecuteTime": {
     "end_time": "2023-06-22T14:11:50.664431Z",
     "start_time": "2023-06-22T14:11:50.656459Z"
    }
   }
  },
  {
   "cell_type": "code",
   "execution_count": 693,
   "outputs": [],
   "source": [
    "# def custom_loss(output, target):\n",
    "#     # Check if the target data only contains positions\n",
    "#     if target.shape[2] == 2:\n",
    "#         # If so, only consider positions in the loss calculation\n",
    "#         loss = torch.nn.MSELoss()(output, target)\n",
    "#     else:\n",
    "#         # Otherwise, consider both positions and velocities in the loss calculation\n",
    "#         loss = torch.nn.MSELoss()(output, target)\n",
    "#\n",
    "#     return loss\n"
   ],
   "metadata": {
    "collapsed": false,
    "ExecuteTime": {
     "end_time": "2023-06-22T14:11:51.081162Z",
     "start_time": "2023-06-22T14:11:51.076673Z"
    }
   }
  },
  {
   "cell_type": "code",
   "execution_count": 694,
   "outputs": [],
   "source": [
    "model = GNN_LSTM().to(device)\n",
    "optimizer = torch.optim.Adam(model.parameters(), lr=0.005)\n",
    "\n",
    "loss_func = torch.nn.MSELoss()\n",
    "\n",
    "def train(loader):\n",
    "    model.train()\n",
    "    total_loss = 0\n",
    "    total_samples = 0\n",
    "    total_r2_score = 0\n",
    "    total_mae = 0\n",
    "\n",
    "    for data in loader:\n",
    "\n",
    "        data.to(device)\n",
    "        optimizer.zero_grad()\n",
    "        output = model(data)\n",
    "        loss = loss_func(output, data.y) #Change this to custom loss\n",
    "        loss.backward()\n",
    "        optimizer.step()\n",
    "        total_loss += loss.item() * data.num_graphs\n",
    "        total_samples += data.num_graphs\n",
    "        predictions = output.detach().cpu().numpy()\n",
    "        true_labels = data.y.detach().cpu().numpy()\n",
    "\n",
    "        # R2 Score\n",
    "        total_r2_score += r2_score_3d(true_labels, predictions) * data.num_graphs\n",
    "\n",
    "        # MAE\n",
    "        total_mae += mae_3d(true_labels, predictions) * data.num_graphs\n",
    "\n",
    "    return total_loss / total_samples, total_r2_score / total_samples, total_mae / total_samples\n",
    "\n",
    "def evaluate(loader):\n",
    "    model.eval()\n",
    "    total_loss = 0\n",
    "    total_samples = 0\n",
    "    total_r2_score = 0\n",
    "    total_mae = 0\n",
    "\n",
    "    for data in loader:\n",
    "\n",
    "        data.to(device)\n",
    "        output = model(data)\n",
    "        loss = loss_func(output, data.y) #Change this to custom loss\n",
    "        total_loss += loss.item() * data.num_graphs\n",
    "        total_samples += data.num_graphs\n",
    "        predictions = output.detach().cpu().numpy()\n",
    "        true_labels = data.y.detach().cpu().numpy()\n",
    "\n",
    "        # R2 Score\n",
    "        total_r2_score += r2_score_3d(true_labels, predictions) * data.num_graphs\n",
    "\n",
    "        #MAE\n",
    "        total_mae += mae_3d(true_labels, predictions) * data.num_graphs\n",
    "\n",
    "    return total_loss / total_samples, total_r2_score / total_samples, total_mae / total_samples\n"
   ],
   "metadata": {
    "collapsed": false,
    "ExecuteTime": {
     "end_time": "2023-06-22T14:11:51.492742Z",
     "start_time": "2023-06-22T14:11:51.479507Z"
    }
   }
  },
  {
   "cell_type": "code",
   "execution_count": 695,
   "outputs": [
    {
     "name": "stderr",
     "output_type": "stream",
     "text": [
      " 10%|█         | 1/10 [00:03<00:29,  3.32s/it]"
     ]
    },
    {
     "name": "stdout",
     "output_type": "stream",
     "text": [
      "EPOCH: 001, TRAIN LOSS: 9.6014, VAL LOSS: 9.5417, TEST LOSS: 9.1978. TRAINING TIME SO FAR: 3.3 s\n",
      "TRAIN R2: -0.0025, VAL R2: -0.0003, TEST R2: -0.0584\n",
      "TRAIN MAE: 2.1756, VAL MAE: 2.1931, TEST MAE: 1.9666\n",
      "\n"
     ]
    },
    {
     "name": "stderr",
     "output_type": "stream",
     "text": [
      " 20%|██        | 2/10 [00:06<00:24,  3.08s/it]"
     ]
    },
    {
     "name": "stdout",
     "output_type": "stream",
     "text": [
      "EPOCH: 002, TRAIN LOSS: 9.5688, VAL LOSS: 9.4782, TEST LOSS: 9.1444. TRAINING TIME SO FAR: 6.2 s\n",
      "TRAIN R2: -0.0000, VAL R2: 0.0034, TEST R2: -0.0389\n",
      "TRAIN MAE: 2.1763, VAL MAE: 2.1981, TEST MAE: 1.9698\n",
      "\n"
     ]
    },
    {
     "name": "stderr",
     "output_type": "stream",
     "text": [
      " 30%|███       | 3/10 [00:09<00:21,  3.01s/it]"
     ]
    },
    {
     "name": "stdout",
     "output_type": "stream",
     "text": [
      "EPOCH: 003, TRAIN LOSS: 9.5328, VAL LOSS: 9.4560, TEST LOSS: 9.1281. TRAINING TIME SO FAR: 9.2 s\n",
      "TRAIN R2: 0.0029, VAL R2: 0.0047, TEST R2: -0.0871\n",
      "TRAIN MAE: 2.1787, VAL MAE: 2.2007, TEST MAE: 1.9786\n",
      "\n"
     ]
    },
    {
     "name": "stderr",
     "output_type": "stream",
     "text": [
      " 40%|████      | 4/10 [00:12<00:18,  3.02s/it]"
     ]
    },
    {
     "name": "stdout",
     "output_type": "stream",
     "text": [
      "EPOCH: 004, TRAIN LOSS: 9.5139, VAL LOSS: 9.4415, TEST LOSS: 9.1000. TRAINING TIME SO FAR: 12.2 s\n",
      "TRAIN R2: 0.0041, VAL R2: 0.0058, TEST R2: -0.0234\n",
      "TRAIN MAE: 2.1809, VAL MAE: 2.1994, TEST MAE: 1.9646\n",
      "\n"
     ]
    },
    {
     "name": "stderr",
     "output_type": "stream",
     "text": [
      " 50%|█████     | 5/10 [00:15<00:14,  3.00s/it]"
     ]
    },
    {
     "name": "stdout",
     "output_type": "stream",
     "text": [
      "EPOCH: 005, TRAIN LOSS: 9.4917, VAL LOSS: 9.4420, TEST LOSS: 9.1138. TRAINING TIME SO FAR: 15.2 s\n",
      "TRAIN R2: 0.0044, VAL R2: 0.0055, TEST R2: -0.0630\n",
      "TRAIN MAE: 2.1773, VAL MAE: 2.2012, TEST MAE: 1.9739\n",
      "\n"
     ]
    },
    {
     "name": "stderr",
     "output_type": "stream",
     "text": [
      " 60%|██████    | 6/10 [00:18<00:11,  2.99s/it]"
     ]
    },
    {
     "name": "stdout",
     "output_type": "stream",
     "text": [
      "EPOCH: 006, TRAIN LOSS: 9.5136, VAL LOSS: 9.4369, TEST LOSS: 9.1096. TRAINING TIME SO FAR: 18.1 s\n",
      "TRAIN R2: 0.0049, VAL R2: 0.0060, TEST R2: -0.0431\n",
      "TRAIN MAE: 2.1804, VAL MAE: 2.1979, TEST MAE: 1.9696\n",
      "\n"
     ]
    },
    {
     "name": "stderr",
     "output_type": "stream",
     "text": [
      " 70%|███████   | 7/10 [00:21<00:08,  2.98s/it]"
     ]
    },
    {
     "name": "stdout",
     "output_type": "stream",
     "text": [
      "EPOCH: 007, TRAIN LOSS: 9.5110, VAL LOSS: 9.4427, TEST LOSS: 9.1054. TRAINING TIME SO FAR: 21.1 s\n",
      "TRAIN R2: 0.0053, VAL R2: 0.0055, TEST R2: -0.0298\n",
      "TRAIN MAE: 2.1800, VAL MAE: 2.1965, TEST MAE: 1.9649\n",
      "\n"
     ]
    },
    {
     "name": "stderr",
     "output_type": "stream",
     "text": [
      " 80%|████████  | 8/10 [00:24<00:05,  2.97s/it]"
     ]
    },
    {
     "name": "stdout",
     "output_type": "stream",
     "text": [
      "EPOCH: 008, TRAIN LOSS: 9.4878, VAL LOSS: 9.4220, TEST LOSS: 9.0700. TRAINING TIME SO FAR: 24.1 s\n",
      "TRAIN R2: 0.0060, VAL R2: 0.0067, TEST R2: -0.0322\n",
      "TRAIN MAE: 2.1792, VAL MAE: 2.1978, TEST MAE: 1.9680\n",
      "\n"
     ]
    },
    {
     "name": "stderr",
     "output_type": "stream",
     "text": [
      " 90%|█████████ | 9/10 [00:27<00:03,  3.09s/it]"
     ]
    },
    {
     "name": "stdout",
     "output_type": "stream",
     "text": [
      "EPOCH: 009, TRAIN LOSS: 9.4673, VAL LOSS: 9.4157, TEST LOSS: 9.0504. TRAINING TIME SO FAR: 27.4 s\n",
      "TRAIN R2: 0.0068, VAL R2: 0.0070, TEST R2: -0.0240\n",
      "TRAIN MAE: 2.1786, VAL MAE: 2.1971, TEST MAE: 1.9595\n",
      "\n"
     ]
    },
    {
     "name": "stderr",
     "output_type": "stream",
     "text": [
      "100%|██████████| 10/10 [00:31<00:00,  3.11s/it]"
     ]
    },
    {
     "name": "stdout",
     "output_type": "stream",
     "text": [
      "EPOCH: 010, TRAIN LOSS: 9.4560, VAL LOSS: 9.4123, TEST LOSS: 9.0630. TRAINING TIME SO FAR: 31.1 s\n",
      "TRAIN R2: 0.0069, VAL R2: 0.0069, TEST R2: -0.0592\n",
      "TRAIN MAE: 2.1759, VAL MAE: 2.1993, TEST MAE: 1.9664\n",
      "\n"
     ]
    },
    {
     "name": "stderr",
     "output_type": "stream",
     "text": [
      "\n"
     ]
    }
   ],
   "source": [
    "epochs = 10\n",
    "start = time.time()\n",
    "\n",
    "train_losses, train_r2_scores, train_maes = [], [], []\n",
    "val_losses, val_r2_scores, val_maes = [], [], []\n",
    "test_losses, test_r2_scores, test_maes = [], [], []\n",
    "\n",
    "for epoch in tqdm(range(1, epochs + 1)):\n",
    "\n",
    "    train_loss, train_r2_score, train_mae = train(dataloader_train)\n",
    "    val_loss, val_r2_score, val_mae = evaluate(dataloader_val)\n",
    "    test_loss, test_r2_score, test_mae = evaluate(dataloader_test)\n",
    "\n",
    "    toc = time.time()\n",
    "    print(f'EPOCH: {epoch:03d}, TRAIN LOSS: {train_loss:.4f}, VAL LOSS: {val_loss:.4f}, TEST LOSS: {test_loss:.4f}. TRAINING TIME SO FAR: {toc - start:.1f} s\\n'\n",
    "          f'TRAIN R2: {train_r2_score:.4f}, VAL R2: {val_r2_score:.4f}, TEST R2: {test_r2_score:.4f}\\n'\n",
    "          f'TRAIN MAE: {train_mae:.4f}, VAL MAE: {val_mae:.4f}, TEST MAE: {test_mae:.4f}\\n')\n",
    "\n",
    "    # Store metrics\n",
    "    train_losses.append(train_loss)\n",
    "    train_r2_scores.append(train_r2_score)\n",
    "    train_maes.append(train_mae)\n",
    "\n",
    "    val_losses.append(val_loss)\n",
    "    val_r2_scores.append(val_r2_score)\n",
    "    val_maes.append(val_mae)\n",
    "\n",
    "    test_losses.append(test_loss)\n",
    "    test_r2_scores.append(test_r2_score)\n",
    "    test_maes.append(test_mae)"
   ],
   "metadata": {
    "collapsed": false,
    "ExecuteTime": {
     "end_time": "2023-06-22T14:12:23.147518Z",
     "start_time": "2023-06-22T14:11:52.005002Z"
    }
   }
  },
  {
   "cell_type": "markdown",
   "source": [
    "# Evaluation"
   ],
   "metadata": {
    "collapsed": false
   }
  },
  {
   "cell_type": "code",
   "execution_count": 513,
   "outputs": [
    {
     "data": {
      "text/plain": "<Figure size 1200x400 with 1 Axes>",
      "image/png": "[encoded data removed]"
     },
     "metadata": {},
     "output_type": "display_data"
    },
    {
     "data": {
      "text/plain": "<Figure size 1200x400 with 1 Axes>",
      "image/png": "[encoded data removed]"
     },
     "metadata": {},
     "output_type": "display_data"
    },
    {
     "data": {
      "text/plain": "<Figure size 1200x400 with 1 Axes>",
      "image/png": "[encoded data removed]"
     },
     "metadata": {},
     "output_type": "display_data"
    }
   ],
   "source": [
    "# Plot losses\n",
    "plt.figure(figsize=(12, 4))\n",
    "plt.plot(train_losses, label='Train')\n",
    "plt.plot(val_losses, label='Validation')\n",
    "plt.plot(test_losses, label='Test')\n",
    "plt.title('Loss over epochs')\n",
    "plt.xlabel('Epochs')\n",
    "plt.ylabel('Loss')\n",
    "plt.legend()\n",
    "plt.show()\n",
    "\n",
    "# Plot R2 scores\n",
    "plt.figure(figsize=(12, 4))\n",
    "plt.plot(train_r2_scores, label='Train')\n",
    "plt.plot(val_r2_scores, label='Validation')\n",
    "plt.plot(test_r2_scores, label='Test')\n",
    "plt.title('R2 Score over epochs')\n",
    "plt.xlabel('Epochs')\n",
    "plt.ylabel('R2 Score')\n",
    "plt.legend()\n",
    "plt.show()\n",
    "\n",
    "# Plot MAEs\n",
    "plt.figure(figsize=(12, 4))\n",
    "plt.plot(train_maes, label='Train')\n",
    "plt.plot(val_maes, label='Validation')\n",
    "plt.plot(test_maes, label='Test')\n",
    "plt.title('Mean Absolute Error over epochs')\n",
    "plt.xlabel('Epochs')\n",
    "plt.ylabel('Mean Absolute Error')\n",
    "plt.legend()\n",
    "plt.show()"
   ],
   "metadata": {
    "collapsed": false,
    "ExecuteTime": {
     "end_time": "2023-06-22T13:16:43.577174Z",
     "start_time": "2023-06-22T13:16:43.348144Z"
    }
   }
  },
  {
   "cell_type": "markdown",
   "source": [
    "# Task 3"
   ],
   "metadata": {
    "collapsed": false
   }
  },
  {
   "cell_type": "markdown",
   "source": [
    "# Data Handling and Preprocessing"
   ],
   "metadata": {
    "collapsed": false
   }
  },
  {
   "cell_type": "code",
   "execution_count": 754,
   "outputs": [
    {
     "name": "stdout",
     "output_type": "stream",
     "text": [
      "Number of data samples in /Users/sambhavjain/Library/Mobile Documents/com~apple~CloudDocs/TU Eindhoven/Q4/Deep Learning/tue-deeplearning/assignments/assignment_2/data/task 2_3/train: 900\n",
      "Number of training samples: 720\n",
      "Number of validation samples: 180\n",
      "Number of data samples in /Users/sambhavjain/Library/Mobile Documents/com~apple~CloudDocs/TU Eindhoven/Q4/Deep Learning/tue-deeplearning/assignments/assignment_2/data/task 2_3/test: 100\n"
     ]
    }
   ],
   "source": [
    "# Specify the paths to your train and test data folders\n",
    "data_folder_train = '/Users/sambhavjain/Library/Mobile Documents/com~apple~CloudDocs/TU Eindhoven/Q4/Deep Learning/tue-deeplearning/assignments/assignment_2/data/task 2_3/train'\n",
    "data_folder_test = '/Users/sambhavjain/Library/Mobile Documents/com~apple~CloudDocs/TU Eindhoven/Q4/Deep Learning/tue-deeplearning/assignments/assignment_2/data/task 2_3/test'\n",
    "\n",
    "# Define the batch size\n",
    "batch_size = 50\n",
    "\n",
    "# Create data loaders for train and validation sets (only if the folder contains \"train\")\n",
    "dataloader_train, dataloader_val, data_list = create_dataloader_task2(data_folder_train, task='task 3', shuffle=True, batch_size=batch_size)\n",
    "\n",
    "# Create a separate data loader for the test set\n",
    "dataloader_test, data_list_test = create_dataloader_task2(data_folder_test, task='task 3', shuffle=False, batch_size=batch_size)"
   ],
   "metadata": {
    "collapsed": false,
    "ExecuteTime": {
     "end_time": "2023-06-22T14:59:05.080662Z",
     "start_time": "2023-06-22T14:59:04.017170Z"
    }
   }
  },
  {
   "cell_type": "markdown",
   "source": [
    "# Model Implementation"
   ],
   "metadata": {
    "collapsed": false
   }
  },
  {
   "cell_type": "code",
   "execution_count": 755,
   "outputs": [],
   "source": [
    "from torch_geometric.data import batch\n",
    "from torch_geometric.nn import SAGEConv, global_mean_pool\n",
    "from torch.nn import Linear\n",
    "import torch.nn.functional as F\n",
    "\n",
    "class GraphVAE(torch.nn.Module):\n",
    "    def __init__(self):\n",
    "        super(GraphVAE, self).__init__()\n",
    "\n",
    "        # Encoder layers\n",
    "        self.conv1 = SAGEConv(5, 64)\n",
    "        self.conv2 = SAGEConv(64, 128)\n",
    "        self.conv3 = SAGEConv(128, 256)\n",
    "        self.fc_mu = Linear(256, 20)  # mu layer\n",
    "        self.fc_var = Linear(256, 20)  # logvariance layer\n",
    "\n",
    "        # Decoder layers\n",
    "        self.fc1 = Linear(20, 256)\n",
    "        self.conv4 = SAGEConv(256, 128)\n",
    "        self.conv5 = SAGEConv(128, 64)\n",
    "        self.conv6 = SAGEConv(64, 5)\n",
    "\n",
    "    def encode(self, x, edge_index, batch):\n",
    "        x = F.relu(self.conv1(x, edge_index))\n",
    "        x = F.relu(self.conv2(x, edge_index))\n",
    "        x = F.relu(self.conv3(x, edge_index))\n",
    "        x = global_mean_pool(x, batch)  # Pooling\n",
    "        mu = self.fc_mu(x)\n",
    "        log_var = self.fc_var(x)\n",
    "        return mu, log_var\n",
    "\n",
    "\n",
    "    def reparameterize(self, mu, log_var):\n",
    "        std = torch.exp(log_var / 2)\n",
    "        eps = torch.randn_like(std)\n",
    "        return mu + eps * std\n",
    "\n",
    "    def decode(self, z, edge_index):\n",
    "        x = F.relu(self.fc1(z))\n",
    "        x = F.relu(self.conv4(x, edge_index))\n",
    "        x = F.relu(self.conv5(x, edge_index))\n",
    "        x = self.conv6(x, edge_index)\n",
    "        return x\n",
    "\n",
    "    def forward(self, data):\n",
    "        mu, log_var = self.encode(data.x, data.edge_index, data.batch)\n",
    "        z = self.reparameterize(mu, log_var)\n",
    "        return self.decode(z, data.edge_index), mu, log_var\n",
    "\n"
   ],
   "metadata": {
    "collapsed": false,
    "ExecuteTime": {
     "end_time": "2023-06-22T14:59:09.721721Z",
     "start_time": "2023-06-22T14:59:09.645067Z"
    }
   }
  },
  {
   "cell_type": "markdown",
   "source": [
    "# Model Training"
   ],
   "metadata": {
    "collapsed": false
   }
  },
  {
   "cell_type": "code",
   "execution_count": 756,
   "outputs": [
    {
     "name": "stdout",
     "output_type": "stream",
     "text": [
      "Loaded device: cpu\n"
     ]
    }
   ],
   "source": [
    "device = torch.device('cuda' if torch.cuda.is_available() else 'cpu')\n",
    "device='cpu'\n",
    "print(f'Loaded device: {device}')"
   ],
   "metadata": {
    "collapsed": false,
    "ExecuteTime": {
     "end_time": "2023-06-22T14:59:10.877743Z",
     "start_time": "2023-06-22T14:59:10.873861Z"
    }
   }
  },
  {
   "cell_type": "code",
   "execution_count": 757,
   "outputs": [],
   "source": [
    "def loss_func(recon_x, x, mu, logvar):\n",
    "    # Reconstruction loss\n",
    "    recon_loss = F.mse_loss(recon_x, x, reduction='sum')\n",
    "\n",
    "    # KL divergence\n",
    "    kld = -0.5 * torch.sum(1 + logvar - mu.pow(2) - logvar.exp())\n",
    "\n",
    "    return recon_loss + kld"
   ],
   "metadata": {
    "collapsed": false,
    "ExecuteTime": {
     "end_time": "2023-06-22T14:59:11.281602Z",
     "start_time": "2023-06-22T14:59:11.276526Z"
    }
   }
  },
  {
   "cell_type": "code",
   "execution_count": 758,
   "outputs": [],
   "source": [
    "model = GraphVAE().to(device)\n",
    "optimizer = torch.optim.Adam(model.parameters(), lr=0.001)\n",
    "\n",
    "def train(loader):\n",
    "    model.train()\n",
    "    total_loss = 0\n",
    "    total_samples = 0\n",
    "\n",
    "    for data in loader:\n",
    "        data.to(device)\n",
    "        optimizer.zero_grad()\n",
    "        recon_batch, mu, logvar = model(data)\n",
    "        loss = loss_func(recon_batch, data.x, mu, logvar)\n",
    "        loss.backward()\n",
    "        optimizer.step()\n",
    "        total_loss += loss.item() * data.num_graphs\n",
    "        total_samples += data.num_graphs\n",
    "\n",
    "    return total_loss / total_samples\n",
    "\n",
    "def evaluate(loader):\n",
    "    model.eval()\n",
    "    total_loss = 0\n",
    "    total_samples = 0\n",
    "\n",
    "    with torch.no_grad():\n",
    "        for data in loader:\n",
    "            data.to(device)\n",
    "            recon_batch, mu, logvar = model(data)\n",
    "            loss = loss_func(recon_batch, data.x, mu, logvar)\n",
    "            total_loss += loss.item() * data.num_graphs\n",
    "            total_samples += data.num_graphs\n",
    "\n",
    "    return total_loss / total_samples\n"
   ],
   "metadata": {
    "collapsed": false,
    "ExecuteTime": {
     "end_time": "2023-06-22T14:59:11.736802Z",
     "start_time": "2023-06-22T14:59:11.724838Z"
    }
   }
  },
  {
   "cell_type": "code",
   "execution_count": 759,
   "outputs": [
    {
     "name": "stderr",
     "output_type": "stream",
     "text": [
      "  0%|          | 0/10 [00:00<?, ?it/s]"
     ]
    },
    {
     "name": "stdout",
     "output_type": "stream",
     "text": [
      "Unexpected exception formatting exception. Falling back to standard exception\n"
     ]
    },
    {
     "name": "stderr",
     "output_type": "stream",
     "text": [
      "\n",
      "Traceback (most recent call last):\n",
      "  File \"/Users/sambhavjain/miniforge3/envs/deeplearning/lib/python3.11/site-packages/torch_geometric/nn/conv/message_passing.py\", line 272, in _lift\n",
      "    return src.index_select(self.node_dim, index)\n",
      "           ^^^^^^^^^^^^^^^^^^^^^^^^^^^^^^^^^^^^^^\n",
      "IndexError: index out of range in self\n",
      "\n",
      "During handling of the above exception, another exception occurred:\n",
      "\n",
      "Traceback (most recent call last):\n",
      "  File \"/Users/sambhavjain/miniforge3/envs/deeplearning/lib/python3.11/site-packages/IPython/core/interactiveshell.py\", line 3505, in run_code\n",
      "    exec(code_obj, self.user_global_ns, self.user_ns)\n",
      "  File \"/var/folders/px/5wjhblnd0kg9vy8wzhfd1dmm0000gn/T/ipykernel_30574/453480863.py\", line 10, in <module>\n",
      "    train_loss = train(dataloader_train)\n",
      "                 ^^^^^^^^^^^^^^^^^^^^^^^\n",
      "  File \"/var/folders/px/5wjhblnd0kg9vy8wzhfd1dmm0000gn/T/ipykernel_30574/3941628764.py\", line 12, in train\n",
      "    recon_batch, mu, logvar = model(data)\n",
      "                              ^^^^^^^^^^^\n",
      "  File \"/Users/sambhavjain/miniforge3/envs/deeplearning/lib/python3.11/site-packages/torch/nn/modules/module.py\", line 1501, in _call_impl\n",
      "    return forward_call(*args, **kwargs)\n",
      "           ^^^^^^^^^^^^^^^^^^^^^^^^^^^^^\n",
      "  File \"/var/folders/px/5wjhblnd0kg9vy8wzhfd1dmm0000gn/T/ipykernel_30574/996771610.py\", line 48, in forward\n",
      "    return self.decode(z, data.edge_index), mu, log_var\n",
      "           ^^^^^^^^^^^^^^^^^^^^^^^^^^^^^^^\n",
      "  File \"/var/folders/px/5wjhblnd0kg9vy8wzhfd1dmm0000gn/T/ipykernel_30574/996771610.py\", line 40, in decode\n",
      "    x = F.relu(self.conv4(x, edge_index))\n",
      "               ^^^^^^^^^^^^^^^^^^^^^^^^^\n",
      "  File \"/Users/sambhavjain/miniforge3/envs/deeplearning/lib/python3.11/site-packages/torch/nn/modules/module.py\", line 1501, in _call_impl\n",
      "    return forward_call(*args, **kwargs)\n",
      "           ^^^^^^^^^^^^^^^^^^^^^^^^^^^^^\n",
      "  File \"/Users/sambhavjain/miniforge3/envs/deeplearning/lib/python3.11/site-packages/torch_geometric/nn/conv/sage_conv.py\", line 131, in forward\n",
      "  File \"/Users/sambhavjain/miniforge3/envs/deeplearning/lib/python3.11/site-packages/torch_geometric/nn/conv/message_passing.py\", line 459, in propagate\n",
      "    coll_dict = self._collect(self._user_args, edge_index, size,\n",
      "                ^^^^^^^^^^^^^^^^^^^^^^^^^^^^^^^^^^^^^^^^^^^^^^^^\n",
      "  File \"/Users/sambhavjain/miniforge3/envs/deeplearning/lib/python3.11/site-packages/torch_geometric/nn/conv/message_passing.py\", line 336, in _collect\n",
      "    data = self._lift(data, edge_index, dim)\n",
      "           ^^^^^^^^^^^^^^^^^^^^^^^^^^^^^^^^^\n",
      "  File \"/Users/sambhavjain/miniforge3/envs/deeplearning/lib/python3.11/site-packages/torch_geometric/nn/conv/message_passing.py\", line 275, in _lift\n",
      "    raise IndexError(\n",
      "IndexError: Encountered an index error. Please ensure that all indices in 'edge_index' point to valid indices in the interval [0, 49] (got interval [0, 308])\n",
      "\n",
      "During handling of the above exception, another exception occurred:\n",
      "\n",
      "Traceback (most recent call last):\n",
      "  File \"/Users/sambhavjain/miniforge3/envs/deeplearning/lib/python3.11/site-packages/IPython/core/interactiveshell.py\", line 2102, in showtraceback\n",
      "    stb = self.InteractiveTB.structured_traceback(\n",
      "          ^^^^^^^^^^^^^^^^^^^^^^^^^^^^^^^^^^^^^^^^\n",
      "  File \"/Users/sambhavjain/miniforge3/envs/deeplearning/lib/python3.11/site-packages/IPython/core/ultratb.py\", line 1310, in structured_traceback\n",
      "    return FormattedTB.structured_traceback(\n",
      "           ^^^^^^^^^^^^^^^^^^^^^^^^^^^^^^^^^\n",
      "  File \"/Users/sambhavjain/miniforge3/envs/deeplearning/lib/python3.11/site-packages/IPython/core/ultratb.py\", line 1199, in structured_traceback\n",
      "    return VerboseTB.structured_traceback(\n",
      "           ^^^^^^^^^^^^^^^^^^^^^^^^^^^^^^^\n",
      "  File \"/Users/sambhavjain/miniforge3/envs/deeplearning/lib/python3.11/site-packages/IPython/core/ultratb.py\", line 1052, in structured_traceback\n",
      "    formatted_exception = self.format_exception_as_a_whole(etype, evalue, etb, number_of_lines_of_context,\n",
      "                          ^^^^^^^^^^^^^^^^^^^^^^^^^^^^^^^^^^^^^^^^^^^^^^^^^^^^^^^^^^^^^^^^^^^^^^^^^^^^^^^^\n",
      "  File \"/Users/sambhavjain/miniforge3/envs/deeplearning/lib/python3.11/site-packages/IPython/core/ultratb.py\", line 978, in format_exception_as_a_whole\n",
      "    frames.append(self.format_record(record))\n",
      "                  ^^^^^^^^^^^^^^^^^^^^^^^^^^\n",
      "  File \"/Users/sambhavjain/miniforge3/envs/deeplearning/lib/python3.11/site-packages/IPython/core/ultratb.py\", line 878, in format_record\n",
      "    frame_info.lines, Colors, self.has_colors, lvals\n",
      "    ^^^^^^^^^^^^^^^^\n",
      "  File \"/Users/sambhavjain/miniforge3/envs/deeplearning/lib/python3.11/site-packages/IPython/core/ultratb.py\", line 712, in lines\n",
      "    return self._sd.lines\n",
      "           ^^^^^^^^^^^^^^\n",
      "  File \"/Users/sambhavjain/miniforge3/envs/deeplearning/lib/python3.11/site-packages/stack_data/utils.py\", line 145, in cached_property_wrapper\n",
      "    value = obj.__dict__[self.func.__name__] = self.func(obj)\n",
      "                                               ^^^^^^^^^^^^^^\n",
      "  File \"/Users/sambhavjain/miniforge3/envs/deeplearning/lib/python3.11/site-packages/stack_data/core.py\", line 698, in lines\n",
      "    pieces = self.included_pieces\n",
      "             ^^^^^^^^^^^^^^^^^^^^\n",
      "  File \"/Users/sambhavjain/miniforge3/envs/deeplearning/lib/python3.11/site-packages/stack_data/utils.py\", line 145, in cached_property_wrapper\n",
      "    value = obj.__dict__[self.func.__name__] = self.func(obj)\n",
      "                                               ^^^^^^^^^^^^^^\n",
      "  File \"/Users/sambhavjain/miniforge3/envs/deeplearning/lib/python3.11/site-packages/stack_data/core.py\", line 649, in included_pieces\n",
      "    pos = scope_pieces.index(self.executing_piece)\n",
      "                             ^^^^^^^^^^^^^^^^^^^^\n",
      "  File \"/Users/sambhavjain/miniforge3/envs/deeplearning/lib/python3.11/site-packages/stack_data/utils.py\", line 145, in cached_property_wrapper\n",
      "    value = obj.__dict__[self.func.__name__] = self.func(obj)\n",
      "                                               ^^^^^^^^^^^^^^\n",
      "  File \"/Users/sambhavjain/miniforge3/envs/deeplearning/lib/python3.11/site-packages/stack_data/core.py\", line 628, in executing_piece\n",
      "    return only(\n",
      "           ^^^^^\n",
      "  File \"/Users/sambhavjain/miniforge3/envs/deeplearning/lib/python3.11/site-packages/executing/executing.py\", line 164, in only\n",
      "    raise NotOneValueFound('Expected one value, found 0')\n",
      "executing.executing.NotOneValueFound: Expected one value, found 0\n"
     ]
    }
   ],
   "source": [
    "epochs = 10\n",
    "start = time.time()\n",
    "\n",
    "train_losses = []\n",
    "val_losses = []\n",
    "test_losses = []\n",
    "\n",
    "for epoch in tqdm(range(1, epochs + 1)):\n",
    "\n",
    "    train_loss = train(dataloader_train)\n",
    "    val_loss = evaluate(dataloader_val)\n",
    "    test_loss = evaluate(dataloader_test)\n",
    "\n",
    "    toc = time.time()\n",
    "    print(f'EPOCH: {epoch:03d}, TRAIN LOSS: {train_loss:.4f}, VAL LOSS: {val_loss:.4f}, TEST LOSS: {test_loss:.4f}. TRAINING TIME SO FAR: {toc - start:.1f} s\\n')\n",
    "\n",
    "    # Store metrics\n",
    "    train_losses.append(train_loss)\n",
    "    val_losses.append(val_loss)\n",
    "    test_losses.append(test_loss)"
   ],
   "metadata": {
    "collapsed": false,
    "ExecuteTime": {
     "end_time": "2023-06-22T14:59:12.467786Z",
     "start_time": "2023-06-22T14:59:12.397944Z"
    }
   }
  },
  {
   "cell_type": "code",
   "execution_count": null,
   "outputs": [],
   "source": [],
   "metadata": {
    "collapsed": false
   }
  }
 ],
 "metadata": {
  "kernelspec": {
   "display_name": "Python 3 (ipykernel)",
   "language": "python",
   "name": "python3"
  },
  "language_info": {
   "codemirror_mode": {
    "name": "ipython",
    "version": 3
   },
   "file_extension": ".py",
   "mimetype": "text/x-python",
   "name": "python",
   "nbconvert_exporter": "python",
   "pygments_lexer": "ipython3",
   "version": "3.6.12"
  }
 },
 "nbformat": 4,
 "nbformat_minor": 5
}
