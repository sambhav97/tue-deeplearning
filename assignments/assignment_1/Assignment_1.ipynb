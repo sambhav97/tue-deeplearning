{
 "cells": [
  {
   "cell_type": "markdown",
   "id": "557bc264",
   "metadata": {
    "colab_type": "text",
    "id": "view-in-github"
   },
   "source": [
    "<a href=\"https://colab.research.google.com/github/vlamen/tue-deeplearning/blob/main/assignments/assignment_1/Assignment_1.ipynb\" target=\"_parent\"><img src=\"https://colab.research.google.com/assets/colab-badge.svg\" alt=\"Open In Colab\"/></a>"
   ]
  },
  {
   "cell_type": "markdown",
   "id": "a4ec9a11-3515-40aa-97ac-73c249df560e",
   "metadata": {
    "id": "a4ec9a11-3515-40aa-97ac-73c249df560e"
   },
   "source": [
    "# Group Number:\n",
    "# Student 1: Denise La Gordt Dillie\n",
    "# Student 2: Andreea Maican\n",
    "# Student 3: Sambhav Jain"
   ]
  },
  {
   "cell_type": "markdown",
   "id": "a8c200a7-b3ab-4c9a-bcf8-320271c040f3",
   "metadata": {
    "id": "a8c200a7-b3ab-4c9a-bcf8-320271c040f3"
   },
   "source": [
    "In case you are using google colab, uncomment the following cell, and modify the ```notebook_dir``` variable to contain the directory this notebook is in. It will automatically download the .py files needed for this assignment"
   ]
  },
  {
   "cell_type": "code",
   "execution_count": 1,
   "id": "igFRsZKIC18S",
   "metadata": {
    "id": "igFRsZKIC18S",
    "ExecuteTime": {
     "end_time": "2023-05-22T21:33:43.648071Z",
     "start_time": "2023-05-22T21:33:43.643830Z"
    }
   },
   "outputs": [],
   "source": [
    "# # Change the following  line to the directory this notebook is (if using colab)\n",
    "# # In case you do not know the path, open the file navigator on the left in colab\n",
    "# # Find the folder containing this notebook, then press on the three dots --> copy path\n",
    "# notebook_dir = \"/content/drive/MyDrive/Colab Notebooks/\""
   ]
  },
  {
   "cell_type": "code",
   "execution_count": 2,
   "id": "828246d4-75b2-42b7-ab06-925e6624f411",
   "metadata": {
    "id": "828246d4-75b2-42b7-ab06-925e6624f411",
    "ExecuteTime": {
     "end_time": "2023-05-22T21:33:43.653446Z",
     "start_time": "2023-05-22T21:33:43.648594Z"
    }
   },
   "outputs": [],
   "source": [
    "# # UNCOMMENT IF USING COLAB\n",
    "# from google.colab import drive\n",
    "# import requests\n",
    "# drive.mount('/content/drive')\n",
    "# import sys\n",
    "# import os\n",
    "# sys.path.insert(0, notebook_dir) \n",
    "# os.chdir(notebook_dir)\n",
    "# symco = \"https://github.com/vlamen/tue-deeplearning/blob/main/assignments/assignment_1/symconv.py?raw=true\"\n",
    "# crpt = \"https://github.com/vlamen/tue-deeplearning/blob/main/assignments/assignment_1/carpet.py?raw=true\"\n",
    "# r_s = requests.get(symco, allow_redirects=True)\n",
    "# r_c = requests.get(crpt, allow_redirects=True)\n",
    "# with open('symconv.py', 'wb') as f:\n",
    "#     f.write(r_s.content)\n",
    "# with open('carpet.py', 'wb') as f:\n",
    "#     f.write(r_c.content)"
   ]
  },
  {
   "cell_type": "code",
   "execution_count": 3,
   "id": "1c401bd6-3828-4f5e-ada8-a026e0a167bf",
   "metadata": {
    "id": "1c401bd6-3828-4f5e-ada8-a026e0a167bf",
    "ExecuteTime": {
     "end_time": "2023-05-22T21:33:44.956164Z",
     "start_time": "2023-05-22T21:33:43.656159Z"
    }
   },
   "outputs": [],
   "source": [
    "import torch\n",
    "import torch.nn as nn\n",
    "import torch.nn.functional as F\n",
    "from torch.utils.data import DataLoader, Dataset, TensorDataset\n",
    "\n",
    "import io\n",
    "import requests\n",
    "\n",
    "import symconv as sc\n",
    "from carpet import show_carpet, oh_to_label\n",
    "\n",
    "import numpy as np\n",
    "import matplotlib.pyplot as plt\n",
    "\n",
    "from scipy.spatial.distance import cdist\n",
    "\n",
    "from tqdm import tqdm"
   ]
  },
  {
   "cell_type": "code",
   "execution_count": 4,
   "id": "35c0bcb8-5215-40b3-8ba2-7e4208651c90",
   "metadata": {
    "id": "35c0bcb8-5215-40b3-8ba2-7e4208651c90",
    "ExecuteTime": {
     "end_time": "2023-05-22T21:33:44.962238Z",
     "start_time": "2023-05-22T21:33:44.957912Z"
    }
   },
   "outputs": [],
   "source": [
    "def load_numpy_arr_from_url(url):\n",
    "    \"\"\"\n",
    "    Loads a numpy array from surfdrive. \n",
    "    \n",
    "    Input:\n",
    "    url: Download link of dataset \n",
    "    \n",
    "    Outputs:\n",
    "    dataset: numpy array with input features or labels\n",
    "    \"\"\"\n",
    "    \n",
    "    response = requests.get(url)\n",
    "    response.raise_for_status()\n",
    "\n",
    "    return np.load(io.BytesIO(response.content)) "
   ]
  },
  {
   "cell_type": "markdown",
   "id": "045a1fdc-8c84-4829-b8c8-14c957f733f6",
   "metadata": {
    "id": "045a1fdc-8c84-4829-b8c8-14c957f733f6"
   },
   "source": [
    "# Task 1: Pattern Classification"
   ]
  },
  {
   "cell_type": "code",
   "execution_count": 5,
   "id": "a45b63ab-610e-4e03-b1da-a717c2a77c8a",
   "metadata": {
    "id": "a45b63ab-610e-4e03-b1da-a717c2a77c8a",
    "ExecuteTime": {
     "end_time": "2023-05-22T21:33:47.893363Z",
     "start_time": "2023-05-22T21:33:44.969696Z"
    }
   },
   "outputs": [
    {
     "name": "stdout",
     "output_type": "stream",
     "text": [
      "Carpet train shape: torch.Size([7500, 1, 96, 60])\n",
      "Label train shape: torch.Size([7500, 3])\n",
      "Carpet validation shape: torch.Size([2000, 1, 96, 60])\n",
      "Label validation shape: torch.Size([2000, 3])\n",
      "Carpet test shape: torch.Size([500, 1, 96, 60])\n",
      "Label test shape: torch.Size([500, 3])\n"
     ]
    }
   ],
   "source": [
    "# loading training and testing data for task 1\n",
    "# DO NOT MODIFY\n",
    "task1 = load_numpy_arr_from_url(\"https://github.com/vlamen/tue-deeplearning/blob/main/assignments/assignment_1/task1data.npz?raw=true\")\n",
    "# task1 = np.load(\"task1data.npz\")\n",
    "\n",
    "X = torch.tensor(task1['arr_0']).float()\n",
    "y = torch.tensor(task1['arr_1']).float()\n",
    "\n",
    "X_train = X[:7500]\n",
    "X_val = X[7500:9500]\n",
    "X_test = X[9500:]\n",
    "y_train = y[:7500]\n",
    "y_val = y[7500:9500]\n",
    "y_test  = y[9500:]\n",
    "\n",
    "\n",
    "train_dataset = TensorDataset(X_train, y_train)\n",
    "val_dataset = TensorDataset(X_val, y_val)\n",
    "test_dataset = TensorDataset(X_test, y_test)\n",
    "\n",
    "\n",
    "print(f\"Carpet train shape: {X_train.shape}\")\n",
    "print(f\"Label train shape: {y_train.shape}\")\n",
    "print(f\"Carpet validation shape: {X_val.shape}\")\n",
    "print(f\"Label validation shape: {y_val.shape}\")\n",
    "print(f\"Carpet test shape: {X_test.shape}\")\n",
    "print(f\"Label test shape: {y_test.shape}\")"
   ]
  },
  {
   "cell_type": "code",
   "execution_count": 6,
   "id": "a4c5553f-023f-48fc-81b5-83184a46a21d",
   "metadata": {
    "id": "a4c5553f-023f-48fc-81b5-83184a46a21d",
    "ExecuteTime": {
     "end_time": "2023-05-22T21:33:48.243475Z",
     "start_time": "2023-05-22T21:33:47.905881Z"
    }
   },
   "outputs": [
    {
     "name": "stdout",
     "output_type": "stream",
     "text": [
      "Carpet from Convolushahr\n"
     ]
    },
    {
     "data": {
      "text/plain": "<Figure size 640x480 with 1 Axes>",
      "image/png": "[encoded data removed]"
     },
     "metadata": {},
     "output_type": "display_data"
    }
   ],
   "source": [
    "# random carpet\n",
    "idx = np.random.randint(0,7500)\n",
    "show_carpet(X_train, idx)\n",
    "print('Carpet from', oh_to_label(y_train[idx,None])[0])"
   ]
  },
  {
   "cell_type": "code",
   "execution_count": 7,
   "id": "7a5db004-5dbf-42b3-a665-3c97c293d6c5",
   "metadata": {
    "id": "7a5db004-5dbf-42b3-a665-3c97c293d6c5",
    "ExecuteTime": {
     "end_time": "2023-05-22T21:33:48.243609Z",
     "start_time": "2023-05-22T21:33:48.241584Z"
    }
   },
   "outputs": [],
   "source": [
    "###     YOUR CODE FOR TASK 1    ###\n",
    "### ADD MORE CELLS IF NECESSARY ###"
   ]
  },
  {
   "cell_type": "code",
   "execution_count": 8,
   "outputs": [],
   "source": [
    "def loss_batch(model, loss_func, xb, yb, opt=None):\n",
    "    yb = torch.argmax(yb, dim=1)  # Convert target tensor to 1-dimensional tensor\n",
    "\n",
    "    assert yb.dim() <= 1, \"Target tensor must have 0 or 1 dimensions\"\n",
    "    assert yb.numel() == len(xb), \"Target tensor size must match input size\"\n",
    "\n",
    "    output = model(xb)\n",
    "    loss = loss_func(output, yb.long())  # Use long() to convert targets to class indices\n",
    "\n",
    "    if opt is not None:\n",
    "        loss.backward()\n",
    "        opt.step()\n",
    "        opt.zero_grad()\n",
    "\n",
    "    _, preds = torch.max(output, 1)\n",
    "    corrects = torch.sum(preds == yb.data.long())  # Use long() for target comparison\n",
    "\n",
    "    return loss.item(), corrects, len(xb)\n"
   ],
   "metadata": {
    "collapsed": false,
    "ExecuteTime": {
     "end_time": "2023-05-22T21:33:48.246534Z",
     "start_time": "2023-05-22T21:33:48.245270Z"
    }
   }
  },
  {
   "cell_type": "code",
   "execution_count": 9,
   "outputs": [],
   "source": [
    "from tqdm import tqdm\n",
    "def fit(epochs, model, loss_func, opt, train_dl, valid_dl):\n",
    "\n",
    "    for epoch in tqdm(range(epochs)):\n",
    "\n",
    "\n",
    "        # training process\n",
    "        model.train()\n",
    "\n",
    "        running_loss = 0.0\n",
    "        running_corrects = 0\n",
    "        sample_num=0\n",
    "        for xb, yb in train_dl:\n",
    "\n",
    "            # forward\n",
    "            # backward and optimize only if in training phase\n",
    "            losses, corrects, nums = loss_batch(model, loss_func, xb, yb,opt)\n",
    "\n",
    "            # statistics\n",
    "            running_loss += losses * xb.size(0)\n",
    "            running_corrects += corrects\n",
    "            sample_num+=nums\n",
    "\n",
    "        train_loss = running_loss / sample_num\n",
    "        train_acc = running_corrects.double() / sample_num\n",
    "\n",
    "\n",
    "        # validation process\n",
    "        model.eval()\n",
    "        with torch.no_grad():\n",
    "            running_loss = 0.0\n",
    "            running_corrects = 0\n",
    "            sample_num=0\n",
    "            for xb, yb in valid_dl:\n",
    "\n",
    "                # forward\n",
    "                losses, corrects, nums = loss_batch(model, loss_func, xb, yb)\n",
    "\n",
    "                # statistics\n",
    "                running_loss += losses * xb.size(0)\n",
    "                running_corrects += corrects\n",
    "                sample_num+=nums\n",
    "\n",
    "            val_loss = running_loss / sample_num\n",
    "            val_acc = running_corrects.double()/ sample_num\n",
    "\n",
    "\n",
    "        # print the results\n",
    "        print(\n",
    "            f'EPOCH: {epoch+1:0>{len(str(epochs))}}/{epochs}',\n",
    "            end=' '\n",
    "        )\n",
    "        print(f'LOSS: {train_loss:.4f}',f'ACC: {train_acc:.4f} ',end=' ')\n",
    "        print(f'VAL-LOSS: {val_loss:.4f}',f'VAL-ACC: {val_acc:.4f} ',end='\\n')"
   ],
   "metadata": {
    "collapsed": false,
    "ExecuteTime": {
     "end_time": "2023-05-22T21:33:48.250013Z",
     "start_time": "2023-05-22T21:33:48.248987Z"
    }
   }
  },
  {
   "cell_type": "code",
   "execution_count": 10,
   "outputs": [],
   "source": [
    "from torch.utils.data import DataLoader\n",
    "def get_data(train_ds, valid_ds, bs):\n",
    "    return (\n",
    "        DataLoader(train_ds, batch_size=bs, shuffle=True),\n",
    "        DataLoader(valid_ds, batch_size=bs * 2),\n",
    "    )"
   ],
   "metadata": {
    "collapsed": false,
    "ExecuteTime": {
     "end_time": "2023-05-22T21:33:48.252226Z",
     "start_time": "2023-05-22T21:33:48.251202Z"
    }
   }
  },
  {
   "cell_type": "code",
   "execution_count": 11,
   "outputs": [],
   "source": [
    "bs=64\n",
    "train_dl, valid_dl = get_data(train_dataset, val_dataset, bs)"
   ],
   "metadata": {
    "collapsed": false,
    "ExecuteTime": {
     "end_time": "2023-05-22T21:33:48.254537Z",
     "start_time": "2023-05-22T21:33:48.253203Z"
    }
   }
  },
  {
   "cell_type": "code",
   "execution_count": 12,
   "outputs": [],
   "source": [
    "class Lambda(nn.Module):\n",
    "    def __init__(self, func):\n",
    "        super().__init__()\n",
    "        self.func = func\n",
    "\n",
    "    def forward(self, x):\n",
    "        return self.func(x)"
   ],
   "metadata": {
    "collapsed": false,
    "ExecuteTime": {
     "end_time": "2023-05-22T21:33:48.257007Z",
     "start_time": "2023-05-22T21:33:48.255611Z"
    }
   }
  },
  {
   "cell_type": "code",
   "execution_count": 34,
   "outputs": [],
   "source": [
    "# model = nn.Sequential(\n",
    "#     nn.Conv2d(1, 32, kernel_size=3, stride=2, padding=1),\n",
    "#     nn.ReLU(),\n",
    "#     nn.Conv2d(32, 64, kernel_size=3, stride=2, padding=1),\n",
    "#     nn.ReLU(),\n",
    "#     nn.Conv2d(64, 10, kernel_size=3, stride=2, padding=1),\n",
    "#     nn.ReLU(),\n",
    "#     nn.AvgPool2d(4),\n",
    "#     Lambda(lambda x: x.view(x.size(0), -1)),\n",
    "#     nn.Linear(60, 10),\n",
    "# )\n",
    "model = nn.Sequential(\n",
    "    nn.Conv2d(1, 32, kernel_size=3, stride=1, padding=1),\n",
    "    nn.BatchNorm2d(32),\n",
    "    nn.ReLU(),\n",
    "    nn.Conv2d(32, 64, kernel_size=3, stride=1, padding=1),\n",
    "    nn.BatchNorm2d(64),\n",
    "    nn.ReLU(),\n",
    "    nn.Conv2d(64, 10, kernel_size=3, stride=1, padding=1),\n",
    "    nn.BatchNorm2d(10),\n",
    "    nn.ReLU(),\n",
    "    nn.AvgPool2d(4),\n",
    "    Lambda(lambda x: x.view(x.size(0), -1)),\n",
    "    nn.Linear(3600, 10),\n",
    ")\n",
    "# model = nn.Sequential(\n",
    "#     nn.Conv2d(1, 32, kernel_size=3, stride=1, padding=1),\n",
    "#     nn.ReLU(),\n",
    "#     nn.BatchNorm2d(32),\n",
    "#     nn.Conv2d(32, 64, kernel_size=3, stride=1, padding=1),\n",
    "#     nn.ReLU(),\n",
    "#     nn.BatchNorm2d(64),\n",
    "#     nn.Conv2d(64, 128, kernel_size=3, stride=1, padding=1),\n",
    "#     nn.ReLU(),\n",
    "#     nn.BatchNorm2d(128),\n",
    "#     nn.Conv2d(128, 256, kernel_size=3, stride=1, padding=1),\n",
    "#     nn.ReLU(),\n",
    "#     nn.BatchNorm2d(256),\n",
    "#     nn.Conv2d(256, 512, kernel_size=3, stride=1, padding=1),\n",
    "#     nn.ReLU(),\n",
    "#     nn.BatchNorm2d(512),\n",
    "#     nn.AdaptiveAvgPool2d(1),\n",
    "#     Lambda(lambda x: x.view(x.size(0), -1)),\n",
    "#     nn.Linear(512, 10)\n",
    "# )\n"
   ],
   "metadata": {
    "collapsed": false,
    "ExecuteTime": {
     "end_time": "2023-05-22T21:44:02.885834Z",
     "start_time": "2023-05-22T21:44:02.875512Z"
    }
   }
  },
  {
   "cell_type": "code",
   "execution_count": 36,
   "outputs": [
    {
     "name": "stderr",
     "output_type": "stream",
     "text": [
      "  5%|▌         | 1/20 [01:38<31:07, 98.30s/it]"
     ]
    },
    {
     "name": "stdout",
     "output_type": "stream",
     "text": [
      "EPOCH: 01/20 LOSS: 0.7571 ACC: 0.6685  VAL-LOSS: 1.0597 VAL-ACC: 0.5260 \n"
     ]
    },
    {
     "name": "stderr",
     "output_type": "stream",
     "text": [
      " 10%|█         | 2/20 [03:15<29:22, 97.94s/it]"
     ]
    },
    {
     "name": "stdout",
     "output_type": "stream",
     "text": [
      "EPOCH: 02/20 LOSS: 0.7306 ACC: 0.6763  VAL-LOSS: 1.0250 VAL-ACC: 0.5345 \n"
     ]
    },
    {
     "name": "stderr",
     "output_type": "stream",
     "text": [
      " 15%|█▌        | 3/20 [04:54<27:48, 98.16s/it]"
     ]
    },
    {
     "name": "stdout",
     "output_type": "stream",
     "text": [
      "EPOCH: 03/20 LOSS: 0.6885 ACC: 0.7020  VAL-LOSS: 1.0090 VAL-ACC: 0.5525 \n"
     ]
    },
    {
     "name": "stderr",
     "output_type": "stream",
     "text": [
      " 20%|██        | 4/20 [06:31<26:01, 97.61s/it]"
     ]
    },
    {
     "name": "stdout",
     "output_type": "stream",
     "text": [
      "EPOCH: 04/20 LOSS: 0.6495 ACC: 0.7188  VAL-LOSS: 1.0682 VAL-ACC: 0.5695 \n"
     ]
    },
    {
     "name": "stderr",
     "output_type": "stream",
     "text": [
      " 25%|██▌       | 5/20 [08:06<24:13, 96.88s/it]"
     ]
    },
    {
     "name": "stdout",
     "output_type": "stream",
     "text": [
      "EPOCH: 05/20 LOSS: 0.6036 ACC: 0.7447  VAL-LOSS: 1.0154 VAL-ACC: 0.5655 \n"
     ]
    },
    {
     "name": "stderr",
     "output_type": "stream",
     "text": [
      " 30%|███       | 6/20 [09:42<22:29, 96.40s/it]"
     ]
    },
    {
     "name": "stdout",
     "output_type": "stream",
     "text": [
      "EPOCH: 06/20 LOSS: 0.5698 ACC: 0.7593  VAL-LOSS: 1.1959 VAL-ACC: 0.5305 \n"
     ]
    },
    {
     "name": "stderr",
     "output_type": "stream",
     "text": [
      " 35%|███▌      | 7/20 [11:17<20:50, 96.16s/it]"
     ]
    },
    {
     "name": "stdout",
     "output_type": "stream",
     "text": [
      "EPOCH: 07/20 LOSS: 0.5540 ACC: 0.7611  VAL-LOSS: 1.0920 VAL-ACC: 0.5660 \n"
     ]
    },
    {
     "name": "stderr",
     "output_type": "stream",
     "text": [
      " 40%|████      | 8/20 [12:53<19:11, 95.92s/it]"
     ]
    },
    {
     "name": "stdout",
     "output_type": "stream",
     "text": [
      "EPOCH: 08/20 LOSS: 0.5177 ACC: 0.7859  VAL-LOSS: 1.1132 VAL-ACC: 0.5545 \n"
     ]
    },
    {
     "name": "stderr",
     "output_type": "stream",
     "text": [
      " 45%|████▌     | 9/20 [14:28<17:32, 95.72s/it]"
     ]
    },
    {
     "name": "stdout",
     "output_type": "stream",
     "text": [
      "EPOCH: 09/20 LOSS: 0.4894 ACC: 0.7969  VAL-LOSS: 1.0574 VAL-ACC: 0.5895 \n"
     ]
    },
    {
     "name": "stderr",
     "output_type": "stream",
     "text": [
      " 50%|█████     | 10/20 [16:04<15:58, 95.84s/it]"
     ]
    },
    {
     "name": "stdout",
     "output_type": "stream",
     "text": [
      "EPOCH: 10/20 LOSS: 0.4451 ACC: 0.8147  VAL-LOSS: 1.2356 VAL-ACC: 0.5720 \n"
     ]
    },
    {
     "name": "stderr",
     "output_type": "stream",
     "text": [
      " 55%|█████▌    | 11/20 [17:39<14:19, 95.54s/it]"
     ]
    },
    {
     "name": "stdout",
     "output_type": "stream",
     "text": [
      "EPOCH: 11/20 LOSS: 0.4206 ACC: 0.8268  VAL-LOSS: 1.0536 VAL-ACC: 0.5820 \n"
     ]
    },
    {
     "name": "stderr",
     "output_type": "stream",
     "text": [
      " 60%|██████    | 12/20 [19:14<12:42, 95.28s/it]"
     ]
    },
    {
     "name": "stdout",
     "output_type": "stream",
     "text": [
      "EPOCH: 12/20 LOSS: 0.3853 ACC: 0.8460  VAL-LOSS: 1.2072 VAL-ACC: 0.5650 \n"
     ]
    },
    {
     "name": "stderr",
     "output_type": "stream",
     "text": [
      " 65%|██████▌   | 13/20 [20:48<11:05, 95.12s/it]"
     ]
    },
    {
     "name": "stdout",
     "output_type": "stream",
     "text": [
      "EPOCH: 13/20 LOSS: 0.3353 ACC: 0.8653  VAL-LOSS: 1.2337 VAL-ACC: 0.5790 \n"
     ]
    },
    {
     "name": "stderr",
     "output_type": "stream",
     "text": [
      " 70%|███████   | 14/20 [22:24<09:31, 95.28s/it]"
     ]
    },
    {
     "name": "stdout",
     "output_type": "stream",
     "text": [
      "EPOCH: 14/20 LOSS: 0.2825 ACC: 0.8895  VAL-LOSS: 1.5608 VAL-ACC: 0.5685 \n"
     ]
    },
    {
     "name": "stderr",
     "output_type": "stream",
     "text": [
      " 75%|███████▌  | 15/20 [23:59<07:55, 95.15s/it]"
     ]
    },
    {
     "name": "stdout",
     "output_type": "stream",
     "text": [
      "EPOCH: 15/20 LOSS: 0.2591 ACC: 0.9000  VAL-LOSS: 1.5431 VAL-ACC: 0.5860 \n"
     ]
    },
    {
     "name": "stderr",
     "output_type": "stream",
     "text": [
      " 80%|████████  | 16/20 [25:34<06:20, 95.03s/it]"
     ]
    },
    {
     "name": "stdout",
     "output_type": "stream",
     "text": [
      "EPOCH: 16/20 LOSS: 0.2526 ACC: 0.8997  VAL-LOSS: 1.5247 VAL-ACC: 0.5990 \n"
     ]
    },
    {
     "name": "stderr",
     "output_type": "stream",
     "text": [
      " 85%|████████▌ | 17/20 [27:09<04:44, 94.95s/it]"
     ]
    },
    {
     "name": "stdout",
     "output_type": "stream",
     "text": [
      "EPOCH: 17/20 LOSS: 0.2226 ACC: 0.9140  VAL-LOSS: 1.5663 VAL-ACC: 0.5955 \n"
     ]
    },
    {
     "name": "stderr",
     "output_type": "stream",
     "text": [
      " 90%|█████████ | 18/20 [28:43<03:09, 94.96s/it]"
     ]
    },
    {
     "name": "stdout",
     "output_type": "stream",
     "text": [
      "EPOCH: 18/20 LOSS: 0.1892 ACC: 0.9281  VAL-LOSS: 1.6739 VAL-ACC: 0.5930 \n"
     ]
    },
    {
     "name": "stderr",
     "output_type": "stream",
     "text": [
      " 95%|█████████▌| 19/20 [30:19<01:35, 95.09s/it]"
     ]
    },
    {
     "name": "stdout",
     "output_type": "stream",
     "text": [
      "EPOCH: 19/20 LOSS: 0.2016 ACC: 0.9239  VAL-LOSS: 1.7197 VAL-ACC: 0.5805 \n"
     ]
    },
    {
     "name": "stderr",
     "output_type": "stream",
     "text": [
      "100%|██████████| 20/20 [31:54<00:00, 95.74s/it]"
     ]
    },
    {
     "name": "stdout",
     "output_type": "stream",
     "text": [
      "EPOCH: 20/20 LOSS: 0.1490 ACC: 0.9444  VAL-LOSS: 1.7259 VAL-ACC: 0.5940 \n"
     ]
    },
    {
     "name": "stderr",
     "output_type": "stream",
     "text": [
      "\n"
     ]
    }
   ],
   "source": [
    "from torch import optim\n",
    "\n",
    "lr = 0.1\n",
    "opt = optim.SGD(model.parameters(), lr=lr, momentum=0.9)\n",
    "epochs=20\n",
    "loss_func = F.cross_entropy\n",
    "\n",
    "fit(epochs, model, loss_func, opt, train_dl, valid_dl)"
   ],
   "metadata": {
    "collapsed": false,
    "ExecuteTime": {
     "end_time": "2023-05-22T22:34:18.965077Z",
     "start_time": "2023-05-22T22:02:24.068573Z"
    }
   }
  },
  {
   "cell_type": "markdown",
   "id": "06c5a8d4",
   "metadata": {},
   "source": [
    "## Task 1: Question 5d"
   ]
  },
  {
   "cell_type": "code",
   "execution_count": 14,
   "id": "37e8735b",
   "metadata": {
    "ExecuteTime": {
     "end_time": "2023-05-22T21:33:59.480073Z",
     "start_time": "2023-05-22T21:33:59.477186Z"
    }
   },
   "outputs": [],
   "source": []
  },
  {
   "cell_type": "markdown",
   "id": "1e988bc2-6ba1-49cd-ae26-6feea8ad2776",
   "metadata": {
    "id": "1e988bc2-6ba1-49cd-ae26-6feea8ad2776"
   },
   "source": [
    "# Task 2: Carpet Matching "
   ]
  },
  {
   "cell_type": "code",
   "execution_count": 37,
   "id": "20a2ce3a-4c8c-4f1f-9a29-113063ce7f74",
   "metadata": {
    "id": "20a2ce3a-4c8c-4f1f-9a29-113063ce7f74",
    "ExecuteTime": {
     "end_time": "2023-05-22T22:36:26.277603Z",
     "start_time": "2023-05-22T22:36:24.031214Z"
    }
   },
   "outputs": [
    {
     "name": "stdout",
     "output_type": "stream",
     "text": [
      "Carpet train shape: (15000, 1, 96, 60)\n",
      "Label train shape: (15000,)\n",
      "Ground truth test shape: (300,)\n",
      "Query carpets shape: (300, 1, 96, 60)\n",
      "Candidate carpets shape: (300, 4, 1, 96, 60)\n"
     ]
    }
   ],
   "source": [
    "# loading training and testing data for task 2\n",
    "# DO NOT MODIFY\n",
    "task2 = load_numpy_arr_from_url(\"https://github.com/vlamen/tue-deeplearning/blob/main/assignments/assignment_1/task2data.npz?raw=true\")\n",
    "# task2 = np.load('task2data.npz')\n",
    "\n",
    "X = task2['arr_0'].astype(float)\n",
    "y = task2['arr_1'].astype(float)\n",
    "gt = task2['arr_2'].astype(float) # ground truth\n",
    "queries = task2['arr_3'].astype(float)\n",
    "targets = task2['arr_4'].astype(float)\n",
    "\n",
    "print(f\"Carpet train shape: {X.shape}\")\n",
    "print(f\"Label train shape: {y.shape}\")\n",
    "print(f\"Ground truth test shape: {gt.shape}\")\n",
    "print(f\"Query carpets shape: {queries.shape}\")\n",
    "print(f\"Candidate carpets shape: {targets.shape}\")"
   ]
  },
  {
   "cell_type": "code",
   "execution_count": 16,
   "id": "fd0cc1db-e473-412e-b6b8-c95adc5438dd",
   "metadata": {
    "id": "fd0cc1db-e473-412e-b6b8-c95adc5438dd",
    "ExecuteTime": {
     "end_time": "2023-05-22T21:34:02.364569Z",
     "start_time": "2023-05-22T21:34:02.362653Z"
    }
   },
   "outputs": [],
   "source": [
    "# # function to determine performance of model\n",
    "# def query_performance(queries, targets, gt, top=1):\n",
    "#     assert top >= 1\n",
    "#     cnt = 0\n",
    "#     for i in range(gt.shape[0]):\n",
    "#\n",
    "#         q = queries[i][None].float().cuda()\n",
    "#         t = targets[i].float().cuda()\n",
    "#\n",
    "#         with torch.no_grad():\n",
    "#\n",
    "#\n",
    "#             ### MODIFY IF NECESSARY ###\n",
    "#             emb_q = net(q).cpu().numpy()\n",
    "#             emb_t = net(t).cpu().numpy()\n",
    "#\n",
    "#             dists = cdist(emb_q, emb_t)\n",
    "#\n",
    "#             if top == 1:\n",
    "#                 pred = np.argmin(dists)\n",
    "#\n",
    "#                 if pred == gt[i]:\n",
    "#                     cnt += 1\n",
    "#\n",
    "#             else:\n",
    "#                 pred = np.argsort(dists)\n",
    "#                 if gt[i] in pred[0,:top].tolist():\n",
    "#                     cnt+=1\n",
    "#     return (100*cnt/gt.shape[0])"
   ]
  },
  {
   "cell_type": "code",
   "execution_count": 17,
   "id": "f8c16073-7f5c-4bd4-9c11-c0a321736982",
   "metadata": {
    "id": "f8c16073-7f5c-4bd4-9c11-c0a321736982",
    "ExecuteTime": {
     "end_time": "2023-05-22T21:34:02.366691Z",
     "start_time": "2023-05-22T21:34:02.365020Z"
    }
   },
   "outputs": [],
   "source": [
    "###     YOUR CODE FOR TASK 2    ###\n",
    "### ADD MORE CELLS IF NECESSARY ###"
   ]
  },
  {
   "cell_type": "code",
   "execution_count": 38,
   "outputs": [],
   "source": [
    "import numpy as np\n",
    "from scipy.spatial.distance import cdist\n",
    "import torch\n",
    "import torch.nn as nn\n",
    "\n",
    "# Define your model for task 2\n",
    "class Model(nn.Module):\n",
    "    def __init__(self):\n",
    "        super(Model, self).__init__()\n",
    "        # Define your model architecture here\n",
    "        self.conv1 = nn.Conv2d(1, 16, kernel_size=3, stride=2, padding=1)\n",
    "        self.relu1 = nn.ReLU()\n",
    "        self.conv2 = nn.Conv2d(16, 16, kernel_size=3, stride=2, padding=1)\n",
    "        self.relu2 = nn.ReLU()\n",
    "        self.conv3 = nn.Conv2d(16, 10, kernel_size=3, stride=2, padding=1)\n",
    "        self.relu3 = nn.ReLU()\n",
    "        self.avgpool = nn.AvgPool2d(4)\n",
    "        self.flatten = nn.Flatten()\n",
    "        self.linear = nn.Linear(60, 10)\n",
    "\n",
    "    def forward(self, x):\n",
    "        x = self.conv1(x)\n",
    "        x = self.relu1(x)\n",
    "        x = self.conv2(x)\n",
    "        x = self.relu2(x)\n",
    "        x = self.conv3(x)\n",
    "        x = self.relu3(x)\n",
    "        x = self.avgpool(x)\n",
    "        x = self.flatten(x)\n",
    "        x = self.linear(x)\n",
    "        return x\n",
    "\n",
    "# Create an instance of the model\n",
    "net = Model()\n",
    "\n",
    "# Load the pre-trained weights (if available)\n",
    "# net.load_state_dict(torch.load('task2_model_weights.pth'))\n",
    "\n",
    "# Set the device for computation\n",
    "device = torch.device('cuda' if torch.cuda.is_available() else 'cpu')\n",
    "net.to(device)\n",
    "\n",
    "# function to determine performance of model\n",
    "def query_performance(queries, targets, gt, top=1):\n",
    "    assert top >= 1\n",
    "    cnt = 0\n",
    "    for i in range(gt.shape[0]):\n",
    "        q = torch.from_numpy(queries[i][None]).float().to(device)\n",
    "        t = torch.from_numpy(targets[i]).float().to(device)\n",
    "\n",
    "        with torch.no_grad():\n",
    "            emb_q = net(q).cpu().numpy()\n",
    "            emb_t = net(t).cpu().numpy()\n",
    "\n",
    "            dists = cdist(emb_q, emb_t)\n",
    "\n",
    "            if top == 1:\n",
    "                pred = np.argmin(dists)\n",
    "                if pred == gt[i]:\n",
    "                    cnt += 1\n",
    "            else:\n",
    "                pred = np.argsort(dists)\n",
    "                if gt[i] in pred[0, :top].tolist():\n",
    "                    cnt += 1\n",
    "    return (100 * cnt / gt.shape[0])\n",
    "\n",
    "# Test the performance of the model\n",
    "top_1_accuracy = query_performance(queries, targets, gt, top=1)\n",
    "top_3_accuracy = query_performance(queries, targets, gt, top=3)"
   ],
   "metadata": {
    "collapsed": false,
    "ExecuteTime": {
     "end_time": "2023-05-22T22:36:34.457251Z",
     "start_time": "2023-05-22T22:36:33.867772Z"
    }
   }
  },
  {
   "cell_type": "code",
   "execution_count": 39,
   "id": "068d5e9c-9fcc-44af-99a8-586c4bfa3c9a",
   "metadata": {
    "id": "068d5e9c-9fcc-44af-99a8-586c4bfa3c9a",
    "ExecuteTime": {
     "end_time": "2023-05-22T22:37:02.454925Z",
     "start_time": "2023-05-22T22:37:02.428495Z"
    }
   },
   "outputs": [
    {
     "name": "stdout",
     "output_type": "stream",
     "text": [
      "19.0\n",
      "63.666666666666664\n"
     ]
    }
   ],
   "source": [
    "print(top_1_accuracy)\n",
    "print(top_3_accuracy)"
   ]
  },
  {
   "cell_type": "code",
   "execution_count": 46,
   "outputs": [
    {
     "name": "stdout",
     "output_type": "stream",
     "text": [
      "Epoch [1/10], Loss: 5.298084735870361\n",
      "Epoch [2/10], Loss: 5.254850387573242\n",
      "Epoch [3/10], Loss: 1.2600812911987305\n",
      "Epoch [4/10], Loss: 0.009972329251468182\n"
     ]
    },
    {
     "ename": "KeyboardInterrupt",
     "evalue": "",
     "output_type": "error",
     "traceback": [
      "\u001B[0;31m---------------------------------------------------------------------------\u001B[0m",
      "\u001B[0;31mKeyboardInterrupt\u001B[0m                         Traceback (most recent call last)",
      "Cell \u001B[0;32mIn[46], line 99\u001B[0m\n\u001B[1;32m     96\u001B[0m     loss \u001B[38;5;241m=\u001B[39m criterion(outputs, labels)\n\u001B[1;32m     98\u001B[0m     \u001B[38;5;66;03m# Backward pass and optimization\u001B[39;00m\n\u001B[0;32m---> 99\u001B[0m     loss\u001B[38;5;241m.\u001B[39mbackward()\n\u001B[1;32m    100\u001B[0m     optimizer\u001B[38;5;241m.\u001B[39mstep()\n\u001B[1;32m    102\u001B[0m \u001B[38;5;66;03m# Print epoch loss\u001B[39;00m\n",
      "File \u001B[0;32m~/miniforge3/envs/deeplearning/lib/python3.11/site-packages/torch/_tensor.py:487\u001B[0m, in \u001B[0;36mTensor.backward\u001B[0;34m(self, gradient, retain_graph, create_graph, inputs)\u001B[0m\n\u001B[1;32m    477\u001B[0m \u001B[38;5;28;01mif\u001B[39;00m has_torch_function_unary(\u001B[38;5;28mself\u001B[39m):\n\u001B[1;32m    478\u001B[0m     \u001B[38;5;28;01mreturn\u001B[39;00m handle_torch_function(\n\u001B[1;32m    479\u001B[0m         Tensor\u001B[38;5;241m.\u001B[39mbackward,\n\u001B[1;32m    480\u001B[0m         (\u001B[38;5;28mself\u001B[39m,),\n\u001B[0;32m   (...)\u001B[0m\n\u001B[1;32m    485\u001B[0m         inputs\u001B[38;5;241m=\u001B[39minputs,\n\u001B[1;32m    486\u001B[0m     )\n\u001B[0;32m--> 487\u001B[0m torch\u001B[38;5;241m.\u001B[39mautograd\u001B[38;5;241m.\u001B[39mbackward(\n\u001B[1;32m    488\u001B[0m     \u001B[38;5;28mself\u001B[39m, gradient, retain_graph, create_graph, inputs\u001B[38;5;241m=\u001B[39minputs\n\u001B[1;32m    489\u001B[0m )\n",
      "File \u001B[0;32m~/miniforge3/envs/deeplearning/lib/python3.11/site-packages/torch/autograd/__init__.py:200\u001B[0m, in \u001B[0;36mbackward\u001B[0;34m(tensors, grad_tensors, retain_graph, create_graph, grad_variables, inputs)\u001B[0m\n\u001B[1;32m    195\u001B[0m     retain_graph \u001B[38;5;241m=\u001B[39m create_graph\n\u001B[1;32m    197\u001B[0m \u001B[38;5;66;03m# The reason we repeat same the comment below is that\u001B[39;00m\n\u001B[1;32m    198\u001B[0m \u001B[38;5;66;03m# some Python versions print out the first line of a multi-line function\u001B[39;00m\n\u001B[1;32m    199\u001B[0m \u001B[38;5;66;03m# calls in the traceback and some print out the last line\u001B[39;00m\n\u001B[0;32m--> 200\u001B[0m Variable\u001B[38;5;241m.\u001B[39m_execution_engine\u001B[38;5;241m.\u001B[39mrun_backward(  \u001B[38;5;66;03m# Calls into the C++ engine to run the backward pass\u001B[39;00m\n\u001B[1;32m    201\u001B[0m     tensors, grad_tensors_, retain_graph, create_graph, inputs,\n\u001B[1;32m    202\u001B[0m     allow_unreachable\u001B[38;5;241m=\u001B[39m\u001B[38;5;28;01mTrue\u001B[39;00m, accumulate_grad\u001B[38;5;241m=\u001B[39m\u001B[38;5;28;01mTrue\u001B[39;00m)\n",
      "\u001B[0;31mKeyboardInterrupt\u001B[0m: "
     ]
    }
   ],
   "source": [
    "import torch\n",
    "import torch.nn as nn\n",
    "import numpy as np\n",
    "from scipy.spatial.distance import cdist\n",
    "\n",
    "# Define the model architecture\n",
    "class Model(nn.Module):\n",
    "    def __init__(self):\n",
    "        super(Model, self).__init__()\n",
    "        self.conv1 = nn.Conv2d(1, 16, kernel_size=3)\n",
    "        self.relu1 = nn.ReLU()\n",
    "        self.conv2 = nn.Conv2d(16, 32, kernel_size=3)\n",
    "        self.relu2 = nn.ReLU()\n",
    "        self.flatten = nn.Flatten()\n",
    "        self.linear = nn.Linear(164864, num_classes)  # Adjust the input size based on your data\n",
    "\n",
    "    def forward(self, x):\n",
    "        x = self.conv1(x)\n",
    "        x = self.relu1(x)\n",
    "        x = self.conv2(x)\n",
    "        x = self.relu2(x)\n",
    "        x = self.flatten(x)\n",
    "        x = self.linear(x)\n",
    "        return x\n",
    "\n",
    "# Function to determine performance of the model\n",
    "def query_performance(queries, targets, gt, top=1):\n",
    "    assert top >= 1\n",
    "    cnt = 0\n",
    "    for i in range(gt.shape[0]):\n",
    "        q = queries[i][None].float().to(device)\n",
    "        t = targets[i].float().to(device)\n",
    "\n",
    "        with torch.no_grad():\n",
    "            emb_q = net(q)\n",
    "            emb_t = net(t)\n",
    "\n",
    "            dists = cdist(emb_q.cpu().numpy(), emb_t.cpu().numpy())\n",
    "\n",
    "            if top == 1:\n",
    "                pred = np.argmin(dists)\n",
    "\n",
    "                if pred == gt[i]:\n",
    "                    cnt += 1\n",
    "            else:\n",
    "                pred = np.argsort(dists)\n",
    "                if gt[i] in pred[0, :top].tolist():\n",
    "                    cnt += 1\n",
    "    return (100 * cnt / gt.shape[0])\n",
    "\n",
    "# Loading training and testing data for Task 2\n",
    "task2 = load_numpy_arr_from_url(\"https://github.com/vlamen/tue-deeplearning/blob/main/assignments/assignment_1/task2data.npz?raw=true\")\n",
    "X = task2['arr_0'].astype(float)\n",
    "y = task2['arr_1'].astype(int)\n",
    "gt = task2['arr_2'].astype(int)  # Ground truth\n",
    "queries = task2['arr_3'].astype(float)\n",
    "targets = task2['arr_4'].astype(float)\n",
    "\n",
    "# Determine the number of distinct classes in your dataset\n",
    "num_classes = len(np.unique(y))\n",
    "\n",
    "# Convert numpy arrays to PyTorch tensors\n",
    "X = torch.from_numpy(X).float().to(device)\n",
    "y = torch.from_numpy(y).long().to(device)\n",
    "gt = torch.from_numpy(gt).long().to(device)\n",
    "queries = torch.from_numpy(queries).float().to(device)\n",
    "targets = torch.from_numpy(targets).float().to(device)\n",
    "\n",
    "# Create an instance of the model\n",
    "net = Model().to(device)\n",
    "\n",
    "# Define the loss function and optimizer\n",
    "criterion = nn.CrossEntropyLoss()\n",
    "optimizer = torch.optim.Adam(net.parameters(), lr=0.001)\n",
    "\n",
    "# Training loop\n",
    "num_epochs = 10\n",
    "batch_size = 32\n",
    "total_samples = X.shape[0]\n",
    "num_batches = total_samples // batch_size\n",
    "\n",
    "for epoch in range(num_epochs):\n",
    "    for batch_idx in range(num_batches):\n",
    "        start_idx = batch_idx * batch_size\n",
    "        end_idx = start_idx + batch_size\n",
    "\n",
    "        inputs = X[start_idx:end_idx]\n",
    "        labels = y[start_idx:end_idx]\n",
    "\n",
    "        optimizer.zero_grad()\n",
    "\n",
    "        # Forward pass\n",
    "        outputs = net(inputs)\n",
    "\n",
    "        # Compute loss\n",
    "        loss = criterion(outputs, labels)\n",
    "\n",
    "        # Backward pass and optimization\n",
    "        loss.backward()\n",
    "        optimizer.step()\n",
    "\n",
    "    # Print epoch loss\n",
    "    print(f\"Epoch [{epoch+1}/{num_epochs}], Loss: {loss.item()}\")\n",
    "\n",
    "# Test the performance of the model\n",
    "top_1_accuracy = query_performance(queries, targets, gt, top=1)\n",
    "top_3_accuracy = query_performance(queries, targets, gt, top=3)\n",
    "\n",
    "print(f\"Top-1 Accuracy: {top_1_accuracy}%\")\n",
    "print(f\"Top-3 Accuracy: {top_3_accuracy}%\")\n"
   ],
   "metadata": {
    "collapsed": false,
    "ExecuteTime": {
     "end_time": "2023-05-22T23:47:26.909372Z",
     "start_time": "2023-05-22T23:42:55.801914Z"
    }
   }
  },
  {
   "cell_type": "code",
   "execution_count": null,
   "outputs": [],
   "source": [],
   "metadata": {
    "collapsed": false
   }
  }
 ],
 "metadata": {
  "colab": {
   "include_colab_link": true,
   "provenance": []
  },
  "kernelspec": {
   "display_name": "Python 3 (ipykernel)",
   "language": "python",
   "name": "python3"
  },
  "language_info": {
   "codemirror_mode": {
    "name": "ipython",
    "version": 3
   },
   "file_extension": ".py",
   "mimetype": "text/x-python",
   "name": "python",
   "nbconvert_exporter": "python",
   "pygments_lexer": "ipython3",
   "version": "3.9.13"
  }
 },
 "nbformat": 4,
 "nbformat_minor": 5
}
