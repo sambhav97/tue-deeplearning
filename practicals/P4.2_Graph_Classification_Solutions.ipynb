{
 "cells": [
  {
   "cell_type": "markdown",
   "id": "JiwpncEfEQ6w",
   "metadata": {
    "id": "JiwpncEfEQ6w"
   },
   "source": [
    "<a href=\"https://colab.research.google.com/github/vlamen/tue-deeplearning/blob/main/practicals/P4.2_Graph_Classification_Solutions.ipynb\" target=\"_parent\"><img src=\"https://colab.research.google.com/assets/colab-badge.svg\" alt=\"Open In Colab\"/></a>"
   ]
  },
  {
   "cell_type": "markdown",
   "id": "XZBHIfDJveSN",
   "metadata": {
    "id": "XZBHIfDJveSN"
   },
   "source": [
    "# P4.2: Graph Classification (using Graph Neural Networks)\n",
    "In this practical we will apply Graph Neural Networks (GNNs) to the task of classifying entire graphs. We will use PyTorch and the PyTorch Geometric library [[1]](#pytorchgeomintro).\n",
    "\n",
    "Upon completing this practical, you will have:\n",
    "\n",
    "*   Studied a hands-on introduction to the graph classification problem;\n",
    "*   Enhanced your understanding of Graph Neural Networks by implementing a message passing GNN (as described in the lecture notes) from scratch in PyTorch;\n",
    "*   Learned how to use the PyTorch Geometric library for minibatching graphs.\n",
    "\n"
   ]
  },
  {
   "cell_type": "markdown",
   "id": "cc9oo1kU_Qjb",
   "metadata": {
    "id": "cc9oo1kU_Qjb"
   },
   "source": [
    "# Preparation\n",
    "To start, we install the packages we need, set up some formatting for the notebook, and download the data we use in this practical. If necessary, uncomment and run the cell below to install the required packages (for example if you're using google colab)."
   ]
  },
  {
   "cell_type": "code",
   "execution_count": 1,
   "id": "djyRhMjVChaz",
   "metadata": {
    "colab": {
     "base_uri": "https://localhost:8080/"
    },
    "id": "djyRhMjVChaz",
    "outputId": "c4438934-8cf0-4521-865e-e5f459f720ed"
   },
   "outputs": [],
   "source": [
    "# # PyTorch Geometric is not part of the standard Colab packages, we must install it ourselves\n",
    "# !pip install -q torch-scatter -f https://pytorch-geometric.com/whl/torch-1.8.0+cu101.html\n",
    "# !pip install -q torch-sparse -f https://pytorch-geometric.com/whl/torch-1.8.0+cu101.html\n",
    "# !pip install -q torch-geometric\n",
    "\n",
    "\n",
    "#!pip install decorator==5.0.9"
   ]
  },
  {
   "cell_type": "code",
   "execution_count": 2,
   "id": "TmqpM9AyDGkj",
   "metadata": {
    "id": "TmqpM9AyDGkj"
   },
   "outputs": [],
   "source": [
    "# # We want to limit the height of the output cells.\n",
    "from IPython.display import HTML, display, Javascript\n",
    "import time"
   ]
  },
  {
   "cell_type": "code",
   "execution_count": 3,
   "id": "22bda20d",
   "metadata": {
    "colab": {
     "base_uri": "https://localhost:8080/",
     "height": 85
    },
    "id": "22bda20d",
    "outputId": "0a656e53-5d54-4eca-8a60-b4b22217dbc6"
   },
   "outputs": [],
   "source": [
    "# We will use the Mutagenicity dataset, which is part of the standard datasets in torch geometric.\n",
    "# downloading may take some time\n",
    "from torch_geometric.datasets import TUDataset\n",
    "import numpy as np\n",
    "dataset = TUDataset(root='data/mutagen', name='Mutagenicity', use_node_attr=True, use_edge_attr=False)"
   ]
  },
  {
   "cell_type": "code",
   "execution_count": 4,
   "id": "f1a84ef0",
   "metadata": {},
   "outputs": [],
   "source": [
    "# the below list and dict maps an integer to the corresponiding element string and an element string to a color respectively.\n",
    "# this will be useful for plotting molecules later on\n",
    "\n",
    "element_map = ['C', 'O', 'Cl', 'H', 'N', 'F', 'Br', 'S', 'P', 'I', 'Na', 'K', 'Li', 'Ca']\n",
    "element_color = {\n",
    "    'H': [1.0, 1.0, 1.0],\n",
    " 'Li': [0.8, 0.5019607843137255, 1.0],\n",
    " 'C': [0.5647058823529412, 0.5647058823529412, 0.5647058823529412],\n",
    " 'N': [0.18823529411764706, 0.3137254901960784, 0.9725490196078431],\n",
    " 'O': [1.0, 0.050980392156862744, 0.050980392156862744],\n",
    " 'F': [0.5647058823529412, 0.8784313725490196, 0.3137254901960784],\n",
    " 'Na': [0.6705882352941176, 0.3607843137254902, 0.9490196078431372],\n",
    " 'P': [1.0, 0.5019607843137255, 0.0],\n",
    " 'S': [1.0, 1.0, 0.18823529411764706],\n",
    " 'Cl': [0.12156862745098039, 0.9411764705882353, 0.12156862745098039],\n",
    " 'K': [0.5607843137254902, 0.25098039215686274, 0.8313725490196079],\n",
    " 'Ca': [0.23921568627450981, 1.0, 0.0],\n",
    "'Br': [0.6509803921568628, 0.1607843137254902, 0.1607843137254902],\n",
    " 'I': [0.5803921568627451, 0.0, 0.5803921568627451]}"
   ]
  },
  {
   "cell_type": "markdown",
   "id": "UUy-_h3cAW_N",
   "metadata": {
    "id": "UUy-_h3cAW_N"
   },
   "source": [
    "# Problem Formulation\n",
    "The type of data we consider is graph data, where a graph is defined by its nodes and edges, $\\mathcal{G} = (\\mathcal{V},\\mathcal{E})$. The dataset consists of many (comparatively small) graphs, and we seek to classify these graphs in their entirety. As such, in this practical, a *graph* is analogous to an image in an image classification task (as opposed to the earlier tutorial, where we tried to classify each *node* in a graph).\n",
    "\n",
    "We can define our data $X$ as a set of graphs, i.e., $X = \\{\\mathcal{G}_0, \\mathcal{G}_1, \\ldots, \\mathcal{G}_n\\}$, wich corresponding labels $\\{Y_0, Y_1, \\ldots, Y_n\\}$.\n",
    "\n",
    "## Dataset: Database of molecules and their mutagenicity\n",
    "The dataset we look at for this practical consists of molecules and their mutagenicity property[[2]](#mutagenicity). This property describes whether a molecule can induce genetic mutations or not, making it a binary attribute. \n",
    "\n",
    "The datapoints in the dataset are molecular graphs $\\mathcal{G}_i \\in X$, and each such molecule-graph is assigned a label 0 (no mutagenicity) or 1 (mutagenicity). The nodes in the molecule-graph indicate (chemical) elements, whereas edges indicate connections between these elements.\n",
    "\n",
    "We want to train a GNN to take these graphs as input and output a prediction. Note that there are no constraints on these graphs in terms of size or connections, and consequently our model must be able to process arbitrary graphs. This is where the use of GNNs shines, as this class of NN-models can process graphs of arbitrary shape.\n",
    "\n",
    "Next, we will further examine our dataset and split it into a train and validation set; note that for this practical, we don't use a test set.\n"
   ]
  },
  {
   "cell_type": "code",
   "execution_count": 5,
   "id": "_peXi7DIfAbG",
   "metadata": {
    "colab": {
     "base_uri": "https://localhost:8080/",
     "height": 136
    },
    "id": "_peXi7DIfAbG",
    "outputId": "95fea4fe-645c-4613-db97-c17fd6c1e0cb"
   },
   "outputs": [
    {
     "name": "stdout",
     "output_type": "stream",
     "text": [
      "Number of examples: 4337\n",
      "\n",
      "Let's print a few examples' shape:\n",
      "Data(edge_index=[2, 32], x=[16, 14], edge_attr=[32, 3], y=[1])\n",
      "Data(edge_index=[2, 154], x=[72, 14], edge_attr=[154, 3], y=[1])\n",
      "Data(edge_index=[2, 26], x=[14, 14], edge_attr=[26, 3], y=[1])\n",
      "Data(edge_index=[2, 76], x=[36, 14], edge_attr=[76, 3], y=[1])\n"
     ]
    }
   ],
   "source": [
    "print(f'Number of examples: {len(dataset)}')\n",
    "print('')\n",
    "print(\"Let's print a few examples' shape:\")\n",
    "for i in range(4):\n",
    "    print(dataset[i])"
   ]
  },
  {
   "cell_type": "markdown",
   "id": "kS1M89qFfr4s",
   "metadata": {
    "id": "kS1M89qFfr4s"
   },
   "source": [
    "The dataset consists of 4337 molecules. As we can see from printing a few examples, they vary in shape. As a reminder of what these tensors are, for an arbitrary graph $\\mathcal{G}$:\n",
    "\n",
    "$edge\\_attr=[\\mathcal{G}_\\mathcal{E}, \\mathcal{E}_a]$: Edge attributes, for each edge $\\mathcal{E}$ in graph $\\mathcal{G}$, we have $\\mathcal{E}_a$ attributes. For simplicity, we do not use these attributes in this notebook, but once you have a GNN architecture set up, it should be straightforward to incorporate edge features as well.\n",
    "\n",
    "$edge\\_index=[2, \\mathcal{G}_\\mathcal{E}]$: The tensor describing all edges in the graph. The first row describes the source node of each edge, whereas the second row describes the target node of each edge. E.g., $edge\\_index=[[0, 1, 2], [3, 4, 5]]$ describes edges $(0, 3), (1, 4)$ and $(2, 5)$. For undirected graphs (as in this practical), we assume that the edge index contains both $(i ,j)$ and $(j,i)$ for all connected nodes $i, j$.\n",
    "\n",
    "$x=[\\mathcal{G}_\\mathcal{V}, \\mathcal{V}_a]$: The tensor describing all nodes and their attributes. For each node $\\mathcal{V}$ in graph $\\mathcal{G}$, we have $\\mathcal{V}_a$ attributes.\n",
    "\n",
    "$y=[1]$: The (binary) label for the graph.\n",
    "\n"
   ]
  },
  {
   "cell_type": "markdown",
   "id": "CPAl4NJGhzXh",
   "metadata": {
    "id": "CPAl4NJGhzXh"
   },
   "source": [
    "The number of nodes and edges ($\\mathcal{G}_\\mathcal{V}$ and $\\mathcal{G}_\\mathcal{E}$) can differ for each graph, whereas the node and edge attributes ($\\mathcal{V}_a$ and $\\mathcal{E}_a$) are fixed for the entire dataset. As stated before, we do not use the edge attributes in this practical. The node attributes *are* used. Each node has a one-hot vector that indicates what element the node is. The following 14 elements are used in this dataset:\n",
    "```\n",
    "['C', 'O', 'Cl', 'H', 'N', 'F', 'Br', 'S', 'P', 'I', 'Na', 'K', 'Li', 'Ca']\n",
    "```\n",
    "For each node, the attribute is a one-hot encoding with the index of the 1 indicating what element it is, according to the list printed above.\n",
    "\n",
    "We aim to use these node attributes ($x$) along with their connections ($edge\\_index$) to predict the mutagenicity of the molecule ($y$). To get an idea of what a single datapoint looks like, we define a function to draw one."
   ]
  },
  {
   "cell_type": "code",
   "execution_count": 6,
   "id": "1964036f",
   "metadata": {
    "colab": {
     "base_uri": "https://localhost:8080/",
     "height": 17
    },
    "id": "1964036f",
    "outputId": "223a40e1-9318-446d-d6a7-397d40d8ce42"
   },
   "outputs": [],
   "source": [
    "%matplotlib inline\n",
    "import networkx as nx\n",
    "import numpy as np\n",
    "import matplotlib.pyplot as plt\n",
    "\n",
    "def draw_molecule(graph, title=''):\n",
    "    plt.figure(figsize=(10, 5))\n",
    "    nodes = {}  # create a node dict (idx:element) to create a nx graph\n",
    "    for i in range(graph.x.shape[0]):\n",
    "        element_idx = np.argmax(graph.x[i])\n",
    "        nodes[i] = element_map[element_idx]\n",
    "    edges = []  # create an edge list for the nx graph\n",
    "    for i in range(graph.edge_index.shape[1]):\n",
    "        s, t = graph.edge_index[:, [i]]\n",
    "        s, t = int(s), int(t)\n",
    "        edges.append((s, t))\n",
    "\n",
    "    g = nx.Graph()  # create a graph\n",
    "    g.add_nodes_from(nodes)\n",
    "    g.add_edges_from(edges) \n",
    "    \n",
    "    pos = nx.planar_layout(g)  # the graph has no 'position': generate a node-layout\n",
    "    pos = nx.spring_layout(g, pos=pos)\n",
    "\n",
    "    colors = [element_color[i] for _, i in nodes.items()]  # set the color for each node\n",
    "    nx.draw(g, pos=pos, labels=nodes, node_color=colors, width=1)  # and draw the graph\n",
    "    \n",
    "    ax = plt.gca()\n",
    "    ax.collections[0].set_edgecolor(\"#000000\")  # color the edges\n",
    "    \n",
    "    display(HTML(\"\"\"<style>#output-body {display: flex;align-items: center;justify-content: center;}</style>\"\"\"))  # center the image\n",
    "    \n",
    "    plt.title(title)\n",
    "    plt.show()"
   ]
  },
  {
   "cell_type": "code",
   "execution_count": 7,
   "id": "dc7acb62",
   "metadata": {
    "colab": {
     "base_uri": "https://localhost:8080/",
     "height": 407
    },
    "id": "dc7acb62",
    "outputId": "6dad8e1a-439f-46f9-8e8a-601f8236b128"
   },
   "outputs": [
    {
     "data": {
      "text/html": [
       "<style>#output-body {display: flex;align-items: center;justify-content: center;}</style>"
      ],
      "text/plain": [
       "<IPython.core.display.HTML object>"
      ]
     },
     "metadata": {},
     "output_type": "display_data"
    },
    {
     "data": {
      "image/png": "[encoded data removed]",
      "text/plain": [
       "<Figure size 720x360 with 1 Axes>"
      ]
     },
     "metadata": {},
     "output_type": "display_data"
    }
   ],
   "source": [
    "idx = 0\n",
    "draw_molecule(dataset[idx], f'Sample {idx}, Mutagenicity = {bool(dataset[idx].y)}')"
   ]
  },
  {
   "cell_type": "markdown",
   "id": "Wl13S34gkjvE",
   "metadata": {
    "id": "Wl13S34gkjvE"
   },
   "source": [
    "Note that the location / layout of the nodes is somewhat arbitrary, and is generated by our drawing function. The graph information we have only considers the nodes' element, alongside what other nodes they are connected to. There are no 'coordinates' available."
   ]
  },
  {
   "cell_type": "markdown",
   "id": "kVafXLUnlJQ-",
   "metadata": {
    "id": "kVafXLUnlJQ-"
   },
   "source": [
    "Next, we will split our dataset into a train and validation set and define a dataloader. The latter allows us to process graphs in minibatches."
   ]
  },
  {
   "cell_type": "code",
   "execution_count": 8,
   "id": "p_xlCEMvAAw1",
   "metadata": {
    "colab": {
     "base_uri": "https://localhost:8080/",
     "height": 17
    },
    "id": "p_xlCEMvAAw1",
    "outputId": "82b8dd49-57ad-4644-b224-51bf80c527d9"
   },
   "outputs": [],
   "source": [
    "'''\n",
    "We simply shuffle and split the dataset to create a train and validation set.\n",
    "'''\n",
    "dataset.shuffle() # first, shuffle our dataset\n",
    "train_idx = round(len(dataset) * 0.8) # 80:20 for the train:validation split\n",
    "dataset_train = dataset[:train_idx]\n",
    "dataset_val = dataset[train_idx:]"
   ]
  },
  {
   "cell_type": "code",
   "execution_count": 9,
   "id": "d97691e3",
   "metadata": {
    "colab": {
     "base_uri": "https://localhost:8080/",
     "height": 17
    },
    "id": "d97691e3",
    "outputId": "fb45418e-ce88-449d-9e0c-93722c288a7d"
   },
   "outputs": [],
   "source": [
    "'''\n",
    "To process the dataset in minibatches, we use a DataLoader object. All we must do\n",
    "is supply the data and set the batch_size, PyTorch Geometric will take care of the rest.\n",
    "Note that the batch_size indicates the number of graphs in a batch, not the number of nodes.\n",
    "'''\n",
    "from torch_geometric.loader import DataLoader\n",
    "\n",
    "batch_size = 256\n",
    "train_loader = DataLoader(dataset_train, batch_size=batch_size, shuffle=True)\n",
    "val_loader = DataLoader(dataset_val, batch_size=batch_size, shuffle=False)"
   ]
  },
  {
   "cell_type": "code",
   "execution_count": 10,
   "id": "Zdbbb1sqptX1",
   "metadata": {
    "colab": {
     "base_uri": "https://localhost:8080/",
     "height": 34
    },
    "id": "Zdbbb1sqptX1",
    "outputId": "25fe4542-2cd5-4610-a3f0-c048cb4e9891"
   },
   "outputs": [
    {
     "name": "stdout",
     "output_type": "stream",
     "text": [
      "DataBatch(edge_index=[2, 15292], x=[7402, 14], edge_attr=[15292, 3], y=[256], batch=[7402], ptr=[257])\n"
     ]
    }
   ],
   "source": [
    "# To understand how graphs are batched, print one\n",
    "for data in train_loader:\n",
    "    print(data)\n",
    "    break"
   ]
  },
  {
   "cell_type": "markdown",
   "id": "azAAam4rp0IP",
   "metadata": {
    "id": "azAAam4rp0IP"
   },
   "source": [
    "Minibatching with graphs is slightly trickier than with structured inputs, as each graph consists of different amounts of nodes and edges, and PyTorch requires all tensors in the batch to be of the same size. In short, to efficiently process all nodes in a batch, PyTorch Geometric concatenates all node/edge data for all graphs in the batch to a single graph object, where each individual graph is a disconnected component (which explains the singular and large $x$/$edge\\_index$, etc). In computer memory, this graph is represented as a single tensor, allowing more efficient processing on the GPU. To be able to identify to which individual graph a node belongs, a $batch$ tensor maps each node to the graph it belongs to. For more information, we refer to the [documentation](https://pytorch-geometric.readthedocs.io/en/latest/notes/introduction.html#mini-batches)."
   ]
  },
  {
   "cell_type": "markdown",
   "id": "QRYLDURxAwJS",
   "metadata": {
    "id": "QRYLDURxAwJS"
   },
   "source": [
    "# Graph Classification\n",
    "Now that we have discussed the problem and dataset, we can move towards a solution to the problem. Although PyTorch Geometric already implements many common GNN architectures, the goal of this practical is to deepen your understanding by implementing a GNN from scratch in PyTorch. This will also help you in possible future projects or assignments where off-the-shelf GNN architectures may be suboptimal.\n",
    "\n",
    "In the below cells, we provide some imports that will come in handy, as well as a few skeleton classes that can help you to structure your implementation.\n",
    "\n",
    "An accuracy of 75-80% on the validation set should be achievable with a relatively simple network and without too much parameter tuning, within 100 training epochs. Indicitavely, my own solution takes about 400 seconds of training time on my laptop."
   ]
  },
  {
   "cell_type": "code",
   "execution_count": 11,
   "id": "1493c6e5",
   "metadata": {
    "colab": {
     "base_uri": "https://localhost:8080/",
     "height": 17
    },
    "id": "1493c6e5",
    "outputId": "e0365ff4-a07e-400b-fda8-01074554e3a7"
   },
   "outputs": [],
   "source": [
    "num_features = int(dataset_train[0].x.shape[1])\n",
    "num_classes = int(max([d.y for d in dataset_train])+1)\n",
    "import torch\n",
    "import torch.nn as nn"
   ]
  },
  {
   "cell_type": "markdown",
   "id": "1adccad0",
   "metadata": {},
   "source": [
    "# $$x_i^{(k)} = \\gamma^{(k)} \\left( x_i^{(k-1)}, \\cup_{j \\in N(i)} \\phi^{(k)} \\left(x_i^{(k-1)}, x_j^{(k-1)}, e_{j,i} \\right) \\right) $$\n",
    "\n",
    "$\\gamma$ is the node update function, $\\cup$ is the aggregation function, and $\\phi$ is the edge transfer function."
   ]
  },
  {
   "cell_type": "code",
   "execution_count": 13,
   "id": "OWFeY_tDmlnn",
   "metadata": {
    "colab": {
     "base_uri": "https://localhost:8080/",
     "height": 17
    },
    "id": "OWFeY_tDmlnn",
    "outputId": "cca5c962-7d76-4f7e-9eb2-0e16d2469e42"
   },
   "outputs": [],
   "source": [
    "\"\"\"\n",
    "Implement a message passing GNN.\n",
    "Hint: you might want to look into torch.Tensor.scatter_add_() or similar functions for aggregating tensors at specified indices.\n",
    "\"\"\"\n",
    "\n",
    "class Node_to_emb(nn.Module):  # transforms input nodes to an embedding (similar to word embedding in NLP)\n",
    "    #### why would an embedding layer be useful?\n",
    "\n",
    "    def __init__(self, node_feat_dim=14, node_emb_dim=64):\n",
    "        super().__init__()\n",
    "        self.emb_dim = node_emb_dim\n",
    "        self.node_dim = node_feat_dim\n",
    "        self.emb = nn.Linear(self.node_dim, self.emb_dim)\n",
    "        \n",
    "\n",
    "    def forward(self, nodes):\n",
    "        assert nodes.size(-1) == self.node_dim, 'wrong input dimension of node features!'\n",
    "        out = self.emb(nodes)\n",
    "        return out\n",
    "\n",
    "\n",
    "    \n",
    "    \n",
    "class MpLayer(torch.nn.Module):  # a neural message passing layer\n",
    "    def __init__(self, hidden_dim, activation=nn.ReLU()):\n",
    "        super(MpLayer, self).__init__()\n",
    "        \n",
    "        #  Hint: which neural networks are used in neural message passing?\n",
    "        \n",
    "        self.edge_network = nn.Sequential(nn.Linear(2*hidden_dim, hidden_dim),\n",
    "                                          activation,\n",
    "                                          nn.Linear(hidden_dim, hidden_dim),\n",
    "                                          activation\n",
    "                                          )\n",
    "        \n",
    "        self.node_network = nn.Sequential(nn.Linear(2*hidden_dim, hidden_dim),\n",
    "                                          activation,\n",
    "                                          nn.Linear(hidden_dim, hidden_dim),\n",
    "                                          )\n",
    "        \n",
    "    def forward(self, input_to_layer):\n",
    "        node_tensor, edge_idx_tensor = input_to_layer\n",
    "        edge_messages_input = torch.concat([node_tensor[edge_idx_tensor[0,:]], node_tensor[edge_idx_tensor[1,:]]], dim=-1) # shape (num_edges, 2*node_dim + edge_dim)\n",
    "        edge_messages_output = self.edge_network(edge_messages_input) # shape (num_edges, hidden_dim)\n",
    "        \n",
    "        #now aggregate the edge messages for each node the edge points to:\n",
    "        \n",
    "        node_agg_messages = torch.zeros(node_tensor.size(0), node_tensor.size(1)).to(node_tensor.device)\n",
    "        node_agg_messages = node_agg_messages.scatter_add_(\n",
    "            dim=0, index=edge_idx_tensor[1].unsqueeze(-1).expand(-1, node_tensor.size(1)), src=edge_messages_output\n",
    "        )\n",
    "        \n",
    "        #### why does the aggregation function need to be permutationally invariant? What is another aggregation function\n",
    "        #### that could be used?\n",
    "        \n",
    "        #put the aggregated messages through the node update network:\n",
    "        node_out = self.node_network(torch.cat([node_tensor, node_agg_messages], dim=-1))\n",
    "\n",
    "        return node_out, edge_idx_tensor\n",
    "        \n",
    "        \n",
    "\n",
    "class MpGNN(torch.nn.Module): # a message passing GNN\n",
    "    def __init__(self, node_feat_dim, hidden_dim, activation=nn.ReLU(), num_layers=3, num_classes=2):\n",
    "        super(MpGNN, self).__init__()\n",
    "        \n",
    "        #  Hint: the MpGNN must embed the categorical node features, apply message passing layers,\n",
    "        #        and finally predict the mutagenicity of each graph in the batch.\n",
    "        \n",
    "        self.node_to_emb = Node_to_emb(node_feat_dim, hidden_dim)\n",
    "        self.forward_net = nn.Sequential(\n",
    "            *[MpLayer(hidden_dim, activation) for i in range(num_layers)]\n",
    "        )\n",
    "        self.to_pred = nn.Sequential(nn.Linear(hidden_dim, num_classes), torch.nn.Softmax())\n",
    "        \n",
    "        \n",
    "\n",
    "    def forward(self, x, edge_index, batch):\n",
    "        x = self.node_to_emb(x)\n",
    "#         print(x.size(), edge_index.size())\n",
    "        input_model = (x, edge_index)\n",
    "        output_model = self.forward_net(input_model)\n",
    "        x,_ = output_model\n",
    "        \n",
    "        out = torch.zeros(max(batch)+1, x.size(1)).to(x.device)\n",
    "        idx_aggregate_graph = batch.unsqueeze(-1).expand(-1, x.size(1))\n",
    "    \n",
    "\n",
    "        out.scatter_add_(dim=0, index=idx_aggregate_graph, src=x) # aggregate all node embeddings per graph in the batch\n",
    "        \n",
    "        x = self.to_pred(out)\n",
    "        return x\n",
    "        \n",
    "        "
   ]
  },
  {
   "cell_type": "code",
   "execution_count": 14,
   "id": "ce7adbf6",
   "metadata": {
    "colab": {
     "base_uri": "https://localhost:8080/",
     "height": 34
    },
    "id": "ce7adbf6",
    "outputId": "2c9f2a3a-3204-4175-95cf-0102dba5d8b0"
   },
   "outputs": [
    {
     "name": "stdout",
     "output_type": "stream",
     "text": [
      "Loaded device: cpu\n"
     ]
    }
   ],
   "source": [
    "'''\n",
    "Hint: you might want to try running on the cpu first for easier debugging. \n",
    "Additionally, depending on your implementation, the GPU may not even be faster than the CPU.\n",
    "(note that the focus of this assignment is not the efficiency of the implementation on the GPU).\n",
    "'''\n",
    "\n",
    "device = torch.device('cuda' if torch.cuda.is_available() else 'cpu')\n",
    "device='cpu'\n",
    "print(f'Loaded device: {device}')"
   ]
  },
  {
   "cell_type": "code",
   "execution_count": 15,
   "id": "c65a110c",
   "metadata": {
    "id": "c65a110c"
   },
   "outputs": [
    {
     "name": "stderr",
     "output_type": "stream",
     "text": [
      "C:\\Users\\s161975\\Anaconda3\\lib\\site-packages\\torch\\nn\\modules\\container.py:141: UserWarning: Implicit dimension choice for softmax has been deprecated. Change the call to include dim=X as an argument.\n",
      "  input = module(input)\n"
     ]
    },
    {
     "name": "stdout",
     "output_type": "stream",
     "text": [
      "Epoch: 001, Train Acc: 0.4395, Validation Acc: 0.4567. Training time so far: 4.3 s\n",
      "Epoch: 002, Train Acc: 0.6429, Validation Acc: 0.6332. Training time so far: 8.4 s\n",
      "Epoch: 003, Train Acc: 0.6372, Validation Acc: 0.6390. Training time so far: 12.3 s\n",
      "Epoch: 004, Train Acc: 0.5971, Validation Acc: 0.6055. Training time so far: 16.8 s\n",
      "Epoch: 005, Train Acc: 0.6573, Validation Acc: 0.6448. Training time so far: 21.8 s\n",
      "Epoch: 006, Train Acc: 0.6787, Validation Acc: 0.6424. Training time so far: 26.7 s\n",
      "Epoch: 007, Train Acc: 0.6744, Validation Acc: 0.6482. Training time so far: 31.3 s\n",
      "Epoch: 008, Train Acc: 0.6911, Validation Acc: 0.6863. Training time so far: 36.0 s\n",
      "Epoch: 009, Train Acc: 0.7040, Validation Acc: 0.6817. Training time so far: 40.7 s\n",
      "Epoch: 010, Train Acc: 0.7115, Validation Acc: 0.6990. Training time so far: 46.0 s\n",
      "Epoch: 011, Train Acc: 0.7112, Validation Acc: 0.7001. Training time so far: 51.4 s\n",
      "Epoch: 012, Train Acc: 0.7375, Validation Acc: 0.7486. Training time so far: 56.3 s\n",
      "Epoch: 013, Train Acc: 0.7395, Validation Acc: 0.7566. Training time so far: 61.0 s\n",
      "Epoch: 014, Train Acc: 0.6968, Validation Acc: 0.6967. Training time so far: 66.2 s\n",
      "Epoch: 015, Train Acc: 0.7219, Validation Acc: 0.7220. Training time so far: 71.2 s\n",
      "Epoch: 016, Train Acc: 0.7323, Validation Acc: 0.7486. Training time so far: 76.1 s\n",
      "Epoch: 017, Train Acc: 0.7078, Validation Acc: 0.6990. Training time so far: 80.7 s\n",
      "Epoch: 018, Train Acc: 0.7337, Validation Acc: 0.7382. Training time so far: 85.7 s\n",
      "Epoch: 019, Train Acc: 0.7493, Validation Acc: 0.7555. Training time so far: 90.8 s\n",
      "Epoch: 020, Train Acc: 0.7527, Validation Acc: 0.7497. Training time so far: 95.7 s\n",
      "Epoch: 021, Train Acc: 0.7421, Validation Acc: 0.7566. Training time so far: 100.4 s\n",
      "Epoch: 022, Train Acc: 0.7516, Validation Acc: 0.7428. Training time so far: 105.4 s\n",
      "Epoch: 023, Train Acc: 0.7409, Validation Acc: 0.7589. Training time so far: 110.1 s\n",
      "Epoch: 024, Train Acc: 0.7530, Validation Acc: 0.7439. Training time so far: 114.9 s\n",
      "Epoch: 025, Train Acc: 0.7539, Validation Acc: 0.7486. Training time so far: 119.7 s\n",
      "Epoch: 026, Train Acc: 0.7527, Validation Acc: 0.7636. Training time so far: 125.0 s\n",
      "Epoch: 027, Train Acc: 0.7363, Validation Acc: 0.7347. Training time so far: 129.8 s\n",
      "Epoch: 028, Train Acc: 0.7473, Validation Acc: 0.7486. Training time so far: 134.9 s\n",
      "Epoch: 029, Train Acc: 0.7588, Validation Acc: 0.7659. Training time so far: 139.6 s\n",
      "Epoch: 030, Train Acc: 0.7573, Validation Acc: 0.7659. Training time so far: 144.4 s\n",
      "Epoch: 031, Train Acc: 0.7519, Validation Acc: 0.7439. Training time so far: 149.3 s\n",
      "Epoch: 032, Train Acc: 0.7579, Validation Acc: 0.7693. Training time so far: 154.3 s\n",
      "Epoch: 033, Train Acc: 0.7576, Validation Acc: 0.7543. Training time so far: 159.2 s\n",
      "Epoch: 034, Train Acc: 0.7398, Validation Acc: 0.7359. Training time so far: 164.0 s\n",
      "Epoch: 035, Train Acc: 0.7536, Validation Acc: 0.7636. Training time so far: 169.1 s\n",
      "Epoch: 036, Train Acc: 0.7637, Validation Acc: 0.7636. Training time so far: 174.2 s\n",
      "Epoch: 037, Train Acc: 0.7571, Validation Acc: 0.7636. Training time so far: 179.5 s\n",
      "Epoch: 038, Train Acc: 0.7585, Validation Acc: 0.7589. Training time so far: 184.2 s\n",
      "Epoch: 039, Train Acc: 0.7553, Validation Acc: 0.7463. Training time so far: 189.1 s\n",
      "Epoch: 040, Train Acc: 0.7519, Validation Acc: 0.7612. Training time so far: 193.8 s\n",
      "Epoch: 041, Train Acc: 0.7545, Validation Acc: 0.7543. Training time so far: 198.6 s\n",
      "Epoch: 042, Train Acc: 0.7573, Validation Acc: 0.7647. Training time so far: 203.3 s\n",
      "Epoch: 043, Train Acc: 0.7395, Validation Acc: 0.7416. Training time so far: 208.3 s\n",
      "Epoch: 044, Train Acc: 0.7686, Validation Acc: 0.7693. Training time so far: 213.2 s\n",
      "Epoch: 045, Train Acc: 0.7646, Validation Acc: 0.7647. Training time so far: 218.0 s\n",
      "Epoch: 046, Train Acc: 0.7663, Validation Acc: 0.7785. Training time so far: 222.9 s\n",
      "Epoch: 047, Train Acc: 0.7300, Validation Acc: 0.7428. Training time so far: 227.7 s\n",
      "Epoch: 048, Train Acc: 0.7631, Validation Acc: 0.7543. Training time so far: 232.5 s\n",
      "Epoch: 049, Train Acc: 0.7418, Validation Acc: 0.7347. Training time so far: 237.1 s\n",
      "Epoch: 050, Train Acc: 0.7501, Validation Acc: 0.7497. Training time so far: 241.7 s\n",
      "Epoch: 051, Train Acc: 0.7622, Validation Acc: 0.7624. Training time so far: 246.2 s\n",
      "Epoch: 052, Train Acc: 0.7772, Validation Acc: 0.7739. Training time so far: 251.1 s\n",
      "Epoch: 053, Train Acc: 0.7700, Validation Acc: 0.7728. Training time so far: 255.9 s\n",
      "Epoch: 054, Train Acc: 0.7787, Validation Acc: 0.7774. Training time so far: 260.9 s\n",
      "Epoch: 055, Train Acc: 0.7807, Validation Acc: 0.7809. Training time so far: 265.8 s\n",
      "Epoch: 056, Train Acc: 0.7692, Validation Acc: 0.7670. Training time so far: 270.7 s\n",
      "Epoch: 057, Train Acc: 0.7833, Validation Acc: 0.7555. Training time so far: 275.3 s\n",
      "Epoch: 058, Train Acc: 0.7772, Validation Acc: 0.7762. Training time so far: 280.0 s\n",
      "Epoch: 059, Train Acc: 0.7467, Validation Acc: 0.7532. Training time so far: 284.8 s\n",
      "Epoch: 060, Train Acc: 0.7608, Validation Acc: 0.7647. Training time so far: 289.6 s\n",
      "Epoch: 061, Train Acc: 0.7697, Validation Acc: 0.7624. Training time so far: 294.6 s\n",
      "Epoch: 062, Train Acc: 0.7798, Validation Acc: 0.7797. Training time so far: 299.5 s\n",
      "Epoch: 063, Train Acc: 0.7473, Validation Acc: 0.7532. Training time so far: 304.0 s\n",
      "Epoch: 064, Train Acc: 0.7767, Validation Acc: 0.7670. Training time so far: 308.7 s\n",
      "Epoch: 065, Train Acc: 0.7902, Validation Acc: 0.7647. Training time so far: 313.4 s\n",
      "Epoch: 066, Train Acc: 0.7905, Validation Acc: 0.7716. Training time so far: 318.2 s\n",
      "Epoch: 067, Train Acc: 0.7804, Validation Acc: 0.7716. Training time so far: 323.4 s\n",
      "Epoch: 068, Train Acc: 0.7801, Validation Acc: 0.7636. Training time so far: 328.0 s\n",
      "Epoch: 069, Train Acc: 0.7850, Validation Acc: 0.7693. Training time so far: 332.5 s\n",
      "Epoch: 070, Train Acc: 0.7888, Validation Acc: 0.7751. Training time so far: 337.1 s\n",
      "Epoch: 071, Train Acc: 0.7844, Validation Acc: 0.7797. Training time so far: 341.9 s\n",
      "Epoch: 072, Train Acc: 0.7980, Validation Acc: 0.7889. Training time so far: 346.6 s\n",
      "Epoch: 073, Train Acc: 0.7893, Validation Acc: 0.7809. Training time so far: 351.2 s\n",
      "Epoch: 074, Train Acc: 0.7922, Validation Acc: 0.7878. Training time so far: 356.0 s\n",
      "Epoch: 075, Train Acc: 0.7767, Validation Acc: 0.7589. Training time so far: 360.9 s\n",
      "Epoch: 076, Train Acc: 0.7827, Validation Acc: 0.7716. Training time so far: 368.6 s\n",
      "Epoch: 077, Train Acc: 0.7790, Validation Acc: 0.7728. Training time so far: 374.3 s\n",
      "Epoch: 078, Train Acc: 0.7847, Validation Acc: 0.7797. Training time so far: 379.4 s\n",
      "Epoch: 079, Train Acc: 0.7939, Validation Acc: 0.7647. Training time so far: 384.3 s\n",
      "Epoch: 080, Train Acc: 0.7971, Validation Acc: 0.7716. Training time so far: 389.5 s\n",
      "Epoch: 081, Train Acc: 0.7974, Validation Acc: 0.7832. Training time so far: 394.7 s\n",
      "Epoch: 082, Train Acc: 0.8009, Validation Acc: 0.7832. Training time so far: 399.6 s\n",
      "Epoch: 083, Train Acc: 0.8014, Validation Acc: 0.7843. Training time so far: 404.3 s\n",
      "Epoch: 084, Train Acc: 0.7697, Validation Acc: 0.7520. Training time so far: 409.1 s\n",
      "Epoch: 085, Train Acc: 0.7937, Validation Acc: 0.7774. Training time so far: 414.2 s\n",
      "Epoch: 086, Train Acc: 0.7997, Validation Acc: 0.7739. Training time so far: 419.0 s\n",
      "Epoch: 087, Train Acc: 0.8003, Validation Acc: 0.7889. Training time so far: 424.1 s\n",
      "Epoch: 088, Train Acc: 0.8061, Validation Acc: 0.7797. Training time so far: 429.0 s\n",
      "Epoch: 089, Train Acc: 0.7977, Validation Acc: 0.7912. Training time so far: 434.1 s\n",
      "Epoch: 090, Train Acc: 0.7614, Validation Acc: 0.7693. Training time so far: 439.3 s\n",
      "Epoch: 091, Train Acc: 0.7948, Validation Acc: 0.7809. Training time so far: 444.1 s\n",
      "Epoch: 092, Train Acc: 0.7859, Validation Acc: 0.7774. Training time so far: 448.9 s\n",
      "Epoch: 093, Train Acc: 0.8017, Validation Acc: 0.7878. Training time so far: 453.9 s\n",
      "Epoch: 094, Train Acc: 0.8078, Validation Acc: 0.7947. Training time so far: 458.9 s\n",
      "Epoch: 095, Train Acc: 0.7844, Validation Acc: 0.7693. Training time so far: 463.9 s\n",
      "Epoch: 096, Train Acc: 0.7784, Validation Acc: 0.7705. Training time so far: 469.1 s\n",
      "Epoch: 097, Train Acc: 0.8014, Validation Acc: 0.7924. Training time so far: 474.4 s\n"
     ]
    },
    {
     "name": "stdout",
     "output_type": "stream",
     "text": [
      "Epoch: 098, Train Acc: 0.8000, Validation Acc: 0.7797. Training time so far: 479.7 s\n",
      "Epoch: 099, Train Acc: 0.7965, Validation Acc: 0.7843. Training time so far: 484.7 s\n"
     ]
    }
   ],
   "source": [
    "'''\n",
    "Training the GNN\n",
    "'''\n",
    "model = MpGNN(14, 32, num_layers=5) # initialize our GNN\n",
    "# print(model)\n",
    "model.to(device)  # and move to the GPU, if possible\n",
    "\n",
    "optimizer = torch.optim.Adam(model.parameters())  # adam usually works well\n",
    "loss_func = torch.nn.CrossEntropyLoss()  # binary classification, so crossentropy is a suitable loss\n",
    "\n",
    "def train():\n",
    "    model.train()  # set the model to training mode\n",
    "    for data in train_loader:  # loop through the training set in a batch-wise fashion\n",
    "        data.to(device)  # move the batch to the device (GPU if applicable)\n",
    "        optimizer.zero_grad()  # set gradients to 0\n",
    "        out = model(data.x, data.edge_index, data.batch)  # propagate the data through the model\n",
    "        y_expanded = torch.zeros(data.y.size(0), 2).to(device)\n",
    "        y_expanded[:, 0] += data.y == 0\n",
    "        y_expanded[:, 1] += data.y == 1\n",
    "#         print(out[:1,:], y_expanded[:1,:])\n",
    "        loss = loss_func(out, y_expanded)  # compute the loss\n",
    "        loss.backward()  # derive gradients\n",
    "        optimizer.step()  # update all parameters based on the gradients\n",
    "\n",
    "\n",
    "def test(loader):\n",
    "    model.eval()  # set the model to evaluation mode (no dropout)\n",
    "    \n",
    "    correct = 0  # keep track of how many we have correct\n",
    "    total = 0  # and how many we handle in total\n",
    "    for data in loader:  # loop through the supplied dataset in a batch-wise fashion\n",
    "        data.to(device)  # transfer batch to device\n",
    "        out = model(data.x, data.edge_index, data.batch)  # propagate the data through the model\n",
    "        pred = out.argmax(dim=1)  # as prediction, we take the class with the highest probability\n",
    "        correct += int((pred == data.y).sum())  # add the number of correct predictions\n",
    "        total += len(data.y)  # and add the total number of elements\n",
    "    return correct / total  # return the accuracy\n",
    "\n",
    "\n",
    "train_accs = []\n",
    "val_accs = []\n",
    "epochs = 100\n",
    "start = time.time()\n",
    "for epoch in range(1, epochs):  # train for 100 epochs\n",
    "    train()  # do one training step over the entire dataset\n",
    "    with torch.no_grad():\n",
    "        train_acc = test(train_loader)  # compute the training accuracy\n",
    "        val_acc = test(val_loader)  # compute the validation accuracy\n",
    "    tic = time.time()\n",
    "    print(f'Epoch: {epoch:03d}, Train Acc: {train_acc:.4f}, Validation Acc: {val_acc:.4f}. Training time so far: {tic-start:.1f} s')\n",
    "    train_accs.append(train_acc)  # save accuracies so we can plot them\n",
    "    val_accs.append(val_acc)\n",
    "    "
   ]
  },
  {
   "cell_type": "code",
   "execution_count": 16,
   "id": "86218833",
   "metadata": {
    "colab": {
     "base_uri": "https://localhost:8080/",
     "height": 17
    },
    "id": "86218833",
    "outputId": "c7bc5a5c-5483-4872-b4ee-0ee61ec4b9de"
   },
   "outputs": [],
   "source": [
    "'''\n",
    "To get an overview of the accuracy over the training period, we define a simple function\n",
    "to plot the saved accuracies.\n",
    "'''\n",
    "def plot_train(train_accs, val_accs):\n",
    "    fig, ax = plt.subplots(figsize=(8,6))\n",
    "    fnt=16\n",
    "    ax.plot(train_accs, color='blue', label='Train')\n",
    "    ax.plot(val_accs, color='red', linestyle='--', label='Validation')\n",
    "    ax.legend(fontsize=fnt)\n",
    "    ax.tick_params(axis='both', labelsize=fnt)\n",
    "    ax.set_xlabel('Epoch', fontsize=fnt)\n",
    "    ax.set_ylabel('Accuracy', fontsize=fnt)"
   ]
  },
  {
   "cell_type": "code",
   "execution_count": 17,
   "id": "bx3vOYKJE8if",
   "metadata": {
    "id": "bx3vOYKJE8if"
   },
   "outputs": [
    {
     "data": {
      "image/png": "[encoded data removed]",
      "text/plain": [
       "<Figure size 576x432 with 1 Axes>"
      ]
     },
     "metadata": {
      "needs_background": "light"
     },
     "output_type": "display_data"
    }
   ],
   "source": [
    "plot_train(train_accs, val_accs)"
   ]
  },
  {
   "cell_type": "markdown",
   "id": "bd5cf249",
   "metadata": {
    "id": "bd5cf249"
   },
   "source": [
    "# Evaluation and discussion"
   ]
  },
  {
   "cell_type": "markdown",
   "id": "XkI9E--qsrxE",
   "metadata": {
    "id": "XkI9E--qsrxE"
   },
   "source": [
    "To conclude, we shortly evaluate the performance of our model, and use it to make predictions. We define a simple function for testing and drawing a single molecule (from the validation set)."
   ]
  },
  {
   "cell_type": "code",
   "execution_count": 18,
   "id": "75ID1fhKtir-",
   "metadata": {
    "id": "75ID1fhKtir-"
   },
   "outputs": [
    {
     "name": "stdout",
     "output_type": "stream",
     "text": [
      "Final validation accuracy: 0.7843137254901961\n"
     ]
    }
   ],
   "source": [
    "print(f'Final validation accuracy: {val_accs[-1]}')"
   ]
  },
  {
   "cell_type": "code",
   "execution_count": 19,
   "id": "ae0592b7",
   "metadata": {
    "colab": {
     "base_uri": "https://localhost:8080/",
     "height": 17
    },
    "id": "ae0592b7",
    "outputId": "701ace0f-a222-4312-d68b-85992b57dd40"
   },
   "outputs": [],
   "source": [
    "def test_sample(idx):\n",
    "    mol = dataset_val[idx]  # take our sample\n",
    "    mol.to(device)  # put it on device\n",
    "    pred = model(mol.x,  # propagate nodes\n",
    "                 mol.edge_index,   #  edges\n",
    "                 torch.zeros(mol.x.shape[0], dtype=torch.long).to(device))  # 'batch' object of 0s (the one graph in the batch)\n",
    "\n",
    "    pred = pred.to('cpu')  # put data back on cpu\n",
    "    mol = mol.to('cpu')\n",
    "    pred = int(pred.argmax(dim=1))  # gather predictions\n",
    "    true = int(mol.y)  \n",
    "    outcome = ['No mutagenicity', 'Mutagenicity']\n",
    "    outcome_text = 'Predicted = \"{}\", Ground-truth = \"{}\"'.format(outcome[pred], outcome[true])  # create outcome text\n",
    "    draw_molecule(mol, title=f'Sample {idx}\\n' + outcome_text)  # draw the prediction"
   ]
  },
  {
   "cell_type": "code",
   "execution_count": 20,
   "id": "b9365a11",
   "metadata": {
    "id": "b9365a11"
   },
   "outputs": [
    {
     "data": {
      "text/html": [
       "<style>#output-body {display: flex;align-items: center;justify-content: center;}</style>"
      ],
      "text/plain": [
       "<IPython.core.display.HTML object>"
      ]
     },
     "metadata": {},
     "output_type": "display_data"
    },
    {
     "data": {
      "image/png": "[encoded data removed]",
      "text/plain": [
       "<Figure size 720x360 with 1 Axes>"
      ]
     },
     "metadata": {},
     "output_type": "display_data"
    }
   ],
   "source": [
    "test_sample(1)"
   ]
  },
  {
   "cell_type": "markdown",
   "id": "ZCHMhGnpA1hq",
   "metadata": {
    "id": "ZCHMhGnpA1hq"
   },
   "source": [
    "## Discussion\n",
    "This concludes the practical on graph classification. We have focused on how to use GNNs to classify entire graphs, where the graphs can be of arbitrary size.\n",
    "\n",
    "We credit the Graph Classification tutorial provided by PyTorch Geometric[[3]](#pytorchgeom) as a foundation for this practical."
   ]
  },
  {
   "cell_type": "markdown",
   "id": "yCaIa48BA2z6",
   "metadata": {
    "id": "yCaIa48BA2z6"
   },
   "source": [
    "# References\n",
    "<a name=\"pytorchgeomintro\"></a>\n",
    "[1] https://pytorch-geometric.readthedocs.io/en/latest/index.html \n",
    "\n",
    "<a name=\"mutagenicity\"></a>\n",
    "[2] Kazius, J., McGuire, R., & Bursi, R. (2005). Derivation and validation of toxicophores for mutagenicity prediction. Journal of medicinal chemistry, 48(1), 312-320.\n",
    "\n",
    "<a name=\"pytorchgeom\"></a>\n",
    "[3] https://pytorch-geometric.readthedocs.io/en/latest/notes/colabs.html"
   ]
  },
  {
   "cell_type": "code",
   "execution_count": null,
   "id": "965c2643",
   "metadata": {},
   "outputs": [],
   "source": []
  }
 ],
 "metadata": {
  "accelerator": "GPU",
  "colab": {
   "collapsed_sections": [],
   "name": "P4.2_Graph_Classification.ipynb",
   "provenance": [],
   "toc_visible": true
  },
  "kernelspec": {
   "display_name": "Python 3 (ipykernel)",
   "language": "python",
   "name": "python3"
  },
  "language_info": {
   "codemirror_mode": {
    "name": "ipython",
    "version": 3
   },
   "file_extension": ".py",
   "mimetype": "text/x-python",
   "name": "python",
   "nbconvert_exporter": "python",
   "pygments_lexer": "ipython3",
   "version": "3.8.8"
  }
 },
 "nbformat": 4,
 "nbformat_minor": 5
}
